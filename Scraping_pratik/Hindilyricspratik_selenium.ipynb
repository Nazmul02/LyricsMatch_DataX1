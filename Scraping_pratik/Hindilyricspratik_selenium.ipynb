{
 "cells": [
  {
   "cell_type": "code",
   "execution_count": 1,
   "metadata": {},
   "outputs": [],
   "source": [
    "from selenium import webdriver\n",
    "import re\n",
    "import pandas as pd\n",
    "import csv\n",
    "import time"
   ]
  },
  {
   "cell_type": "code",
   "execution_count": 2,
   "metadata": {},
   "outputs": [],
   "source": [
    "Chrome = webdriver.Chrome\n",
    "chromedriver = './chromedriver'\n",
    "browser = Chrome(chromedriver)"
   ]
  },
  {
   "cell_type": "code",
   "execution_count": 3,
   "metadata": {},
   "outputs": [],
   "source": [
    "# Table headers for the csv file\n",
    "table_headers = ['Song', 'SongTitleEnglish', 'SongTitleHindi', 'Year','MovieEnglish', 'MovieHindi',\\\n",
    "                 'Music Director', 'Lyricist', 'SingersEnglish','SingersHindi']"
   ]
  },
  {
   "cell_type": "code",
   "execution_count": 4,
   "metadata": {},
   "outputs": [],
   "source": [
    "# Opening the file in write mode and hence creating a new file with just the headers\n",
    "with open(r'hindilyrics_pratik.csv', 'w') as file:\n",
    "    writer = csv.writer(file)\n",
    "    writer.writerow(table_headers)"
   ]
  },
  {
   "cell_type": "code",
   "execution_count": 5,
   "metadata": {},
   "outputs": [],
   "source": [
    "url = 'https://hindilyricspratik.blogspot.com/search?max-results=200'"
   ]
  },
  {
   "cell_type": "code",
   "execution_count": null,
   "metadata": {
    "scrolled": true
   },
   "outputs": [
    {
     "name": "stdout",
     "output_type": "stream",
     "text": [
      "Opening new page\n"
     ]
    }
   ],
   "source": [
    "%%time\n",
    "page_counter = 0\n",
    "song_counter = 0\n",
    "while True:\n",
    "    try:\n",
    "        print('Opening new page')\n",
    "        browser.get(url)\n",
    "        page_counter += 1\n",
    "    except Exception as e:\n",
    "        print(e)\n",
    "        # Extracting information about all posts on the page\n",
    "        posts = browser.find_elements_by_css_selector('div.post-outer')\n",
    "\n",
    "        for i in range(len(posts)):\n",
    "            try:\n",
    "                # Getting post title and post body for each post\n",
    "                post_title = posts[i].find_element_by_css_selector('h3.post-title').text\n",
    "                post_body = posts[i].find_element_by_css_selector('div.post-body').text\n",
    "\n",
    "\n",
    "                # Getting various data\n",
    "                title_hindi = post_title.split(' - ')[0]\n",
    "                title_english = post_title.split(' - ')[1].split(' (')[0]\n",
    "                singers_english = ', '.join(re.findall(\"\\((.*?)\\)\", post_title)[0].split(',')[:-1])\n",
    "                movie_english = re.findall(\"\\((.*?)\\)\", post_title)[0].split(',')[-1]\n",
    "\n",
    "                lyrics = '\\n\\n'.join(post_body.split('\\n\\n')[1:])\n",
    "\n",
    "                post_meta = post_body.split('\\n')[:5]\n",
    "\n",
    "                movie_hindi = post_meta[0].split(': ')[1].split(' (')[0]\n",
    "                year = int(re.findall(\"\\((.*?)\\)\", post_meta[0].split(': ')[1])[0])\n",
    "                music_director = post_meta[1].split(': ')[1]\n",
    "                lyricist = post_meta[2].split(': ')[1]\n",
    "                singers_hindi = post_meta[3].split(': ')[1]\n",
    "\n",
    "                song_counter += 1\n",
    "\n",
    "                print(f'Printing song {song_counter} on page {page_counter}: {title_english}')\n",
    "\n",
    "                song_data = [lyrics, title_english, title_hindi, year, movie_english, movie_hindi, \\\n",
    "                             music_director, lyricist, singers_english, singers_hindi]\n",
    "\n",
    "                # Writing the data for each song to the csv file\n",
    "                # Notice that this time the file was opened in append mode\n",
    "                with open(r'hindilyrics_pratik.csv', 'a') as file:\n",
    "                    writer = csv.writer(file)\n",
    "                    writer.writerow(song_data)\n",
    "            except Exception as e:\n",
    "                print(e)\n",
    "\n",
    "        try:\n",
    "            url = browser.find_element_by_id('Blog1_blog-pager-older-link').get_attribute('href')\n",
    "            page_counter += 1\n",
    "        except Exception as e:\n",
    "            print('No older page', e)\n",
    "            break\n",
    "    finally:\n",
    "        time.sleep(10)"
   ]
  },
  {
   "cell_type": "code",
   "execution_count": null,
   "metadata": {},
   "outputs": [],
   "source": []
  }
 ],
 "metadata": {
  "kernelspec": {
   "display_name": "Python 3",
   "language": "python",
   "name": "python3"
  },
  "language_info": {
   "codemirror_mode": {
    "name": "ipython",
    "version": 3
   },
   "file_extension": ".py",
   "mimetype": "text/x-python",
   "name": "python",
   "nbconvert_exporter": "python",
   "pygments_lexer": "ipython3",
   "version": "3.6.9"
  }
 },
 "nbformat": 4,
 "nbformat_minor": 4
}
