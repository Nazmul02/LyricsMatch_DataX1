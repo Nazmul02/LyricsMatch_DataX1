{
 "cells": [
  {
   "cell_type": "code",
   "execution_count": 1,
   "metadata": {},
   "outputs": [
    {
     "name": "stderr",
     "output_type": "stream",
     "text": [
      "[nltk_data] Downloading package stopwords to /Users/neha/nltk_data...\n",
      "[nltk_data]   Package stopwords is already up-to-date!\n"
     ]
    },
    {
     "data": {
      "text/plain": [
       "True"
      ]
     },
     "execution_count": 1,
     "metadata": {},
     "output_type": "execute_result"
    }
   ],
   "source": [
    "# Run in python console\n",
    "import nltk; nltk.download('stopwords')"
   ]
  },
  {
   "cell_type": "markdown",
   "metadata": {},
   "source": [
    " Import Packages"
   ]
  },
  {
   "cell_type": "code",
   "execution_count": 2,
   "metadata": {},
   "outputs": [],
   "source": [
    "import re\n",
    "import numpy as np\n",
    "import pandas as pd\n",
    "from pprint import pprint\n",
    "\n",
    "# Gensim\n",
    "import gensim\n",
    "import gensim.corpora as corpora\n",
    "from gensim.utils import simple_preprocess\n",
    "from gensim.models import CoherenceModel\n",
    "\n",
    "# spacy for lemmatization\n",
    "import spacy\n",
    "\n",
    "# Plotting tools\n",
    "import pyLDAvis\n",
    "import pyLDAvis.gensim  # don't skip this\n",
    "import matplotlib.pyplot as plt\n",
    "%matplotlib inline\n",
    "\n",
    "# Enable logging for gensim - optional\n",
    "import logging\n",
    "logging.basicConfig(format='%(asctime)s : %(levelname)s : %(message)s', level=logging.ERROR)\n",
    "\n",
    "import warnings\n",
    "warnings.filterwarnings(\"ignore\",category=DeprecationWarning)"
   ]
  },
  {
   "cell_type": "code",
   "execution_count": 3,
   "metadata": {},
   "outputs": [],
   "source": [
    "# NLTK Stop words\n",
    "from nltk.corpus import stopwords\n",
    "stop_words = stopwords.words('english')\n",
    "stop_words.extend(['from', 'subject', 're', 'edu', 'use'])"
   ]
  },
  {
   "cell_type": "markdown",
   "metadata": {},
   "source": [
    "Importing Lyrics data"
   ]
  },
  {
   "cell_type": "code",
   "execution_count": 5,
   "metadata": {},
   "outputs": [
    {
     "data": {
      "text/html": [
       "<div>\n",
       "<style scoped>\n",
       "    .dataframe tbody tr th:only-of-type {\n",
       "        vertical-align: middle;\n",
       "    }\n",
       "\n",
       "    .dataframe tbody tr th {\n",
       "        vertical-align: top;\n",
       "    }\n",
       "\n",
       "    .dataframe thead th {\n",
       "        text-align: right;\n",
       "    }\n",
       "</style>\n",
       "<table border=\"1\" class=\"dataframe\">\n",
       "  <thead>\n",
       "    <tr style=\"text-align: right;\">\n",
       "      <th></th>\n",
       "      <th>song</th>\n",
       "      <th>year</th>\n",
       "      <th>artist</th>\n",
       "      <th>genre</th>\n",
       "      <th>lyrics</th>\n",
       "    </tr>\n",
       "  </thead>\n",
       "  <tbody>\n",
       "    <tr>\n",
       "      <td>0</td>\n",
       "      <td>the-downward-spiral</td>\n",
       "      <td>2007</td>\n",
       "      <td>discharge</td>\n",
       "      <td>Rock</td>\n",
       "      <td>Mother Dear Mother\\nIt's Cold Tonight\\nLike Ev...</td>\n",
       "    </tr>\n",
       "    <tr>\n",
       "      <td>1</td>\n",
       "      <td>lulu-s-back-in-town</td>\n",
       "      <td>2008</td>\n",
       "      <td>fats-waller</td>\n",
       "      <td>Jazz</td>\n",
       "      <td>Gotta get my old tuxedo pressed, gotta sew a b...</td>\n",
       "    </tr>\n",
       "    <tr>\n",
       "      <td>2</td>\n",
       "      <td>donde-quieras-yo-ire</td>\n",
       "      <td>2006</td>\n",
       "      <td>backstreet-boys</td>\n",
       "      <td>Pop</td>\n",
       "      <td>Al fin del mundo llegare\\nLo que quieras you h...</td>\n",
       "    </tr>\n",
       "    <tr>\n",
       "      <td>3</td>\n",
       "      <td>falling-in-love</td>\n",
       "      <td>2007</td>\n",
       "      <td>don-williams</td>\n",
       "      <td>Country</td>\n",
       "      <td>Falling In Love Again\\nLove be gentle, love be...</td>\n",
       "    </tr>\n",
       "    <tr>\n",
       "      <td>4</td>\n",
       "      <td>i-hate-u-i-love-you</td>\n",
       "      <td>2016</td>\n",
       "      <td>gnash</td>\n",
       "      <td>Rock</td>\n",
       "      <td>Feeling used\\nBut I'm\\nStill missing you\\nAnd ...</td>\n",
       "    </tr>\n",
       "  </tbody>\n",
       "</table>\n",
       "</div>"
      ],
      "text/plain": [
       "                   song  year           artist    genre  \\\n",
       "0   the-downward-spiral  2007        discharge     Rock   \n",
       "1   lulu-s-back-in-town  2008      fats-waller     Jazz   \n",
       "2  donde-quieras-yo-ire  2006  backstreet-boys      Pop   \n",
       "3       falling-in-love  2007     don-williams  Country   \n",
       "4   i-hate-u-i-love-you  2016            gnash     Rock   \n",
       "\n",
       "                                              lyrics  \n",
       "0  Mother Dear Mother\\nIt's Cold Tonight\\nLike Ev...  \n",
       "1  Gotta get my old tuxedo pressed, gotta sew a b...  \n",
       "2  Al fin del mundo llegare\\nLo que quieras you h...  \n",
       "3  Falling In Love Again\\nLove be gentle, love be...  \n",
       "4  Feeling used\\nBut I'm\\nStill missing you\\nAnd ...  "
      ]
     },
     "execution_count": 5,
     "metadata": {},
     "output_type": "execute_result"
    }
   ],
   "source": [
    "# Import Dataset\n",
    "df = pd.read_csv('')\n",
    "df1.head()"
   ]
  },
  {
   "cell_type": "code",
   "execution_count": 6,
   "metadata": {},
   "outputs": [],
   "source": [
    "# df = df1.head(10)"
   ]
  },
  {
   "cell_type": "code",
   "execution_count": 7,
   "metadata": {},
   "outputs": [
    {
     "name": "stdout",
     "output_type": "stream",
     "text": [
      "['Rock' 'Jazz' 'Pop' 'Country' 'Not Available' 'Metal']\n"
     ]
    }
   ],
   "source": [
    "print(df.genre.unique())"
   ]
  },
  {
   "cell_type": "code",
   "execution_count": 8,
   "metadata": {},
   "outputs": [
    {
     "name": "stdout",
     "output_type": "stream",
     "text": [
      "['discharge' 'fats-waller' 'backstreet-boys' 'don-williams' 'gnash'\n",
      " 'accept' 'ali-tatyana' 'bryan-ferry-roxy-music' 'from-autumn-to-ashes'\n",
      " 'everly-brothers']\n"
     ]
    }
   ],
   "source": [
    "print(df.artist.unique())"
   ]
  },
  {
   "cell_type": "code",
   "execution_count": 9,
   "metadata": {},
   "outputs": [
    {
     "name": "stdout",
     "output_type": "stream",
     "text": [
      "[2007 2008 2006 2016 2004]\n"
     ]
    }
   ],
   "source": [
    "print(df.year.unique())"
   ]
  },
  {
   "cell_type": "markdown",
   "metadata": {},
   "source": [
    " Remove newline characters"
   ]
  },
  {
   "cell_type": "code",
   "execution_count": 12,
   "metadata": {},
   "outputs": [
    {
     "name": "stdout",
     "output_type": "stream",
     "text": [
      "['Mother Dear MotherIts Cold TonightLike Every OtherEvery Other NightBut I '\n",
      " 'Never FeelFeel It AnywayIm Gonna Need SomethingSomething SoonI Can Feel '\n",
      " 'ItFeel It BeginBut I Dont KnowHow Im Gonna PayIt Must Be AboutMid December '\n",
      " 'Right NowAnd I Think Im AboutSeventeenIm Not Real SureHow Old I FeelI Lost '\n",
      " 'My ThoughtsIn Some DreamOh Mother I DontKnow HowI Got Where I AmBut Ill Try '\n",
      " 'To Explain AnyhowSee GraduallyYou Get Sucked InInto ItWithout Ever '\n",
      " 'ReallyRealisingJust Whats HappeningAnd That Is WhenThe Downward Spiral '\n",
      " 'BeginsAnyway Back To How It All StartedIt Started With DopeWhy Not After All '\n",
      " 'It Was Just The Once I Told MyselfI Didnt Even Like It Very MuchBut The '\n",
      " 'People I Was With All Did ItThen I Tried SpeedWhy Not After All It Was Just '\n",
      " 'The Once I Told MyselfThe Next Thing I Knew I Was Doing A Couple Of Grams A '\n",
      " 'WeekThen A Friend Introduced Me To Smack Chasing The DragonWhy Not After All '\n",
      " 'It Was Just The Once I Told MyselfWhy Not After All It Wasnt Using A '\n",
      " 'NeedleThen I Started Doing What I Said Id Never Do']\n"
     ]
    }
   ],
   "source": [
    "# Convert to list\n",
    "# data = df.lyrics.values.tolist()\n",
    "\n",
    "# data = [re.sub('[^a-zA-Z ]' ,'', str(sent)) for sent in data]\n",
    "\n",
    "# pprint(data[:1])"
   ]
  },
  {
   "cell_type": "code",
   "execution_count": 13,
   "metadata": {},
   "outputs": [
    {
     "name": "stdout",
     "output_type": "stream",
     "text": [
      "[['mother', 'dear', 'motherits', 'cold', 'tonightlike', 'every', 'otherevery', 'other', 'nightbut', 'never', 'feelfeel', 'it', 'anywayim', 'gonna', 'need', 'sooni', 'can', 'feel', 'itfeel', 'it', 'beginbut', 'dont', 'knowhow', 'im', 'gonna', 'payit', 'must', 'be', 'aboutmid', 'december', 'right', 'nowand', 'think', 'im', 'not', 'real', 'surehow', 'old', 'feeli', 'lost', 'my', 'thoughtsin', 'some', 'dreamoh', 'mother', 'dontknow', 'howi', 'got', 'where', 'ambut', 'ill', 'try', 'to', 'explain', 'anyhowsee', 'graduallyyou', 'get', 'sucked', 'ininto', 'itwithout', 'ever', 'whats', 'happeningand', 'that', 'is', 'whenthe', 'downward', 'spiral', 'beginsanyway', 'back', 'to', 'how', 'it', 'all', 'startedit', 'started', 'with', 'dopewhy', 'not', 'after', 'all', 'it', 'was', 'just', 'the', 'once', 'told', 'myselfi', 'didnt', 'even', 'like', 'it', 'very', 'muchbut', 'the', 'people', 'was', 'with', 'all', 'did', 'itthen', 'tried', 'speedwhy', 'not', 'after', 'all', 'it', 'was', 'just', 'the', 'once', 'told', 'myselfthe', 'next', 'thing', 'knew', 'was', 'doing', 'couple', 'of', 'grams', 'weekthen', 'friend', 'introduced', 'me', 'to', 'smack', 'chasing', 'the', 'dragonwhy', 'not', 'after', 'all', 'it', 'was', 'just', 'the', 'once', 'told', 'myselfwhy', 'not', 'after', 'all', 'it', 'wasnt', 'using', 'needlethen', 'started', 'doing', 'what', 'said', 'id', 'never', 'do']]\n"
     ]
    }
   ],
   "source": [
    "# def sent_to_words(sentences):\n",
    "#     for sentence in sentences:\n",
    "#         yield(gensim.utils.simple_preprocess(str(sentence), deacc=True))  # deacc=True removes punctuations\n",
    "\n",
    "# data_words = list(sent_to_words(data))\n",
    "\n",
    "# print(data_words[:1])"
   ]
  },
  {
   "cell_type": "markdown",
   "metadata": {},
   "source": [
    "### Creating Bigram and Trigram Models\n",
    "Bigrams are two words frequently occurring together in the document. Trigrams are 3 words frequently occurring.\n",
    "\n",
    "Some examples in our example are: ‘front_bumper’, ‘oil_leak’, ‘maryland_college_park’ etc.\n",
    "\n",
    "Gensim’s Phrases model can build and implement the bigrams, trigrams, quadgrams and more. The two important arguments to Phrases are min_count and threshold. The higher the values of these param, the harder it is for words to be combined to bigrams."
   ]
  },
  {
   "cell_type": "code",
   "execution_count": 14,
   "metadata": {},
   "outputs": [
    {
     "name": "stdout",
     "output_type": "stream",
     "text": [
      "['mother', 'dear', 'motherits', 'cold', 'tonightlike', 'every', 'otherevery', 'other', 'nightbut', 'never', 'feelfeel', 'it', 'anywayim', 'gonna', 'need', 'sooni', 'can', 'feel', 'itfeel', 'it', 'beginbut', 'dont', 'knowhow', 'im', 'gonna', 'payit', 'must', 'be', 'aboutmid', 'december', 'right', 'nowand', 'think', 'im', 'not', 'real', 'surehow', 'old', 'feeli', 'lost', 'my', 'thoughtsin', 'some', 'dreamoh', 'mother', 'dontknow', 'howi', 'got', 'where', 'ambut', 'ill', 'try', 'to', 'explain', 'anyhowsee', 'graduallyyou', 'get', 'sucked', 'ininto', 'itwithout', 'ever', 'whats', 'happeningand', 'that', 'is', 'whenthe', 'downward', 'spiral', 'beginsanyway', 'back', 'to', 'how', 'it', 'all', 'startedit', 'started', 'with', 'dopewhy', 'not', 'after', 'all', 'it', 'was', 'just', 'the', 'once', 'told', 'myselfi', 'didnt', 'even', 'like', 'it', 'very', 'muchbut', 'the', 'people', 'was', 'with', 'all', 'did', 'itthen', 'tried', 'speedwhy', 'not', 'after', 'all', 'it', 'was', 'just', 'the', 'once', 'told', 'myselfthe', 'next', 'thing', 'knew', 'was', 'doing', 'couple', 'of', 'grams', 'weekthen', 'friend', 'introduced', 'me', 'to', 'smack', 'chasing', 'the', 'dragonwhy', 'not', 'after', 'all', 'it', 'was', 'just', 'the', 'once', 'told', 'myselfwhy', 'not', 'after', 'all', 'it', 'wasnt', 'using', 'needlethen', 'started', 'doing', 'what', 'said', 'id', 'never', 'do']\n"
     ]
    }
   ],
   "source": [
    "# Build the bigram and trigram models\n",
    "bigram = gensim.models.Phrases(data_words, min_count=5, threshold=100) # higher threshold fewer phrases.\n",
    "trigram = gensim.models.Phrases(bigram[data_words], threshold=100)  \n",
    "\n",
    "# Faster way to get a sentence clubbed as a trigram/bigram\n",
    "bigram_mod = gensim.models.phrases.Phraser(bigram)\n",
    "trigram_mod = gensim.models.phrases.Phraser(trigram)\n",
    "\n",
    "# See trigram example\n",
    "print(bigram_mod[data_words[0]])"
   ]
  },
  {
   "cell_type": "markdown",
   "metadata": {},
   "source": [
    "### Remove Stopwords, Make Bigrams and Lemmatize\n",
    "The bigrams model is ready. Let’s define the functions to remove the stopwords, make bigrams and lemmatization and call them sequentially."
   ]
  },
  {
   "cell_type": "code",
   "execution_count": 15,
   "metadata": {},
   "outputs": [],
   "source": [
    "# Define functions for stopwords, bigrams, trigrams and lemmatization\n",
    "def remove_stopwords(texts):\n",
    "    return [[word for word in simple_preprocess(str(doc)) if word not in stop_words] for doc in texts]\n",
    "\n",
    "def make_bigrams(texts):\n",
    "    return [bigram_mod[doc] for doc in texts]\n",
    "\n",
    "def make_trigrams(texts):\n",
    "    return [trigram_mod[bigram_mod[doc]] for doc in texts]\n",
    "\n",
    "def lemmatization(texts, allowed_postags=['NOUN', 'ADJ', 'VERB', 'ADV']):\n",
    "    \"\"\"https://spacy.io/api/annotation\"\"\"\n",
    "    texts_out = []\n",
    "    for sent in texts:\n",
    "        doc = nlp(\" \".join(sent)) \n",
    "        texts_out.append([token.lemma_ for token in doc if token.pos_ in allowed_postags])\n",
    "    return texts_out"
   ]
  },
  {
   "cell_type": "markdown",
   "metadata": {},
   "source": [
    "Let’s call the functions in order."
   ]
  },
  {
   "cell_type": "code",
   "execution_count": 16,
   "metadata": {},
   "outputs": [
    {
     "name": "stdout",
     "output_type": "stream",
     "text": [
      "[['mother', 'dear', 'motherit', 'cold', 'tonightlike', 'otherevery', 'nightbut', 'never', 'feelfeel', 'anywayim', 'go', 'need', 'sooni', 'feel', 'itfeel', 'beginbut', 'do', 'not', 'knowhow', 'be', 'go', 'payit', 'must', 'aboutmid', 'december', 'right', 'nowand', 'think', 'be', 'real', 'surehow', 'old', 'feeli', 'lose', 'thoughtsin', 'dreamoh', 'mother', 'dontknow', 'howi', 'get', 'ambut', 'ill', 'try', 'explain', 'anyhowsee', 'graduallyyou', 'get', 'suck', 'ininto', 'itwithout', 'ever', 's', 'happeningand', 'downward', 'spiral', 'beginsanyway', 'back', 'startedit', 'start', 'dopewhy', 'tell', 'myselfi', 'do', 'not', 'even', 'like', 'muchbut', 'people', 'itthen', 'try', 'speedwhy', 'tell', 'myselfthe', 'next', 'thing', 'know', 'couple', 'gram', 'weekthen', 'friend', 'introduce', 'smack', 'chase', 'dragonwhy', 'tell', 'myselfwhy', 'be', 'not', 'use', 'needlethen', 'start', 'say', 'never']]\n"
     ]
    }
   ],
   "source": [
    "# Remove Stop Words\n",
    "data_words_nostops = remove_stopwords(data_words)\n",
    "\n",
    "# Form Bigrams\n",
    "data_words_bigrams = make_bigrams(data_words_nostops)\n",
    "\n",
    "# Initialize spacy 'en' model, keeping only tagger component (for efficiency)\n",
    "# python3 -m spacy download en\n",
    "nlp = spacy.load('en', disable=['parser', 'ner'])\n",
    "\n",
    "# Do lemmatization keeping only noun, adj, vb, adv\n",
    "data_lemmatized = lemmatization(data_words_bigrams, allowed_postags=['NOUN', 'ADJ', 'VERB', 'ADV'])\n",
    "\n",
    "print(data_lemmatized[:1])"
   ]
  },
  {
   "cell_type": "markdown",
   "metadata": {},
   "source": [
    "### Create the Dictionary and Corpus needed for Topic Modeling\n",
    "The two main inputs to the LDA topic model are the dictionary(id2word) and the corpus. Let’s create them."
   ]
  },
  {
   "cell_type": "code",
   "execution_count": 17,
   "metadata": {},
   "outputs": [
    {
     "name": "stdout",
     "output_type": "stream",
     "text": [
      "[[(0, 1), (1, 1), (2, 1), (3, 1), (4, 1), (5, 3), (6, 1), (7, 1), (8, 1), (9, 1), (10, 1), (11, 1), (12, 1), (13, 2), (14, 1), (15, 1), (16, 1), (17, 1), (18, 1), (19, 1), (20, 1), (21, 1), (22, 1), (23, 1), (24, 1), (25, 1), (26, 2), (27, 2), (28, 1), (29, 1), (30, 1), (31, 1), (32, 1), (33, 1), (34, 1), (35, 1), (36, 1), (37, 1), (38, 1), (39, 1), (40, 1), (41, 1), (42, 2), (43, 1), (44, 1), (45, 1), (46, 1), (47, 1), (48, 1), (49, 1), (50, 1), (51, 2), (52, 1), (53, 1), (54, 3), (55, 1), (56, 1), (57, 1), (58, 1), (59, 1), (60, 1), (61, 1), (62, 1), (63, 1), (64, 1), (65, 1), (66, 1), (67, 1), (68, 2), (69, 1), (70, 1), (71, 1), (72, 3), (73, 1), (74, 1), (75, 1), (76, 1), (77, 2), (78, 1), (79, 1)]]\n"
     ]
    }
   ],
   "source": [
    "# Create Dictionary\n",
    "id2word = corpora.Dictionary(data_lemmatized)\n",
    "\n",
    "# Create Corpus\n",
    "texts = data_lemmatized\n",
    "\n",
    "# Term Document Frequency\n",
    "corpus = [id2word.doc2bow(text) for text in texts]\n",
    "\n",
    "# View\n",
    "print(corpus[:1])"
   ]
  },
  {
   "cell_type": "markdown",
   "metadata": {},
   "source": [
    "Gensim creates a unique id for each word in the document. The produced corpus shown above is a mapping of (word_id, word_frequency).\n",
    "\n",
    "For example, (0, 1) above implies, word id 0 occurs once in the first document. Likewise, word id 1 occurs twice and so on.\n",
    "\n",
    "This is used as the input by the LDA model.\n",
    "\n",
    "If you want to see what word a given id corresponds to, pass the id as a key to the dictionary."
   ]
  },
  {
   "cell_type": "code",
   "execution_count": 18,
   "metadata": {},
   "outputs": [
    {
     "data": {
      "text/plain": [
       "'couple'"
      ]
     },
     "execution_count": 18,
     "metadata": {},
     "output_type": "execute_result"
    }
   ],
   "source": [
    "id2word[10]"
   ]
  },
  {
   "cell_type": "code",
   "execution_count": 19,
   "metadata": {},
   "outputs": [
    {
     "data": {
      "text/plain": [
       "[[('aboutmid', 1),\n",
       "  ('ambut', 1),\n",
       "  ('anyhowsee', 1),\n",
       "  ('anywayim', 1),\n",
       "  ('back', 1),\n",
       "  ('be', 3),\n",
       "  ('beginbut', 1),\n",
       "  ('beginsanyway', 1),\n",
       "  ('chase', 1),\n",
       "  ('cold', 1),\n",
       "  ('couple', 1),\n",
       "  ('dear', 1),\n",
       "  ('december', 1),\n",
       "  ('do', 2),\n",
       "  ('dontknow', 1),\n",
       "  ('dopewhy', 1),\n",
       "  ('downward', 1),\n",
       "  ('dragonwhy', 1),\n",
       "  ('dreamoh', 1),\n",
       "  ('even', 1),\n",
       "  ('ever', 1),\n",
       "  ('explain', 1),\n",
       "  ('feel', 1),\n",
       "  ('feelfeel', 1),\n",
       "  ('feeli', 1),\n",
       "  ('friend', 1),\n",
       "  ('get', 2),\n",
       "  ('go', 2),\n",
       "  ('graduallyyou', 1),\n",
       "  ('gram', 1),\n",
       "  ('happeningand', 1),\n",
       "  ('howi', 1),\n",
       "  ('ill', 1),\n",
       "  ('ininto', 1),\n",
       "  ('introduce', 1),\n",
       "  ('itfeel', 1),\n",
       "  ('itthen', 1),\n",
       "  ('itwithout', 1),\n",
       "  ('know', 1),\n",
       "  ('knowhow', 1),\n",
       "  ('like', 1),\n",
       "  ('lose', 1),\n",
       "  ('mother', 2),\n",
       "  ('motherit', 1),\n",
       "  ('muchbut', 1),\n",
       "  ('must', 1),\n",
       "  ('myselfi', 1),\n",
       "  ('myselfthe', 1),\n",
       "  ('myselfwhy', 1),\n",
       "  ('need', 1),\n",
       "  ('needlethen', 1),\n",
       "  ('never', 2),\n",
       "  ('next', 1),\n",
       "  ('nightbut', 1),\n",
       "  ('not', 3),\n",
       "  ('nowand', 1),\n",
       "  ('old', 1),\n",
       "  ('otherevery', 1),\n",
       "  ('payit', 1),\n",
       "  ('people', 1),\n",
       "  ('real', 1),\n",
       "  ('right', 1),\n",
       "  ('s', 1),\n",
       "  ('say', 1),\n",
       "  ('smack', 1),\n",
       "  ('sooni', 1),\n",
       "  ('speedwhy', 1),\n",
       "  ('spiral', 1),\n",
       "  ('start', 2),\n",
       "  ('startedit', 1),\n",
       "  ('suck', 1),\n",
       "  ('surehow', 1),\n",
       "  ('tell', 3),\n",
       "  ('thing', 1),\n",
       "  ('think', 1),\n",
       "  ('thoughtsin', 1),\n",
       "  ('tonightlike', 1),\n",
       "  ('try', 2),\n",
       "  ('use', 1),\n",
       "  ('weekthen', 1)]]"
      ]
     },
     "execution_count": 19,
     "metadata": {},
     "output_type": "execute_result"
    }
   ],
   "source": [
    "# Human readable format of corpus (term-frequency)\n",
    "[[(id2word[id], freq) for id, freq in cp] for cp in corpus[:1]]"
   ]
  },
  {
   "cell_type": "markdown",
   "metadata": {},
   "source": [
    "### Building the Topic Model\n",
    "We have everything required to train the LDA model. In addition to the corpus and dictionary, you need to provide the number of topics as well.\n",
    "\n",
    "Apart from that, alpha and eta are hyperparameters that affect sparsity of the topics. According to the Gensim docs, both defaults to 1.0/num_topics prior.\n",
    "\n",
    "chunksize is the number of documents to be used in each training chunk. update_every determines how often the model parameters should be updated and passes is the total number of training passes."
   ]
  },
  {
   "cell_type": "code",
   "execution_count": 20,
   "metadata": {},
   "outputs": [],
   "source": [
    "# Build LDA model\n",
    "lda_model = gensim.models.ldamodel.LdaModel(corpus=corpus,\n",
    "                                           id2word=id2word,\n",
    "                                           num_topics=20, \n",
    "                                           random_state=100,\n",
    "                                           update_every=1,\n",
    "                                           chunksize=100,\n",
    "                                           passes=10,\n",
    "                                           alpha='auto',\n",
    "                                           per_word_topics=True)"
   ]
  },
  {
   "cell_type": "code",
   "execution_count": 21,
   "metadata": {},
   "outputs": [
    {
     "name": "stdout",
     "output_type": "stream",
     "text": [
      "[(0,\n",
      "  '0.003*\"want\" + 0.003*\"que\" + 0.002*\"quiera\" + 0.002*\"yo\" + 0.002*\"famous\" + '\n",
      "  '0.002*\"rocknroll\" + 0.002*\"dollar\" + 0.002*\"llegarelo\" + 0.002*\"record\" + '\n",
      "  '0.002*\"be\"'),\n",
      " (1,\n",
      "  '0.004*\"love\" + 0.003*\"que\" + 0.003*\"fall\" + 0.003*\"quiera\" + 0.003*\"not\" + '\n",
      "  '0.002*\"fallin\" + 0.002*\"yo\" + 0.002*\"know\" + 0.002*\"there\" + 0.002*\"s\"'),\n",
      " (2,\n",
      "  '0.079*\"want\" + 0.040*\"rocknroll\" + 0.040*\"famous\" + 0.026*\"be\" + '\n",
      "  '0.026*\"record\" + 0.026*\"dollar\" + 0.020*\"not\" + 0.020*\"tell\" + '\n",
      "  '0.020*\"harley\" + 0.020*\"place\"'),\n",
      " (3,\n",
      "  '0.039*\"go\" + 0.034*\"come\" + 0.028*\"never\" + 0.028*\"be\" + 0.023*\"not\" + '\n",
      "  '0.023*\"away\" + 0.023*\"say\" + 0.023*\"stand\" + 0.023*\"heart\" + 0.023*\"tear\"'),\n",
      " (4,\n",
      "  '0.003*\"get\" + 0.003*\"be\" + 0.002*\"want\" + 0.002*\"not\" + 0.002*\"rocknroll\" + '\n",
      "  '0.002*\"tell\" + 0.002*\"famous\" + 0.002*\"home\" + 0.002*\"lulus\" + '\n",
      "  '0.002*\"back\"'),\n",
      " (5,\n",
      "  '0.029*\"sit\" + 0.029*\"something\" + 0.022*\"back\" + 0.021*\"metricyou\" + '\n",
      "  '0.021*\"bad\" + 0.021*\"careful\" + 0.021*\"street\" + 0.021*\"run\" + '\n",
      "  '0.021*\"electriclay\" + 0.021*\"combatmy\"'),\n",
      " (6,\n",
      "  '0.002*\"not\" + 0.002*\"love\" + 0.002*\"hate\" + 0.002*\"never\" + 0.002*\"youi\" + '\n",
      "  '0.002*\"miss\" + 0.002*\"want\" + 0.002*\"watch\" + 0.002*\"do\" + 0.002*\"herand\"'),\n",
      " (7,\n",
      "  '0.002*\"go\" + 0.002*\"come\" + 0.002*\"be\" + 0.002*\"never\" + 0.002*\"not\" + '\n",
      "  '0.002*\"say\" + 0.002*\"away\" + 0.002*\"stand\" + 0.002*\"heart\" + 0.002*\"tear\"'),\n",
      " (8,\n",
      "  '0.003*\"angel\" + 0.003*\"eyesangel\" + 0.002*\"eye\" + 0.002*\"love\" + '\n",
      "  '0.002*\"shine\" + 0.002*\"light\" + 0.002*\"meoh\" + 0.002*\"get\" + 0.002*\"not\" + '\n",
      "  '0.002*\"moon\"'),\n",
      " (9,\n",
      "  '0.002*\"not\" + 0.002*\"miss\" + 0.002*\"want\" + 0.002*\"love\" + 0.002*\"never\" + '\n",
      "  '0.002*\"hate\" + 0.002*\"youi\" + 0.002*\"watch\" + 0.002*\"need\" + 0.002*\"shiti\"'),\n",
      " (10,\n",
      "  '0.111*\"que\" + 0.066*\"quiera\" + 0.061*\"yo\" + 0.030*\"nena\" + 0.030*\"amor\" + '\n",
      "  '0.030*\"mundo\" + 0.030*\"sin\" + 0.025*\"haresin\" + 0.025*\"fin\" + '\n",
      "  '0.025*\"puedo\"'),\n",
      " (11,\n",
      "  '0.003*\"want\" + 0.002*\"chair\" + 0.002*\"something\" + 0.002*\"sit\" + '\n",
      "  '0.002*\"betterpull\" + 0.002*\"mount\" + 0.002*\"doorshould\" + '\n",
      "  '0.002*\"guttereasier\" + 0.002*\"work\" + 0.002*\"comebackdollar\"'),\n",
      " (12,\n",
      "  '0.057*\"not\" + 0.046*\"hate\" + 0.042*\"love\" + 0.038*\"want\" + 0.031*\"never\" + '\n",
      "  '0.027*\"youi\" + 0.027*\"miss\" + 0.019*\"do\" + 0.015*\"need\" + 0.015*\"get\"'),\n",
      " (13,\n",
      "  '0.002*\"do\" + 0.002*\"tell\" + 0.002*\"not\" + 0.002*\"get\" + 0.002*\"go\" + '\n",
      "  '0.002*\"be\" + 0.002*\"try\" + 0.002*\"mother\" + 0.002*\"never\" + 0.002*\"start\"'),\n",
      " (14,\n",
      "  '0.003*\"not\" + 0.003*\"want\" + 0.003*\"love\" + 0.003*\"hate\" + 0.003*\"never\" + '\n",
      "  '0.002*\"miss\" + 0.002*\"do\" + 0.002*\"youi\" + 0.002*\"need\" + 0.002*\"watch\"'),\n",
      " (15,\n",
      "  '0.002*\"come\" + 0.002*\"go\" + 0.002*\"never\" + 0.002*\"tear\" + 0.002*\"say\" + '\n",
      "  '0.002*\"heart\" + 0.002*\"be\" + 0.002*\"hold\" + 0.002*\"fear\" + 0.002*\"cry\"'),\n",
      " (16,\n",
      "  '0.100*\"get\" + 0.051*\"back\" + 0.038*\"lulus\" + 0.026*\"not\" + 0.026*\"tell\" + '\n",
      "  '0.026*\"home\" + 0.013*\"have\" + 0.013*\"good\" + 0.013*\"coquettesmister\" + '\n",
      "  '0.013*\"tonight\"'),\n",
      " (17,\n",
      "  '0.092*\"angel\" + 0.084*\"kiss\" + 0.054*\"eye\" + 0.039*\"not\" + '\n",
      "  '0.038*\"eyesangel\" + 0.031*\"know\" + 0.023*\"uhhuhi\" + 0.023*\"yanever\" + '\n",
      "  '0.023*\"miss\" + 0.023*\"get\"'),\n",
      " (18,\n",
      "  '0.142*\"love\" + 0.066*\"fall\" + 0.044*\"fallin\" + 0.033*\"s\" + 0.033*\"know\" + '\n",
      "  '0.033*\"againid\" + 0.033*\"there\" + 0.022*\"be\" + 0.022*\"inchorusfallin\" + '\n",
      "  '0.022*\"go\"'),\n",
      " (19,\n",
      "  '0.026*\"not\" + 0.026*\"be\" + 0.026*\"tell\" + 0.017*\"never\" + 0.017*\"go\" + '\n",
      "  '0.017*\"get\" + 0.017*\"do\" + 0.017*\"start\" + 0.017*\"mother\" + 0.017*\"try\"')]\n"
     ]
    }
   ],
   "source": [
    "# Print the Keyword in the 10 topics\n",
    "pprint(lda_model.print_topics())\n",
    "doc_lda = lda_model[corpus]"
   ]
  },
  {
   "cell_type": "code",
   "execution_count": 22,
   "metadata": {},
   "outputs": [
    {
     "name": "stdout",
     "output_type": "stream",
     "text": [
      "\n",
      "Perplexity:  -5.737356491247813\n",
      "\n",
      "Coherence Score:  0.7243141275215045\n"
     ]
    }
   ],
   "source": [
    "# Compute Perplexity\n",
    "print('\\nPerplexity: ', lda_model.log_perplexity(corpus))  # a measure of how good the model is. lower the better.\n",
    "\n",
    "# Compute Coherence Score\n",
    "coherence_model_lda = CoherenceModel(model=lda_model, texts=data_lemmatized, dictionary=id2word, coherence='c_v')\n",
    "coherence_lda = coherence_model_lda.get_coherence()\n",
    "print('\\nCoherence Score: ', coherence_lda)"
   ]
  },
  {
   "cell_type": "code",
   "execution_count": 23,
   "metadata": {},
   "outputs": [
    {
     "name": "stderr",
     "output_type": "stream",
     "text": [
      "/Users/neha/anaconda3/envs/projectlab/lib/python3.6/site-packages/pyLDAvis/_prepare.py:257: FutureWarning: Sorting because non-concatenation axis is not aligned. A future version\n",
      "of pandas will change to not sort by default.\n",
      "\n",
      "To accept the future behavior, pass 'sort=False'.\n",
      "\n",
      "To retain the current behavior and silence the warning, pass 'sort=True'.\n",
      "\n",
      "  return pd.concat([default_term_info] + list(topic_dfs))\n"
     ]
    },
    {
     "data": {
      "text/html": [
       "\n",
       "<link rel=\"stylesheet\" type=\"text/css\" href=\"https://cdn.rawgit.com/bmabey/pyLDAvis/files/ldavis.v1.0.0.css\">\n",
       "\n",
       "\n",
       "<div id=\"ldavis_el13979112355293728439400925\"></div>\n",
       "<script type=\"text/javascript\">\n",
       "\n",
       "var ldavis_el13979112355293728439400925_data = {\"mdsDat\": {\"x\": [0.1544712037454003, -0.33464800843413334, 0.11594140549235994, 0.01999277632029476, -0.0911113156272823, 0.12219611140731534, 0.08153251727583412, 0.07559236323672323, 0.025680105106344435, -0.015605592426121903, -0.017620004749215212, -0.01342047019370346, -0.009614187966490533, -0.017482046375507116, -0.020628319906679696, -0.013762095113057444, -0.014291817414686003, -0.015245169024388385, -0.015896675089275086, -0.016080780263731526], \"y\": [-0.06211818025900063, -0.15338858208413148, 0.006145725068333607, -0.06561815303694855, 0.30580557295016914, -0.0688779683617347, -0.02247922408212892, -0.02610386468838876, 0.006992586811489246, 0.007661054752879104, 0.0016787230550568742, 0.006623763627623748, 0.004969123966954015, 0.01796392988358911, 0.0030141781622797835, 0.007715077362792688, 0.00668932379107476, 0.00786684937621123, 0.007688777350741452, 0.007771286353138928], \"topics\": [1, 2, 3, 4, 5, 6, 7, 8, 9, 10, 11, 12, 13, 14, 15, 16, 17, 18, 19, 20], \"cluster\": [1, 1, 1, 1, 1, 1, 1, 1, 1, 1, 1, 1, 1, 1, 1, 1, 1, 1, 1, 1], \"Freq\": [21.132719039916992, 15.360186576843262, 13.578619003295898, 11.269720077514648, 10.289701461791992, 9.274593353271484, 8.248555183410645, 5.845137119293213, 4.779803276062012, 0.021354030817747116, 0.021021978929638863, 0.020971061661839485, 0.02088797837495804, 0.020112304016947746, 0.020072441548109055, 0.01999364234507084, 0.01996050588786602, 0.01892460696399212, 0.01885347254574299, 0.01881028339266777]}, \"tinfo\": {\"Category\": [\"Default\", \"Default\", \"Default\", \"Default\", \"Default\", \"Default\", \"Default\", \"Default\", \"Default\", \"Default\", \"Default\", \"Default\", \"Default\", \"Default\", \"Default\", \"Default\", \"Default\", \"Default\", \"Default\", \"Default\", \"Default\", \"Default\", \"Default\", \"Default\", \"Default\", \"Default\", \"Default\", \"Default\", \"Default\", \"Default\", \"Topic1\", \"Topic1\", \"Topic1\", \"Topic1\", \"Topic1\", \"Topic1\", \"Topic1\", \"Topic1\", \"Topic1\", \"Topic1\", \"Topic1\", \"Topic1\", \"Topic1\", \"Topic1\", \"Topic1\", \"Topic1\", \"Topic1\", \"Topic1\", \"Topic1\", \"Topic1\", \"Topic1\", \"Topic1\", \"Topic1\", \"Topic1\", \"Topic1\", \"Topic1\", \"Topic1\", \"Topic1\", \"Topic1\", \"Topic1\", \"Topic1\", \"Topic1\", \"Topic1\", \"Topic1\", \"Topic1\", \"Topic1\", \"Topic1\", \"Topic1\", \"Topic1\", \"Topic1\", \"Topic1\", \"Topic1\", \"Topic1\", \"Topic1\", \"Topic1\", \"Topic1\", \"Topic1\", \"Topic1\", \"Topic2\", \"Topic2\", \"Topic2\", \"Topic2\", \"Topic2\", \"Topic2\", \"Topic2\", \"Topic2\", \"Topic2\", \"Topic2\", \"Topic2\", \"Topic2\", \"Topic2\", \"Topic2\", \"Topic2\", \"Topic2\", \"Topic2\", \"Topic2\", \"Topic2\", \"Topic2\", \"Topic2\", \"Topic2\", \"Topic2\", \"Topic2\", \"Topic2\", \"Topic2\", \"Topic2\", \"Topic2\", \"Topic2\", \"Topic2\", \"Topic2\", \"Topic2\", \"Topic2\", \"Topic2\", \"Topic3\", \"Topic3\", \"Topic3\", \"Topic3\", \"Topic3\", \"Topic3\", \"Topic3\", \"Topic3\", \"Topic3\", \"Topic3\", \"Topic3\", \"Topic3\", \"Topic3\", \"Topic3\", \"Topic3\", \"Topic3\", \"Topic3\", \"Topic3\", \"Topic3\", \"Topic3\", \"Topic3\", \"Topic3\", \"Topic3\", \"Topic3\", \"Topic3\", \"Topic3\", \"Topic3\", \"Topic3\", \"Topic3\", \"Topic3\", \"Topic3\", \"Topic3\", \"Topic3\", \"Topic3\", \"Topic3\", \"Topic3\", \"Topic3\", \"Topic3\", \"Topic3\", \"Topic3\", \"Topic3\", \"Topic3\", \"Topic3\", \"Topic3\", \"Topic3\", \"Topic4\", \"Topic4\", \"Topic4\", \"Topic4\", \"Topic4\", \"Topic4\", \"Topic4\", \"Topic4\", \"Topic4\", \"Topic4\", \"Topic4\", \"Topic4\", \"Topic4\", \"Topic4\", \"Topic4\", \"Topic4\", \"Topic4\", \"Topic4\", \"Topic4\", \"Topic4\", \"Topic4\", \"Topic4\", \"Topic4\", \"Topic4\", \"Topic4\", \"Topic4\", \"Topic4\", \"Topic4\", \"Topic4\", \"Topic4\", \"Topic4\", \"Topic4\", \"Topic4\", \"Topic4\", \"Topic4\", \"Topic4\", \"Topic4\", \"Topic4\", \"Topic4\", \"Topic4\", \"Topic5\", \"Topic5\", \"Topic5\", \"Topic5\", \"Topic5\", \"Topic5\", \"Topic5\", \"Topic5\", \"Topic5\", \"Topic5\", \"Topic5\", \"Topic5\", \"Topic5\", \"Topic5\", \"Topic5\", \"Topic5\", \"Topic5\", \"Topic5\", \"Topic5\", \"Topic5\", \"Topic5\", \"Topic5\", \"Topic5\", \"Topic5\", \"Topic5\", \"Topic5\", \"Topic5\", \"Topic5\", \"Topic5\", \"Topic5\", \"Topic5\", \"Topic5\", \"Topic5\", \"Topic5\", \"Topic5\", \"Topic6\", \"Topic6\", \"Topic6\", \"Topic6\", \"Topic6\", \"Topic6\", \"Topic6\", \"Topic6\", \"Topic6\", \"Topic6\", \"Topic6\", \"Topic6\", \"Topic6\", \"Topic6\", \"Topic6\", \"Topic6\", \"Topic6\", \"Topic6\", \"Topic6\", \"Topic6\", \"Topic6\", \"Topic6\", \"Topic6\", \"Topic6\", \"Topic6\", \"Topic6\", \"Topic6\", \"Topic6\", \"Topic6\", \"Topic6\", \"Topic6\", \"Topic6\", \"Topic6\", \"Topic6\", \"Topic6\", \"Topic6\", \"Topic6\", \"Topic6\", \"Topic6\", \"Topic6\", \"Topic6\", \"Topic6\", \"Topic6\", \"Topic6\", \"Topic7\", \"Topic7\", \"Topic7\", \"Topic7\", \"Topic7\", \"Topic7\", \"Topic7\", \"Topic7\", \"Topic7\", \"Topic7\", \"Topic7\", \"Topic7\", \"Topic7\", \"Topic7\", \"Topic7\", \"Topic7\", \"Topic7\", \"Topic7\", \"Topic7\", \"Topic7\", \"Topic7\", \"Topic7\", \"Topic7\", \"Topic7\", \"Topic7\", \"Topic7\", \"Topic7\", \"Topic7\", \"Topic7\", \"Topic7\", \"Topic7\", \"Topic7\", \"Topic7\", \"Topic7\", \"Topic7\", \"Topic7\", \"Topic7\", \"Topic7\", \"Topic7\", \"Topic7\", \"Topic7\", \"Topic7\", \"Topic7\", \"Topic7\", \"Topic7\", \"Topic7\", \"Topic7\", \"Topic7\", \"Topic7\", \"Topic7\", \"Topic7\", \"Topic8\", \"Topic8\", \"Topic8\", \"Topic8\", \"Topic8\", \"Topic8\", \"Topic8\", \"Topic8\", \"Topic8\", \"Topic8\", \"Topic8\", \"Topic8\", \"Topic8\", \"Topic8\", \"Topic8\", \"Topic8\", \"Topic8\", \"Topic8\", \"Topic8\", \"Topic8\", \"Topic8\", \"Topic8\", \"Topic8\", \"Topic8\", \"Topic8\", \"Topic8\", \"Topic8\", \"Topic8\", \"Topic8\", \"Topic8\", \"Topic8\", \"Topic8\", \"Topic8\", \"Topic8\", \"Topic9\", \"Topic9\", \"Topic9\", \"Topic9\", \"Topic9\", \"Topic9\", \"Topic9\", \"Topic9\", \"Topic9\", \"Topic9\", \"Topic9\", \"Topic9\", \"Topic9\", \"Topic9\", \"Topic9\", \"Topic9\", \"Topic9\", \"Topic9\", \"Topic9\", \"Topic9\", \"Topic9\", \"Topic9\", \"Topic9\", \"Topic9\", \"Topic9\", \"Topic9\", \"Topic9\", \"Topic9\", \"Topic9\", \"Topic9\", \"Topic9\", \"Topic9\", \"Topic9\", \"Topic9\", \"Topic9\", \"Topic9\", \"Topic9\", \"Topic10\", \"Topic10\", \"Topic10\", \"Topic10\", \"Topic10\", \"Topic10\", \"Topic10\", \"Topic10\", \"Topic10\", \"Topic10\", \"Topic10\", \"Topic10\", \"Topic10\", \"Topic10\", \"Topic10\", \"Topic10\", \"Topic10\", \"Topic10\", \"Topic10\", \"Topic10\", \"Topic10\", \"Topic10\", \"Topic10\", \"Topic10\", \"Topic10\", \"Topic10\", \"Topic10\", \"Topic10\", \"Topic10\", \"Topic10\", \"Topic10\", \"Topic10\", \"Topic10\", \"Topic10\", \"Topic10\", \"Topic10\", \"Topic10\", \"Topic10\", \"Topic10\", \"Topic10\", \"Topic10\", \"Topic10\", \"Topic10\", \"Topic10\", \"Topic10\", \"Topic10\", \"Topic10\", \"Topic10\", \"Topic10\", \"Topic10\", \"Topic10\", \"Topic10\", \"Topic10\", \"Topic10\", \"Topic10\", \"Topic10\", \"Topic10\", \"Topic10\", \"Topic10\", \"Topic10\", \"Topic10\", \"Topic10\", \"Topic10\", \"Topic10\", \"Topic10\", \"Topic10\", \"Topic10\", \"Topic10\", \"Topic10\", \"Topic10\", \"Topic10\", \"Topic10\", \"Topic10\", \"Topic10\", \"Topic10\", \"Topic10\", \"Topic11\", \"Topic11\", \"Topic11\", \"Topic11\", \"Topic11\", \"Topic11\", \"Topic11\", \"Topic11\", \"Topic11\", \"Topic11\", \"Topic11\", \"Topic11\", \"Topic11\", \"Topic11\", \"Topic11\", \"Topic11\", \"Topic11\", \"Topic11\", \"Topic11\", \"Topic11\", \"Topic11\", \"Topic11\", \"Topic11\", \"Topic11\", \"Topic11\", \"Topic11\", \"Topic11\", \"Topic11\", \"Topic11\", \"Topic11\", \"Topic11\", \"Topic11\", \"Topic11\", \"Topic11\", \"Topic11\", \"Topic11\", \"Topic11\", \"Topic11\", \"Topic11\", \"Topic11\", \"Topic11\", \"Topic11\", \"Topic11\", \"Topic11\", \"Topic11\", \"Topic11\", \"Topic11\", \"Topic11\", \"Topic11\", \"Topic11\", \"Topic11\", \"Topic11\", \"Topic11\", \"Topic11\", \"Topic11\", \"Topic11\", \"Topic11\", \"Topic11\", \"Topic11\", \"Topic11\", \"Topic11\", \"Topic11\", \"Topic11\", \"Topic11\", \"Topic11\", \"Topic11\", \"Topic11\", \"Topic11\", \"Topic11\", \"Topic12\", \"Topic12\", \"Topic12\", \"Topic12\", \"Topic12\", \"Topic12\", \"Topic12\", \"Topic12\", \"Topic12\", \"Topic12\", \"Topic12\", \"Topic12\", \"Topic12\", \"Topic12\", \"Topic12\", \"Topic12\", \"Topic12\", \"Topic12\", \"Topic12\", \"Topic12\", \"Topic12\", \"Topic12\", \"Topic12\", \"Topic12\", \"Topic12\", \"Topic12\", \"Topic12\", \"Topic12\", \"Topic12\", \"Topic12\", \"Topic12\", \"Topic12\", \"Topic12\", \"Topic12\", \"Topic12\", \"Topic12\", \"Topic12\", \"Topic12\", \"Topic12\", \"Topic12\", \"Topic12\", \"Topic12\", \"Topic12\", \"Topic12\", \"Topic12\", \"Topic12\", \"Topic12\", \"Topic12\", \"Topic12\", \"Topic12\", \"Topic12\", \"Topic12\", \"Topic12\", \"Topic12\", \"Topic12\", \"Topic12\", \"Topic12\", \"Topic12\", \"Topic12\", \"Topic12\", \"Topic12\", \"Topic12\", \"Topic12\", \"Topic12\", \"Topic13\", \"Topic13\", \"Topic13\", \"Topic13\", \"Topic13\", \"Topic13\", \"Topic13\", \"Topic13\", \"Topic13\", \"Topic13\", \"Topic13\", \"Topic13\", \"Topic13\", \"Topic13\", \"Topic13\", \"Topic13\", \"Topic13\", \"Topic13\", \"Topic13\", \"Topic13\", \"Topic13\", \"Topic13\", \"Topic13\", \"Topic13\", \"Topic13\", \"Topic13\", \"Topic13\", \"Topic13\", \"Topic13\", \"Topic13\", \"Topic13\", \"Topic13\", \"Topic13\", \"Topic13\", \"Topic13\", \"Topic13\", \"Topic13\", \"Topic13\", \"Topic13\", \"Topic13\", \"Topic13\", \"Topic13\", \"Topic13\", \"Topic13\", \"Topic13\", \"Topic13\", \"Topic13\", \"Topic13\", \"Topic13\", \"Topic13\", \"Topic13\", \"Topic13\", \"Topic13\", \"Topic13\", \"Topic13\", \"Topic13\", \"Topic13\", \"Topic13\", \"Topic13\", \"Topic13\", \"Topic13\", \"Topic13\", \"Topic13\", \"Topic13\", \"Topic13\", \"Topic13\", \"Topic13\", \"Topic13\", \"Topic13\", \"Topic13\", \"Topic13\", \"Topic13\", \"Topic13\", \"Topic13\", \"Topic13\", \"Topic13\", \"Topic13\", \"Topic13\", \"Topic13\", \"Topic13\", \"Topic13\", \"Topic13\", \"Topic13\", \"Topic13\", \"Topic13\", \"Topic13\", \"Topic13\", \"Topic13\", \"Topic13\", \"Topic14\", \"Topic14\", \"Topic14\", \"Topic14\", \"Topic14\", \"Topic14\", \"Topic14\", \"Topic14\", \"Topic14\", \"Topic14\", \"Topic14\", \"Topic14\", \"Topic14\", \"Topic14\", \"Topic14\", \"Topic14\", \"Topic14\", \"Topic14\", \"Topic14\", \"Topic14\", \"Topic14\", \"Topic14\", \"Topic14\", \"Topic14\", \"Topic14\", \"Topic14\", \"Topic14\", \"Topic14\", \"Topic14\", \"Topic14\", \"Topic14\", \"Topic14\", \"Topic14\", \"Topic14\", \"Topic14\", \"Topic14\", \"Topic14\", \"Topic14\", \"Topic14\", \"Topic14\", \"Topic14\", \"Topic14\", \"Topic14\", \"Topic14\", \"Topic14\", \"Topic14\", \"Topic14\", \"Topic14\", \"Topic14\", \"Topic14\", \"Topic14\", \"Topic14\", \"Topic14\", \"Topic14\", \"Topic14\", \"Topic14\", \"Topic14\", \"Topic14\", \"Topic14\", \"Topic14\", \"Topic14\", \"Topic14\", \"Topic14\", \"Topic14\", \"Topic14\", \"Topic14\", \"Topic14\", \"Topic14\", \"Topic14\", \"Topic14\", \"Topic14\", \"Topic14\", \"Topic14\", \"Topic14\", \"Topic14\", \"Topic14\", \"Topic14\", \"Topic14\", \"Topic14\", \"Topic14\", \"Topic14\", \"Topic14\", \"Topic14\", \"Topic14\", \"Topic14\", \"Topic14\", \"Topic14\", \"Topic14\", \"Topic14\", \"Topic15\", \"Topic15\", \"Topic15\", \"Topic15\", \"Topic15\", \"Topic15\", \"Topic15\", \"Topic15\", \"Topic15\", \"Topic15\", \"Topic15\", \"Topic15\", \"Topic15\", \"Topic15\", \"Topic15\", \"Topic15\", \"Topic15\", \"Topic15\", \"Topic15\", \"Topic15\", \"Topic15\", \"Topic15\", \"Topic15\", \"Topic15\", \"Topic15\", \"Topic15\", \"Topic15\", \"Topic15\", \"Topic15\", \"Topic15\", \"Topic15\", \"Topic15\", \"Topic15\", \"Topic15\", \"Topic15\", \"Topic15\", \"Topic15\", \"Topic15\", \"Topic15\", \"Topic15\", \"Topic15\", \"Topic15\", \"Topic15\", \"Topic15\", \"Topic15\", \"Topic15\", \"Topic15\", \"Topic15\", \"Topic15\", \"Topic15\", \"Topic15\", \"Topic15\", \"Topic15\", \"Topic15\", \"Topic15\", \"Topic15\", \"Topic15\", \"Topic15\", \"Topic15\", \"Topic15\", \"Topic15\", \"Topic15\", \"Topic15\", \"Topic15\", \"Topic15\", \"Topic15\", \"Topic15\", \"Topic15\", \"Topic15\", \"Topic15\", \"Topic15\", \"Topic15\", \"Topic15\", \"Topic15\", \"Topic15\", \"Topic15\", \"Topic15\", \"Topic15\", \"Topic15\", \"Topic15\", \"Topic15\", \"Topic15\", \"Topic15\", \"Topic15\", \"Topic15\", \"Topic15\", \"Topic15\", \"Topic15\", \"Topic15\", \"Topic15\", \"Topic15\", \"Topic15\", \"Topic15\", \"Topic16\", \"Topic16\", \"Topic16\", \"Topic16\", \"Topic16\", \"Topic16\", \"Topic16\", \"Topic16\", \"Topic16\", \"Topic16\", \"Topic16\", \"Topic16\", \"Topic16\", \"Topic16\", \"Topic16\", \"Topic16\", \"Topic16\", \"Topic16\", \"Topic16\", \"Topic16\", \"Topic16\", \"Topic16\", \"Topic16\", \"Topic16\", \"Topic16\", \"Topic16\", \"Topic16\", \"Topic16\", \"Topic16\", \"Topic16\", \"Topic16\", \"Topic16\", \"Topic16\", \"Topic16\", \"Topic16\", \"Topic16\", \"Topic16\", \"Topic16\", \"Topic16\", \"Topic16\", \"Topic16\", \"Topic16\", \"Topic16\", \"Topic16\", \"Topic16\", \"Topic16\", \"Topic16\", \"Topic16\", \"Topic16\", \"Topic16\", \"Topic16\", \"Topic16\", \"Topic16\", \"Topic16\", \"Topic16\", \"Topic16\", \"Topic16\", \"Topic16\", \"Topic16\", \"Topic16\", \"Topic16\", \"Topic16\", \"Topic16\", \"Topic16\", \"Topic16\", \"Topic16\", \"Topic16\", \"Topic16\", \"Topic16\", \"Topic16\", \"Topic16\", \"Topic16\", \"Topic16\", \"Topic16\", \"Topic16\", \"Topic16\", \"Topic16\", \"Topic16\", \"Topic16\", \"Topic16\", \"Topic16\", \"Topic16\", \"Topic16\", \"Topic16\", \"Topic16\", \"Topic16\", \"Topic16\", \"Topic16\", \"Topic16\", \"Topic16\", \"Topic17\", \"Topic17\", \"Topic17\", \"Topic17\", \"Topic17\", \"Topic17\", \"Topic17\", \"Topic17\", \"Topic17\", \"Topic17\", \"Topic17\", \"Topic17\", \"Topic17\", \"Topic17\", \"Topic17\", \"Topic17\", \"Topic17\", \"Topic17\", \"Topic17\", \"Topic17\", \"Topic17\", \"Topic17\", \"Topic17\", \"Topic17\", \"Topic17\", \"Topic17\", \"Topic17\", \"Topic17\", \"Topic17\", \"Topic17\", \"Topic17\", \"Topic17\", \"Topic17\", \"Topic17\", \"Topic17\", \"Topic17\", \"Topic17\", \"Topic17\", \"Topic17\", \"Topic17\", \"Topic17\", \"Topic17\", \"Topic17\", \"Topic17\", \"Topic17\", \"Topic17\", \"Topic17\", \"Topic17\", \"Topic17\", \"Topic17\", \"Topic17\", \"Topic17\", \"Topic17\", \"Topic17\", \"Topic17\", \"Topic17\", \"Topic17\", \"Topic17\", \"Topic17\", \"Topic17\", \"Topic17\", \"Topic17\", \"Topic17\", \"Topic17\", \"Topic17\", \"Topic18\", \"Topic18\", \"Topic18\", \"Topic18\", \"Topic18\", \"Topic18\", \"Topic18\", \"Topic18\", \"Topic18\", \"Topic18\", \"Topic18\", \"Topic18\", \"Topic18\", \"Topic18\", \"Topic18\", \"Topic18\", \"Topic18\", \"Topic18\", \"Topic18\", \"Topic18\", \"Topic18\", \"Topic18\", \"Topic18\", \"Topic18\", \"Topic18\", \"Topic18\", \"Topic18\", \"Topic18\", \"Topic18\", \"Topic18\", \"Topic18\", \"Topic18\", \"Topic18\", \"Topic18\", \"Topic18\", \"Topic18\", \"Topic18\", \"Topic18\", \"Topic18\", \"Topic18\", \"Topic18\", \"Topic18\", \"Topic18\", \"Topic18\", \"Topic18\", \"Topic18\", \"Topic18\", \"Topic18\", \"Topic18\", \"Topic18\", \"Topic18\", \"Topic18\", \"Topic18\", \"Topic18\", \"Topic18\", \"Topic18\", \"Topic18\", \"Topic18\", \"Topic18\", \"Topic18\", \"Topic18\", \"Topic18\", \"Topic18\", \"Topic18\", \"Topic18\", \"Topic18\", \"Topic18\", \"Topic18\", \"Topic18\", \"Topic18\", \"Topic18\", \"Topic18\", \"Topic18\", \"Topic18\", \"Topic18\", \"Topic18\", \"Topic18\", \"Topic18\", \"Topic18\", \"Topic18\", \"Topic18\", \"Topic18\", \"Topic18\", \"Topic18\", \"Topic18\", \"Topic18\", \"Topic19\", \"Topic19\", \"Topic19\", \"Topic19\", \"Topic19\", \"Topic19\", \"Topic19\", \"Topic19\", \"Topic19\", \"Topic19\", \"Topic19\", \"Topic19\", \"Topic19\", \"Topic19\", \"Topic19\", \"Topic19\", \"Topic19\", \"Topic19\", \"Topic19\", \"Topic19\", \"Topic19\", \"Topic19\", \"Topic19\", \"Topic19\", \"Topic19\", \"Topic19\", \"Topic19\", \"Topic19\", \"Topic19\", \"Topic19\", \"Topic19\", \"Topic19\", \"Topic19\", \"Topic19\", \"Topic19\", \"Topic19\", \"Topic19\", \"Topic19\", \"Topic19\", \"Topic19\", \"Topic19\", \"Topic19\", \"Topic19\", \"Topic19\", \"Topic19\", \"Topic19\", \"Topic19\", \"Topic19\", \"Topic19\", \"Topic19\", \"Topic19\", \"Topic19\", \"Topic19\", \"Topic19\", \"Topic19\", \"Topic19\", \"Topic19\", \"Topic19\", \"Topic19\", \"Topic19\", \"Topic19\", \"Topic19\", \"Topic19\", \"Topic19\", \"Topic19\", \"Topic19\", \"Topic19\", \"Topic19\", \"Topic19\", \"Topic19\", \"Topic19\", \"Topic19\", \"Topic19\", \"Topic19\", \"Topic19\", \"Topic19\", \"Topic19\", \"Topic19\", \"Topic19\", \"Topic19\", \"Topic19\", \"Topic19\", \"Topic19\", \"Topic19\", \"Topic19\", \"Topic19\", \"Topic19\", \"Topic19\", \"Topic20\", \"Topic20\", \"Topic20\", \"Topic20\", \"Topic20\", \"Topic20\", \"Topic20\", \"Topic20\", \"Topic20\", \"Topic20\", \"Topic20\", \"Topic20\", \"Topic20\", \"Topic20\", \"Topic20\", \"Topic20\", \"Topic20\", \"Topic20\", \"Topic20\", \"Topic20\", \"Topic20\", \"Topic20\", \"Topic20\", \"Topic20\", \"Topic20\", \"Topic20\", \"Topic20\", \"Topic20\", \"Topic20\", \"Topic20\", \"Topic20\", \"Topic20\", \"Topic20\", \"Topic20\", \"Topic20\", \"Topic20\", \"Topic20\", \"Topic20\", \"Topic20\", \"Topic20\", \"Topic20\", \"Topic20\", \"Topic20\", \"Topic20\", \"Topic20\", \"Topic20\", \"Topic20\", \"Topic20\", \"Topic20\", \"Topic20\", \"Topic20\", \"Topic20\", \"Topic20\", \"Topic20\", \"Topic20\", \"Topic20\", \"Topic20\", \"Topic20\", \"Topic20\", \"Topic20\", \"Topic20\"], \"Freq\": [19.0, 21.0, 20.0, 11.0, 9.0, 11.0, 10.0, 14.0, 9.0, 28.0, 9.0, 7.0, 7.0, 9.0, 17.0, 5.0, 5.0, 5.0, 5.0, 13.0, 5.0, 5.0, 5.0, 8.0, 9.0, 6.0, 4.0, 7.0, 4.0, 4.0, 10.868895530700684, 3.6465044021606445, 2.7497711181640625, 2.7493128776550293, 2.746675491333008, 2.7481374740600586, 2.748687505722046, 2.74784255027771, 1.8486708402633667, 1.8480651378631592, 1.8469903469085693, 6.357239246368408, 0.9473013281822205, 0.9469364285469055, 0.9468540549278259, 0.94695645570755, 0.9467912912368774, 0.9469769597053528, 0.9469728469848633, 0.9466468095779419, 0.9469075202941895, 0.9466336369514465, 0.9470176696777344, 0.9465023279190063, 0.9464399218559265, 0.9466724991798401, 0.9464923739433289, 0.9464347958564758, 0.9463819265365601, 0.9467440247535706, 2.7478833198547363, 6.353758335113525, 2.748448371887207, 2.7476465702056885, 3.649848222732544, 0.9468393325805664, 13.561054229736328, 4.550605297088623, 9.954437255859375, 9.052881240844727, 2.7491326332092285, 7.252622604370117, 1.8480442762374878, 1.8471304178237915, 1.8474514484405518, 3.648961067199707, 1.8476307392120361, 1.8474600315093994, 19.157148361206055, 11.33236026763916, 10.469078063964844, 5.2557597160339355, 5.2554121017456055, 5.254860877990723, 5.254619598388672, 4.389458179473877, 4.384448051452637, 4.385168075561523, 4.38444185256958, 4.382689476013184, 3.5181057453155518, 3.518479585647583, 3.51884126663208, 3.5186469554901123, 3.5167033672332764, 3.5186047554016113, 3.5181469917297363, 3.515521764755249, 3.514608383178711, 0.9121575355529785, 0.9124662280082703, 0.9120091795921326, 0.9123268723487854, 0.9119257926940918, 0.9124628901481628, 0.9124671816825867, 0.9122607111930847, 0.9120245575904846, 0.9123122096061707, 0.9122375845909119, 0.9122318029403687, 0.9122772812843323, 5.164282321929932, 3.458742618560791, 3.457138776779175, 2.6057252883911133, 2.604571580886841, 2.6052536964416504, 2.605170726776123, 2.6044042110443115, 2.6050145626068115, 2.602644205093384, 1.7512102127075195, 1.7505627870559692, 1.750831961631775, 1.749462366104126, 3.458048105239868, 0.8972970247268677, 0.8975088000297546, 0.897264301776886, 0.897026538848877, 0.8970677852630615, 0.8969548344612122, 0.897002100944519, 0.8969578742980957, 0.8971327543258667, 0.8970086574554443, 0.8968417048454285, 0.8966543078422546, 0.8969307541847229, 0.8971107602119446, 0.8969886302947998, 6.0207390785217285, 2.6046998500823975, 3.4572293758392334, 3.4581615924835205, 2.6041293144226074, 1.7502596378326416, 4.310808181762695, 1.7509101629257202, 4.314197540283203, 1.7502743005752563, 3.4614317417144775, 1.749707818031311, 1.7509028911590576, 0.8978484869003296, 0.8978379368782043, 5.0091872215271, 5.009018898010254, 3.3529114723205566, 3.3534021377563477, 2.5254974365234375, 2.525775671005249, 2.525797128677368, 2.524984836578369, 2.5256853103637695, 2.524409532546997, 2.525444746017456, 2.5256426334381104, 2.525475263595581, 2.524284601211548, 2.52506685256958, 2.5253193378448486, 1.6976943016052246, 1.6967765092849731, 0.8700959086418152, 0.870052695274353, 0.8696997165679932, 0.8697914481163025, 0.8696545362472534, 0.8696234226226807, 0.8696407675743103, 0.8694088459014893, 0.8695323467254639, 0.8698808550834656, 0.8698355555534363, 0.8698140978813171, 9.984373092651367, 0.8697476387023926, 0.8698011040687561, 2.5262749195098877, 3.3559181690216064, 0.8698891401290894, 2.5340468883514404, 0.8712192177772522, 0.8704690933227539, 0.8699227571487427, 2.488595962524414, 2.4883310794830322, 2.4881820678710938, 2.4881398677825928, 2.487847089767456, 2.48736310005188, 2.4872241020202637, 2.487144947052002, 2.487088918685913, 2.4869892597198486, 2.486499547958374, 2.486389398574829, 2.4859817028045654, 2.485917329788208, 2.4858827590942383, 2.4858005046844482, 2.4853692054748535, 2.485236167907715, 2.4833507537841797, 1.6724833250045776, 1.671821117401123, 1.6716960668563843, 1.6714904308319092, 1.670891284942627, 3.303567886352539, 0.8568764328956604, 0.8568468689918518, 0.8567646145820618, 0.8567411303520203, 0.856657087802887, 2.4864485263824463, 3.303020715713501, 2.4982051849365234, 1.6722893714904785, 1.6715694665908813, 9.584842681884766, 4.01633358001709, 8.81346321105957, 2.432652235031128, 2.4326205253601074, 1.6350585222244263, 1.6350476741790771, 1.635012149810791, 1.6314101219177246, 1.6312522888183594, 5.611661434173584, 0.8374665379524231, 0.837465763092041, 0.8374590277671814, 0.8374525308609009, 0.8374492526054382, 0.8374496102333069, 0.83744877576828, 0.8374484777450562, 0.8360409736633301, 0.8357318043708801, 0.8357165455818176, 0.8356356620788574, 0.835551917552948, 0.8353815078735352, 0.8353462815284729, 0.8353434801101685, 0.8352295756340027, 0.835073709487915, 2.4277255535125732, 1.635057806968689, 3.231313705444336, 2.4326136112213135, 4.032075881958008, 2.4325742721557617, 1.639046311378479, 1.6387070417404175, 1.630766749382019, 0.8430922031402588, 0.8395687937736511, 0.8378955721855164, 0.8374627232551575, 0.8374594449996948, 0.8374555706977844, 1.5932973623275757, 1.5931841135025024, 1.593311071395874, 0.8166338205337524, 0.816493034362793, 0.8162245750427246, 0.8163818717002869, 0.8163305521011353, 0.8163154125213623, 0.8161459565162659, 0.816278338432312, 0.8161335587501526, 0.8160030245780945, 0.8160727620124817, 0.816162109375, 0.8160935640335083, 0.8160574436187744, 0.8159760236740112, 0.8159646391868591, 0.8160722851753235, 0.815991997718811, 0.8159735202789307, 0.8159394860267639, 0.8159875273704529, 0.8160003423690796, 0.815941572189331, 0.8158215284347534, 0.8159000873565674, 0.8158592581748962, 0.8158878087997437, 0.8159378170967102, 2.3699452877044678, 2.380840301513672, 1.593722939491272, 2.385077953338623, 1.6016510725021362, 1.5968960523605347, 1.6032181978225708, 0.8231464624404907, 0.8192487955093384, 0.8192077279090881, 0.8180610537528992, 0.8176872134208679, 0.8168960809707642, 0.8168912529945374, 0.8168699741363525, 0.8166943788528442, 0.8166102766990662, 0.8164992332458496, 0.8163321614265442, 0.8162257075309753, 4.332935333251953, 2.901359796524048, 2.18424916267395, 2.184134006500244, 1.4691660404205322, 1.4671440124511719, 0.7525777220726013, 0.7523844242095947, 0.7523757219314575, 0.7523382902145386, 0.752295196056366, 0.7521196603775024, 0.7520645260810852, 0.7519545555114746, 0.751803994178772, 0.7517654299736023, 0.7515824437141418, 0.7515575885772705, 0.7514544725418091, 0.751436173915863, 0.7513585686683655, 9.345968246459961, 2.184933662414551, 0.7526183724403381, 0.751783013343811, 2.184504985809326, 0.7525393962860107, 0.7519883513450623, 0.7520111799240112, 1.467724084854126, 1.4692597389221191, 0.7533474564552307, 0.7532129883766174, 0.7521616220474243, 2.044140577316284, 0.7046682834625244, 0.7043619751930237, 0.7047667503356934, 0.7045903205871582, 0.7040805220603943, 0.7045667767524719, 0.7043769955635071, 0.7041926980018616, 0.7042351961135864, 0.7043324708938599, 0.7040650844573975, 0.703944981098175, 0.7040933966636658, 0.7037382125854492, 0.7038620114326477, 0.7041781544685364, 0.7039825320243835, 0.7037432193756104, 0.7036814093589783, 0.7036821842193604, 0.7036934494972229, 0.7038130164146423, 0.7038348317146301, 0.7035972476005554, 0.7035364508628845, 0.7035767436027527, 2.7163639068603516, 1.3747645616531372, 0.7042534351348877, 5.4034423828125, 1.3749580383300781, 1.3861116170883179, 0.7059476375579834, 0.705495297908783, 0.7039041519165039, 0.7038012742996216, 0.0004659878904931247, 0.0004659878904931247, 0.0004659878904931247, 0.0004659878904931247, 0.0004659878904931247, 0.0004659878904931247, 0.0004659878904931247, 0.0004659878904931247, 0.0004659878904931247, 0.0004659878904931247, 0.0004659878904931247, 0.0004659878904931247, 0.0004659878904931247, 0.0004659878904931247, 0.0004659878904931247, 0.0004659878904931247, 0.0004659878904931247, 0.0004659878904931247, 0.0004659878904931247, 0.0004659878904931247, 0.0004659878904931247, 0.0004659878904931247, 0.0004659878904931247, 0.0004659878904931247, 0.0004659878904931247, 0.0004659878904931247, 0.0004659878904931247, 0.0004659878904931247, 0.0004659878904931247, 0.0004659878904931247, 0.0004774677217938006, 0.0004751328378915787, 0.0004750638618133962, 0.00047496199840679765, 0.0004747041966766119, 0.0004742958990391344, 0.00047419717884622514, 0.0004740674630738795, 0.00047400861512869596, 0.00047399854520335793, 0.0004738587886095047, 0.00047374897985719144, 0.00047371306573040783, 0.00047368789091706276, 0.00047358308802358806, 0.0004735258698929101, 0.00047351137618534267, 0.00047347965301014483, 0.00047338553122244775, 0.000473380641778931, 0.00047326929052360356, 0.0004732561355922371, 0.00047315371921285987, 0.00047313360846601427, 0.00047307368367910385, 0.00047299571451731026, 0.0004729942593257874, 0.00047292496310546994, 0.0004728950443677604, 0.00047282539890147746, 0.0004811467952094972, 0.00047991963219828904, 0.00048808977589942515, 0.00048528696061111987, 0.00047751807142049074, 0.00048437327495776117, 0.0004831748956348747, 0.00048301336937583983, 0.0004818148154299706, 0.0004796545545104891, 0.0004768853832501918, 0.0004759106377605349, 0.0004752769018523395, 0.00047393428394570947, 0.00047375692520290613, 0.0004736329719889909, 0.0004900884232483804, 0.0004891185672022402, 0.0004888908006250858, 0.00048760217032395303, 0.00048729099216870964, 0.00048500645789317787, 0.0004845244693569839, 0.00048264459474012256, 0.0004812688275706023, 0.0004805807548109442, 0.00047838882892392576, 0.0004778508155141026, 0.00047738192370161414, 0.0004772777028847486, 0.00047486001858487725, 0.00044901054934598505, 0.00044901054934598505, 0.00044901054934598505, 0.00044901054934598505, 0.00044901054934598505, 0.00044901054934598505, 0.00044901054934598505, 0.00044901054934598505, 0.00044901054934598505, 0.00044901054934598505, 0.00044901054934598505, 0.00044901054934598505, 0.00044901054934598505, 0.00044901054934598505, 0.00044901054934598505, 0.0005268373060971498, 0.0009750034660100937, 0.0006405986496247351, 0.0005485102301463485, 0.0005470662727020681, 0.0005672291154041886, 0.0005015755305066705, 0.00046349005424417555, 0.00046308693708851933, 0.000462888740003109, 0.00046290108002722263, 0.00046255363849923015, 0.0004625264264177531, 0.00046249807928688824, 0.0004624260473065078, 0.0007087539997883141, 0.0004921398358419538, 0.0006192190921865404, 0.0005472915363498032, 0.0005535362288355827, 0.0005590487853623927, 0.0005107405595481396, 0.0005190139054320753, 0.0005919356481172144, 0.0005156320403330028, 0.0005148064228706062, 0.0005146227194927633, 0.0005126114701852202, 0.000519591907504946, 0.000507895543705672, 0.0005018186056986451, 0.0005215450655668974, 0.0005169922951608896, 0.0005013506161049008, 0.0005030132015235722, 0.0005126601317897439, 0.0004980556550435722, 0.0004959637299180031, 0.0005004018894396722, 0.0004770891391672194, 0.0004763738834299147, 0.00047608630848117173, 0.0004750632797367871, 0.0004749666550196707, 0.0004747638013213873, 0.0004744261095765978, 0.00047421539784409106, 0.0004740515141747892, 0.00047397648449987173, 0.00047342610196210444, 0.0004731588123831898, 0.00047260179417207837, 0.00047193033969961107, 0.00047170621110126376, 0.00047154026105999947, 0.0004710849025286734, 0.0004702782607637346, 0.0004698951670434326, 0.0004698218253906816, 0.00046914993436075747, 0.0004685077874455601, 0.0004677964316215366, 0.0004664298612624407, 0.0004658813413698226, 0.0004650267364922911, 0.00045194316771812737, 0.00045194316771812737, 0.00045194316771812737, 0.00045194316771812737, 0.00046662267413921654, 0.0004663467116188258, 0.00046634647878818214, 0.0004660123959183693, 0.0005140108405612409, 0.0006347112939693034, 0.0005999657441861928, 0.0005378463538363576, 0.0005166401970200241, 0.0005198877188377082, 0.0005291776615194976, 0.0005577504052780569, 0.00048443707055412233, 0.0004943098756484687, 0.0005529121845029294, 0.0005123354494571686, 0.0004979108925908804, 0.0004970265435986221, 0.0004903948865830898, 0.0004900251515209675, 0.0005076386150904, 0.0004881363420281559, 0.00048708042595535517, 0.00048612875980325043, 0.0004925571265630424, 0.0004885945236310363, 0.00048321601934731007, 0.000482981966342777, 0.0004828129895031452, 0.0004819661844521761, 0.00048139187856577337, 0.0004842359048780054, 0.00048185180639848113, 0.00047934247413650155, 0.000447318481747061, 0.000447318481747061, 0.000447318481747061, 0.000447318481747061, 0.000447318481747061, 0.000447318481747061, 0.000447318481747061, 0.000447318481747061, 0.000447318481747061, 0.000447318481747061, 0.000447318481747061, 0.000447318481747061, 0.000447318481747061, 0.000447318481747061, 0.000447318481747061, 0.000447318481747061, 0.000447318481747061, 0.000447318481747061, 0.000447318481747061, 0.000447318481747061, 0.000447318481747061, 0.000447318481747061, 0.000447318481747061, 0.000447318481747061, 0.000447318481747061, 0.000447318481747061, 0.000447318481747061, 0.000447318481747061, 0.000447318481747061, 0.000447318481747061, 0.00047545687993988395, 0.0004733881796710193, 0.00047197029925882816, 0.000471949897473678, 0.00047072191955521703, 0.0004706459876615554, 0.0004706200852524489, 0.0004702916485257447, 0.0004702432779595256, 0.00047006094246171415, 0.00046993617434054613, 0.0004698140546679497, 0.0004697005497291684, 0.0004695839888881892, 0.00046944469795562327, 0.00046943462803028524, 0.00046942790504544973, 0.0004693940281867981, 0.0004693134396802634, 0.0004692673101089895, 0.000469121674541384, 0.00046883514733053744, 0.00046881462913006544, 0.0004686524625867605, 0.0004685718740802258, 0.00046851320075802505, 0.0004684272571466863, 0.0004679294943343848, 0.0004678992845583707, 0.0004678581899497658, 0.0006464436883106828, 0.000733983819372952, 0.000688939297106117, 0.0005278143798932433, 0.0006771993357688189, 0.000638999161310494, 0.0005291239358484745, 0.0005593507667072117, 0.0005612017121165991, 0.0005663307965733111, 0.0005372015293687582, 0.000508629425894469, 0.0005068384925834835, 0.000505763222463429, 0.000505617877934128, 0.0005028190207667649, 0.0005101226852275431, 0.0005045051802881062, 0.00048644220805726945, 0.000495739106554538, 0.0005016974755562842, 0.0004836981534026563, 0.0005260855541564524, 0.000496693653985858, 0.0004907468683086336, 0.00048758171033114195, 0.0004829291137866676, 0.00047804959467612207, 0.00048639276064932346, 0.0004286163311917335, 0.0004286163311917335, 0.0004286163311917335, 0.0004286163311917335, 0.0004286163311917335, 0.0004286163311917335, 0.0004286163311917335, 0.0004286163311917335, 0.0004286163311917335, 0.0004286163311917335, 0.0004286163311917335, 0.0004286163311917335, 0.0004286163311917335, 0.0004286163311917335, 0.0004286163311917335, 0.0004286163311917335, 0.0004286163311917335, 0.0004286163311917335, 0.0004286163311917335, 0.0004286163311917335, 0.0004286163311917335, 0.0004286163311917335, 0.0004286163311917335, 0.0004286163311917335, 0.0004286163311917335, 0.0004286163311917335, 0.0004732140223495662, 0.00046897694119252264, 0.0004286163311917335, 0.0004286163311917335, 0.00046760408440604806, 0.00046645631664432585, 0.00046515112626366317, 0.0004647288005799055, 0.00046424701577052474, 0.0004641774867195636, 0.00046414960524998605, 0.00046395548270083964, 0.0004637083038687706, 0.0004634578654076904, 0.0004621660045813769, 0.00046203398960642517, 0.00046166469110175967, 0.00046123776701278985, 0.0004611253971233964, 0.0004606224538292736, 0.0004599687526933849, 0.00045894747017882764, 0.0004585387068800628, 0.00045833131298422813, 0.00045774722821079195, 0.0004573081969283521, 0.00045638991286978126, 0.0004561847017612308, 0.0004553194157779217, 0.0004550131852738559, 0.0004488153208512813, 0.0004486955876927823, 0.0005651905084960163, 0.0005454037454910576, 0.0005440033273771405, 0.0005395301268436015, 0.0005386195844039321, 0.000538105727173388, 0.0005377631168812513, 0.0005333680310286582, 0.0005020034732297063, 0.0005319952615536749, 0.0005271064583212137, 0.0005259279860183597, 0.0005254055722616613, 0.0005247904919087887, 0.0005232562543824315, 0.0004957186756655574, 0.0005181738524697721, 0.0005472552147693932, 0.0005327289109118283, 0.0005150975193828344, 0.0005527767352759838, 0.0005145558388903737, 0.0005130480858497322, 0.0004935110919177532, 0.0006221069488674402, 0.0005102496943436563, 0.0004922632942907512, 0.0005296692834235728, 0.0005230599199421704, 0.0005187170463614166, 0.0004948260611854494, 0.0004322838503867388, 0.0004322838503867388, 0.0004322838503867388, 0.0004322838503867388, 0.0004322838503867388, 0.0004322838503867388, 0.0004322838503867388, 0.0004322838503867388, 0.0004322838503867388, 0.0004322838503867388, 0.0004322838503867388, 0.0004322838503867388, 0.0004322838503867388, 0.0004322838503867388, 0.0004322838503867388, 0.0004322838503867388, 0.0004322838503867388, 0.0004322838503867388, 0.0004322838503867388, 0.0004322838503867388, 0.0004322838503867388, 0.0004322838503867388, 0.0004322838503867388, 0.0004322838503867388, 0.0004322838503867388, 0.0004322838503867388, 0.0004322838503867388, 0.0004322838503867388, 0.0004322838503867388, 0.0004322838503867388, 0.00045477808453142643, 0.00045435194624587893, 0.0004530225123744458, 0.0004529491125140339, 0.00045189319644123316, 0.00045127610792405903, 0.00045113556552678347, 0.00045102843432687223, 0.00045004472485743463, 0.00044988736044615507, 0.0004497987683862448, 0.00044952816097065806, 0.00044942411477677524, 0.0004494322929531336, 0.00044904040987603366, 0.0004488638951443136, 0.0004487161641009152, 0.0004485363606363535, 0.00044850417179986835, 0.0004484375531319529, 0.0004480333882384002, 0.0004480073694139719, 0.00044783070916309953, 0.00044769575470127165, 0.0004475636233109981, 0.00044739939039573073, 0.00044709202484227717, 0.00044685183092951775, 0.00044675657409243286, 0.00044658681144937873, 0.000664232880808413, 0.0005071352934464812, 0.0005233631818555295, 0.0005847459542565048, 0.0004980435478501022, 0.0004866334784310311, 0.0005522600840777159, 0.0004844563372898847, 0.0005110675119794905, 0.0005039681564085186, 0.00048396785859949887, 0.0004821295151486993, 0.00046853514504618943, 0.0005353071028366685, 0.00047894520685076714, 0.00047882075887173414, 0.0004928006092086434, 0.0004866453818976879, 0.000477413967018947, 0.0004770911473315209, 0.0004765757767017931, 0.000474492582725361, 0.0004917090409435332, 0.0004911990836262703, 0.00048126824549399316, 0.0004884167574346066, 0.0004831095866393298, 0.00048117878031916916, 0.0004707615589722991, 0.0004969363799318671, 0.0004864536749664694, 0.00047562032705172896, 0.0004767341888509691, 0.00043342949356883764, 0.00043342949356883764, 0.00043342949356883764, 0.00043342949356883764, 0.00043342949356883764, 0.00043342949356883764, 0.00043342949356883764, 0.00043342949356883764, 0.00043342949356883764, 0.00043342949356883764, 0.00043342949356883764, 0.00043342949356883764, 0.00043342949356883764, 0.00043342949356883764, 0.00043342949356883764, 0.00043342949356883764, 0.00043342949356883764, 0.00043342949356883764, 0.00043342949356883764, 0.00043342949356883764, 0.00043342949356883764, 0.00043342949356883764, 0.00043342949356883764, 0.00043342949356883764, 0.00043342949356883764, 0.00043342949356883764, 0.00043342949356883764, 0.00043342949356883764, 0.00043342949356883764, 0.00043342949356883764, 0.0004495911707635969, 0.0004484337114263326, 0.0004480872885324061, 0.00044811420957557857, 0.000447969970991835, 0.0004476501198951155, 0.0004476276517380029, 0.00044709345092996955, 0.0004468341649044305, 0.0004467930120881647, 0.00044639850966632366, 0.00044612231431528926, 0.00044587167212739587, 0.00044537801295518875, 0.0004451450367923826, 0.00044500615331344306, 0.00044492821325547993, 0.0004447588580660522, 0.0004447138053365052, 0.00044469768181443214, 0.0004446461971383542, 0.00044460457866080105, 0.000444587116362527, 0.00044453921145759523, 0.00044427404645830393, 0.0004442380159161985, 0.0004436614690348506, 0.00044361434993334115, 0.00044362517655827105, 0.0004435058799572289, 0.0005110783386044204, 0.0004766897764056921, 0.0004765495250467211, 0.0005206346977502108, 0.000483270559925586, 0.00046205203398130834, 0.0004727293271571398, 0.0004776526475325227, 0.0004598292871378362, 0.00046922778710722923, 0.0004808002559002489, 0.0004886470851488411, 0.000505150412209332, 0.00046826989273540676, 0.00047707694466225803, 0.00046660267980769277, 0.00045807776041328907, 0.0004790493694599718, 0.0004701417055912316, 0.0004984274273738265, 0.0004974070470780134, 0.0004611084586940706, 0.00045921863056719303, 0.00045321392826735973, 0.00046118476893752813, 0.00046065833885222673, 0.0004577276995405555, 0.00045365028199739754, 0.0004544698167592287, 0.0004501313087530434, 0.00043427865603007376, 0.00043427865603007376, 0.00043427865603007376, 0.00043427865603007376, 0.00043427865603007376, 0.00043427865603007376, 0.00043427865603007376, 0.00043427865603007376, 0.00043427865603007376, 0.00043427865603007376, 0.00043427865603007376, 0.00043427865603007376, 0.00043427865603007376, 0.00043427865603007376, 0.00043427865603007376, 0.00043427865603007376, 0.00043427865603007376, 0.00043427865603007376, 0.00043427865603007376, 0.00043427865603007376, 0.00043427865603007376, 0.00043427865603007376, 0.00043427865603007376, 0.00043427865603007376, 0.00043427865603007376, 0.00043427865603007376, 0.00043427865603007376, 0.00043427865603007376, 0.00043427865603007376, 0.00043427865603007376, 0.00046060909517109394, 0.0004589135351125151, 0.0004576735373120755, 0.00045764385140500963, 0.00045726195094175637, 0.00045540815335698426, 0.0004544967378024012, 0.00045361561933532357, 0.0004534476320259273, 0.0004500840150285512, 0.000724020239431411, 0.0005616002599708736, 0.00047649009502492845, 0.00047477352200075984, 0.0005609009531326592, 0.0004891204298473895, 0.0004563926486298442, 0.0004544073308352381, 0.0004542018286883831, 0.0004912730073556304, 0.00047304551117122173, 0.00045430866884998977, 0.00046741022379137576, 0.00045284960651770234, 0.0004556143539957702, 0.0004356156277935952, 0.00043558698962442577, 0.0004355692944955081, 0.0004355651035439223, 0.0004355271521490067, 0.0004432122514117509, 0.0004429257824085653, 0.0004412227717693895, 0.00044057966442778707, 0.00044011289719492197, 0.00041261131991632283, 0.00041261131991632283, 0.00041261131991632283, 0.00041261131991632283, 0.00041261131991632283, 0.00041261131991632283, 0.00041261131991632283, 0.00041261131991632283, 0.00041261131991632283, 0.00041261131991632283, 0.00041261131991632283, 0.00041261131991632283, 0.00041261131991632283, 0.00041261131991632283, 0.00041261131991632283, 0.00041261131991632283, 0.00041261131991632283, 0.00041261131991632283, 0.00041261131991632283, 0.00041261131991632283, 0.00041261131991632283, 0.00041261131991632283, 0.00041261131991632283, 0.00041261131991632283, 0.00041261131991632283, 0.00041261131991632283, 0.00041261131991632283, 0.00041261131991632283, 0.00041261131991632283, 0.00041261131991632283, 0.0004207390593364835, 0.00041964519186876714, 0.0004193909408058971, 0.00041938727372325957, 0.00041907260310836136, 0.000419064424932003, 0.0004189548781141639, 0.00041894897003658116, 0.0004189152386970818, 0.0004188514722045511, 0.00041881317156367004, 0.00041871698340401053, 0.0004185572324786335, 0.00041837486787699163, 0.00041831700946204364, 0.00041826878441497684, 0.000418235722463578, 0.0004181103431619704, 0.0004180869145784527, 0.00041801240877248347, 0.0004179191018920392, 0.0004178934032097459, 0.0004178961680736393, 0.0004178559174761176, 0.0004176896472927183, 0.0004175706417299807, 0.0004174600471742451, 0.0004174118221271783, 0.00045741203939542174, 0.000417209230363369, 0.000438424467574805, 0.0004331333620939404, 0.00043178239138796926, 0.00043055388960056007, 0.0004305190814193338, 0.0004292104858905077, 0.0004443751531653106, 0.0004384104977361858, 0.00043515453580766916, 0.00042861420661211014, 0.00042403992847539485, 0.000430461426731199, 0.00042365299304947257, 0.0004234245279803872, 0.0004279307904653251, 0.00043920191819779575, 0.0004289823118597269, 0.000433371402323246, 0.0004269276687409729, 0.0004254531813785434, 0.00042455768561922014, 0.0004222861025482416, 0.00042905923328362405, 0.0004252873477526009, 0.00042497238609939814, 0.00042210466926917434, 0.00041225593304261565, 0.00041225593304261565, 0.00041225593304261565, 0.00041225593304261565, 0.00041225593304261565, 0.00041225593304261565, 0.00041225593304261565, 0.00041225593304261565, 0.00041225593304261565, 0.00041225593304261565, 0.00041225593304261565, 0.00041225593304261565, 0.00041225593304261565, 0.00041225593304261565, 0.00041225593304261565, 0.00041225593304261565, 0.00041225593304261565, 0.00041225593304261565, 0.00041225593304261565, 0.00041225593304261565, 0.00041225593304261565, 0.00041225593304261565, 0.00041225593304261565, 0.00041225593304261565, 0.00041225593304261565, 0.00041225593304261565, 0.00041225593304261565, 0.00041225593304261565, 0.00041225593304261565, 0.00041225593304261565, 0.00042856860090978444, 0.0004134452319703996, 0.0004134420014452189, 0.00041343041812069714, 0.0004134286136832088, 0.00041338472510688007, 0.0004133704351261258, 0.00041335014975629747, 0.0004133476468268782, 0.00041334281559102237, 0.00041330879321321845, 0.00041330454405397177, 0.0004132980538997799, 0.00041328027145937085, 0.0004132752073928714, 0.00041326796053908765, 0.0004132618778385222, 0.0004132614703848958, 0.0004132568137720227, 0.0004132507601752877, 0.0004132332687731832, 0.0004132257017772645, 0.0004132201720494777, 0.00041321839671581984, 0.0004132149915676564, 0.0004132083849981427, 0.00041320378659293056, 0.00041320061427541077, 0.0004132009344175458, 0.0004131988971494138, 0.0004221478884574026, 0.00041926460107788444, 0.00041882917867042124, 0.00041876055183820426, 0.0004183394485153258, 0.0004177654627710581, 0.00041672587394714355, 0.00041569239692762494, 0.00041524748667143285, 0.00041512041934765875, 0.0004150922177359462, 0.0004148648586124182, 0.0004148051666561514, 0.00041480170330032706, 0.0004147191357333213, 0.00041471008444204926, 0.0004146923020016402, 0.00041464963578619063, 0.00041458875057287514, 0.0004143078112974763, 0.0004142759134992957, 0.0004141372337471694, 0.0004140492237638682, 0.00041384046198800206, 0.00041380361653864384, 0.00041354852146469057, 0.00041348941158503294, 0.0004134595219511539, 0.0004115342744626105, 0.0004115342744626105, 0.0004115342744626105, 0.0004115342744626105, 0.0004115342744626105, 0.0004115342744626105, 0.0004115342744626105, 0.0004115342744626105, 0.0004115342744626105, 0.0004115342744626105, 0.0004115342744626105, 0.0004115342744626105, 0.0004115342744626105, 0.0004115342744626105, 0.0004115342744626105, 0.0004115342744626105, 0.0004115342744626105, 0.0004115342744626105, 0.0004115342744626105, 0.0004115342744626105, 0.0004115342744626105, 0.0004115342744626105, 0.0004115342744626105, 0.0004115342744626105, 0.0004115342744626105, 0.0004115342744626105, 0.0004115342744626105, 0.0004115342744626105, 0.0004115342744626105, 0.0004115342744626105, 0.0004115342744626105, 0.00041731714736670256, 0.00041525534470565617, 0.00041525260894559324, 0.0004149815649725497, 0.0004148879961576313, 0.0004148433217778802, 0.0004136625793762505, 0.0004132854810450226, 0.00041306583443656564, 0.000413012458011508, 0.0004129047738388181, 0.0004126874846406281, 0.0004126325948163867, 0.0004126149869989604, 0.0004126009007450193, 0.00041251227958127856, 0.00041250590584240854, 0.0004124939441680908, 0.00041246283217333257, 0.00041245543980039656, 0.0004124427796341479, 0.00041242592851631343, 0.00041235375101678073, 0.00041234950185753405, 0.00041225310997106135, 0.00041222880827263, 0.00041222103754989803, 0.00041218416299670935, 0.0004121155070606619, 0.0004120735975448042], \"Term\": [\"que\", \"love\", \"want\", \"quiera\", \"angel\", \"hate\", \"yo\", \"get\", \"kiss\", \"not\", \"miss\", \"eye\", \"youi\", \"go\", \"never\", \"nena\", \"amor\", \"mundo\", \"sin\", \"be\", \"come\", \"famous\", \"rocknroll\", \"do\", \"know\", \"back\", \"fall\", \"tell\", \"llegarelo\", \"puedo\", \"hate\", \"watch\", \"youyou\", \"putnobody\", \"youdont\", \"fuck\", \"shiti\", \"herand\", \"would\", \"feeling\", \"alone\", \"youi\", \"coffeeor\", \"front\", \"eati\", \"damn\", \"knowif\", \"move\", \"time\", \"wonder\", \"wanna\", \"reminiscingbut\", \"learn\", \"break\", \"youif\", \"create\", \"oneveryone\", \"harmi\", \"tape\", \"distancei\", \"else\", \"miss\", \"right\", \"ill\", \"need\", \"kill\", \"not\", \"do\", \"love\", \"want\", \"ever\", \"never\", \"still\", \"night\", \"have\", \"get\", \"feel\", \"say\", \"que\", \"quiera\", \"yo\", \"nena\", \"amor\", \"mundo\", \"sin\", \"haresin\", \"puedo\", \"fin\", \"pregunta\", \"llegarelo\", \"algo\", \"vere\", \"por\", \"ireal\", \"donde\", \"seque\", \"necesitarey\", \"absolutamente\", \"porquestu\", \"cielo\", \"pensar\", \"perdere\", \"completoen\", \"ireeh\", \"lleveno\", \"encontrarcarino\", \"caminarpor\", \"ireiresolo\", \"ser\", \"busca\", \"espiritu\", \"marque\", \"come\", \"away\", \"tear\", \"youbut\", \"hold\", \"fear\", \"trueim\", \"hard\", \"sittin\", \"cry\", \"homerefrain\", \"everytime\", \"youbaby\", \"amissin\", \"stand\", \"upthere\", \"paineverytime\", \"sleep\", \"youeverytime\", \"easy\", \"knowi\", \"saywont\", \"choke\", \"namei\", \"missin\", \"twois\", \"roomi\", \"bein\", \"day\", \"facebreak\", \"go\", \"lonely\", \"heart\", \"say\", \"always\", \"think\", \"be\", \"home\", \"never\", \"something\", \"not\", \"eye\", \"know\", \"need\", \"want\", \"rocknroll\", \"famous\", \"dollar\", \"record\", \"beverlywe\", \"place\", \"harley\", \"carrich\", \"allyeah\", \"golden\", \"guitarsa\", \"maserati\", \"twentyfive\", \"alla\", \"allwe\", \"wallplatinum\", \"backooh\", \"wonderfulaint\", \"blow\", \"insurance\", \"marshall\", \"lawyer\", \"stripon\", \"nothing\", \"carwe\", \"lot\", \"platinum\", \"wonderfulwe\", \"saturday\", \"rock\", \"want\", \"wonderfulrich\", \"startwentyseven\", \"tell\", \"be\", \"jumpercable\", \"not\", \"get\", \"make\", \"kiss\", \"metricyou\", \"bad\", \"careful\", \"street\", \"run\", \"electriclay\", \"combatmy\", \"pence\", \"embrace\", \"boot\", \"cubic\", \"habit\", \"comebackdollar\", \"work\", \"guttereasier\", \"doorshould\", \"mount\", \"betterpull\", \"chair\", \"wish\", \"music\", \"beauty\", \"birth\", \"turn\", \"sit\", \"drug\", \"forless\", \"monstershould\", \"pride\", \"pageantive\", \"much\", \"something\", \"back\", \"give\", \"never\", \"angel\", \"eyesangel\", \"kiss\", \"uhhuhi\", \"yanever\", \"yanow\", \"realize\", \"live\", \"meoh\", \"light\", \"eye\", \"bemmm\", \"exist\", \"mindnow\", \"yeahthing\", \"really\", \"yahow\", \"timenever\", \"uhhuhmy\", \"deceive\", \"matter\", \"sighfor\", \"wait\", \"timewell\", \"wing\", \"meangel\", \"high\", \"wideno\", \"moon\", \"shine\", \"way\", \"know\", \"miss\", \"not\", \"get\", \"do\", \"never\", \"love\", \"be\", \"feel\", \"s\", \"could\", \"life\", \"change\", \"mother\", \"try\", \"start\", \"gram\", \"feeli\", \"myselfwhy\", \"itwithout\", \"happeningand\", \"startedit\", \"itthen\", \"sooni\", \"dear\", \"nowand\", \"needlethen\", \"even\", \"anywayim\", \"downward\", \"graduallyyou\", \"weekthen\", \"dopewhy\", \"ininto\", \"tonightlike\", \"smack\", \"lose\", \"dragonwhy\", \"use\", \"otherevery\", \"beginsanyway\", \"dreamoh\", \"suck\", \"motherit\", \"tell\", \"be\", \"do\", \"not\", \"go\", \"get\", \"never\", \"say\", \"think\", \"ever\", \"know\", \"feel\", \"need\", \"next\", \"ill\", \"right\", \"real\", \"like\", \"friend\", \"people\", \"fall\", \"fallin\", \"againid\", \"there\", \"inchorusfallin\", \"againlove\", \"doubtim\", \"againi\", \"hope\", \"dolove\", \"betterbut\", \"strong\", \"endit\", \"yesterdaylove\", \"awayout\", \"gentle\", \"fasti\", \"kinda\", \"mineto\", \"new\", \"lastwhen\", \"love\", \"s\", \"call\", \"seem\", \"know\", \"give\", \"else\", \"always\", \"go\", \"be\", \"never\", \"not\", \"heart\", \"lulus\", \"tonight\", \"slick\", \"coquettesmister\", \"boutonniere\", \"town\", \"vestcause\", \"towngotta\", \"tuxedo\", \"somewhere\", \"townyou\", \"arounyou\", \"may\", \"shoe\", \"sew\", \"hairgotta\", \"button\", \"harlem\", \"regret\", \"buck\", \"otis\", \"press\", \"comin\", \"pet\", \"look\", \"falland\", \"mailman\", \"back\", \"home\", \"call\", \"get\", \"tell\", \"not\", \"have\", \"good\", \"old\", \"half\", \"town\", \"may\", \"sew\", \"buck\", \"arounyou\", \"slick\", \"otis\", \"falland\", \"press\", \"regret\", \"look\", \"mailman\", \"tuxedo\", \"hairgotta\", \"tonight\", \"shoe\", \"somewhere\", \"comin\", \"townyou\", \"harlem\", \"pet\", \"towngotta\", \"boutonniere\", \"vestcause\", \"button\", \"coquettesmister\", \"lastwhen\", \"new\", \"mineto\", \"kinda\", \"spiral\", \"beginbut\", \"nowand\", \"must\", \"myselfthe\", \"couple\", \"feeli\", \"howi\", \"dear\", \"gram\", \"itthen\", \"itfeel\", \"otherevery\", \"introduce\", \"anywayim\", \"needlethen\", \"explain\", \"smack\", \"myselfi\", \"anyhowsee\", \"dreamoh\", \"muchbut\", \"myselfwhy\", \"beginsanyway\", \"use\", \"ambut\", \"ininto\", \"tonightlike\", \"graduallyyou\", \"cold\", \"try\", \"mother\", \"do\", \"tell\", \"start\", \"not\", \"get\", \"go\", \"be\", \"never\", \"know\", \"feel\", \"need\", \"people\", \"think\", \"right\", \"lastwhen\", \"new\", \"mineto\", \"kinda\", \"fasti\", \"gentle\", \"awayout\", \"yesterdaylove\", \"endit\", \"strong\", \"betterbut\", \"dolove\", \"hope\", \"againi\", \"doubtim\", \"town\", \"may\", \"sew\", \"buck\", \"arounyou\", \"slick\", \"otis\", \"falland\", \"press\", \"regret\", \"look\", \"mailman\", \"tuxedo\", \"hairgotta\", \"tonight\", \"againlove\", \"love\", \"fall\", \"there\", \"againid\", \"fallin\", \"inchorusfallin\", \"vida\", \"iredonde\", \"ireeh\", \"cielodonde\", \"felizdonde\", \"cielo\", \"sentir\", \"te\", \"que\", \"seem\", \"quiera\", \"s\", \"know\", \"yo\", \"else\", \"puedo\", \"not\", \"sin\", \"amor\", \"nena\", \"mundo\", \"go\", \"fin\", \"necesitarey\", \"never\", \"hate\", \"porquestu\", \"llegarelo\", \"want\", \"algo\", \"absolutamente\", \"be\", \"town\", \"sew\", \"may\", \"falland\", \"buck\", \"otis\", \"press\", \"regret\", \"arounyou\", \"look\", \"mailman\", \"slick\", \"hairgotta\", \"tuxedo\", \"comin\", \"shoe\", \"somewhere\", \"tonight\", \"harlem\", \"pet\", \"townyou\", \"towngotta\", \"boutonniere\", \"button\", \"vestcause\", \"coquettesmister\", \"lastwhen\", \"new\", \"mineto\", \"kinda\", \"alltwentyfive\", \"backstagepassno\", \"ass\", \"allgolden\", \"lulus\", \"get\", \"be\", \"rocknroll\", \"home\", \"famous\", \"tell\", \"want\", \"half\", \"beverlywe\", \"not\", \"back\", \"record\", \"dollar\", \"maserati\", \"golden\", \"go\", \"carrich\", \"allwe\", \"alla\", \"come\", \"heart\", \"twentyfive\", \"harley\", \"guitarsa\", \"allyeah\", \"wallplatinum\", \"never\", \"tear\", \"have\", \"town\", \"may\", \"sew\", \"buck\", \"arounyou\", \"slick\", \"otis\", \"falland\", \"press\", \"regret\", \"look\", \"mailman\", \"tuxedo\", \"hairgotta\", \"tonight\", \"shoe\", \"somewhere\", \"comin\", \"townyou\", \"harlem\", \"pet\", \"towngotta\", \"boutonniere\", \"vestcause\", \"button\", \"coquettesmister\", \"lastwhen\", \"new\", \"mineto\", \"kinda\", \"heartyou\", \"yourealize\", \"thisjust\", \"lowyoure\", \"keep\", \"beenyou\", \"bell\", \"shitoh\", \"soand\", \"wrongso\", \"youif\", \"thought\", \"put\", \"tape\", \"usedbut\", \"youfucke\", \"gonei\", \"harmi\", \"hershe\", \"trust\", \"care\", \"drink\", \"end\", \"lipsand\", \"bybut\", \"break\", \"didlie\", \"armwedde\", \"oneveryone\", \"rememberdo\", \"hate\", \"not\", \"want\", \"youdont\", \"love\", \"never\", \"watch\", \"youi\", \"do\", \"miss\", \"need\", \"fuck\", \"putnobody\", \"shiti\", \"youyou\", \"herand\", \"else\", \"ill\", \"alone\", \"night\", \"right\", \"feeling\", \"get\", \"ever\", \"have\", \"feel\", \"still\", \"would\", \"say\", \"town\", \"may\", \"sew\", \"buck\", \"arounyou\", \"slick\", \"otis\", \"falland\", \"press\", \"regret\", \"look\", \"mailman\", \"tuxedo\", \"hairgotta\", \"tonight\", \"shoe\", \"somewhere\", \"comin\", \"townyou\", \"harlem\", \"pet\", \"towngotta\", \"boutonniere\", \"vestcause\", \"button\", \"coquettesmister\", \"participant\", \"pageantlately\", \"lastwhen\", \"new\", \"shameid\", \"abusewhen\", \"hide\", \"trace\", \"head\", \"aspiration\", \"sex\", \"page\", \"juxtapose\", \"artist\", \"xerox\", \"magazinewhen\", \"wished\", \"prostitutewith\", \"become\", \"less\", \"machineyou\", \"sense\", \"forshould\", \"monsterfrom\", \"chronically\", \"pageantive\", \"pride\", \"monstershould\", \"forless\", \"drug\", \"guitar\", \"sunset\", \"chair\", \"betterpull\", \"mount\", \"doorshould\", \"guttereasier\", \"work\", \"comebackdollar\", \"habit\", \"turn\", \"cubic\", \"boot\", \"embrace\", \"pence\", \"combatmy\", \"electriclay\", \"birth\", \"run\", \"sit\", \"much\", \"street\", \"something\", \"careful\", \"bad\", \"beauty\", \"want\", \"metricyou\", \"music\", \"back\", \"famous\", \"rocknroll\", \"never\", \"town\", \"may\", \"sew\", \"buck\", \"arounyou\", \"slick\", \"otis\", \"falland\", \"press\", \"regret\", \"look\", \"mailman\", \"tuxedo\", \"hairgotta\", \"tonight\", \"shoe\", \"somewhere\", \"comin\", \"townyou\", \"harlem\", \"pet\", \"towngotta\", \"boutonniere\", \"vestcause\", \"button\", \"coquettesmister\", \"lastwhen\", \"new\", \"mineto\", \"kinda\", \"allaint\", \"lot\", \"nightbig\", \"wall\", \"limo\", \"video\", \"fortune\", \"amrich\", \"lawyer\", \"marshall\", \"accountant\", \"past\", \"showrich\", \"affairsmanager\", \"chick\", \"carwe\", \"platinum\", \"wonderfulrich\", \"blow\", \"nothing\", \"sunset\", \"hairblew\", \"cadillac\", \"backstagepassno\", \"wonderfulwe\", \"guitar\", \"wonderful\", \"mtvto\", \"handle\", \"startwentyseven\", \"want\", \"dollar\", \"famous\", \"que\", \"record\", \"alla\", \"quiera\", \"place\", \"rocknroll\", \"llegarelo\", \"beverlywe\", \"wallplatinum\", \"backooh\", \"yo\", \"allyeah\", \"harley\", \"pregunta\", \"donde\", \"golden\", \"guitarsa\", \"carrich\", \"allwe\", \"mundo\", \"nena\", \"absolutamente\", \"amor\", \"puedo\", \"fin\", \"twentyfive\", \"be\", \"tell\", \"porquestu\", \"sin\", \"town\", \"may\", \"sew\", \"buck\", \"arounyou\", \"slick\", \"otis\", \"falland\", \"press\", \"regret\", \"look\", \"mailman\", \"tuxedo\", \"hairgotta\", \"tonight\", \"shoe\", \"somewhere\", \"comin\", \"townyou\", \"harlem\", \"pet\", \"towngotta\", \"boutonniere\", \"vestcause\", \"button\", \"coquettesmister\", \"lastwhen\", \"new\", \"mineto\", \"kinda\", \"callin\", \"easy\", \"roomi\", \"youeverytime\", \"plan\", \"knowi\", \"missin\", \"dreami\", \"perfectsomeone\", \"voice\", \"leave\", \"paini\", \"moveit\", \"makecause\", \"awayi\", \"boy\", \"pain\", \"iti\", \"knowall\", \"saywont\", \"namei\", \"twois\", \"facebreak\", \"awake\", \"youone\", \"upthere\", \"soonit\", \"choke\", \"paineverytime\", \"hear\", \"come\", \"cry\", \"hold\", \"go\", \"away\", \"amissin\", \"hard\", \"tear\", \"everytime\", \"youbut\", \"stand\", \"say\", \"be\", \"fear\", \"always\", \"trueim\", \"homerefrain\", \"heart\", \"lonely\", \"never\", \"not\", \"sittin\", \"think\", \"youbaby\", \"eye\", \"know\", \"something\", \"home\", \"get\", \"need\", \"town\", \"may\", \"sew\", \"buck\", \"arounyou\", \"slick\", \"otis\", \"falland\", \"press\", \"regret\", \"look\", \"mailman\", \"tuxedo\", \"hairgotta\", \"tonight\", \"shoe\", \"somewhere\", \"comin\", \"townyou\", \"harlem\", \"pet\", \"towngotta\", \"boutonniere\", \"vestcause\", \"button\", \"coquettesmister\", \"lastwhen\", \"new\", \"mineto\", \"kinda\", \"moon\", \"wideno\", \"high\", \"meangel\", \"wing\", \"timewell\", \"wait\", \"sighfor\", \"matter\", \"deceive\", \"angel\", \"eyesangel\", \"light\", \"meoh\", \"eye\", \"shine\", \"let\", \"close\", \"open\", \"love\", \"get\", \"s\", \"not\", \"know\", \"never\", \"fixnow\", \"mean\", \"feelingswhen\", \"put\", \"eati\", \"hate\", \"want\", \"youi\", \"miss\", \"do\", \"town\", \"may\", \"sew\", \"buck\", \"arounyou\", \"slick\", \"otis\", \"falland\", \"press\", \"regret\", \"look\", \"mailman\", \"tuxedo\", \"hairgotta\", \"tonight\", \"shoe\", \"somewhere\", \"comin\", \"townyou\", \"harlem\", \"pet\", \"towngotta\", \"boutonniere\", \"vestcause\", \"button\", \"coquettesmister\", \"lastwhen\", \"new\", \"mineto\", \"kinda\", \"choke\", \"instead\", \"saywont\", \"awake\", \"plan\", \"dreami\", \"awayi\", \"knowall\", \"paini\", \"sleep\", \"youone\", \"twois\", \"soonit\", \"smile\", \"leave\", \"namei\", \"upthere\", \"voice\", \"awaylast\", \"bein\", \"day\", \"roomi\", \"babymissin\", \"pain\", \"hear\", \"perfectsomeone\", \"boy\", \"iti\", \"come\", \"crywhy\", \"tear\", \"hold\", \"fear\", \"cry\", \"youbut\", \"trueim\", \"go\", \"say\", \"heart\", \"sittin\", \"homerefrain\", \"stand\", \"amissin\", \"everytime\", \"away\", \"never\", \"always\", \"be\", \"lonely\", \"home\", \"hard\", \"youbaby\", \"not\", \"eye\", \"something\", \"know\", \"town\", \"may\", \"sew\", \"buck\", \"arounyou\", \"slick\", \"otis\", \"falland\", \"press\", \"regret\", \"look\", \"mailman\", \"tuxedo\", \"hairgotta\", \"tonight\", \"shoe\", \"somewhere\", \"comin\", \"townyou\", \"harlem\", \"pet\", \"towngotta\", \"boutonniere\", \"vestcause\", \"button\", \"coquettesmister\", \"lastwhen\", \"new\", \"mineto\", \"kinda\", \"not\", \"alarmscaution\", \"hurt\", \"oneveryone\", \"feelingswhen\", \"coffeeor\", \"around\", \"sleepor\", \"shitoh\", \"dad\", \"bell\", \"fixnow\", \"usedbut\", \"mixedalway\", \"youfriend\", \"knowif\", \"bybut\", \"lipsand\", \"tired\", \"pass\", \"seatstill\", \"mind\", \"end\", \"thisjust\", \"guess\", \"kill\", \"harmi\", \"armwedde\", \"mean\", \"thought\", \"love\", \"hate\", \"never\", \"youi\", \"miss\", \"want\", \"watch\", \"do\", \"herand\", \"youyou\", \"shiti\", \"ever\", \"need\", \"get\", \"fuck\", \"ill\", \"right\", \"else\", \"putnobody\", \"would\", \"youdont\", \"alone\", \"have\", \"feeling\", \"still\", \"say\", \"night\", \"feel\", \"town\", \"may\", \"sew\", \"buck\", \"arounyou\", \"slick\", \"otis\", \"falland\", \"press\", \"regret\", \"look\", \"mailman\", \"tuxedo\", \"hairgotta\", \"tonight\", \"shoe\", \"somewhere\", \"comin\", \"townyou\", \"harlem\", \"pet\", \"towngotta\", \"boutonniere\", \"vestcause\", \"button\", \"coquettesmister\", \"lastwhen\", \"new\", \"mineto\", \"kinda\", \"fasti\", \"not\", \"miss\", \"want\", \"love\", \"never\", \"hate\", \"youi\", \"watch\", \"need\", \"shiti\", \"do\", \"ill\", \"putnobody\", \"get\", \"fuck\", \"feel\", \"right\", \"ever\", \"feeling\", \"youyou\", \"youdont\", \"else\", \"herand\", \"have\", \"would\", \"alone\", \"night\", \"still\", \"give\", \"herall\"], \"Total\": [19.0, 21.0, 20.0, 11.0, 9.0, 11.0, 10.0, 14.0, 9.0, 28.0, 9.0, 7.0, 7.0, 9.0, 17.0, 5.0, 5.0, 5.0, 5.0, 13.0, 5.0, 5.0, 5.0, 8.0, 9.0, 6.0, 4.0, 7.0, 4.0, 4.0, 11.209342956542969, 3.977787494659424, 3.077083110809326, 3.076953887939453, 3.074368476867676, 3.076103687286377, 3.076932191848755, 3.0764169692993164, 2.174531936645508, 2.173999309539795, 2.1734018325805664, 7.548114776611328, 1.2712775468826294, 1.2707912921905518, 1.2708386182785034, 1.2709994316101074, 1.270781397819519, 1.2710330486297607, 1.2710751295089722, 1.2706642150878906, 1.2710380554199219, 1.2707116603851318, 1.2712297439575195, 1.270544409751892, 1.270466923713684, 1.270790696144104, 1.2705641984939575, 1.2705020904541016, 1.270431637763977, 1.2709264755249023, 3.7915236949920654, 9.082542419433594, 3.855705738067627, 3.8547821044921875, 5.613480567932129, 1.2710665464401245, 28.21356201171875, 8.033775329589844, 21.196866989135742, 20.20112419128418, 4.713546276092529, 17.371646881103516, 3.03049373626709, 3.029416084289551, 3.70268177986145, 14.99716567993164, 4.606616020202637, 6.378910541534424, 19.50450897216797, 11.671088218688965, 10.806851387023926, 5.585652828216553, 5.585813522338867, 5.585696220397949, 5.5866923332214355, 4.71915864944458, 4.714275360107422, 4.715465068817139, 4.715392112731934, 4.713546276092529, 3.8462631702423096, 3.846803903579712, 3.8473103046417236, 3.847264051437378, 3.8451414108276367, 3.8473641872406006, 3.8469650745391846, 3.8448750972747803, 3.8448710441589355, 1.2371938228607178, 1.2376757860183716, 1.2370811700820923, 1.2375123500823975, 1.2369812726974487, 1.237714171409607, 1.2377232313156128, 1.237457275390625, 1.2371982336044312, 1.2376065254211426, 1.2375227212905884, 1.2375426292419434, 1.237676739692688, 5.50496244430542, 3.7946178913116455, 3.793609857559204, 2.9373056888580322, 2.9363813400268555, 2.9372637271881104, 2.937828540802002, 2.9371416568756104, 2.937891960144043, 2.9357895851135254, 2.0809996128082275, 2.0807597637176514, 2.081479787826538, 2.080148696899414, 4.609995365142822, 1.2241264581680298, 1.224450945854187, 1.2244102954864502, 1.2241889238357544, 1.2242501974105835, 1.2240978479385376, 1.2241624593734741, 1.2241318225860596, 1.2243843078613281, 1.2242690324783325, 1.2240487337112427, 1.223815679550171, 1.2241945266723633, 1.2244538068771362, 1.224318027496338, 9.353411674499512, 3.8401312828063965, 5.411922454833984, 6.378910541534424, 4.555785179138184, 2.85956072807312, 13.205092430114746, 3.4261720180511475, 17.371646881103516, 5.342313289642334, 28.21356201171875, 7.652153968811035, 9.099344253540039, 5.613480567932129, 20.20112419128418, 5.343656063079834, 5.343480110168457, 3.6838624477386475, 3.684532403945923, 2.8543288707733154, 2.8548927307128906, 2.8549227714538574, 2.8545258045196533, 2.8553240299224854, 2.8539540767669678, 2.85522198677063, 2.8555691242218018, 2.855520248413086, 2.85427188873291, 2.855311632156372, 2.8561620712280273, 2.0263068675994873, 2.0256292819976807, 1.1972260475158691, 1.197295904159546, 1.196877121925354, 1.1970242261886597, 1.19685959815979, 1.196817398071289, 1.196844220161438, 1.1965252161026, 1.196711778640747, 1.1972161531448364, 1.1971572637557983, 1.1971452236175537, 20.20112419128418, 1.1970707178115845, 1.197182536125183, 7.441340923309326, 13.205092430114746, 1.1975200176239014, 28.21356201171875, 14.99716567993164, 2.0534584522247314, 9.970786094665527, 2.8155221939086914, 2.8152618408203125, 2.8151159286499023, 2.815070152282715, 2.814781427383423, 2.814300298690796, 2.8141632080078125, 2.814089775085449, 2.814032793045044, 2.8139326572418213, 2.813455104827881, 2.8133385181427, 2.8129334449768066, 2.812873363494873, 2.8128387928009033, 2.8127567768096924, 2.81233549118042, 2.812201499938965, 2.8103363513946533, 1.9993869066238403, 1.9987245798110962, 1.998603105545044, 1.998398780822754, 1.9978054761886597, 4.486917972564697, 1.1837399005889893, 1.1837104558944702, 1.1836289167404175, 1.183606505393982, 1.1835230588912964, 3.716130495071411, 5.342313289642334, 6.286994457244873, 3.618612289428711, 17.371646881103516, 9.913007736206055, 4.344337463378906, 9.970786094665527, 2.7605295181274414, 2.760497808456421, 1.962935209274292, 1.9629244804382324, 1.962889313697815, 1.9593265056610107, 1.9591703414916992, 7.652153968811035, 1.1653426885604858, 1.1653419733047485, 1.1653351783752441, 1.165328860282898, 1.1653255224227905, 1.1653258800506592, 1.1653250455856323, 1.1653248071670532, 1.1639326810836792, 1.163626790046692, 1.163611650466919, 1.16353178024292, 1.1634488105773926, 1.1632803678512573, 1.163245439529419, 1.1632426977157593, 1.1631300449371338, 1.1629759073257446, 3.428560972213745, 2.8195834159851074, 9.099344253540039, 9.082542419433594, 28.21356201171875, 14.99716567993164, 8.033775329589844, 17.371646881103516, 21.196866989135742, 13.205092430114746, 4.606616020202637, 4.994349479675293, 2.9247395992279053, 1.981286883354187, 2.021808385848999, 1.9257811307907104, 1.9258793592453003, 1.9261879920959473, 1.1467766761779785, 1.1467468738555908, 1.1466450691223145, 1.1468713283538818, 1.146906852722168, 1.1468881368637085, 1.146672010421753, 1.146933913230896, 1.1467375755310059, 1.1466280221939087, 1.1467323303222656, 1.1468759775161743, 1.1468054056167603, 1.1467649936676025, 1.1467231512069702, 1.1467219591140747, 1.1469190120697021, 1.1468266248703003, 1.1468075513839722, 1.1467739343643188, 1.1468640565872192, 1.146892786026001, 1.146813154220581, 1.1466623544692993, 1.1467784643173218, 1.1467820405960083, 1.146842122077942, 1.146966814994812, 7.441340923309326, 13.205092430114746, 8.033775329589844, 28.21356201171875, 9.353411674499512, 14.99716567993164, 17.371646881103516, 6.378910541534424, 2.85956072807312, 4.713546276092529, 9.099344253540039, 4.606616020202637, 5.613480567932129, 2.0032331943511963, 3.8547821044921875, 3.855705738067627, 2.0498130321502686, 2.0495264530181885, 2.049852132797241, 2.0495283603668213, 4.664948463439941, 3.2332992553710938, 2.5161685943603516, 2.51605486869812, 1.8010398149490356, 1.7990429401397705, 1.0844247341156006, 1.0842338800430298, 1.0842252969741821, 1.0841883420944214, 1.0841457843780518, 1.0839723348617554, 1.0839179754257202, 1.0838093757629395, 1.08366060256958, 1.083622694015503, 1.083441972732544, 1.083417296409607, 1.0833154916763306, 1.0832974910736084, 1.0832208395004272, 21.196866989135742, 4.994349479675293, 1.757311463356018, 1.986229658126831, 9.099344253540039, 3.618612289428711, 3.7915236949920654, 4.555785179138184, 9.353411674499512, 13.205092430114746, 17.371646881103516, 28.21356201171875, 5.411922454833984, 2.3872201442718506, 1.0409371852874756, 1.0407445430755615, 1.0413867235183716, 1.0411760807037354, 1.0404525995254517, 1.04135262966156, 1.0411577224731445, 1.0408905744552612, 1.0409574508666992, 1.0411099195480347, 1.040727972984314, 1.0405710935592651, 1.0409468412399292, 1.0405889749526978, 1.040900707244873, 1.041386365890503, 1.041117548942566, 1.0407813787460327, 1.0407270193099976, 1.0407450199127197, 1.0407730340957642, 1.0409913063049316, 1.041155457496643, 1.0408334732055664, 1.040748953819275, 1.0408868789672852, 6.286994457244873, 3.4261720180511475, 1.757311463356018, 14.99716567993164, 7.441340923309326, 28.21356201171875, 3.70268177986145, 1.943785548210144, 1.8198782205581665, 1.869959831237793, 1.0404525995254517, 1.0405710935592651, 1.0405889749526978, 1.0407270193099976, 1.040727972984314, 1.0407445430755615, 1.0407450199127197, 1.040748953819275, 1.0407730340957642, 1.0407813787460327, 1.0408334732055664, 1.0408868789672852, 1.0408905744552612, 1.040900707244873, 1.0409371852874756, 1.0409468412399292, 1.0409574508666992, 1.0409913063049316, 1.0411099195480347, 1.041117548942566, 1.041155457496643, 1.0411577224731445, 1.0411760807037354, 1.04135262966156, 1.041386365890503, 1.0413867235183716, 1.0832208395004272, 1.0832974910736084, 1.0833154916763306, 1.083417296409607, 1.1463544368743896, 1.1466374397277832, 1.1466280221939087, 1.146576166152954, 1.146636962890625, 1.1466816663742065, 1.1467468738555908, 1.1467162370681763, 1.1467375755310059, 1.1467766761779785, 1.146672010421753, 1.1466963291168213, 1.1466623544692993, 1.1467763185501099, 1.1468054056167603, 1.1467323303222656, 1.1468031406402588, 1.1467739343643188, 1.146850824356079, 1.146803855895996, 1.1467820405960083, 1.1468243598937988, 1.1466450691223145, 1.1467784643173218, 1.146813154220581, 1.1466763019561768, 1.1468266248703003, 1.1468075513839722, 1.1467231512069702, 1.1468011140823364, 1.9258793592453003, 1.9257811307907104, 8.033775329589844, 7.441340923309326, 1.9261879920959473, 28.21356201171875, 14.99716567993164, 9.353411674499512, 13.205092430114746, 17.371646881103516, 9.099344253540039, 4.606616020202637, 5.613480567932129, 2.0495283603668213, 2.85956072807312, 3.855705738067627, 1.0832208395004272, 1.0832974910736084, 1.0833154916763306, 1.083417296409607, 1.083441972732544, 1.083622694015503, 1.08366060256958, 1.0838093757629395, 1.0839179754257202, 1.0839723348617554, 1.0841457843780518, 1.0841883420944214, 1.0842252969741821, 1.0842338800430298, 1.0844247341156006, 1.0404525995254517, 1.0405710935592651, 1.0405889749526978, 1.0407270193099976, 1.040727972984314, 1.0407445430755615, 1.0407450199127197, 1.040748953819275, 1.0407730340957642, 1.0407813787460327, 1.0408334732055664, 1.0408868789672852, 1.0408905744552612, 1.040900707244873, 1.0409371852874756, 1.7990429401397705, 21.196866989135742, 4.664948463439941, 2.51605486869812, 2.5161685943603516, 3.2332992553710938, 1.8010398149490356, 1.2371654510498047, 1.2369858026504517, 1.2369812726974487, 1.237230896949768, 1.2371788024902344, 1.2371938228607178, 1.2370305061340332, 1.236704707145691, 19.50450897216797, 1.986229658126831, 11.671088218688965, 4.994349479675293, 9.099344253540039, 10.806851387023926, 3.7915236949920654, 4.714275360107422, 28.21356201171875, 5.5866923332214355, 5.585813522338867, 5.585652828216553, 5.585696220397949, 9.353411674499512, 4.715465068817139, 3.8469650745391846, 17.371646881103516, 11.209342956542969, 3.8448710441589355, 4.713546276092529, 20.20112419128418, 3.8462631702423096, 3.8448750972747803, 13.205092430114746, 1.0404525995254517, 1.0405889749526978, 1.0405710935592651, 1.040748953819275, 1.0407270193099976, 1.0407450199127197, 1.0407730340957642, 1.0407813787460327, 1.040727972984314, 1.0408334732055664, 1.0408868789672852, 1.0407445430755615, 1.040900707244873, 1.0408905744552612, 1.0409913063049316, 1.0409468412399292, 1.0409574508666992, 1.0409371852874756, 1.041117548942566, 1.041155457496643, 1.0411099195480347, 1.0411577224731445, 1.0411760807037354, 1.041386365890503, 1.04135262966156, 1.0413867235183716, 1.0832208395004272, 1.0832974910736084, 1.0833154916763306, 1.083417296409607, 1.1969518661499023, 1.19680655002594, 1.1971275806427002, 1.1971495151519775, 2.3872201442718506, 14.99716567993164, 13.205092430114746, 5.343656063079834, 3.4261720180511475, 5.343480110168457, 7.441340923309326, 20.20112419128418, 1.869959831237793, 2.8543288707733154, 28.21356201171875, 6.286994457244873, 3.684532403945923, 3.6838624477386475, 2.8555691242218018, 2.8539540767669678, 9.353411674499512, 2.8545258045196533, 2.855311632156372, 2.85427188873291, 5.50496244430542, 5.411922454833984, 2.855520248413086, 2.8549227714538574, 2.85522198677063, 2.8553240299224854, 2.8561620712280273, 17.371646881103516, 3.793609857559204, 3.70268177986145, 1.0404525995254517, 1.0405710935592651, 1.0405889749526978, 1.0407270193099976, 1.040727972984314, 1.0407445430755615, 1.0407450199127197, 1.040748953819275, 1.0407730340957642, 1.0407813787460327, 1.0408334732055664, 1.0408868789672852, 1.0408905744552612, 1.040900707244873, 1.0409371852874756, 1.0409468412399292, 1.0409574508666992, 1.0409913063049316, 1.0411099195480347, 1.041117548942566, 1.041155457496643, 1.0411577224731445, 1.0411760807037354, 1.04135262966156, 1.041386365890503, 1.0413867235183716, 1.0832208395004272, 1.0832974910736084, 1.0833154916763306, 1.083417296409607, 1.2698935270309448, 1.2697820663452148, 1.270155906677246, 1.2701892852783203, 1.2703810930252075, 1.2701327800750732, 1.2701585292816162, 1.2701599597930908, 1.270424723625183, 1.2703591585159302, 1.270466923713684, 1.270247220993042, 1.2704267501831055, 1.270431637763977, 1.2703276872634888, 1.2703380584716797, 1.2705551385879517, 1.2705020904541016, 1.2703170776367188, 1.2703850269317627, 1.2704060077667236, 1.2702906131744385, 1.2704092264175415, 1.2702760696411133, 1.2703126668930054, 1.270544409751892, 1.2703815698623657, 1.2705820798873901, 1.2705641984939575, 1.270616054534912, 11.209342956542969, 28.21356201171875, 20.20112419128418, 3.074368476867676, 21.196866989135742, 17.371646881103516, 3.977787494659424, 7.548114776611328, 8.033775329589844, 9.082542419433594, 5.613480567932129, 3.076103687286377, 3.076953887939453, 3.076932191848755, 3.077083110809326, 3.0764169692993164, 3.7915236949920654, 3.8547821044921875, 2.1734018325805664, 3.029416084289551, 3.855705738067627, 2.173999309539795, 14.99716567993164, 4.713546276092529, 3.70268177986145, 4.606616020202637, 3.03049373626709, 2.174531936645508, 6.378910541534424, 1.0404525995254517, 1.0405710935592651, 1.0405889749526978, 1.0407270193099976, 1.040727972984314, 1.0407445430755615, 1.0407450199127197, 1.040748953819275, 1.0407730340957642, 1.0407813787460327, 1.0408334732055664, 1.0408868789672852, 1.0408905744552612, 1.040900707244873, 1.0409371852874756, 1.0409468412399292, 1.0409574508666992, 1.0409913063049316, 1.0411099195480347, 1.041117548942566, 1.041155457496643, 1.0411577224731445, 1.0411760807037354, 1.04135262966156, 1.041386365890503, 1.0413867235183716, 1.1820156574249268, 1.1824157238006592, 1.0832208395004272, 1.0832974910736084, 1.1825463771820068, 1.1826492547988892, 1.182781457901001, 1.1828222274780273, 1.1828645467758179, 1.182875394821167, 1.1828728914260864, 1.182893991470337, 1.1829187870025635, 1.1829382181167603, 1.18306303024292, 1.1830757856369019, 1.1831092834472656, 1.1831508874893188, 1.1831636428833008, 1.1832078695297241, 1.18326997756958, 1.18336820602417, 1.1834057569503784, 1.183426022529602, 1.1834790706634521, 1.1835230588912964, 1.183606505393982, 1.1836289167404175, 1.1837104558944702, 1.1837399005889893, 1.1966309547424316, 1.1965655088424683, 2.8103363513946533, 2.812201499938965, 2.81233549118042, 2.8127567768096924, 2.8128387928009033, 2.812873363494873, 2.8129334449768066, 2.8133385181427, 1.9978054761886597, 2.813455104827881, 2.8139326572418213, 2.814032793045044, 2.814089775085449, 2.8141632080078125, 2.814300298690796, 1.998398780822754, 2.814781427383423, 4.486917972564697, 3.716130495071411, 2.815070152282715, 5.342313289642334, 2.8151159286499023, 2.8152618408203125, 1.998603105545044, 20.20112419128418, 2.8155221939086914, 1.9987245798110962, 6.286994457244873, 5.343480110168457, 5.343656063079834, 17.371646881103516, 1.0404525995254517, 1.0405710935592651, 1.0405889749526978, 1.0407270193099976, 1.040727972984314, 1.0407445430755615, 1.0407450199127197, 1.040748953819275, 1.0407730340957642, 1.0407813787460327, 1.0408334732055664, 1.0408868789672852, 1.0408905744552612, 1.040900707244873, 1.0409371852874756, 1.0409468412399292, 1.0409574508666992, 1.0409913063049316, 1.0411099195480347, 1.041117548942566, 1.041155457496643, 1.0411577224731445, 1.0411760807037354, 1.04135262966156, 1.041386365890503, 1.0413867235183716, 1.0832208395004272, 1.0832974910736084, 1.0833154916763306, 1.083417296409607, 1.1964391469955444, 1.1965252161026, 1.1967189311981201, 1.1972101926803589, 1.1968094110488892, 1.1969597339630127, 1.196754813194275, 1.1967355012893677, 1.1970242261886597, 1.196877121925354, 1.1969211101531982, 1.196600317955017, 1.196821928024292, 1.1972668170928955, 1.1964815855026245, 1.196844220161438, 1.196711778640747, 1.1970707178115845, 1.1972260475158691, 1.196817398071289, 1.1965655088424683, 1.1971228122711182, 1.1966501474380493, 1.19680655002594, 1.1972161531448364, 1.1966309547424316, 1.1971328258514404, 1.1969311237335205, 1.1966907978057861, 1.197182536125183, 20.20112419128418, 3.6838624477386475, 5.343480110168457, 19.50450897216797, 3.684532403945923, 2.85427188873291, 11.671088218688965, 2.8548927307128906, 5.343656063079834, 4.713546276092529, 2.8543288707733154, 2.8561620712280273, 2.0263068675994873, 10.806851387023926, 2.8553240299224854, 2.8549227714538574, 4.715392112731934, 3.8451414108276367, 2.8539540767669678, 2.85522198677063, 2.8545258045196533, 2.855311632156372, 5.585696220397949, 5.585652828216553, 3.8448750972747803, 5.585813522338867, 4.714275360107422, 4.715465068817139, 2.855520248413086, 13.205092430114746, 7.441340923309326, 3.8448710441589355, 5.5866923332214355, 1.0404525995254517, 1.0405710935592651, 1.0405889749526978, 1.0407270193099976, 1.040727972984314, 1.0407445430755615, 1.0407450199127197, 1.040748953819275, 1.0407730340957642, 1.0407813787460327, 1.0408334732055664, 1.0408868789672852, 1.0408905744552612, 1.040900707244873, 1.0409371852874756, 1.0409468412399292, 1.0409574508666992, 1.0409913063049316, 1.0411099195480347, 1.041117548942566, 1.041155457496643, 1.0411577224731445, 1.0411760807037354, 1.04135262966156, 1.041386365890503, 1.0413867235183716, 1.0832208395004272, 1.0832974910736084, 1.0833154916763306, 1.083417296409607, 1.2240477800369263, 1.2242501974105835, 1.223815679550171, 1.2241889238357544, 1.2239406108856201, 1.2240978479385376, 1.2242690324783325, 1.2239043712615967, 1.22413170337677, 1.2239227294921875, 1.2239826917648315, 1.2238882780075073, 1.2244144678115845, 1.224164366722107, 1.224183440208435, 1.2244155406951904, 1.224363088607788, 1.224138617515564, 1.224191665649414, 1.2241624593734741, 1.2243843078613281, 1.2240487337112427, 1.224318027496338, 1.224212646484375, 1.2243107557296753, 1.2241264581680298, 1.2242101430892944, 1.2241318225860596, 1.224450945854187, 1.2242393493652344, 5.50496244430542, 2.9357895851135254, 2.9363813400268555, 9.353411674499512, 3.7946178913116455, 2.080148696899414, 2.9371416568756104, 3.793609857559204, 2.0807597637176514, 2.9373056888580322, 4.609995365142822, 6.378910541534424, 13.205092430114746, 2.9372637271881104, 4.555785179138184, 2.937828540802002, 2.0809996128082275, 5.411922454833984, 3.8401312828063965, 17.371646881103516, 28.21356201171875, 2.937891960144043, 2.85956072807312, 2.081479787826538, 7.652153968811035, 9.099344253540039, 5.342313289642334, 3.4261720180511475, 14.99716567993164, 5.613480567932129, 1.0404525995254517, 1.0405710935592651, 1.0405889749526978, 1.0407270193099976, 1.040727972984314, 1.0407445430755615, 1.0407450199127197, 1.040748953819275, 1.0407730340957642, 1.0407813787460327, 1.0408334732055664, 1.0408868789672852, 1.0408905744552612, 1.040900707244873, 1.0409371852874756, 1.0409468412399292, 1.0409574508666992, 1.0409913063049316, 1.0411099195480347, 1.041117548942566, 1.041155457496643, 1.0411577224731445, 1.0411760807037354, 1.04135262966156, 1.041386365890503, 1.0413867235183716, 1.0832208395004272, 1.0832974910736084, 1.0833154916763306, 1.083417296409607, 1.1629759073257446, 1.1631300449371338, 1.1632426977157593, 1.163245439529419, 1.1632803678512573, 1.1634488105773926, 1.16353178024292, 1.163611650466919, 1.163626790046692, 1.1639326810836792, 9.913007736206055, 4.344337463378906, 1.9591703414916992, 1.9593265056610107, 7.652153968811035, 3.428560972213745, 2.066270112991333, 2.0200653076171875, 2.019630193710327, 21.196866989135742, 14.99716567993164, 4.994349479675293, 28.21356201171875, 9.099344253540039, 17.371646881103516, 1.2709437608718872, 1.2708429098129272, 1.2702531814575195, 1.2704267501831055, 1.2708386182785034, 11.209342956542969, 20.20112419128418, 7.548114776611328, 9.082542419433594, 8.033775329589844, 1.0404525995254517, 1.0405710935592651, 1.0405889749526978, 1.0407270193099976, 1.040727972984314, 1.0407445430755615, 1.0407450199127197, 1.040748953819275, 1.0407730340957642, 1.0407813787460327, 1.0408334732055664, 1.0408868789672852, 1.0408905744552612, 1.040900707244873, 1.0409371852874756, 1.0409468412399292, 1.0409574508666992, 1.0409913063049316, 1.0411099195480347, 1.041117548942566, 1.041155457496643, 1.0411577224731445, 1.0411760807037354, 1.04135262966156, 1.041386365890503, 1.0413867235183716, 1.0832208395004272, 1.0832974910736084, 1.0833154916763306, 1.083417296409607, 1.2241318225860596, 1.2243263721466064, 1.2241624593734741, 1.224212646484375, 1.2239406108856201, 1.2239043712615967, 1.224183440208435, 1.224191665649414, 1.2238882780075073, 1.2244102954864502, 1.2243107557296753, 1.2240487337112427, 1.2242101430892944, 1.2246805429458618, 1.2239826917648315, 1.2243843078613281, 1.2241264581680298, 1.2239227294921875, 1.2241978645324707, 1.2241945266723633, 1.2244538068771362, 1.223815679550171, 1.224358081817627, 1.224363088607788, 1.2242393493652344, 1.22413170337677, 1.2244155406951904, 1.224138617515564, 5.50496244430542, 1.2246233224868774, 3.793609857559204, 2.9363813400268555, 2.9372637271881104, 2.9357895851135254, 2.9373056888580322, 2.937828540802002, 9.353411674499512, 6.378910541534424, 5.411922454833984, 2.937891960144043, 2.0809996128082275, 4.609995365142822, 2.080148696899414, 2.0807597637176514, 3.7946178913116455, 17.371646881103516, 4.555785179138184, 13.205092430114746, 3.8401312828063965, 3.4261720180511475, 2.9371416568756104, 2.081479787826538, 28.21356201171875, 7.652153968811035, 5.342313289642334, 9.099344253540039, 1.0404525995254517, 1.0405710935592651, 1.0405889749526978, 1.0407270193099976, 1.040727972984314, 1.0407445430755615, 1.0407450199127197, 1.040748953819275, 1.0407730340957642, 1.0407813787460327, 1.0408334732055664, 1.0408868789672852, 1.0408905744552612, 1.040900707244873, 1.0409371852874756, 1.0409468412399292, 1.0409574508666992, 1.0409913063049316, 1.0411099195480347, 1.041117548942566, 1.041155457496643, 1.0411577224731445, 1.0411760807037354, 1.04135262966156, 1.041386365890503, 1.0413867235183716, 1.0832208395004272, 1.0832974910736084, 1.0833154916763306, 1.083417296409607, 28.21356201171875, 1.2706817388534546, 1.2710435390472412, 1.2705641984939575, 1.2702531814575195, 1.2712775468826294, 1.2703826427459717, 1.2704964876174927, 1.2701599597930908, 1.2710778713226318, 1.2701585292816162, 1.2709437608718872, 1.2703276872634888, 1.2708899974822998, 1.2704464197158813, 1.270781397819519, 1.2703126668930054, 1.2702760696411133, 1.2706081867218018, 1.2706730365753174, 1.270591378211975, 1.270630955696106, 1.2704092264175415, 1.270155906677246, 1.2703012228012085, 1.2710665464401245, 1.2705020904541016, 1.2705820798873901, 1.2708429098129272, 1.270247220993042, 21.196866989135742, 11.209342956542969, 17.371646881103516, 7.548114776611328, 9.082542419433594, 20.20112419128418, 3.977787494659424, 8.033775329589844, 3.0764169692993164, 3.077083110809326, 3.076932191848755, 4.713546276092529, 5.613480567932129, 14.99716567993164, 3.076103687286377, 3.8547821044921875, 3.855705738067627, 3.7915236949920654, 3.076953887939453, 2.174531936645508, 3.074368476867676, 2.1734018325805664, 3.70268177986145, 2.173999309539795, 3.03049373626709, 6.378910541534424, 3.029416084289551, 4.606616020202637, 1.0404525995254517, 1.0405710935592651, 1.0405889749526978, 1.0407270193099976, 1.040727972984314, 1.0407445430755615, 1.0407450199127197, 1.040748953819275, 1.0407730340957642, 1.0407813787460327, 1.0408334732055664, 1.0408868789672852, 1.0408905744552612, 1.040900707244873, 1.0409371852874756, 1.0409468412399292, 1.0409574508666992, 1.0409913063049316, 1.0411099195480347, 1.041117548942566, 1.041155457496643, 1.0411577224731445, 1.0411760807037354, 1.04135262966156, 1.041386365890503, 1.0413867235183716, 1.0832208395004272, 1.0832974910736084, 1.0833154916763306, 1.083417296409607, 1.083441972732544, 28.21356201171875, 9.082542419433594, 20.20112419128418, 21.196866989135742, 17.371646881103516, 11.209342956542969, 7.548114776611328, 3.977787494659424, 5.613480567932129, 3.076932191848755, 8.033775329589844, 3.8547821044921875, 3.076953887939453, 14.99716567993164, 3.076103687286377, 4.606616020202637, 3.855705738067627, 4.713546276092529, 2.173999309539795, 3.077083110809326, 3.074368476867676, 3.7915236949920654, 3.0764169692993164, 3.70268177986145, 2.174531936645508, 2.1734018325805664, 3.029416084289551, 3.03049373626709, 3.618612289428711, 1.2709978818893433], \"loglift\": [30.0, 29.0, 28.0, 27.0, 26.0, 25.0, 24.0, 23.0, 22.0, 21.0, 20.0, 19.0, 18.0, 17.0, 16.0, 15.0, 14.0, 13.0, 12.0, 11.0, 10.0, 9.0, 8.0, 7.0, 6.0, 5.0, 4.0, 3.0, 2.0, 1.0, 1.5234999656677246, 1.4673999547958374, 1.4419000148773193, 1.4417999982833862, 1.44159996509552, 1.44159996509552, 1.441499948501587, 1.4414000511169434, 1.3919999599456787, 1.3918999433517456, 1.3916000127792358, 1.382599949836731, 1.260200023651123, 1.260200023651123, 1.26010000705719, 1.2599999904632568, 1.2599999904632568, 1.2599999904632568, 1.2599999904632568, 1.2599999904632568, 1.2599999904632568, 1.2598999738693237, 1.2598999738693237, 1.2598999738693237, 1.2598999738693237, 1.2598999738693237, 1.2598999738693237, 1.2598999738693237, 1.2598999738693237, 1.2598999738693237, 1.2323999404907227, 1.1970000267028809, 1.2158000469207764, 1.2158000469207764, 1.123900055885315, 1.2598999738693237, 0.8216999769210815, 0.9860000014305115, 0.7985000014305115, 0.7516999840736389, 1.0152000188827515, 0.680899977684021, 1.0598000288009644, 1.0595999956130981, 0.8590999841690063, 0.14090000092983246, 0.6407999992370605, 0.31520000100135803, 1.8553999662399292, 1.8438999652862549, 1.841599941253662, 1.8125, 1.812399983406067, 1.8122999668121338, 1.8121000528335571, 1.8009999990463257, 1.8008999824523926, 1.8007999658584595, 1.8006000518798828, 1.8006000518798828, 1.7841999530792236, 1.7841999530792236, 1.78410005569458, 1.78410005569458, 1.78410005569458, 1.78410005569458, 1.784000039100647, 1.7838000059127808, 1.7835999727249146, 1.568600058555603, 1.568600058555603, 1.56850004196167, 1.56850004196167, 1.56850004196167, 1.56850004196167, 1.56850004196167, 1.56850004196167, 1.56850004196167, 1.5684000253677368, 1.5684000253677368, 1.5684000253677368, 1.5683000087738037, 1.932800054550171, 1.9040000438690186, 1.9038000106811523, 1.8768999576568604, 1.8767999410629272, 1.8767000436782837, 1.8765000104904175, 1.8763999938964844, 1.8763999938964844, 1.8761999607086182, 1.8241000175476074, 1.8238999843597412, 1.823699951171875, 1.8235000371932983, 1.7092000246047974, 1.6861000061035156, 1.6859999895095825, 1.6857999563217163, 1.6857000589370728, 1.6857000589370728, 1.6857000589370728, 1.6857000589370728, 1.6857000589370728, 1.6857000589370728, 1.6856000423431396, 1.6856000423431396, 1.6856000423431396, 1.6856000423431396, 1.6856000423431396, 1.6856000423431396, 1.5561000108718872, 1.6085000038146973, 1.5484999418258667, 1.3844000101089478, 1.437399983406067, 1.5058000087738037, 0.8772000074386597, 1.3253999948501587, 0.6036999821662903, 0.8808000087738037, -0.10140000283718109, 0.5210999846458435, 0.34860000014305115, 0.16369999945163727, -1.1167999505996704, 2.1184000968933105, 2.1184000968933105, 2.088900089263916, 2.088900089263916, 2.060699939727783, 2.0606000423431396, 2.0606000423431396, 2.0604000091552734, 2.0604000091552734, 2.0604000091552734, 2.06030011177063, 2.06030011177063, 2.0601999759674072, 2.0601999759674072, 2.0601000785827637, 2.0599000453948975, 2.0060999393463135, 2.0058999061584473, 1.8638999462127686, 1.863800048828125, 1.863700032234192, 1.863700032234192, 1.863700032234192, 1.863700032234192, 1.863700032234192, 1.863700032234192, 1.863700032234192, 1.863700032234192, 1.8636000156402588, 1.8636000156402588, 1.4782999753952026, 1.8636000156402588, 1.8636000156402588, 1.1026999950408936, 0.8131999969482422, 1.8633999824523926, -0.22689999639987946, -0.6626999974250793, 1.3248000144958496, -0.25600001215934753, 2.150599956512451, 2.150599956512451, 2.150599956512451, 2.150599956512451, 2.150599956512451, 2.1505000591278076, 2.1505000591278076, 2.1505000591278076, 2.1505000591278076, 2.1505000591278076, 2.1505000591278076, 2.1505000591278076, 2.1505000591278076, 2.1505000591278076, 2.1505000591278076, 2.1505000591278076, 2.150399923324585, 2.150399923324585, 2.1503000259399414, 2.0954999923706055, 2.095400094985962, 2.095400094985962, 2.095400094985962, 2.0952999591827393, 1.967900037765503, 1.9508999586105347, 1.9508999586105347, 1.9507999420166016, 1.9507999420166016, 1.9507999420166016, 1.8722000122070312, 1.7932000160217285, 1.351099967956543, 1.5020999908447266, -0.06700000166893005, 2.3441998958587646, 2.2994000911712646, 2.254499912261963, 2.251499891281128, 2.2513999938964844, 2.1951000690460205, 2.1951000690460205, 2.1951000690460205, 2.194700002670288, 2.194700002670288, 2.0678000450134277, 2.047499895095825, 2.047499895095825, 2.047499895095825, 2.047499895095825, 2.047499895095825, 2.047499895095825, 2.047499895095825, 2.047499895095825, 2.046999931335449, 2.0469000339508057, 2.0469000339508057, 2.0469000339508057, 2.046799898147583, 2.046799898147583, 2.046799898147583, 2.046799898147583, 2.0467000007629395, 2.0467000007629395, 2.0327000617980957, 1.8329999446868896, 1.3425999879837036, 1.0605000257492065, 0.4323999881744385, 0.5590000152587891, 0.7883999943733215, 0.017000000923871994, -0.18690000474452972, -0.3734000027179718, 0.6754999756813049, 0.5927000045776367, 1.1273000240325928, 1.516800045967102, 1.496500015258789, 2.3055999279022217, 2.305500030517578, 2.3053998947143555, 2.155600070953369, 2.1554999351501465, 2.1552000045776367, 2.1552000045776367, 2.155100107192993, 2.155100107192993, 2.155100107192993, 2.1549999713897705, 2.1549999713897705, 2.1549999713897705, 2.1549999713897705, 2.154900074005127, 2.154900074005127, 2.154900074005127, 2.154900074005127, 2.1547999382019043, 2.1547999382019043, 2.1547999382019043, 2.1547999382019043, 2.1547999382019043, 2.1547000408172607, 2.1547000408172607, 2.1547000408172607, 2.1547000408172607, 2.1547000408172607, 2.1547000408172607, 2.154599905014038, 2.154599905014038, 1.3509000539779663, 0.7820000052452087, 0.8776000142097473, 0.02459999918937683, 0.730400025844574, 0.25529998540878296, 0.11230000108480453, 0.44749999046325684, 1.2451000213623047, 0.7452999949455261, 0.08609999716281891, 0.7663999795913696, 0.5677000284194946, 1.598099946975708, 0.9434999823570251, 0.9430999755859375, 1.5748000144958496, 1.5748000144958496, 1.5743999481201172, 1.5744999647140503, 2.765700101852417, 2.7311999797821045, 2.6981000900268555, 2.6981000900268555, 2.6359000205993652, 2.6356000900268555, 2.474299907684326, 2.4742000102996826, 2.4742000102996826, 2.4742000102996826, 2.474100112915039, 2.474100112915039, 2.4739999771118164, 2.4739999771118164, 2.473900079727173, 2.473900079727173, 2.47379994392395, 2.47379994392395, 2.47379994392395, 2.47379994392395, 2.4737000465393066, 2.020699977874756, 2.0127999782562256, 1.9916000366210938, 1.8680000305175781, 1.4127000570297241, 1.2691999673843384, 1.2217999696731567, 1.0382000207901, 0.987500011920929, 0.6437000036239624, -0.2985000014305115, -0.7835999727249146, 0.8661999702453613, 2.8856000900268555, 2.650599956512451, 2.650399923324585, 2.6503000259399414, 2.6503000259399414, 2.6503000259399414, 2.650099992752075, 2.6500000953674316, 2.6500000953674316, 2.6500000953674316, 2.6500000953674316, 2.6500000953674316, 2.649899959564209, 2.6498000621795654, 2.649600028991699, 2.6494998931884766, 2.6494998931884766, 2.6494998931884766, 2.6494998931884766, 2.649399995803833, 2.649399995803833, 2.649399995803833, 2.649399995803833, 2.649199962615967, 2.649199962615967, 2.649199962615967, 2.6491000652313232, 2.2016000747680664, 2.1275999546051025, 2.1263999938964844, 2.01990008354187, 1.3521000146865845, 0.027499999850988388, 1.3834999799728394, 2.0272998809814453, 2.09089994430542, 2.0636000633239746, 0.7407000064849854, 0.7405999898910522, 0.7404999732971191, 0.7404000163078308, 0.7404000163078308, 0.7404000163078308, 0.7404000163078308, 0.7404000163078308, 0.7404000163078308, 0.7404000163078308, 0.7402999997138977, 0.7402999997138977, 0.7402999997138977, 0.7401999831199646, 0.7401999831199646, 0.7401999831199646, 0.7401999831199646, 0.7401999831199646, 0.7400000095367432, 0.7400000095367432, 0.7400000095367432, 0.7400000095367432, 0.7400000095367432, 0.739799976348877, 0.739799976348877, 0.739799976348877, 0.7003999948501587, 0.7002999782562256, 0.7002999782562256, 0.7002000212669373, 0.6680999994277954, 0.6628999710083008, 0.6628000140190125, 0.6625999808311462, 0.6620000004768372, 0.6610999703407288, 0.6608999967575073, 0.6606000065803528, 0.6604999899864197, 0.6603999733924866, 0.6601999998092651, 0.6600000262260437, 0.6599000096321106, 0.6597999930381775, 0.659500002861023, 0.659500002861023, 0.6593999862670898, 0.6593000292778015, 0.6590999960899353, 0.6590999960899353, 0.6589000225067139, 0.6588000059127808, 0.6588000059127808, 0.6585999727249146, 0.6583999991416931, 0.6583999991416931, 0.65829998254776, 0.6581000089645386, 0.6581000089645386, 0.6578999757766724, 0.15700000524520874, 0.15449999272823334, -1.2569999694824219, -1.1861000061035156, 0.14920000731945038, -2.5208001136779785, -1.8912999629974365, -1.4194999933242798, -1.7668999433517456, -2.045599937438965, -1.4048000574111938, -0.7261000275611877, -0.9251000285148621, 0.07959999889135361, -0.25380000472068787, -0.5529000163078308, 0.7664999961853027, 0.7644000053405762, 0.7639999985694885, 0.7612000107765198, 0.7605999708175659, 0.7556999921798706, 0.7547000050544739, 0.7505999803543091, 0.7476999759674072, 0.7462000250816345, 0.7415000200271606, 0.7402999997138977, 0.739300012588501, 0.7390999794006348, 0.7337999939918518, 0.7192000150680542, 0.7190999984741211, 0.7190999984741211, 0.718999981880188, 0.718999981880188, 0.718999981880188, 0.718999981880188, 0.718999981880188, 0.7189000248908997, 0.7189000248908997, 0.7189000248908997, 0.7188000082969666, 0.7188000082969666, 0.7188000082969666, 0.7188000082969666, 0.33149999380111694, -1.5196000337600708, -0.42579999566078186, 0.036400001496076584, 0.03370000049471855, -0.1808999925851822, 0.28119999170303345, 0.5777999758720398, 0.5770999789237976, 0.57669997215271, 0.5764999985694885, 0.5758000016212463, 0.5756999850273132, 0.5758000016212463, 0.5759000182151794, -1.7553000450134277, 0.16439999639987946, -1.3767999410629272, -0.6514999866485596, -1.2400000095367432, -1.4020999670028687, -0.44510000944137573, -0.6467999815940857, -2.3046000003814697, -0.8230999708175659, -0.8245999813079834, -0.8248999714851379, -0.8288000226020813, -1.330899953842163, -0.6686999797821045, -0.4772000014781952, -1.9462000131607056, -1.5168999433517456, -0.47760000824928284, -0.6779999732971191, -2.114300012588501, -0.484499990940094, -0.48840001225471497, -1.7132999897003174, 0.7822999954223633, 0.7807000279426575, 0.7800999879837036, 0.7778000235557556, 0.7775999903678894, 0.7771999835968018, 0.7764000296592712, 0.7760000228881836, 0.7756999731063843, 0.7753999829292297, 0.7742000222206116, 0.7738000154495239, 0.7724000215530396, 0.7710000276565552, 0.7705000042915344, 0.7700999975204468, 0.7692000269889832, 0.7674999833106995, 0.7664999961853027, 0.7663000226020813, 0.7649000287055969, 0.7634999752044678, 0.7620000243186951, 0.7588000297546387, 0.7577000260353088, 0.7558000087738037, 0.6879000067710876, 0.6877999901771545, 0.6877999901771545, 0.6876999735832214, 0.6200000047683716, 0.6194999814033508, 0.6193000078201294, 0.6184999942779541, 0.026399999856948853, -1.6003999710083008, -1.5295000076293945, -0.7340999841690063, -0.329800009727478, -0.7680000066757202, -1.0815000534057617, -2.027600049972534, 0.21130000054836273, -0.19140000641345978, -2.370300054550171, -0.9452000260353088, -0.43950000405311584, -0.4410000145435333, -0.19979999959468842, -0.20000000298023224, -1.351699948310852, -0.20399999618530273, -0.20649999380111694, -0.20810000598430634, -0.8518000245094299, -0.8428000211715698, -0.21449999511241913, -0.21480000019073486, -0.2152000069618225, -0.21699999272823334, -0.21850000321865082, -2.0179998874664307, -0.5013999938964844, -0.48240000009536743, 0.7218999862670898, 0.7217000126838684, 0.7217000126838684, 0.7215999960899353, 0.7215999960899353, 0.7215999960899353, 0.7215999960899353, 0.7215999960899353, 0.7214999794960022, 0.7214999794960022, 0.7214999794960022, 0.7214000225067139, 0.7214000225067139, 0.7214000225067139, 0.7214000225067139, 0.7214000225067139, 0.7214000225067139, 0.7213000059127808, 0.7211999893188477, 0.7211999893188477, 0.7211999893188477, 0.7211999893188477, 0.7211999893188477, 0.7210000157356262, 0.7210000157356262, 0.7210000157356262, 0.6815999746322632, 0.6815000176429749, 0.6815000176429749, 0.6814000010490417, 0.5835999846458435, 0.5792999863624573, 0.5759999752044678, 0.5759000182151794, 0.573199987411499, 0.573199987411499, 0.573199987411499, 0.5724999904632568, 0.5720999836921692, 0.5717999935150146, 0.5715000033378601, 0.571399986743927, 0.5709999799728394, 0.5706999897956848, 0.5705000162124634, 0.5705000162124634, 0.5702999830245972, 0.5702999830245972, 0.5702000260353088, 0.5701000094413757, 0.5698000192642212, 0.5691999793052673, 0.569100022315979, 0.5688999891281128, 0.5687000155448914, 0.5684000253677368, 0.5683000087738037, 0.5670999884605408, 0.5669999718666077, 0.5669000148773193, -1.2869999408721924, -2.0831000804901123, -1.8122999668121338, -0.19609999656677246, -1.8775999546051025, -1.7367000579833984, -0.4512999951839447, -1.0362999439239502, -1.0952999591827393, -1.208899974822998, -0.7806000113487244, -0.2337000072002411, -0.23749999701976776, -0.23960000276565552, -0.23999999463558197, -0.24529999494552612, -0.4399000108242035, -0.4675000011920929, 0.06909999996423721, -0.24410000443458557, -0.4733000099658966, 0.06310000270605087, -1.7841999530792236, -0.6841999888420105, -0.45489999651908875, -0.6797999739646912, -0.27059999108314514, 0.051100000739097595, -1.007699966430664, 0.7170000076293945, 0.7168999910354614, 0.7168999910354614, 0.71670001745224, 0.71670001745224, 0.71670001745224, 0.71670001745224, 0.71670001745224, 0.71670001745224, 0.71670001745224, 0.7166000008583069, 0.7166000008583069, 0.7166000008583069, 0.7166000008583069, 0.7164999842643738, 0.7164999842643738, 0.7164999842643738, 0.7164999842643738, 0.7164000272750854, 0.7164000272750854, 0.7163000106811523, 0.7163000106811523, 0.7163000106811523, 0.7160999774932861, 0.7160999774932861, 0.7160999774932861, 0.6883999705314636, 0.679099977016449, 0.6766999959945679, 0.6765999794006348, 0.6759999990463257, 0.6735000014305115, 0.6705999970436096, 0.6696000099182129, 0.6686000227928162, 0.66839998960495, 0.6682999730110168, 0.667900025844574, 0.6674000024795532, 0.6668000221252441, 0.6639000177383423, 0.6636000275611877, 0.6628000140190125, 0.6618000268936157, 0.6615999937057495, 0.6603999733924866, 0.6589999794960022, 0.6567000150680542, 0.6557000279426575, 0.6553000211715698, 0.6539000272750854, 0.652899980545044, 0.6509000062942505, 0.6503999829292297, 0.6484000086784363, 0.6477000117301941, 0.623199999332428, 0.6230000257492065, -9.999999747378752e-05, -0.036400001496076584, -0.039000000804662704, -0.04740000143647194, -0.04910000041127205, -0.05009999871253967, -0.050700001418590546, -0.05909999832510948, 0.22259999811649323, -0.0617000013589859, -0.07109999656677246, -0.07339999824762344, -0.07440000027418137, -0.07559999823570251, -0.07859999686479568, 0.20970000326633453, -0.0885000005364418, -0.5001999735832214, -0.3386000096797943, -0.09449999779462814, -0.6646000146865845, -0.09560000151395798, -0.09860000014305115, 0.20520000159740448, -1.8765000104904175, -0.10419999808073044, 0.20260000228881836, -0.8701000213623047, -0.7200999855995178, -0.7285000085830688, -1.9545999765396118, 0.7275000214576721, 0.727400004863739, 0.727400004863739, 0.7271999716758728, 0.7271999716758728, 0.7271999716758728, 0.7271999716758728, 0.7271999716758728, 0.7271999716758728, 0.7271999716758728, 0.7271000146865845, 0.7271000146865845, 0.7271000146865845, 0.7271000146865845, 0.7269999980926514, 0.7269999980926514, 0.7269999980926514, 0.7269999980926514, 0.7268999814987183, 0.7268999814987183, 0.7268000245094299, 0.7268000245094299, 0.7268000245094299, 0.7265999913215637, 0.7265999913215637, 0.7265999913215637, 0.6872000098228455, 0.6870999932289124, 0.6870999932289124, 0.6869999766349792, 0.6384999752044678, 0.637499988079071, 0.6344000101089478, 0.633899986743927, 0.6319000124931335, 0.6304000020027161, 0.6302000284194946, 0.6299999952316284, 0.6276000142097473, 0.6273000240325928, 0.6270999908447266, 0.626800000667572, 0.6263999938964844, 0.6259999871253967, 0.6258000135421753, 0.6251000165939331, 0.6248999834060669, 0.6241999864578247, 0.6240000128746033, 0.6241999864578247, 0.6234999895095825, 0.6230000257492065, 0.6230000257492065, 0.6225000023841858, 0.6219000220298767, 0.621999979019165, 0.6208999752998352, 0.6205000281333923, 0.6205000281333923, 0.619700014591217, -1.809000015258789, -0.37709999084472656, -0.7174999713897705, -1.9013999700546265, -0.3953999876976013, -0.1632000058889389, -1.4450000524520874, -0.1678999960422516, -0.7412999868392944, -0.6298999786376953, -0.1687999963760376, -0.17319999635219574, 0.14149999618530273, -1.3992999792099, -0.17949999868869781, -0.17970000207424164, -0.6527000069618225, -0.4611999988555908, -0.18230000138282776, -0.1834000051021576, -0.1842000037431717, -0.18889999389648438, -0.8242999911308289, -0.8252999782562256, -0.4722000062465668, -0.8309999704360962, -0.6722999811172485, -0.6765000224113464, -0.19679999351501465, -1.6741000413894653, -1.1217999458312988, -0.48410001397132874, -0.855400025844574, 0.7340999841690063, 0.734000027179718, 0.7339000105857849, 0.7337999939918518, 0.7337999939918518, 0.7337999939918518, 0.7337999939918518, 0.7337999939918518, 0.7337999939918518, 0.7337999939918518, 0.7336999773979187, 0.7336999773979187, 0.7336999773979187, 0.7336000204086304, 0.7336000204086304, 0.7336000204086304, 0.7336000204086304, 0.7336000204086304, 0.7333999872207642, 0.7333999872207642, 0.7333999872207642, 0.7333999872207642, 0.7333999872207642, 0.7332000136375427, 0.7332000136375427, 0.7332000136375427, 0.6937999725341797, 0.6937000155448914, 0.6937000155448914, 0.6935999989509583, 0.6082000136375427, 0.605400025844574, 0.6050000190734863, 0.6047999858856201, 0.6047000288963318, 0.6037999987602234, 0.603600025177002, 0.6026999950408936, 0.6019999980926514, 0.6019999980926514, 0.6011000275611877, 0.600600004196167, 0.5996000170707703, 0.5986999869346619, 0.5981000065803528, 0.597599983215332, 0.5975000262260437, 0.5972999930381775, 0.5971999764442444, 0.597100019454956, 0.5968000292778015, 0.597000002861023, 0.5968000292778015, 0.5967000126838684, 0.5960999727249146, 0.5960999727249146, 0.5947999954223633, 0.5946999788284302, 0.5945000052452087, 0.5943999886512756, -0.7670999765396118, -0.20810000598430634, -0.2085999995470047, -1.2786999940872192, -0.45100000500679016, 0.10520000010728836, -0.21690000593662262, -0.46239998936653137, 0.10010000318288803, -0.22439999878406525, -0.6507999897003174, -0.9593999981880188, -1.6536999940872192, -0.2264000028371811, -0.6467000246047974, -0.23019999265670776, 0.09619999676942825, -0.8148000240325928, -0.49050000309944153, -1.9414000511169434, -2.4284000396728516, -0.24210000038146973, -0.2190999984741211, 0.08529999852180481, -1.1992000341415405, -1.3734999895095825, -0.8474000096321106, -0.4120999872684479, -1.8867000341415405, -0.9136000275611877, 0.7376999855041504, 0.7376000285148621, 0.7376000285148621, 0.7373999953269958, 0.7373999953269958, 0.7373999953269958, 0.7373999953269958, 0.7373999953269958, 0.7373999953269958, 0.7373999953269958, 0.7372999787330627, 0.7372999787330627, 0.7372999787330627, 0.7372999787330627, 0.7372000217437744, 0.7372000217437744, 0.7372000217437744, 0.7372000217437744, 0.7371000051498413, 0.7371000051498413, 0.7369999885559082, 0.7369999885559082, 0.7369999885559082, 0.7368000149726868, 0.7368000149726868, 0.7368000149726868, 0.6973999738693237, 0.6973000168800354, 0.6973000168800354, 0.6972000002861023, 0.6851999759674072, 0.6814000010490417, 0.678600013256073, 0.6784999966621399, 0.6776999831199646, 0.6735000014305115, 0.6714000105857849, 0.6693999767303467, 0.6690000295639038, 0.661300003528595, -1.0053999423980713, -0.4343999922275543, 0.19760000705718994, 0.193900004029274, -1.0017999410629272, -0.3359000086784363, 0.10130000114440918, 0.11949999630451202, 0.1193000003695488, -2.1531999111175537, -1.8450000286102295, -0.7858999967575073, -2.4888999462127686, -1.3890000581741333, -2.0295000076293945, 0.5407000184059143, 0.5407000184059143, 0.541100025177002, 0.5410000085830688, 0.5404999852180481, -1.61899995803833, -2.208699941635132, -1.2280999422073364, -1.4146000146865845, -1.2929999828338623, 0.739799976348877, 0.7397000193595886, 0.7397000193595886, 0.7394999861717224, 0.7394999861717224, 0.7394999861717224, 0.7394999861717224, 0.7394999861717224, 0.7394999861717224, 0.7394999861717224, 0.7394000291824341, 0.7394000291824341, 0.7394000291824341, 0.7394000291824341, 0.739300012588501, 0.739300012588501, 0.739300012588501, 0.739300012588501, 0.7391999959945679, 0.7391999959945679, 0.7390999794006348, 0.7390999794006348, 0.7390999794006348, 0.7389000058174133, 0.7389000058174133, 0.7389000058174133, 0.6995000243186951, 0.699400007724762, 0.699400007724762, 0.6992999911308289, 0.5967000126838684, 0.593999981880188, 0.593500018119812, 0.5934000015258789, 0.5928999781608582, 0.5928999781608582, 0.5924000144004822, 0.5924000144004822, 0.5925999879837036, 0.5920000076293945, 0.5920000076293945, 0.5920000076293945, 0.5914999842643738, 0.5906000137329102, 0.5910999774932861, 0.5906000137329102, 0.5907999873161316, 0.5906000137329102, 0.590399980545044, 0.5902000069618225, 0.5896999835968018, 0.5902000069618225, 0.5898000001907349, 0.5896999835968018, 0.5893999934196472, 0.5892000198364258, 0.588699996471405, 0.5888000130653381, -0.8230999708175659, 0.5878999829292297, -0.49320000410079956, -0.2492000013589859, -0.2526000142097473, -0.2549999952316284, -0.2554999887943268, -0.2587999999523163, -1.382099986076355, -1.0128999948501587, -0.8560000061988831, -0.26019999384880066, 0.0738999992609024, -0.7063999772071838, 0.07339999824762344, 0.07259999960660934, -0.5177000164985657, -2.0129001140594482, -0.6980000138282776, -1.7520999908447266, -0.5318999886512756, -0.4212999939918518, -0.2694000005722046, 0.06960000097751617, -2.5213000774383545, -1.2252999544143677, -0.8666999936103821, -1.406000018119812, 0.7426999807357788, 0.7426000237464905, 0.7426000237464905, 0.7423999905586243, 0.7423999905586243, 0.7423999905586243, 0.7423999905586243, 0.7423999905586243, 0.7423999905586243, 0.7423999905586243, 0.7422999739646912, 0.7422999739646912, 0.7422999739646912, 0.7422999739646912, 0.7422000169754028, 0.7422000169754028, 0.7422000169754028, 0.7422000169754028, 0.7421000003814697, 0.7421000003814697, 0.7419999837875366, 0.7419999837875366, 0.7419999837875366, 0.7418000102043152, 0.7418000102043152, 0.7418000102043152, 0.7024000287055969, 0.7024000287055969, 0.7023000121116638, 0.7021999955177307, -2.5185999870300293, 0.5457000136375427, 0.5454000234603882, 0.5457000136375427, 0.5460000038146973, 0.5450999736785889, 0.5457000136375427, 0.5455999970436096, 0.5458999872207642, 0.5450999736785889, 0.545799970626831, 0.5450999736785889, 0.5455999970436096, 0.5450999736785889, 0.5454999804496765, 0.545199990272522, 0.5454999804496765, 0.5455999970436096, 0.5453000068664551, 0.545199990272522, 0.545199990272522, 0.545199990272522, 0.5454000234603882, 0.5455999970436096, 0.5454000234603882, 0.5447999835014343, 0.545199990272522, 0.545199990272522, 0.5450000166893005, 0.5454000234603882, -2.24780011177063, -1.6174999475479126, -2.0566999912261963, -1.2232999801635742, -1.4092999696731567, -2.210099935531616, -0.5875999927520752, -1.2929999828338623, -0.334199994802475, -0.33469998836517334, -0.33469998836517334, -0.7617999911308289, -0.9366000294685364, -1.9192999601364136, -0.3352999985218048, -0.5609999895095825, -0.5612999796867371, -0.5446000099182129, -0.3359000086784363, 0.010499999858438969, -0.3357999920845032, 0.010599999688565731, -0.5224000215530396, 0.009600000455975533, -0.32260000705718994, -1.0674999952316284, -0.3230000138282776, -0.7422000169754028, 0.7432000041007996, 0.7430999875068665, 0.7430999875068665, 0.7429999709129333, 0.7429999709129333, 0.7429999709129333, 0.7429999709129333, 0.7429999709129333, 0.742900013923645, 0.742900013923645, 0.742900013923645, 0.7427999973297119, 0.7427999973297119, 0.7427999973297119, 0.7427999973297119, 0.7427999973297119, 0.7427999973297119, 0.7426999807357788, 0.7426000237464905, 0.7426000237464905, 0.7426000237464905, 0.7426000237464905, 0.7426000237464905, 0.7423999905586243, 0.7423999905586243, 0.7423999905586243, 0.703000009059906, 0.7028999924659729, 0.7028999924659729, 0.7027999758720398, 0.7027999758720398, -2.5429000854492188, -1.4143999814987183, -2.2137999534606934, -2.2625999450683594, -2.063800096511841, -1.6258000135421753, -1.233199954032898, -0.5935999751091003, -0.9386000037193298, -0.33739998936653137, -1.2973999977111816, -0.5636000037193298, -0.3384000062942505, -1.9222999811172485, -0.33820000290870667, -0.7422000169754028, -0.564300000667572, -0.7652000188827515, 0.00860000029206276, -0.33880001306533813, -0.33799999952316284, -0.5476999878883362, -0.33889999985694885, -0.5242000222206116, 0.007799999788403511, 0.008299999870359898, -0.3237999975681305, -0.32420000433921814, -0.501800000667572, 0.5443999767303467], \"logprob\": [30.0, 29.0, 28.0, 27.0, 26.0, 25.0, 24.0, 23.0, 22.0, 21.0, 20.0, 19.0, 18.0, 17.0, 16.0, 15.0, 14.0, 13.0, 12.0, 11.0, 10.0, 9.0, 8.0, 7.0, 6.0, 5.0, 4.0, 3.0, 2.0, 1.0, -3.0852999687194824, -4.1774001121521, -4.459700107574463, -4.459799766540527, -4.4608001708984375, -4.460299968719482, -4.460100173950195, -4.460400104522705, -4.8566999435424805, -4.857100009918213, -4.857600212097168, -3.6215999126434326, -5.525300025939941, -5.525700092315674, -5.5258002281188965, -5.525700092315674, -5.525899887084961, -5.525700092315674, -5.525700092315674, -5.526000022888184, -5.525700092315674, -5.526000022888184, -5.525599956512451, -5.526199817657471, -5.526199817657471, -5.526000022888184, -5.526199817657471, -5.526199817657471, -5.526299953460693, -5.525899887084961, -4.460400104522705, -3.6221001148223877, -4.46019983291626, -4.460400104522705, -4.176499843597412, -5.5258002281188965, -2.864000082015991, -3.955899953842163, -3.1731998920440674, -3.2681000232696533, -4.45989990234375, -3.489799976348877, -4.857100009918213, -4.857600212097168, -4.857399940490723, -4.176700115203857, -4.8572998046875, -4.857399940490723, -2.19950008392334, -2.7244999408721924, -2.8036999702453613, -3.492799997329712, -3.4928998947143555, -3.493000030517578, -3.493000030517578, -3.6728999614715576, -3.674099922180176, -3.6738998889923096, -3.674099922180176, -3.674499988555908, -3.894200086593628, -3.8940999507904053, -3.8940000534057617, -3.8940999507904053, -3.8945999145507812, -3.8940999507904053, -3.894200086593628, -3.8949999809265137, -3.89520001411438, -5.244100093841553, -5.243800163269043, -5.24429988861084, -5.243899822235107, -5.24429988861084, -5.243800163269043, -5.243800163269043, -5.24399995803833, -5.244200229644775, -5.243899822235107, -5.24399995803833, -5.24399995803833, -5.24399995803833, -3.3870999813079834, -3.7880001068115234, -3.7883999347686768, -4.071199893951416, -4.071599960327148, -4.071300029754639, -4.071400165557861, -4.071700096130371, -4.071400165557861, -4.072299957275391, -4.468599796295166, -4.468900203704834, -4.468800067901611, -4.469600200653076, -3.7881999015808105, -5.137199878692627, -5.13700008392334, -5.13730001449585, -5.137499809265137, -5.137499809265137, -5.137599945068359, -5.137599945068359, -5.137599945068359, -5.137400150299072, -5.137599945068359, -5.137700080871582, -5.137899875640869, -5.137599945068359, -5.137400150299072, -5.137599945068359, -3.2337000370025635, -4.071499824523926, -3.7883999347686768, -3.788100004196167, -4.071800231933594, -4.469099998474121, -3.567699909210205, -4.468699932098389, -3.566999912261963, -4.469099998474121, -3.7871999740600586, -4.469399929046631, -4.468699932098389, -5.136600017547607, -5.136600017547607, -3.2311999797821045, -3.2311999797821045, -3.632699966430664, -3.632499933242798, -3.9159998893737793, -3.9158999919891357, -3.9158999919891357, -3.916300058364868, -3.9159998893737793, -3.9165000915527344, -3.916100025177002, -3.9159998893737793, -3.916100025177002, -3.9165000915527344, -3.9161999225616455, -3.916100025177002, -4.313199996948242, -4.313799858093262, -4.981599807739258, -4.9816999435424805, -4.982100009918213, -4.98199987411499, -4.982100009918213, -4.9822001457214355, -4.9822001457214355, -4.982399940490723, -4.9822998046875, -4.981900215148926, -4.981900215148926, -4.98199987411499, -2.5415000915527344, -4.98199987411499, -4.98199987411499, -3.9156999588012695, -3.6317999362945557, -4.981900215148926, -3.9126999378204346, -4.980299949645996, -4.981200218200684, -4.981800079345703, -3.8397998809814453, -3.839900016784668, -3.8399999141693115, -3.8399999141693115, -3.840100049972534, -3.8403000831604004, -3.8403000831604004, -3.840399980545044, -3.840399980545044, -3.840399980545044, -3.84060001373291, -3.8406999111175537, -3.8408000469207764, -3.84089994430542, -3.84089994430542, -3.84089994430542, -3.841099977493286, -3.841099977493286, -3.841900110244751, -4.237199783325195, -4.237599849700928, -4.23769998550415, -4.237800121307373, -4.2382001876831055, -3.55649995803833, -4.906000137329102, -4.906000137329102, -4.906099796295166, -4.906099796295166, -4.906199932098389, -3.8406999111175537, -3.5566999912261963, -3.835900068283081, -4.237299919128418, -4.23769998550415, -2.387500047683716, -3.2572999000549316, -2.471400022506714, -3.758699893951416, -3.758699893951416, -4.156000137329102, -4.156000137329102, -4.156000137329102, -4.158199787139893, -4.158299922943115, -2.922800064086914, -4.824999809265137, -4.824999809265137, -4.824999809265137, -4.824999809265137, -4.824999809265137, -4.824999809265137, -4.824999809265137, -4.824999809265137, -4.826700210571289, -4.827099800109863, -4.827099800109863, -4.827199935913086, -4.827300071716309, -4.827499866485596, -4.827600002288818, -4.827600002288818, -4.827700138092041, -4.827899932861328, -3.760699987411499, -4.156000137329102, -3.4748001098632812, -3.758699893951416, -3.2534000873565674, -3.758699893951416, -4.153500080108643, -4.15369987487793, -4.158599853515625, -4.818299770355225, -4.822500228881836, -4.82450008392334, -4.824999809265137, -4.824999809265137, -4.824999809265137, -4.064599990844727, -4.064700126647949, -4.064599990844727, -4.732999801635742, -4.733099937438965, -4.733500003814697, -4.73330020904541, -4.73330020904541, -4.733399868011475, -4.73360013961792, -4.733399868011475, -4.73360013961792, -4.733699798583984, -4.733699798583984, -4.733500003814697, -4.73360013961792, -4.733699798583984, -4.733799934387207, -4.733799934387207, -4.733699798583984, -4.733799934387207, -4.733799934387207, -4.733799934387207, -4.733799934387207, -4.733699798583984, -4.733799934387207, -4.734000205993652, -4.73390007019043, -4.73390007019043, -4.73390007019043, -4.733799934387207, -3.6675000190734863, -3.6630001068115234, -4.064300060272217, -3.6612000465393066, -4.0594000816345215, -4.062300205230713, -4.0584001541137695, -4.724999904632568, -4.729800224304199, -4.729800224304199, -4.731200218200684, -4.7316999435424805, -4.732600212097168, -4.732699871063232, -4.732699871063232, -4.732900142669678, -4.732999801635742, -4.733099937438965, -4.73330020904541, -4.733500003814697, -2.7197000980377197, -3.120800018310547, -3.4047000408172607, -3.4047999382019043, -3.801300048828125, -3.8027000427246094, -4.470200061798096, -4.4704999923706055, -4.4704999923706055, -4.4704999923706055, -4.470600128173828, -4.470799922943115, -4.470900058746338, -4.471099853515625, -4.47130012512207, -4.47130012512207, -4.47160005569458, -4.47160005569458, -4.471700191497803, -4.471700191497803, -4.47189998626709, -1.9509999752044678, -3.404400110244751, -4.470200061798096, -4.47130012512207, -3.404599905014038, -4.470300197601318, -4.4710001945495605, -4.4710001945495605, -3.802299976348877, -3.8011999130249023, -4.469200134277344, -4.469399929046631, -4.470799922943115, -3.2697999477386475, -4.334799766540527, -4.33519983291626, -4.334700107574463, -4.33489990234375, -4.335599899291992, -4.33489990234375, -4.33519983291626, -4.3354997634887695, -4.335400104522705, -4.335299968719482, -4.335700035095215, -4.3358001708984375, -4.335599899291992, -4.336100101470947, -4.335899829864502, -4.3354997634887695, -4.3358001708984375, -4.336100101470947, -4.33620023727417, -4.33620023727417, -4.33620023727417, -4.335999965667725, -4.335999965667725, -4.336299896240234, -4.336400032043457, -4.336299896240234, -2.9855000972747803, -3.6665000915527344, -4.335400104522705, -2.2976999282836914, -3.666300058364868, -3.6582999229431152, -4.333000183105469, -4.333600044250488, -4.335899829864502, -4.335999965667725, -6.245200157165527, -6.245200157165527, -6.245200157165527, -6.245200157165527, -6.245200157165527, -6.245200157165527, -6.245200157165527, -6.245200157165527, -6.245200157165527, -6.245200157165527, -6.245200157165527, -6.245200157165527, -6.245200157165527, -6.245200157165527, -6.245200157165527, -6.245200157165527, -6.245200157165527, -6.245200157165527, -6.245200157165527, -6.245200157165527, -6.245200157165527, -6.245200157165527, -6.245200157165527, -6.245200157165527, -6.245200157165527, -6.245200157165527, -6.245200157165527, -6.245200157165527, -6.245200157165527, -6.245200157165527, -6.220900058746338, -6.225800037384033, -6.225900173187256, -6.226099967956543, -6.2266998291015625, -6.227499961853027, -6.227700233459473, -6.228000164031982, -6.228099822998047, -6.2281999588012695, -6.228499889373779, -6.228700160980225, -6.228799819946289, -6.228799819946289, -6.229000091552734, -6.2291998863220215, -6.2291998863220215, -6.229300022125244, -6.229499816894531, -6.229499816894531, -6.229700088500977, -6.229700088500977, -6.229899883270264, -6.230000019073486, -6.230100154876709, -6.230299949645996, -6.230299949645996, -6.230400085449219, -6.230500221252441, -6.230599880218506, -6.213200092315674, -6.215700149536133, -6.19890022277832, -6.204599857330322, -6.220799922943115, -6.206500053405762, -6.209000110626221, -6.2093000411987305, -6.2118000984191895, -6.216300010681152, -6.222099781036377, -6.224100112915039, -6.225500106811523, -6.228300094604492, -6.228700160980225, -6.228899955749512, -6.179100036621094, -6.181099891662598, -6.181600093841553, -6.184199810028076, -6.184800148010254, -6.189499855041504, -6.190499782562256, -6.194399833679199, -6.197299957275391, -6.198699951171875, -6.2032999992370605, -6.204400062561035, -6.205399990081787, -6.205599784851074, -6.210700035095215, -6.266600131988525, -6.266600131988525, -6.266600131988525, -6.266600131988525, -6.266600131988525, -6.266600131988525, -6.266600131988525, -6.266600131988525, -6.266600131988525, -6.266600131988525, -6.266600131988525, -6.266600131988525, -6.266600131988525, -6.266600131988525, -6.266600131988525, -6.106800079345703, -5.491300106048584, -5.911300182342529, -6.066500186920166, -6.0690999031066895, -6.032899856567383, -6.155900001525879, -6.234899997711182, -6.235799789428711, -6.236199855804443, -6.236199855804443, -6.2368998527526855, -6.236999988555908, -6.236999988555908, -6.237199783325195, -5.810200214385986, -6.174900054931641, -5.945199966430664, -6.068699836730957, -6.057400226593018, -6.047500133514404, -6.137800216674805, -6.121799945831299, -5.990300178527832, -6.128300189971924, -6.129899978637695, -6.130300045013428, -6.134200096130371, -6.12060022354126, -6.143400192260742, -6.1554999351501465, -6.1168999671936035, -6.125699996948242, -6.156400203704834, -6.15310001373291, -6.134099960327148, -6.163000106811523, -6.167200088500977, -6.158299922943115, -6.20359992980957, -6.205100059509277, -6.205699920654297, -6.207799911499023, -6.208000183105469, -6.208399772644043, -6.209199905395508, -6.20959997177124, -6.210000038146973, -6.210100173950195, -6.211299896240234, -6.2118000984191895, -6.2129998207092285, -6.214399814605713, -6.214900016784668, -6.2153000831604, -6.21619987487793, -6.217899799346924, -6.218800067901611, -6.218900203704834, -6.220300197601318, -6.221700191497803, -6.223199844360352, -6.226200103759766, -6.22730016708374, -6.2291998863220215, -6.257699966430664, -6.257699966430664, -6.257699966430664, -6.257699966430664, -6.2256999015808105, -6.22629976272583, -6.22629976272583, -6.227099895477295, -6.129000186920166, -5.918099880218506, -5.974400043487549, -6.083700180053711, -6.123899936676025, -6.117700099945068, -6.099899768829346, -6.047399997711182, -6.188300132751465, -6.168099880218506, -6.056099891662598, -6.132299900054932, -6.160799980163574, -6.162600040435791, -6.17609977722168, -6.176799774169922, -6.141499996185303, -6.180699825286865, -6.182799816131592, -6.184800148010254, -6.1717000007629395, -6.179699897766113, -6.190800189971924, -6.191299915313721, -6.1915998458862305, -6.193399906158447, -6.1946001052856445, -6.188700199127197, -6.193600177764893, -6.19890022277832, -6.263999938964844, -6.263999938964844, -6.263999938964844, -6.263999938964844, -6.263999938964844, -6.263999938964844, -6.263999938964844, -6.263999938964844, -6.263999938964844, -6.263999938964844, -6.263999938964844, -6.263999938964844, -6.263999938964844, -6.263999938964844, -6.263999938964844, -6.263999938964844, -6.263999938964844, -6.263999938964844, -6.263999938964844, -6.263999938964844, -6.263999938964844, -6.263999938964844, -6.263999938964844, -6.263999938964844, -6.263999938964844, -6.263999938964844, -6.263999938964844, -6.263999938964844, -6.263999938964844, -6.263999938964844, -6.203000068664551, -6.207399845123291, -6.210400104522705, -6.210400104522705, -6.2129998207092285, -6.213200092315674, -6.213200092315674, -6.213900089263916, -6.214000225067139, -6.214399814605713, -6.214700222015381, -6.215000152587891, -6.215199947357178, -6.215400218963623, -6.215700149536133, -6.215799808502197, -6.215799808502197, -6.21589994430542, -6.216000080108643, -6.216100215911865, -6.216400146484375, -6.2170000076293945, -6.217100143432617, -6.217400074005127, -6.217599868774414, -6.217700004577637, -6.217899799346924, -6.218999862670898, -6.218999862670898, -6.219099998474121, -5.8958001136779785, -5.768799781799316, -5.832099914550781, -6.098599910736084, -5.849299907684326, -5.907400131225586, -6.096099853515625, -6.040500164031982, -6.037199974060059, -6.02810001373291, -6.080900192260742, -6.1356000900268555, -6.139100074768066, -6.141200065612793, -6.141499996185303, -6.14709997177124, -6.132599830627441, -6.143700122833252, -6.180200099945068, -6.161200046539307, -6.1493000984191895, -6.185800075531006, -6.101799964904785, -6.159299850463867, -6.17140007019043, -6.177800178527832, -6.187399864196777, -6.1975998878479, -6.180300235748291, -6.268899917602539, -6.268899917602539, -6.268899917602539, -6.268899917602539, -6.268899917602539, -6.268899917602539, -6.268899917602539, -6.268899917602539, -6.268899917602539, -6.268899917602539, -6.268899917602539, -6.268899917602539, -6.268899917602539, -6.268899917602539, -6.268899917602539, -6.268899917602539, -6.268899917602539, -6.268899917602539, -6.268899917602539, -6.268899917602539, -6.268899917602539, -6.268899917602539, -6.268899917602539, -6.268899917602539, -6.268899917602539, -6.268899917602539, -6.169899940490723, -6.178899765014648, -6.268899917602539, -6.268899917602539, -6.18179988861084, -6.184299945831299, -6.187099933624268, -6.188000202178955, -6.189000129699707, -6.189199924468994, -6.189199924468994, -6.189700126647949, -6.190199851989746, -6.190700054168701, -6.19350004196167, -6.19379997253418, -6.1946001052856445, -6.195499897003174, -6.195799827575684, -6.196899890899658, -6.198299884796143, -6.200500011444092, -6.201399803161621, -6.201900005340576, -6.203100204467773, -6.204100131988525, -6.206099987030029, -6.206600189208984, -6.208499908447266, -6.209099769592285, -6.222799777984619, -6.223100185394287, -5.992300033569336, -6.027900218963623, -6.0304999351501465, -6.03879976272583, -6.04040002822876, -6.041399955749512, -6.041999816894531, -6.05019998550415, -6.110799789428711, -6.052800178527832, -6.062099933624268, -6.064300060272217, -6.065299987792969, -6.066500186920166, -6.069399833679199, -6.1234002113342285, -6.079100131988525, -6.024499893188477, -6.051400184631348, -6.085100173950195, -6.014500141143799, -6.08620023727417, -6.089099884033203, -6.127900123596191, -5.896299839019775, -6.094600200653076, -6.13040018081665, -6.057199954986572, -6.069799900054932, -6.078100204467773, -6.125199794769287, -6.258399963378906, -6.258399963378906, -6.258399963378906, -6.258399963378906, -6.258399963378906, -6.258399963378906, -6.258399963378906, -6.258399963378906, -6.258399963378906, -6.258399963378906, -6.258399963378906, -6.258399963378906, -6.258399963378906, -6.258399963378906, -6.258399963378906, -6.258399963378906, -6.258399963378906, -6.258399963378906, -6.258399963378906, -6.258399963378906, -6.258399963378906, -6.258399963378906, -6.258399963378906, -6.258399963378906, -6.258399963378906, -6.258399963378906, -6.258399963378906, -6.258399963378906, -6.258399963378906, -6.258399963378906, -6.207699775695801, -6.208600044250488, -6.21150016784668, -6.211699962615967, -6.214000225067139, -6.215400218963623, -6.215700149536133, -6.21589994430542, -6.218100070953369, -6.218500137329102, -6.218699932098389, -6.219299793243408, -6.2195000648498535, -6.2195000648498535, -6.220399856567383, -6.220799922943115, -6.221099853515625, -6.221499919891357, -6.22160005569458, -6.221700191497803, -6.222599983215332, -6.222700119018555, -6.223100185394287, -6.223400115966797, -6.223700046539307, -6.223999977111816, -6.224699974060059, -6.225200176239014, -6.225500106811523, -6.225800037384033, -5.828800201416016, -6.098700046539307, -6.067200183868408, -5.956299781799316, -6.116799831390381, -6.139999866485596, -6.013500213623047, -6.144400119781494, -6.091000080108643, -6.105000019073486, -6.145500183105469, -6.1493000984191895, -6.1778998374938965, -6.044600009918213, -6.155900001525879, -6.156099796295166, -6.127399921417236, -6.139900207519531, -6.15910005569458, -6.159800052642822, -6.160799980163574, -6.165200233459473, -6.1296000480651855, -6.1305999755859375, -6.151000022888184, -6.136300086975098, -6.147200107574463, -6.151199817657471, -6.173099994659424, -6.11899995803833, -6.1402997970581055, -6.162899971008301, -6.1605000495910645, -6.251800060272217, -6.251800060272217, -6.251800060272217, -6.251800060272217, -6.251800060272217, -6.251800060272217, -6.251800060272217, -6.251800060272217, -6.251800060272217, -6.251800060272217, -6.251800060272217, -6.251800060272217, -6.251800060272217, -6.251800060272217, -6.251800060272217, -6.251800060272217, -6.251800060272217, -6.251800060272217, -6.251800060272217, -6.251800060272217, -6.251800060272217, -6.251800060272217, -6.251800060272217, -6.251800060272217, -6.251800060272217, -6.251800060272217, -6.251800060272217, -6.251800060272217, -6.251800060272217, -6.251800060272217, -6.215199947357178, -6.217800140380859, -6.218500137329102, -6.218500137329102, -6.218800067901611, -6.2195000648498535, -6.219600200653076, -6.220799922943115, -6.221399784088135, -6.221399784088135, -6.222300052642822, -6.222899913787842, -6.223499774932861, -6.224599838256836, -6.225100040435791, -6.225399971008301, -6.225599765777588, -6.22599983215332, -6.226099967956543, -6.226099967956543, -6.22629976272583, -6.226399898529053, -6.226399898529053, -6.226500034332275, -6.227099895477295, -6.227200031280518, -6.228499889373779, -6.228600025177002, -6.228600025177002, -6.228799819946289, -6.086999893188477, -6.156700134277344, -6.1570000648498535, -6.06850004196167, -6.14300012588501, -6.187900066375732, -6.164999961853027, -6.154699802398682, -6.192699909210205, -6.172399997711182, -6.148099899291992, -6.131899833679199, -6.098700046539307, -6.174499988555908, -6.155900001525879, -6.178100109100342, -6.196499824523926, -6.151700019836426, -6.170499801635742, -6.112100124359131, -6.114099979400635, -6.189899921417236, -6.193999767303467, -6.207200050354004, -6.189700126647949, -6.190899848937988, -6.197299957275391, -6.206200122833252, -6.204400062561035, -6.214000225067139, -6.248199939727783, -6.248199939727783, -6.248199939727783, -6.248199939727783, -6.248199939727783, -6.248199939727783, -6.248199939727783, -6.248199939727783, -6.248199939727783, -6.248199939727783, -6.248199939727783, -6.248199939727783, -6.248199939727783, -6.248199939727783, -6.248199939727783, -6.248199939727783, -6.248199939727783, -6.248199939727783, -6.248199939727783, -6.248199939727783, -6.248199939727783, -6.248199939727783, -6.248199939727783, -6.248199939727783, -6.248199939727783, -6.248199939727783, -6.248199939727783, -6.248199939727783, -6.248199939727783, -6.248199939727783, -6.189300060272217, -6.192999839782715, -6.195700168609619, -6.195799827575684, -6.196599960327148, -6.200699806213379, -6.202700138092041, -6.204599857330322, -6.204999923706055, -6.212399959564209, -5.737100124359131, -5.991099834442139, -6.155399799346924, -6.158999919891357, -5.992300033569336, -6.129300117492676, -6.198500156402588, -6.202899932861328, -6.2032999992370605, -6.124899864196777, -6.162700176239014, -6.203100204467773, -6.174699783325195, -6.206299781799316, -6.200200080871582, -6.245100021362305, -6.245200157165527, -6.245200157165527, -6.245200157165527, -6.245299816131592, -6.227799892425537, -6.228499889373779, -6.2322998046875, -6.233799934387207, -6.234799861907959, -6.246099948883057, -6.246099948883057, -6.246099948883057, -6.246099948883057, -6.246099948883057, -6.246099948883057, -6.246099948883057, -6.246099948883057, -6.246099948883057, -6.246099948883057, -6.246099948883057, -6.246099948883057, -6.246099948883057, -6.246099948883057, -6.246099948883057, -6.246099948883057, -6.246099948883057, -6.246099948883057, -6.246099948883057, -6.246099948883057, -6.246099948883057, -6.246099948883057, -6.246099948883057, -6.246099948883057, -6.246099948883057, -6.246099948883057, -6.246099948883057, -6.246099948883057, -6.246099948883057, -6.246099948883057, -6.226600170135498, -6.2291998863220215, -6.229800224304199, -6.229800224304199, -6.230500221252441, -6.230599880218506, -6.230800151824951, -6.230800151824951, -6.230899810791016, -6.231100082397461, -6.231200218200684, -6.231400012969971, -6.231800079345703, -6.2322001457214355, -6.2322998046875, -6.232500076293945, -6.232500076293945, -6.232800006866455, -6.232900142669678, -6.233099937438965, -6.23330020904541, -6.233399868011475, -6.233399868011475, -6.233399868011475, -6.233799934387207, -6.234099864959717, -6.234399795532227, -6.234499931335449, -6.14300012588501, -6.235000133514404, -6.185400009155273, -6.197500228881836, -6.200699806213379, -6.203499794006348, -6.20359992980957, -6.206600189208984, -6.171899795532227, -6.185400009155273, -6.19290018081665, -6.208000183105469, -6.218800067901611, -6.203700065612793, -6.219699859619141, -6.220200061798096, -6.20959997177124, -6.183599948883057, -6.207200050354004, -6.197000026702881, -6.211999893188477, -6.215400218963623, -6.21750020980835, -6.222899913787842, -6.206999778747559, -6.215799808502197, -6.216599941253662, -6.223299980163574, -6.243199825286865, -6.243199825286865, -6.243199825286865, -6.243199825286865, -6.243199825286865, -6.243199825286865, -6.243199825286865, -6.243199825286865, -6.243199825286865, -6.243199825286865, -6.243199825286865, -6.243199825286865, -6.243199825286865, -6.243199825286865, -6.243199825286865, -6.243199825286865, -6.243199825286865, -6.243199825286865, -6.243199825286865, -6.243199825286865, -6.243199825286865, -6.243199825286865, -6.243199825286865, -6.243199825286865, -6.243199825286865, -6.243199825286865, -6.243199825286865, -6.243199825286865, -6.243199825286865, -6.243199825286865, -6.204400062561035, -6.240300178527832, -6.240300178527832, -6.240300178527832, -6.240300178527832, -6.2403998374938965, -6.240499973297119, -6.240499973297119, -6.240499973297119, -6.240499973297119, -6.240600109100342, -6.240600109100342, -6.240699768066406, -6.240699768066406, -6.240699768066406, -6.240699768066406, -6.240699768066406, -6.240699768066406, -6.240799903869629, -6.240799903869629, -6.240799903869629, -6.240799903869629, -6.240799903869629, -6.240799903869629, -6.240900039672852, -6.240900039672852, -6.240900039672852, -6.240900039672852, -6.240900039672852, -6.240900039672852, -6.2195000648498535, -6.22629976272583, -6.227399826049805, -6.227499961853027, -6.228499889373779, -6.229899883270264, -6.232399940490723, -6.234899997711182, -6.235899925231934, -6.236299991607666, -6.236299991607666, -6.2368998527526855, -6.236999988555908, -6.236999988555908, -6.237199783325195, -6.237199783325195, -6.237299919128418, -6.237400054931641, -6.237500190734863, -6.2382001876831055, -6.23829984664917, -6.23859977722168, -6.238800048828125, -6.239299774169922, -6.2393999099731445, -6.239999771118164, -6.240200042724609, -6.240300178527832, -6.242599964141846, -6.242599964141846, -6.242599964141846, -6.242599964141846, -6.242599964141846, -6.242599964141846, -6.242599964141846, -6.242599964141846, -6.242599964141846, -6.242599964141846, -6.242599964141846, -6.242599964141846, -6.242599964141846, -6.242599964141846, -6.242599964141846, -6.242599964141846, -6.242599964141846, -6.242599964141846, -6.242599964141846, -6.242599964141846, -6.242599964141846, -6.242599964141846, -6.242599964141846, -6.242599964141846, -6.242599964141846, -6.242599964141846, -6.242599964141846, -6.242599964141846, -6.242599964141846, -6.242599964141846, -6.242599964141846, -6.228700160980225, -6.23360013961792, -6.23360013961792, -6.234300136566162, -6.234499931335449, -6.234600067138672, -6.237500190734863, -6.238399982452393, -6.238900184631348, -6.238999843597412, -6.239299774169922, -6.239799976348877, -6.239999771118164, -6.239999771118164, -6.239999771118164, -6.240300178527832, -6.240300178527832, -6.240300178527832, -6.2403998374938965, -6.2403998374938965, -6.2403998374938965, -6.240499973297119, -6.240600109100342, -6.240699768066406, -6.240900039672852, -6.240900039672852, -6.241000175476074, -6.241099834442139, -6.241199970245361, -6.241300106048584]}, \"token.table\": {\"Topic\": [2, 5, 4, 4, 8, 8, 8, 1, 2, 4, 4, 4, 4, 4, 4, 1, 1, 3, 8, 7, 3, 2, 4, 6, 7, 7, 1, 1, 9, 5, 5, 4, 3, 3, 3, 3, 8, 3, 5, 7, 9, 4, 4, 5, 3, 4, 6, 7, 8, 9, 5, 5, 1, 7, 7, 3, 1, 6, 8, 5, 4, 5, 4, 5, 9, 3, 1, 9, 2, 9, 1, 4, 8, 9, 3, 2, 1, 5, 4, 4, 5, 3, 6, 4, 3, 5, 2, 2, 3, 6, 1, 7, 5, 3, 5, 9, 2, 9, 1, 3, 6, 7, 1, 3, 3, 5, 1, 1, 3, 7, 6, 1, 1, 1, 6, 7, 4, 8, 2, 5, 7, 8, 7, 7, 3, 7, 1, 5, 3, 1, 5, 1, 8, 5, 2, 1, 8, 2, 7, 1, 3, 7, 3, 6, 7, 3, 6, 6, 3, 8, 9, 8, 4, 8, 3, 1, 3, 6, 7, 7, 1, 1, 2, 2, 1, 5, 5, 4, 1, 7, 1, 1, 8, 1, 3, 4, 6, 7, 9, 1, 5, 8, 3, 7, 8, 4, 1, 1, 9, 7, 7, 1, 4, 4, 5, 5, 4, 9, 4, 9, 4, 7, 3, 2, 9, 4, 1, 1, 1, 3, 9, 5, 3, 1, 3, 8, 1, 1, 1, 1, 5, 6, 3, 3, 9, 3, 8, 7, 1, 1, 7, 8, 7, 3, 4, 7, 2, 2, 2, 2, 7, 3, 7, 7, 4, 5, 1, 1, 8, 4, 6, 1, 3, 6, 7, 8, 3, 3, 1, 8, 4, 1, 3, 5, 1, 6, 5, 6, 6, 1, 7, 4, 1, 6, 2, 2, 1, 3, 9, 7, 4, 1, 6, 8, 1, 9, 5, 5, 9, 3, 4, 3, 2, 4, 4, 6, 9, 1, 6, 6, 5, 1, 6, 8, 1, 6, 3, 1, 5, 5, 6, 7, 7, 5, 1, 3, 4, 1, 5, 7, 2, 5, 7, 7, 7, 7, 3, 2, 1, 3, 7, 7, 2, 1, 3, 5, 6, 7, 8, 8, 3, 7, 1, 3, 4, 1, 3, 4, 6, 7, 8, 9, 4, 7, 7, 9, 1, 3, 6, 7, 9, 5, 5, 5, 3, 3, 3, 5, 1, 4, 5, 2, 1, 7, 2, 3, 9, 4, 3, 4, 2, 2, 2, 9, 5, 5, 2, 1, 1, 2, 2, 1, 7, 6, 6, 4, 9, 1, 1, 1, 7, 4, 4, 3, 5, 1, 6, 7, 8, 4, 1, 3, 7, 3, 1, 1, 8, 5, 2, 2, 2, 9, 5, 5, 6, 9, 1, 1, 9, 4, 6, 2, 3, 5, 3, 3, 1, 9, 7, 3, 1, 3, 5, 9, 7, 3, 7, 3, 5, 7, 7, 4, 1, 3, 5, 4, 8, 7, 4, 1, 2, 3, 1, 4, 7, 9, 8, 3, 7, 1, 1, 1, 6, 6, 1, 9, 7, 9, 9, 9, 5, 3, 1, 7, 5, 9, 4, 3, 6, 6, 3, 7, 1, 2, 9, 2, 4, 3, 6, 4, 4, 1, 1, 3, 4, 1, 3, 6, 7, 6, 6, 5, 5, 1, 4, 4, 4, 4, 5, 1, 1, 5, 6, 6, 6, 6, 8, 2, 3, 3, 1, 3, 1, 1, 1, 3, 1, 3, 1, 1], \"Freq\": [1.0403459072113037, 0.8455592393875122, 0.8354769349098206, 0.8352357149124146, 0.9223102331161499, 0.7948592901229858, 0.5558511018753052, 0.7869791388511658, 1.0399703979492188, 1.051056146621704, 0.8358135223388672, 0.8353175520896912, 0.8354554772377014, 1.0506733655929565, 1.0506688356399536, 0.9202163815498352, 0.21950113773345947, 0.6585034132003784, 0.21950113773345947, 0.872085690498352, 0.9614697098731995, 0.8951247334480286, 0.8356065154075623, 1.0087755918502808, 0.8719887137413025, 0.871987521648407, 0.7870408296585083, 0.7871643900871277, 0.96086585521698, 0.8453527092933655, 0.8453975915908813, 0.8353328704833984, 0.8168515563011169, 0.7905934453010559, 0.8168710470199585, 0.8168613910675049, 0.9227981567382812, 0.8167545199394226, 0.31811702251434326, 0.15905851125717163, 0.4771755337715149, 0.9870173335075378, 0.8355569243431091, 0.7104135155677795, 0.3029134273529053, 0.22718508541584015, 0.07572835683822632, 0.15145671367645264, 0.07572835683822632, 0.07572835683822632, 1.0006989240646362, 0.8451915979385376, 0.7873192429542542, 0.8721152544021606, 0.8720080256462097, 0.8168636560440063, 0.7873033285140991, 0.8581166863441467, 0.9223851561546326, 0.7111865878105164, 1.0510351657867432, 1.0008012056350708, 0.8352641463279724, 0.710749089717865, 0.9604523181915283, 0.816716194152832, 0.7870641946792603, 0.9608667492866516, 0.8080659508705139, 0.960258424282074, 0.7872077822685242, 0.8356661200523376, 0.5690510869026184, 0.5690510869026184, 0.8169615864753723, 0.8081086874008179, 0.7871499061584473, 0.710450291633606, 1.0509626865386963, 0.8355306386947632, 0.7116585969924927, 0.49460670351982117, 0.49460670351982117, 0.835783839225769, 0.8169054985046387, 0.8449663519859314, 0.8082807660102844, 0.8082565665245056, 0.49503350257873535, 0.49503350257873535, 0.7866103053092957, 0.8719907999038696, 0.7106908559799194, 0.9082714319229126, 0.7110015153884888, 0.9606227874755859, 0.8080727458000183, 0.9602580666542053, 0.34191077947616577, 0.34191077947616577, 0.34191077947616577, 0.8720816373825073, 0.78691166639328, 1.021871566772461, 0.8165776133537292, 0.7108697295188904, 0.786733865737915, 0.7867823839187622, 0.8166906833648682, 0.8720390796661377, 0.8591561913490295, 0.7871650457382202, 0.786827564239502, 0.6223723888397217, 0.24894896149635315, 0.24894896149635315, 0.814362645149231, 0.9223489761352539, 1.0402737855911255, 0.7110462188720703, 0.8719011545181274, 0.9221479296684265, 0.8720182180404663, 0.8719210624694824, 0.8170573115348816, 0.87200528383255, 0.7872214317321777, 0.8447801470756531, 0.8168265223503113, 0.7868819832801819, 0.7106562256813049, 0.7912386059761047, 0.2637462019920349, 0.7107237577438354, 0.8079350590705872, 0.7871479392051697, 0.9225790500640869, 0.8080529570579529, 0.8719338774681091, 0.636463463306427, 0.21215449273586273, 0.21215449273586273, 0.9611873626708984, 0.8581172227859497, 0.8719892501831055, 0.26136431097984314, 0.7840929627418518, 0.9207387566566467, 0.816781222820282, 0.8574585914611816, 0.960846483707428, 0.9278448224067688, 0.9357197880744934, 0.9229843616485596, 1.0213587284088135, 0.43415817618370056, 0.21707908809185028, 0.21707908809185028, 0.21707908809185028, 0.8720320463180542, 0.9199634790420532, 0.7872446179389954, 0.8082906007766724, 0.8482726216316223, 0.7868168950080872, 0.8448011875152588, 0.8450186848640442, 0.835593044757843, 0.48784005641937256, 0.48784005641937256, 0.7869112491607666, 0.9752597212791443, 0.9228304624557495, 0.2667170763015747, 0.06667926907539368, 0.06667926907539368, 0.13335853815078735, 0.13335853815078735, 0.333396315574646, 0.2763490378856659, 0.5526980757713318, 0.2763490378856659, 0.6414771676063538, 0.21382571756839752, 0.10691285878419876, 1.051173210144043, 0.7870575189590454, 0.514460027217865, 0.514460027217865, 0.8720500469207764, 0.8720093369483948, 0.7872148752212524, 0.8356795310974121, 1.050706386566162, 0.7110254764556885, 0.7108991742134094, 0.8353362083435059, 0.9607064127922058, 0.5347708463668823, 0.5347708463668823, 0.8356377482414246, 0.8719103932380676, 1.0214011669158936, 0.8476086854934692, 0.9605063199996948, 1.050816535949707, 0.7870904207229614, 0.9813242554664612, 0.5401490330696106, 0.2700745165348053, 0.2700745165348053, 0.8454053401947021, 0.8168337345123291, 0.18477723002433777, 0.5543316602706909, 0.18477723002433777, 0.7874675989151001, 0.7867833971977234, 0.9751604199409485, 0.7872050404548645, 0.8454647064208984, 0.8596658110618591, 1.0216656923294067, 0.5837418437004089, 0.29187092185020447, 0.961076557636261, 0.9223175048828125, 0.8720553517341614, 0.7867550849914551, 0.7782540917396545, 0.2594180405139923, 0.5552347898483276, 0.8719713687896729, 0.8167756795883179, 0.8352153897285461, 0.8720096349716187, 1.039699912071228, 0.8084167242050171, 0.8084197044372559, 0.8082779049873352, 0.8720704913139343, 0.8169009685516357, 0.8720889687538147, 0.8719373941421509, 0.8350591063499451, 0.8453665971755981, 0.7871653437614441, 0.7867408990859985, 0.9230054020881653, 0.10029299557209015, 0.9026369452476501, 0.10989803075790405, 0.2197960615158081, 0.32969409227371216, 0.10989803075790405, 0.2197960615158081, 0.8168655633926392, 0.8169281482696533, 0.7869173884391785, 0.9231727719306946, 0.8354049921035767, 0.7866398692131042, 0.8170050382614136, 0.8451600074768066, 0.48396381735801697, 0.48396381735801697, 0.5047224760055542, 0.5047224760055542, 1.0208402872085571, 0.48791757225990295, 0.48791757225990295, 0.8355548977851868, 0.7872304320335388, 1.0189061164855957, 0.8486179709434509, 0.8079409599304199, 0.26040777564048767, 0.7812232971191406, 0.960768461227417, 0.871942937374115, 0.8357533812522888, 0.4717678427696228, 0.0943535640835762, 0.4245910346508026, 0.787284255027771, 0.8377945423126221, 0.8451156616210938, 0.8452543616294861, 0.9607191681861877, 0.4869832992553711, 0.4869832992553711, 0.8168837428092957, 0.8079653978347778, 0.8355076313018799, 1.0505787134170532, 0.8593820929527283, 0.961010754108429, 0.786879301071167, 0.8596637845039368, 1.020758867263794, 0.7103477716445923, 0.7870105504989624, 0.8581222295761108, 0.9230921268463135, 0.6606079936027527, 0.22020265460014343, 0.8168139457702637, 0.7868501543998718, 0.8450042605400085, 0.8448593616485596, 0.8598630428314209, 1.0385396480560303, 0.8718647956848145, 0.7111527323722839, 0.7867615818977356, 0.8167169094085693, 0.8354699611663818, 0.26909711956977844, 0.5381942391395569, 0.8719730973243713, 0.8951435685157776, 1.0006381273269653, 0.872161865234375, 0.871953010559082, 0.8721156120300293, 0.8721094727516174, 0.8167370557785034, 1.0397807359695435, 0.7125703692436218, 0.17814259231090546, 0.17814259231090546, 0.8720430731773376, 0.8951505422592163, 0.40295547246932983, 0.23026026785373688, 0.11513013392686844, 0.11513013392686844, 0.11513013392686844, 0.05756506696343422, 0.9231074452400208, 0.499193012714386, 0.499193012714386, 0.6601932048797607, 0.33009660243988037, 0.8356180787086487, 0.49621525406837463, 0.10633184015750885, 0.10633184015750885, 0.14177578687667847, 0.07088789343833923, 0.03544394671916962, 0.03544394671916962, 0.8355493545532227, 0.8721224069595337, 0.549487292766571, 0.549487292766571, 0.7870519161224365, 0.4951401650905609, 0.4951401650905609, 0.8720963001251221, 0.9608501195907593, 0.8453842997550964, 0.8449349403381348, 0.8457262516021729, 0.8167511820793152, 0.816692590713501, 0.8170680403709412, 0.8460124731063843, 0.7869845032691956, 0.8357009291648865, 0.7107093930244446, 0.8079660534858704, 0.48791712522506714, 0.48791712522506714, 0.808354377746582, 0.8169055581092834, 0.9604713320732117, 1.0508276224136353, 0.8170331120491028, 0.8356230854988098, 1.0396873950958252, 1.0403469800949097, 0.8482857346534729, 0.9608242511749268, 0.8448753952980042, 0.8452007174491882, 0.8484867215156555, 0.7871370911598206, 0.9749902486801147, 0.9741337299346924, 0.9424999356269836, 0.4878493845462799, 0.4878493845462799, 1.0188878774642944, 0.8581293225288391, 0.8142145872116089, 0.9608165621757507, 0.7870197892189026, 0.7869606018066406, 0.7780676484107971, 0.25935590267181396, 0.8353205323219299, 0.9356889724731445, 0.8171164989471436, 0.7105347514152527, 0.20022627711296082, 0.20022627711296082, 0.20022627711296082, 0.40045255422592163, 0.8353121280670166, 0.31353315711021423, 0.47029975056648254, 0.15676657855510712, 0.8168850541114807, 0.7870351076126099, 0.5034664273262024, 0.5034664273262024, 0.8450455069541931, 0.8083875179290771, 1.0396728515625, 0.8080112338066101, 0.9609942436218262, 0.8453993797302246, 0.845632791519165, 0.5833351016044617, 0.29166755080223083, 0.9749971032142639, 0.7873024344444275, 0.9606638550758362, 0.8355461955070496, 0.8593932390213013, 0.8949839472770691, 0.2228701263666153, 0.6686103940010071, 1.0211403369903564, 0.8167197108268738, 0.7870938777923584, 0.9608505964279175, 0.8720114231109619, 0.816539466381073, 0.7871383428573608, 0.37436965107917786, 0.561554491519928, 0.960654079914093, 0.8718898296356201, 0.8168532252311707, 0.8723305463790894, 0.6507598757743835, 0.21691995859146118, 1.0383203029632568, 0.871924638748169, 0.8352944850921631, 0.6599584817886353, 0.3299792408943176, 0.7104618549346924, 0.8355199098587036, 0.9225327968597412, 0.8719596266746521, 0.8357252478599548, 0.787134051322937, 0.8086004853248596, 0.7908034920692444, 0.1343843787908554, 0.4031531512737274, 0.2687687575817108, 0.1343843787908554, 0.7948952317237854, 0.6994081139564514, 0.3497040569782257, 0.7873049378395081, 0.7872483134269714, 0.7867355346679688, 0.8581296801567078, 0.859513521194458, 0.7870246767997742, 0.9606727361679077, 0.871985912322998, 0.9611201882362366, 0.9604692459106445, 0.9605133533477783, 0.8454355597496033, 1.0211623907089233, 0.7871629595756531, 1.0384865999221802, 1.0010985136032104, 0.9607157707214355, 1.0505965948104858, 0.8169609308242798, 0.7244986891746521, 0.8581298589706421, 0.8169090747833252, 0.8719816207885742, 0.7871984839439392, 1.0398242473602295, 0.960289478302002, 0.8082993030548096, 0.8354499936103821, 0.8170450329780579, 0.8594522476196289, 0.8352752327919006, 1.0503605604171753, 0.7867584824562073, 0.44551974534988403, 0.04950219392776489, 0.4950219690799713, 1.0055841207504272, 0.35466232895851135, 0.7093246579170227, 0.8720510005950928, 0.8597490787506104, 0.859637975692749, 1.0003066062927246, 0.8452304601669312, 0.7869899868965149, 0.8353291749954224, 0.9873474836349487, 0.8353725075721741, 0.8352710604667664, 0.7110167145729065, 0.9197381734848022, 0.7871789336204529, 0.8452634811401367, 0.85812908411026, 0.7245070338249207, 1.0188822746276855, 0.8581268787384033, 0.9226714968681335, 0.9253389239311218, 0.9608548879623413, 1.0213441848754883, 0.975810170173645, 0.8168673515319824, 0.7871248722076416, 0.7871920466423035, 0.7949004769325256, 0.13248340785503387, 0.7871121764183044, 0.8167861104011536, 0.7875367403030396, 0.974949300289154], \"Term\": [\"absolutamente\", \"abusewhen\", \"accountant\", \"affairsmanager\", \"againi\", \"againid\", \"againlove\", \"alarmscaution\", \"algo\", \"alla\", \"allaint\", \"allgolden\", \"alltwentyfive\", \"allwe\", \"allyeah\", \"alone\", \"always\", \"always\", \"always\", \"ambut\", \"amissin\", \"amor\", \"amrich\", \"angel\", \"anyhowsee\", \"anywayim\", \"armwedde\", \"around\", \"arounyou\", \"artist\", \"aspiration\", \"ass\", \"awake\", \"away\", \"awayi\", \"awaylast\", \"awayout\", \"babymissin\", \"back\", \"back\", \"back\", \"backooh\", \"backstagepassno\", \"bad\", \"be\", \"be\", \"be\", \"be\", \"be\", \"be\", \"beauty\", \"become\", \"beenyou\", \"beginbut\", \"beginsanyway\", \"bein\", \"bell\", \"bemmm\", \"betterbut\", \"betterpull\", \"beverlywe\", \"birth\", \"blow\", \"boot\", \"boutonniere\", \"boy\", \"break\", \"buck\", \"busca\", \"button\", \"bybut\", \"cadillac\", \"call\", \"call\", \"callin\", \"caminarpor\", \"care\", \"careful\", \"carrich\", \"carwe\", \"chair\", \"change\", \"change\", \"chick\", \"choke\", \"chronically\", \"cielo\", \"cielodonde\", \"close\", \"close\", \"coffeeor\", \"cold\", \"combatmy\", \"come\", \"comebackdollar\", \"comin\", \"completoen\", \"coquettesmister\", \"could\", \"could\", \"could\", \"couple\", \"create\", \"cry\", \"crywhy\", \"cubic\", \"dad\", \"damn\", \"day\", \"dear\", \"deceive\", \"didlie\", \"distancei\", \"do\", \"do\", \"do\", \"dollar\", \"dolove\", \"donde\", \"doorshould\", \"dopewhy\", \"doubtim\", \"downward\", \"dragonwhy\", \"dreami\", \"dreamoh\", \"drink\", \"drug\", \"easy\", \"eati\", \"electriclay\", \"else\", \"else\", \"embrace\", \"encontrarcarino\", \"end\", \"endit\", \"espiritu\", \"even\", \"ever\", \"ever\", \"ever\", \"everytime\", \"exist\", \"explain\", \"eye\", \"eye\", \"eyesangel\", \"facebreak\", \"fall\", \"falland\", \"fallin\", \"famous\", \"fasti\", \"fear\", \"feel\", \"feel\", \"feel\", \"feel\", \"feeli\", \"feeling\", \"feelingswhen\", \"felizdonde\", \"fin\", \"fixnow\", \"forless\", \"forshould\", \"fortune\", \"friend\", \"friend\", \"front\", \"fuck\", \"gentle\", \"get\", \"get\", \"get\", \"get\", \"get\", \"get\", \"give\", \"give\", \"give\", \"go\", \"go\", \"go\", \"golden\", \"gonei\", \"good\", \"good\", \"graduallyyou\", \"gram\", \"guess\", \"guitar\", \"guitarsa\", \"guttereasier\", \"habit\", \"hairblew\", \"hairgotta\", \"half\", \"half\", \"handle\", \"happeningand\", \"hard\", \"haresin\", \"harlem\", \"harley\", \"harmi\", \"hate\", \"have\", \"have\", \"have\", \"head\", \"hear\", \"heart\", \"heart\", \"heart\", \"heartyou\", \"herall\", \"herand\", \"hershe\", \"hide\", \"high\", \"hold\", \"home\", \"home\", \"homerefrain\", \"hope\", \"howi\", \"hurt\", \"ill\", \"ill\", \"inchorusfallin\", \"ininto\", \"instead\", \"insurance\", \"introduce\", \"ireal\", \"iredonde\", \"ireeh\", \"ireiresolo\", \"itfeel\", \"iti\", \"itthen\", \"itwithout\", \"jumpercable\", \"juxtapose\", \"keep\", \"kill\", \"kinda\", \"kiss\", \"kiss\", \"know\", \"know\", \"know\", \"know\", \"know\", \"knowall\", \"knowi\", \"knowif\", \"lastwhen\", \"lawyer\", \"learn\", \"leave\", \"less\", \"let\", \"let\", \"life\", \"life\", \"light\", \"like\", \"like\", \"limo\", \"lipsand\", \"live\", \"llegarelo\", \"lleveno\", \"lonely\", \"lonely\", \"look\", \"lose\", \"lot\", \"love\", \"love\", \"love\", \"lowyoure\", \"lulus\", \"machineyou\", \"magazinewhen\", \"mailman\", \"make\", \"make\", \"makecause\", \"marque\", \"marshall\", \"maserati\", \"matter\", \"may\", \"mean\", \"meangel\", \"meoh\", \"metricyou\", \"mind\", \"mindnow\", \"mineto\", \"miss\", \"miss\", \"missin\", \"mixedalway\", \"monsterfrom\", \"monstershould\", \"moon\", \"mother\", \"motherit\", \"mount\", \"move\", \"moveit\", \"mtvto\", \"much\", \"much\", \"muchbut\", \"mundo\", \"music\", \"must\", \"myselfi\", \"myselfthe\", \"myselfwhy\", \"namei\", \"necesitarey\", \"need\", \"need\", \"need\", \"needlethen\", \"nena\", \"never\", \"never\", \"never\", \"never\", \"never\", \"never\", \"new\", \"next\", \"next\", \"night\", \"night\", \"nightbig\", \"not\", \"not\", \"not\", \"not\", \"not\", \"not\", \"not\", \"nothing\", \"nowand\", \"old\", \"old\", \"oneveryone\", \"open\", \"open\", \"otherevery\", \"otis\", \"page\", \"pageantive\", \"pageantlately\", \"pain\", \"paineverytime\", \"paini\", \"participant\", \"pass\", \"past\", \"pence\", \"pensar\", \"people\", \"people\", \"perdere\", \"perfectsomeone\", \"pet\", \"place\", \"plan\", \"platinum\", \"por\", \"porquestu\", \"pregunta\", \"press\", \"pride\", \"prostitutewith\", \"puedo\", \"put\", \"putnobody\", \"que\", \"quiera\", \"real\", \"real\", \"realize\", \"really\", \"record\", \"regret\", \"rememberdo\", \"reminiscingbut\", \"right\", \"right\", \"rock\", \"rocknroll\", \"roomi\", \"run\", \"s\", \"s\", \"s\", \"s\", \"saturday\", \"say\", \"say\", \"say\", \"saywont\", \"seatstill\", \"seem\", \"seem\", \"sense\", \"sentir\", \"seque\", \"ser\", \"sew\", \"sex\", \"shameid\", \"shine\", \"shine\", \"shiti\", \"shitoh\", \"shoe\", \"showrich\", \"sighfor\", \"sin\", \"sit\", \"sit\", \"sittin\", \"sleep\", \"sleepor\", \"slick\", \"smack\", \"smile\", \"soand\", \"something\", \"something\", \"somewhere\", \"sooni\", \"soonit\", \"spiral\", \"stand\", \"stand\", \"start\", \"startedit\", \"startwentyseven\", \"still\", \"still\", \"street\", \"stripon\", \"strong\", \"suck\", \"sunset\", \"tape\", \"te\", \"tear\", \"tell\", \"tell\", \"tell\", \"tell\", \"there\", \"think\", \"think\", \"thisjust\", \"thought\", \"time\", \"timenever\", \"timewell\", \"tired\", \"tonight\", \"tonightlike\", \"town\", \"towngotta\", \"townyou\", \"trace\", \"trueim\", \"trust\", \"try\", \"turn\", \"tuxedo\", \"twentyfive\", \"twois\", \"uhhuhi\", \"uhhuhmy\", \"upthere\", \"use\", \"usedbut\", \"vere\", \"vestcause\", \"vida\", \"video\", \"voice\", \"wait\", \"wall\", \"wallplatinum\", \"wanna\", \"want\", \"want\", \"want\", \"watch\", \"way\", \"way\", \"weekthen\", \"wideno\", \"wing\", \"wish\", \"wished\", \"wonder\", \"wonderful\", \"wonderfulaint\", \"wonderfulrich\", \"wonderfulwe\", \"work\", \"would\", \"wrongso\", \"xerox\", \"yahow\", \"yanever\", \"yanow\", \"yeahthing\", \"yesterdaylove\", \"yo\", \"youbaby\", \"youbut\", \"youdont\", \"youeverytime\", \"youfriend\", \"youfucke\", \"youi\", \"youi\", \"youif\", \"youone\", \"yourealize\", \"youyou\"]}, \"R\": 30, \"lambda.step\": 0.01, \"plot.opts\": {\"xlab\": \"PC1\", \"ylab\": \"PC2\"}, \"topic.order\": [13, 11, 4, 3, 6, 18, 20, 19, 17, 14, 2, 5, 15, 12, 1, 8, 9, 16, 7, 10]};\n",
       "\n",
       "function LDAvis_load_lib(url, callback){\n",
       "  var s = document.createElement('script');\n",
       "  s.src = url;\n",
       "  s.async = true;\n",
       "  s.onreadystatechange = s.onload = callback;\n",
       "  s.onerror = function(){console.warn(\"failed to load library \" + url);};\n",
       "  document.getElementsByTagName(\"head\")[0].appendChild(s);\n",
       "}\n",
       "\n",
       "if(typeof(LDAvis) !== \"undefined\"){\n",
       "   // already loaded: just create the visualization\n",
       "   !function(LDAvis){\n",
       "       new LDAvis(\"#\" + \"ldavis_el13979112355293728439400925\", ldavis_el13979112355293728439400925_data);\n",
       "   }(LDAvis);\n",
       "}else if(typeof define === \"function\" && define.amd){\n",
       "   // require.js is available: use it to load d3/LDAvis\n",
       "   require.config({paths: {d3: \"https://cdnjs.cloudflare.com/ajax/libs/d3/3.5.5/d3.min\"}});\n",
       "   require([\"d3\"], function(d3){\n",
       "      window.d3 = d3;\n",
       "      LDAvis_load_lib(\"https://cdn.rawgit.com/bmabey/pyLDAvis/files/ldavis.v1.0.0.js\", function(){\n",
       "        new LDAvis(\"#\" + \"ldavis_el13979112355293728439400925\", ldavis_el13979112355293728439400925_data);\n",
       "      });\n",
       "    });\n",
       "}else{\n",
       "    // require.js not available: dynamically load d3 & LDAvis\n",
       "    LDAvis_load_lib(\"https://cdnjs.cloudflare.com/ajax/libs/d3/3.5.5/d3.min.js\", function(){\n",
       "         LDAvis_load_lib(\"https://cdn.rawgit.com/bmabey/pyLDAvis/files/ldavis.v1.0.0.js\", function(){\n",
       "                 new LDAvis(\"#\" + \"ldavis_el13979112355293728439400925\", ldavis_el13979112355293728439400925_data);\n",
       "            })\n",
       "         });\n",
       "}\n",
       "</script>"
      ],
      "text/plain": [
       "PreparedData(topic_coordinates=              x         y  topics  cluster       Freq\n",
       "topic                                                \n",
       "12     0.154471 -0.062118       1        1  21.132719\n",
       "10    -0.334648 -0.153389       2        1  15.360187\n",
       "3      0.115941  0.006146       3        1  13.578619\n",
       "2      0.019993 -0.065618       4        1  11.269720\n",
       "5     -0.091111  0.305806       5        1  10.289701\n",
       "17     0.122196 -0.068878       6        1   9.274593\n",
       "19     0.081533 -0.022479       7        1   8.248555\n",
       "18     0.075592 -0.026104       8        1   5.845137\n",
       "16     0.025680  0.006993       9        1   4.779803\n",
       "13    -0.015606  0.007661      10        1   0.021354\n",
       "1     -0.017620  0.001679      11        1   0.021022\n",
       "4     -0.013420  0.006624      12        1   0.020971\n",
       "14    -0.009614  0.004969      13        1   0.020888\n",
       "11    -0.017482  0.017964      14        1   0.020112\n",
       "0     -0.020628  0.003014      15        1   0.020072\n",
       "7     -0.013762  0.007715      16        1   0.019994\n",
       "8     -0.014292  0.006689      17        1   0.019961\n",
       "15    -0.015245  0.007867      18        1   0.018925\n",
       "6     -0.015897  0.007689      19        1   0.018853\n",
       "9     -0.016081  0.007771      20        1   0.018810, topic_info=    Category       Freq    Term      Total  loglift  logprob\n",
       "160  Default  19.000000     que  19.000000  30.0000  30.0000\n",
       "195  Default  21.000000    love  21.000000  29.0000  29.0000\n",
       "296  Default  20.000000    want  20.000000  28.0000  28.0000\n",
       "161  Default  11.000000  quiera  11.000000  27.0000  27.0000\n",
       "434  Default   9.000000   angel   9.000000  26.0000  26.0000\n",
       "..       ...        ...     ...        ...      ...      ...\n",
       "203  Topic20   0.000412   alone   2.173402   0.0083  -6.2409\n",
       "265  Topic20   0.000412   night   3.029416  -0.3238  -6.2410\n",
       "283  Topic20   0.000412   still   3.030494  -0.3242  -6.2411\n",
       "189  Topic20   0.000412    give   3.618612  -0.5018  -6.2412\n",
       "240  Topic20   0.000412  herall   1.270998   0.5444  -6.2413\n",
       "\n",
       "[1268 rows x 6 columns], token_table=      Topic      Freq            Term\n",
       "term                                 \n",
       "113       2  1.040346   absolutamente\n",
       "448       5  0.845559       abusewhen\n",
       "310       4  0.835477      accountant\n",
       "311       4  0.835236  affairsmanager\n",
       "175       8  0.922310          againi\n",
       "...     ...       ...             ...\n",
       "306       3  0.132483            youi\n",
       "307       1  0.787112           youif\n",
       "433       3  0.816786          youone\n",
       "308       1  0.787537      yourealize\n",
       "309       1  0.974949          youyou\n",
       "\n",
       "[540 rows x 3 columns], R=30, lambda_step=0.01, plot_opts={'xlab': 'PC1', 'ylab': 'PC2'}, topic_order=[13, 11, 4, 3, 6, 18, 20, 19, 17, 14, 2, 5, 15, 12, 1, 8, 9, 16, 7, 10])"
      ]
     },
     "execution_count": 23,
     "metadata": {},
     "output_type": "execute_result"
    }
   ],
   "source": [
    "# Visualize the topics\n",
    "pyLDAvis.enable_notebook()\n",
    "vis = pyLDAvis.gensim.prepare(lda_model, corpus, id2word)\n",
    "vis"
   ]
  },
  {
   "cell_type": "code",
   "execution_count": 24,
   "metadata": {},
   "outputs": [],
   "source": [
    "mallet_path = '/Users/neha/Downloads/mallet-2.0.8/bin/mallet' # update this path\n",
    "ldamallet = gensim.models.wrappers.LdaMallet(mallet_path, corpus=corpus, num_topics=20, id2word=id2word)"
   ]
  },
  {
   "cell_type": "code",
   "execution_count": 25,
   "metadata": {},
   "outputs": [
    {
     "name": "stdout",
     "output_type": "stream",
     "text": [
      "[(8,\n",
      "  [('stand', 0.14285714285714285),\n",
      "   ('betterpull', 0.08571428571428572),\n",
      "   ('cry', 0.08571428571428572),\n",
      "   ('youbaby', 0.05714285714285714),\n",
      "   ('town', 0.02857142857142857),\n",
      "   ('magazinewhen', 0.02857142857142857),\n",
      "   ('pageantive', 0.02857142857142857),\n",
      "   ('saywont', 0.02857142857142857),\n",
      "   ('make', 0.02857142857142857),\n",
      "   ('graduallyyou', 0.02857142857142857)]),\n",
      " (7,\n",
      "  [('shiti', 0.1111111111111111),\n",
      "   ('wallplatinum', 0.07407407407407407),\n",
      "   ('meoh', 0.07407407407407407),\n",
      "   ('trust', 0.037037037037037035),\n",
      "   ('wanna', 0.037037037037037035),\n",
      "   ('perdere', 0.037037037037037035),\n",
      "   ('heartyou', 0.037037037037037035),\n",
      "   ('porqueseh', 0.037037037037037035),\n",
      "   ('howi', 0.037037037037037035),\n",
      "   ('soand', 0.037037037037037035)]),\n",
      " (6,\n",
      "  [('back', 0.2608695652173913),\n",
      "   ('stop', 0.043478260869565216),\n",
      "   ('friend', 0.043478260869565216),\n",
      "   ('sonare', 0.043478260869565216),\n",
      "   ('trace', 0.043478260869565216),\n",
      "   ('payit', 0.043478260869565216),\n",
      "   ('ancho', 0.043478260869565216),\n",
      "   ('dad', 0.043478260869565216),\n",
      "   ('coquettesmister', 0.043478260869565216),\n",
      "   ('slick', 0.043478260869565216)]),\n",
      " (9,\n",
      "  [('ill', 0.125),\n",
      "   ('youdont', 0.09375),\n",
      "   ('putnobody', 0.09375),\n",
      "   ('care', 0.03125),\n",
      "   ('heart', 0.03125),\n",
      "   ('bite', 0.03125),\n",
      "   ('herall', 0.03125),\n",
      "   ('bridge', 0.03125),\n",
      "   ('tuxedo', 0.03125),\n",
      "   ('bybut', 0.03125)]),\n",
      " (10,\n",
      "  [('start', 0.08),\n",
      "   ('amissin', 0.08),\n",
      "   ('nowand', 0.04),\n",
      "   ('knowi', 0.04),\n",
      "   ('hairgotta', 0.04),\n",
      "   ('happeningand', 0.04),\n",
      "   ('guess', 0.04),\n",
      "   ('nightbut', 0.04),\n",
      "   ('wrongso', 0.04),\n",
      "   ('drink', 0.04)]),\n",
      " (2,\n",
      "  [('watch', 0.15),\n",
      "   ('open', 0.1),\n",
      "   ('life', 0.1),\n",
      "   ('people', 0.05),\n",
      "   ('mei', 0.05),\n",
      "   ('marshall', 0.05),\n",
      "   ('knowif', 0.05),\n",
      "   ('sighfor', 0.05),\n",
      "   ('bell', 0.05),\n",
      "   ('kissagainst', 0.05)]),\n",
      " (5,\n",
      "  [('mother', 0.09523809523809523),\n",
      "   ('create', 0.047619047619047616),\n",
      "   ('youfriend', 0.047619047619047616),\n",
      "   ('itwithout', 0.047619047619047616),\n",
      "   ('watch', 0.047619047619047616),\n",
      "   ('didyou', 0.047619047619047616),\n",
      "   ('hide', 0.047619047619047616),\n",
      "   ('time', 0.047619047619047616),\n",
      "   ('youand', 0.047619047619047616),\n",
      "   ('wait', 0.047619047619047616)]),\n",
      " (17,\n",
      "  [('sit', 0.07352941176470588),\n",
      "   ('electriclay', 0.04411764705882353),\n",
      "   ('careful', 0.04411764705882353),\n",
      "   ('pence', 0.04411764705882353),\n",
      "   ('street', 0.04411764705882353),\n",
      "   ('work', 0.04411764705882353),\n",
      "   ('mount', 0.04411764705882353),\n",
      "   ('boot', 0.04411764705882353),\n",
      "   ('metricyou', 0.04411764705882353),\n",
      "   ('bad', 0.04411764705882353)]),\n",
      " (1,\n",
      "  [('kiss', 0.3),\n",
      "   ('yanever', 0.075),\n",
      "   ('realize', 0.05),\n",
      "   ('uhhuhi', 0.05),\n",
      "   ('yanow', 0.05),\n",
      "   ('startedit', 0.025),\n",
      "   ('insidei', 0.025),\n",
      "   ('good', 0.025),\n",
      "   ('awake', 0.025),\n",
      "   ('introduce', 0.025)]),\n",
      " (13,\n",
      "  [('rocknroll', 0.08955223880597014),\n",
      "   ('famous', 0.08955223880597014),\n",
      "   ('record', 0.05970149253731343),\n",
      "   ('dollar', 0.05970149253731343),\n",
      "   ('allyeah', 0.04477611940298507),\n",
      "   ('beverlywe', 0.04477611940298507),\n",
      "   ('alla', 0.04477611940298507),\n",
      "   ('place', 0.04477611940298507),\n",
      "   ('allwe', 0.04477611940298507),\n",
      "   ('maserati', 0.04477611940298507)])]\n",
      "\n",
      "Coherence Score:  0.612603937086269\n"
     ]
    }
   ],
   "source": [
    "# Show Topics\n",
    "pprint(ldamallet.show_topics(formatted=False))\n",
    "\n",
    "# Compute Coherence Score\n",
    "coherence_model_ldamallet = CoherenceModel(model=ldamallet, texts=data_lemmatized, dictionary=id2word, coherence='c_v')\n",
    "coherence_ldamallet = coherence_model_ldamallet.get_coherence()\n",
    "print('\\nCoherence Score: ', coherence_ldamallet)"
   ]
  },
  {
   "cell_type": "raw",
   "metadata": {},
   "source": [
    "How to find the optimal number of topics for LDA?\n",
    "My approach to finding the optimal number of topics is to build many LDA models with different values of number of topics (k) and pick the one that gives the highest coherence value.\n",
    "\n",
    "Choosing a ‘k’ that marks the end of a rapid growth of topic coherence usually offers meaningful and interpretable topics. Picking an even higher value can sometimes provide more granular sub-topics.\n",
    "\n",
    "If you see the same keywords being repeated in multiple topics, it’s probably a sign that the ‘k’ is too large.\n",
    "\n",
    "The compute_coherence_values() (see below) trains multiple LDA models and provides the models and their corresponding coherence scores."
   ]
  },
  {
   "cell_type": "code",
   "execution_count": 26,
   "metadata": {},
   "outputs": [],
   "source": [
    "def compute_coherence_values(dictionary, corpus, texts, limit, start=2, step=3):\n",
    "    \"\"\"\n",
    "    Compute c_v coherence for various number of topics\n",
    "\n",
    "    Parameters:\n",
    "    ----------\n",
    "    dictionary : Gensim dictionary\n",
    "    corpus : Gensim corpus\n",
    "    texts : List of input texts\n",
    "    limit : Max num of topics\n",
    "\n",
    "    Returns:\n",
    "    -------\n",
    "    model_list : List of LDA topic models\n",
    "    coherence_values : Coherence values corresponding to the LDA model with respective number of topics\n",
    "    \"\"\"\n",
    "    coherence_values = []\n",
    "    model_list = []\n",
    "    for num_topics in range(start, limit, step):\n",
    "        model = gensim.models.wrappers.LdaMallet(mallet_path, corpus=corpus, num_topics=num_topics, id2word=id2word)\n",
    "        model_list.append(model)\n",
    "        coherencemodel = CoherenceModel(model=model, texts=texts, dictionary=dictionary, coherence='c_v')\n",
    "        coherence_values.append(coherencemodel.get_coherence())\n",
    "\n",
    "    return model_list, coherence_values"
   ]
  },
  {
   "cell_type": "code",
   "execution_count": 27,
   "metadata": {},
   "outputs": [],
   "source": [
    "# Can take a long time to run.\n",
    "model_list, coherence_values = compute_coherence_values(dictionary=id2word, corpus=corpus, texts=data_lemmatized, start=2, limit=40, step=6)"
   ]
  },
  {
   "cell_type": "code",
   "execution_count": 28,
   "metadata": {},
   "outputs": [
    {
     "data": {
      "image/png": "[encoded data removed]",
      "text/plain": [
       "<Figure size 432x288 with 1 Axes>"
      ]
     },
     "metadata": {
      "needs_background": "light"
     },
     "output_type": "display_data"
    }
   ],
   "source": [
    "# Show graph\n",
    "limit=40; start=2; step=6;\n",
    "x = range(start, limit, step)\n",
    "plt.plot(x, coherence_values)\n",
    "plt.xlabel(\"Num Topics\")\n",
    "plt.ylabel(\"Coherence score\")\n",
    "plt.legend((\"coherence_values\"), loc='best')\n",
    "plt.show()"
   ]
  },
  {
   "cell_type": "code",
   "execution_count": 29,
   "metadata": {},
   "outputs": [
    {
     "name": "stdout",
     "output_type": "stream",
     "text": [
      "Num Topics = 2  has Coherence Value of 0.5643\n",
      "Num Topics = 8  has Coherence Value of 0.7051\n",
      "Num Topics = 14  has Coherence Value of 0.6569\n",
      "Num Topics = 20  has Coherence Value of 0.5923\n",
      "Num Topics = 26  has Coherence Value of 0.5513\n",
      "Num Topics = 32  has Coherence Value of 0.5063\n",
      "Num Topics = 38  has Coherence Value of 0.4846\n"
     ]
    }
   ],
   "source": [
    "# Print the coherence scores\n",
    "for m, cv in zip(x, coherence_values):\n",
    "    print(\"Num Topics =\", m, \" has Coherence Value of\", round(cv, 4))"
   ]
  },
  {
   "cell_type": "code",
   "execution_count": 30,
   "metadata": {},
   "outputs": [
    {
     "name": "stdout",
     "output_type": "stream",
     "text": [
      "[(0,\n",
      "  '0.111*\"uhhuhi\" + 0.037*\"saywont\" + 0.037*\"twois\" + 0.037*\"harmi\" + '\n",
      "  '0.037*\"startwentyseven\" + 0.037*\"vestcause\" + 0.037*\"namei\" + '\n",
      "  '0.037*\"wonderful\" + 0.037*\"make\" + 0.037*\"blow\"'),\n",
      " (1,\n",
      "  '0.085*\"rocknroll\" + 0.085*\"famous\" + 0.056*\"dollar\" + 0.056*\"record\" + '\n",
      "  '0.042*\"harley\" + 0.042*\"beverlywe\" + 0.042*\"place\" + 0.042*\"maserati\" + '\n",
      "  '0.042*\"twentyfive\" + 0.042*\"golden\"'),\n",
      " (2,\n",
      "  '0.080*\"mother\" + 0.040*\"nowand\" + 0.040*\"tape\" + 0.040*\"pride\" + '\n",
      "  '0.040*\"graduallyyou\" + 0.040*\"tired\" + 0.040*\"ireeh\" + 0.040*\"whyit\" + '\n",
      "  '0.040*\"sit\" + 0.040*\"feelfeel\"'),\n",
      " (3,\n",
      "  '0.128*\"heart\" + 0.106*\"stand\" + 0.085*\"lonely\" + 0.064*\"trueim\" + '\n",
      "  '0.064*\"youbut\" + 0.064*\"cry\" + 0.043*\"amissin\" + 0.043*\"againlove\" + '\n",
      "  '0.021*\"leave\" + 0.021*\"knowi\"'),\n",
      " (4,\n",
      "  '0.118*\"home\" + 0.118*\"tear\" + 0.088*\"hard\" + 0.088*\"fear\" + 0.088*\"sittin\" '\n",
      "  '+ 0.059*\"youbaby\" + 0.029*\"wall\" + 0.029*\"busca\" + 0.029*\"insurance\" + '\n",
      "  '0.029*\"makecause\"'),\n",
      " (5,\n",
      "  '0.121*\"sit\" + 0.091*\"betterpull\" + 0.091*\"run\" + 0.091*\"cubic\" + '\n",
      "  '0.091*\"metricyou\" + 0.061*\"homerefrain\" + 0.030*\"page\" + 0.030*\"insidei\" + '\n",
      "  '0.030*\"prostitutewith\" + 0.030*\"myselfwhy\"'),\n",
      " (6,\n",
      "  '0.104*\"quiera\" + 0.096*\"yo\" + 0.048*\"amor\" + 0.048*\"nena\" + 0.048*\"sin\" + '\n",
      "  '0.048*\"mundo\" + 0.040*\"fin\" + 0.040*\"llegarelo\" + 0.040*\"puedo\" + '\n",
      "  '0.040*\"pregunta\"'),\n",
      " (7,\n",
      "  '0.188*\"hate\" + 0.141*\"miss\" + 0.125*\"youi\" + 0.047*\"herand\" + '\n",
      "  '0.047*\"youyou\" + 0.047*\"fuck\" + 0.031*\"feeling\" + 0.031*\"watch\" + '\n",
      "  '0.016*\"type\" + 0.016*\"heri\"'),\n",
      " (8,\n",
      "  '0.429*\"kiss\" + 0.107*\"yanever\" + 0.071*\"yanow\" + 0.071*\"live\" + '\n",
      "  '0.036*\"amrich\" + 0.036*\"yeahthing\" + 0.036*\"awake\" + 0.036*\"bemmm\" + '\n",
      "  '0.036*\"otis\" + 0.036*\"limo\"'),\n",
      " (9,\n",
      "  '0.111*\"give\" + 0.083*\"habit\" + 0.083*\"careful\" + 0.056*\"watch\" + '\n",
      "  '0.056*\"wallplatinum\" + 0.028*\"affairsmanager\" + 0.028*\"happeningand\" + '\n",
      "  '0.028*\"payit\" + 0.028*\"itfeel\" + 0.028*\"besosmas\"'),\n",
      " (10,\n",
      "  '0.111*\"hold\" + 0.074*\"night\" + 0.074*\"everytime\" + 0.074*\"life\" + '\n",
      "  '0.037*\"marshall\" + 0.037*\"mtvto\" + 0.037*\"guess\" + 0.037*\"video\" + '\n",
      "  '0.037*\"thisjust\" + 0.037*\"songi\"'),\n",
      " (11,\n",
      "  '0.152*\"feel\" + 0.121*\"ill\" + 0.091*\"shiti\" + 0.061*\"people\" + '\n",
      "  '0.030*\"jumpercable\" + 0.030*\"friend\" + 0.030*\"real\" + 0.030*\"stop\" + '\n",
      "  '0.030*\"bell\" + 0.030*\"needlethen\"'),\n",
      " (12,\n",
      "  '0.111*\"doorshould\" + 0.074*\"start\" + 0.074*\"turn\" + 0.037*\"music\" + '\n",
      "  '0.037*\"kill\" + 0.037*\"break\" + 0.037*\"head\" + 0.037*\"chronically\" + '\n",
      "  '0.037*\"ancho\" + 0.037*\"para\"'),\n",
      " (13,\n",
      "  '0.105*\"meand\" + 0.053*\"mailman\" + 0.053*\"backstagepassno\" + '\n",
      "  '0.053*\"yourealize\" + 0.053*\"thing\" + 0.053*\"youif\" + 0.053*\"town\" + '\n",
      "  '0.053*\"work\" + 0.053*\"nenael\" + 0.053*\"feeli\"'),\n",
      " (14,\n",
      "  '0.073*\"chair\" + 0.024*\"moveit\" + 0.024*\"pageantlately\" + 0.024*\"music\" + '\n",
      "  '0.024*\"introduce\" + 0.024*\"monstershould\" + 0.024*\"smack\" + 0.024*\"press\" + '\n",
      "  '0.024*\"machineyou\" + 0.024*\"participant\"'),\n",
      " (15,\n",
      "  '0.034*\"howi\" + 0.034*\"bybut\" + 0.034*\"speedwhy\" + 0.034*\"girl\" + '\n",
      "  '0.034*\"sense\" + 0.034*\"beenyou\" + 0.034*\"hershe\" + 0.034*\"bite\" + '\n",
      "  '0.034*\"elevemi\" + 0.034*\"burn\"'),\n",
      " (16,\n",
      "  '0.152*\"fall\" + 0.121*\"fallin\" + 0.091*\"back\" + 0.061*\"call\" + 0.061*\"lulus\" '\n",
      "  '+ 0.061*\"change\" + 0.030*\"awayout\" + 0.030*\"hope\" + 0.030*\"imstill\" + '\n",
      "  '0.030*\"missin\"'),\n",
      " (17,\n",
      "  '0.119*\"back\" + 0.071*\"combatmy\" + 0.071*\"electriclay\" + '\n",
      "  '0.071*\"guttereasier\" + 0.071*\"embrace\" + 0.071*\"mount\" + 0.071*\"street\" + '\n",
      "  '0.071*\"comebackdollar\" + 0.071*\"boot\" + 0.048*\"bad\"'),\n",
      " (18,\n",
      "  '0.244*\"angel\" + 0.200*\"eye\" + 0.111*\"eyesangel\" + 0.067*\"shine\" + '\n",
      "  '0.044*\"meoh\" + 0.044*\"light\" + 0.044*\"close\" + 0.022*\"doubtim\" + '\n",
      "  '0.022*\"meangel\" + 0.022*\"deceive\"'),\n",
      " (19,\n",
      "  '0.491*\"love\" + 0.057*\"againid\" + 0.057*\"youdont\" + 0.038*\"inchorusfallin\" + '\n",
      "  '0.019*\"kinda\" + 0.019*\"tonight\" + 0.019*\"towngotta\" + 0.019*\"betterbut\" + '\n",
      "  '0.019*\"hairblew\" + 0.019*\"gentle\"')]\n"
     ]
    }
   ],
   "source": [
    "# Select the model and print the topics\n",
    "optimal_model = model_list[3]\n",
    "model_topics = optimal_model.show_topics(formatted=False)\n",
    "pprint(optimal_model.print_topics(num_words=10))"
   ]
  },
  {
   "cell_type": "code",
   "execution_count": 31,
   "metadata": {},
   "outputs": [
    {
     "data": {
      "text/html": [
       "<div>\n",
       "<style scoped>\n",
       "    .dataframe tbody tr th:only-of-type {\n",
       "        vertical-align: middle;\n",
       "    }\n",
       "\n",
       "    .dataframe tbody tr th {\n",
       "        vertical-align: top;\n",
       "    }\n",
       "\n",
       "    .dataframe thead th {\n",
       "        text-align: right;\n",
       "    }\n",
       "</style>\n",
       "<table border=\"1\" class=\"dataframe\">\n",
       "  <thead>\n",
       "    <tr style=\"text-align: right;\">\n",
       "      <th></th>\n",
       "      <th>Document_No</th>\n",
       "      <th>Dominant_Topic</th>\n",
       "      <th>Topic_Perc_Contrib</th>\n",
       "      <th>Keywords</th>\n",
       "      <th>Text</th>\n",
       "    </tr>\n",
       "  </thead>\n",
       "  <tbody>\n",
       "    <tr>\n",
       "      <td>0</td>\n",
       "      <td>0</td>\n",
       "      <td>9.0</td>\n",
       "      <td>0.1076</td>\n",
       "      <td>give, habit, careful, watch, wallplatinum, aff...</td>\n",
       "      <td>Mother Dear MotherIts Cold TonightLike Every O...</td>\n",
       "    </tr>\n",
       "    <tr>\n",
       "      <td>1</td>\n",
       "      <td>1</td>\n",
       "      <td>16.0</td>\n",
       "      <td>0.1169</td>\n",
       "      <td>fall, fallin, back, call, lulus, change, awayo...</td>\n",
       "      <td>Gotta get my old tuxedo pressed gotta sew a bu...</td>\n",
       "    </tr>\n",
       "    <tr>\n",
       "      <td>2</td>\n",
       "      <td>2</td>\n",
       "      <td>6.0</td>\n",
       "      <td>0.6476</td>\n",
       "      <td>quiera, yo, amor, nena, sin, mundo, fin, llega...</td>\n",
       "      <td>Al fin del mundo llegareLo que quieras you har...</td>\n",
       "    </tr>\n",
       "    <tr>\n",
       "      <td>3</td>\n",
       "      <td>3</td>\n",
       "      <td>19.0</td>\n",
       "      <td>0.2572</td>\n",
       "      <td>love, againid, youdont, inchorusfallin, kinda,...</td>\n",
       "      <td>Falling In Love AgainLove be gentle love be ki...</td>\n",
       "    </tr>\n",
       "    <tr>\n",
       "      <td>4</td>\n",
       "      <td>4</td>\n",
       "      <td>7.0</td>\n",
       "      <td>0.3117</td>\n",
       "      <td>hate, miss, youi, herand, youyou, fuck, feelin...</td>\n",
       "      <td>Feeling usedBut ImStill missing youAnd I cantS...</td>\n",
       "    </tr>\n",
       "    <tr>\n",
       "      <td>5</td>\n",
       "      <td>5</td>\n",
       "      <td>1.0</td>\n",
       "      <td>0.4587</td>\n",
       "      <td>rocknroll, famous, dollar, record, harley, bev...</td>\n",
       "      <td>Cruising in a limo down the sunset stripOn a S...</td>\n",
       "    </tr>\n",
       "    <tr>\n",
       "      <td>6</td>\n",
       "      <td>6</td>\n",
       "      <td>3.0</td>\n",
       "      <td>0.1943</td>\n",
       "      <td>heart, stand, lonely, trueim, youbut, cry, ami...</td>\n",
       "      <td>Was I awake or was it just a dreamI opened up ...</td>\n",
       "    </tr>\n",
       "    <tr>\n",
       "      <td>7</td>\n",
       "      <td>7</td>\n",
       "      <td>18.0</td>\n",
       "      <td>0.4053</td>\n",
       "      <td>angel, eye, eyesangel, shine, meoh, light, clo...</td>\n",
       "      <td>Oh angel eyes am I deceived or did you sighFor...</td>\n",
       "    </tr>\n",
       "    <tr>\n",
       "      <td>8</td>\n",
       "      <td>8</td>\n",
       "      <td>17.0</td>\n",
       "      <td>0.2930</td>\n",
       "      <td>back, combatmy, electriclay, guttereasier, emb...</td>\n",
       "      <td>Less of a singer you are more more of a prosti...</td>\n",
       "    </tr>\n",
       "    <tr>\n",
       "      <td>9</td>\n",
       "      <td>9</td>\n",
       "      <td>8.0</td>\n",
       "      <td>0.2727</td>\n",
       "      <td>kiss, yanever, yanow, live, amrich, yeahthing,...</td>\n",
       "      <td>Never felt like this until I kissed yaHow did ...</td>\n",
       "    </tr>\n",
       "  </tbody>\n",
       "</table>\n",
       "</div>"
      ],
      "text/plain": [
       "   Document_No  Dominant_Topic  Topic_Perc_Contrib  \\\n",
       "0            0             9.0              0.1076   \n",
       "1            1            16.0              0.1169   \n",
       "2            2             6.0              0.6476   \n",
       "3            3            19.0              0.2572   \n",
       "4            4             7.0              0.3117   \n",
       "5            5             1.0              0.4587   \n",
       "6            6             3.0              0.1943   \n",
       "7            7            18.0              0.4053   \n",
       "8            8            17.0              0.2930   \n",
       "9            9             8.0              0.2727   \n",
       "\n",
       "                                            Keywords  \\\n",
       "0  give, habit, careful, watch, wallplatinum, aff...   \n",
       "1  fall, fallin, back, call, lulus, change, awayo...   \n",
       "2  quiera, yo, amor, nena, sin, mundo, fin, llega...   \n",
       "3  love, againid, youdont, inchorusfallin, kinda,...   \n",
       "4  hate, miss, youi, herand, youyou, fuck, feelin...   \n",
       "5  rocknroll, famous, dollar, record, harley, bev...   \n",
       "6  heart, stand, lonely, trueim, youbut, cry, ami...   \n",
       "7  angel, eye, eyesangel, shine, meoh, light, clo...   \n",
       "8  back, combatmy, electriclay, guttereasier, emb...   \n",
       "9  kiss, yanever, yanow, live, amrich, yeahthing,...   \n",
       "\n",
       "                                                Text  \n",
       "0  Mother Dear MotherIts Cold TonightLike Every O...  \n",
       "1  Gotta get my old tuxedo pressed gotta sew a bu...  \n",
       "2  Al fin del mundo llegareLo que quieras you har...  \n",
       "3  Falling In Love AgainLove be gentle love be ki...  \n",
       "4  Feeling usedBut ImStill missing youAnd I cantS...  \n",
       "5  Cruising in a limo down the sunset stripOn a S...  \n",
       "6  Was I awake or was it just a dreamI opened up ...  \n",
       "7  Oh angel eyes am I deceived or did you sighFor...  \n",
       "8  Less of a singer you are more more of a prosti...  \n",
       "9  Never felt like this until I kissed yaHow did ...  "
      ]
     },
     "execution_count": 31,
     "metadata": {},
     "output_type": "execute_result"
    }
   ],
   "source": [
    "def format_topics_sentences(ldamodel=lda_model, corpus=corpus, texts=data):\n",
    "    # Init output\n",
    "    sent_topics_df = pd.DataFrame()\n",
    "\n",
    "    # Get main topic in each document\n",
    "    for i, row in enumerate(ldamodel[corpus]):\n",
    "        row = sorted(row, key=lambda x: (x[1]), reverse=True)\n",
    "        # Get the Dominant topic, Perc Contribution and Keywords for each document\n",
    "        for j, (topic_num, prop_topic) in enumerate(row):\n",
    "            if j == 0:  # => dominant topic\n",
    "                wp = ldamodel.show_topic(topic_num)\n",
    "                topic_keywords = \", \".join([word for word, prop in wp])\n",
    "                sent_topics_df = sent_topics_df.append(pd.Series([int(topic_num), round(prop_topic,4), topic_keywords]), ignore_index=True)\n",
    "            else:\n",
    "                break\n",
    "    sent_topics_df.columns = ['Dominant_Topic', 'Perc_Contribution', 'Topic_Keywords']\n",
    "\n",
    "    # Add original text to the end of the output\n",
    "    contents = pd.Series(texts)\n",
    "    sent_topics_df = pd.concat([sent_topics_df, contents], axis=1)\n",
    "    return(sent_topics_df)\n",
    "\n",
    "\n",
    "df_topic_sents_keywords = format_topics_sentences(ldamodel=optimal_model, corpus=corpus, texts=data)\n",
    "\n",
    "# Format\n",
    "df_dominant_topic = df_topic_sents_keywords.reset_index()\n",
    "df_dominant_topic.columns = ['Document_No', 'Dominant_Topic', 'Topic_Perc_Contrib', 'Keywords', 'Text']\n",
    "\n",
    "# Show\n",
    "df_dominant_topic.head(10)\n"
   ]
  },
  {
   "cell_type": "raw",
   "metadata": {},
   "source": [
    " Find the most representative document for each topic\n",
    "Sometimes just the topic keywords may not be enough to make sense of what a topic is about. So, to help with understanding the topic, you can find the documents a given topic has contributed to the most and infer the topic by reading that document. Whew!!"
   ]
  },
  {
   "cell_type": "code",
   "execution_count": 32,
   "metadata": {},
   "outputs": [
    {
     "data": {
      "text/html": [
       "<div>\n",
       "<style scoped>\n",
       "    .dataframe tbody tr th:only-of-type {\n",
       "        vertical-align: middle;\n",
       "    }\n",
       "\n",
       "    .dataframe tbody tr th {\n",
       "        vertical-align: top;\n",
       "    }\n",
       "\n",
       "    .dataframe thead th {\n",
       "        text-align: right;\n",
       "    }\n",
       "</style>\n",
       "<table border=\"1\" class=\"dataframe\">\n",
       "  <thead>\n",
       "    <tr style=\"text-align: right;\">\n",
       "      <th></th>\n",
       "      <th>Topic_Num</th>\n",
       "      <th>Topic_Perc_Contrib</th>\n",
       "      <th>Keywords</th>\n",
       "      <th>Text</th>\n",
       "    </tr>\n",
       "  </thead>\n",
       "  <tbody>\n",
       "    <tr>\n",
       "      <td>0</td>\n",
       "      <td>1.0</td>\n",
       "      <td>0.4587</td>\n",
       "      <td>rocknroll, famous, dollar, record, harley, bev...</td>\n",
       "      <td>Cruising in a limo down the sunset stripOn a S...</td>\n",
       "    </tr>\n",
       "    <tr>\n",
       "      <td>1</td>\n",
       "      <td>3.0</td>\n",
       "      <td>0.1943</td>\n",
       "      <td>heart, stand, lonely, trueim, youbut, cry, ami...</td>\n",
       "      <td>Was I awake or was it just a dreamI opened up ...</td>\n",
       "    </tr>\n",
       "    <tr>\n",
       "      <td>2</td>\n",
       "      <td>6.0</td>\n",
       "      <td>0.6476</td>\n",
       "      <td>quiera, yo, amor, nena, sin, mundo, fin, llega...</td>\n",
       "      <td>Al fin del mundo llegareLo que quieras you har...</td>\n",
       "    </tr>\n",
       "    <tr>\n",
       "      <td>3</td>\n",
       "      <td>7.0</td>\n",
       "      <td>0.3117</td>\n",
       "      <td>hate, miss, youi, herand, youyou, fuck, feelin...</td>\n",
       "      <td>Feeling usedBut ImStill missing youAnd I cantS...</td>\n",
       "    </tr>\n",
       "    <tr>\n",
       "      <td>4</td>\n",
       "      <td>8.0</td>\n",
       "      <td>0.2727</td>\n",
       "      <td>kiss, yanever, yanow, live, amrich, yeahthing,...</td>\n",
       "      <td>Never felt like this until I kissed yaHow did ...</td>\n",
       "    </tr>\n",
       "  </tbody>\n",
       "</table>\n",
       "</div>"
      ],
      "text/plain": [
       "   Topic_Num  Topic_Perc_Contrib  \\\n",
       "0        1.0              0.4587   \n",
       "1        3.0              0.1943   \n",
       "2        6.0              0.6476   \n",
       "3        7.0              0.3117   \n",
       "4        8.0              0.2727   \n",
       "\n",
       "                                            Keywords  \\\n",
       "0  rocknroll, famous, dollar, record, harley, bev...   \n",
       "1  heart, stand, lonely, trueim, youbut, cry, ami...   \n",
       "2  quiera, yo, amor, nena, sin, mundo, fin, llega...   \n",
       "3  hate, miss, youi, herand, youyou, fuck, feelin...   \n",
       "4  kiss, yanever, yanow, live, amrich, yeahthing,...   \n",
       "\n",
       "                                                Text  \n",
       "0  Cruising in a limo down the sunset stripOn a S...  \n",
       "1  Was I awake or was it just a dreamI opened up ...  \n",
       "2  Al fin del mundo llegareLo que quieras you har...  \n",
       "3  Feeling usedBut ImStill missing youAnd I cantS...  \n",
       "4  Never felt like this until I kissed yaHow did ...  "
      ]
     },
     "execution_count": 32,
     "metadata": {},
     "output_type": "execute_result"
    }
   ],
   "source": [
    "# Group top 5 sentences under each topic\n",
    "sent_topics_sorteddf_mallet = pd.DataFrame()\n",
    "\n",
    "sent_topics_outdf_grpd = df_topic_sents_keywords.groupby('Dominant_Topic')\n",
    "\n",
    "for i, grp in sent_topics_outdf_grpd:\n",
    "    sent_topics_sorteddf_mallet = pd.concat([sent_topics_sorteddf_mallet, \n",
    "                                             grp.sort_values(['Perc_Contribution'], ascending=[0]).head(1)], \n",
    "                                            axis=0)\n",
    "\n",
    "# Reset Index    \n",
    "sent_topics_sorteddf_mallet.reset_index(drop=True, inplace=True)\n",
    "\n",
    "# Format\n",
    "sent_topics_sorteddf_mallet.columns = ['Topic_Num', \"Topic_Perc_Contrib\", \"Keywords\", \"Text\"]\n",
    "\n",
    "# Show\n",
    "sent_topics_sorteddf_mallet.head()"
   ]
  },
  {
   "cell_type": "code",
   "execution_count": null,
   "metadata": {},
   "outputs": [],
   "source": []
  }
 ],
 "metadata": {
  "kernelspec": {
   "display_name": "Python 3",
   "language": "python",
   "name": "python3"
  },
  "language_info": {
   "codemirror_mode": {
    "name": "ipython",
    "version": 3
   },
   "file_extension": ".py",
   "mimetype": "text/x-python",
   "name": "python",
   "nbconvert_exporter": "python",
   "pygments_lexer": "ipython3",
   "version": "3.6.9"
  }
 },
 "nbformat": 4,
 "nbformat_minor": 4
}
