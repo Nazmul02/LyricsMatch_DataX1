{
 "cells": [
  {
   "cell_type": "code",
   "execution_count": 1,
   "metadata": {},
   "outputs": [
    {
     "name": "stdout",
     "output_type": "stream",
     "text": [
      "[nltk_data] Downloading package stopwords to /Users/neha/nltk_data...\n",
      "[nltk_data]   Package stopwords is already up-to-date!\n"
     ]
    },
    {
     "data": {
      "text/plain": [
       "True"
      ]
     },
     "execution_count": 1,
     "metadata": {},
     "output_type": "execute_result"
    }
   ],
   "source": [
    "# Run in python console\n",
    "import nltk; nltk.download('stopwords')"
   ]
  },
  {
   "cell_type": "markdown",
   "metadata": {},
   "source": [
    " Import Packages"
   ]
  },
  {
   "cell_type": "code",
   "execution_count": 2,
   "metadata": {},
   "outputs": [],
   "source": [
    "import re\n",
    "import numpy as np\n",
    "import pandas as pd\n",
    "from pprint import pprint\n",
    "\n",
    "# Gensim\n",
    "import gensim\n",
    "import gensim.corpora as corpora\n",
    "from gensim.utils import simple_preprocess\n",
    "from gensim.models import CoherenceModel\n",
    "\n",
    "# spacy for lemmatization\n",
    "import spacy\n",
    "\n",
    "# Plotting tools\n",
    "import pyLDAvis\n",
    "import pyLDAvis.gensim  # don't skip this\n",
    "import matplotlib.pyplot as plt\n",
    "%matplotlib inline\n",
    "\n",
    "# Enable logging for gensim - optional\n",
    "import logging\n",
    "logging.basicConfig(format='%(asctime)s : %(levelname)s : %(message)s', level=logging.ERROR)\n",
    "\n",
    "import warnings\n",
    "warnings.filterwarnings(\"ignore\",category=DeprecationWarning)"
   ]
  },
  {
   "cell_type": "code",
   "execution_count": 3,
   "metadata": {},
   "outputs": [],
   "source": [
    "# NLTK Stop words\n",
    "from nltk.corpus import stopwords\n",
    "stop_words = stopwords.words('english')\n",
    "stop_words.extend(['from', 'subject', 're', 'edu', 'use'])"
   ]
  },
  {
   "cell_type": "markdown",
   "metadata": {},
   "source": [
    "Importing Lyrics data"
   ]
  },
  {
   "cell_type": "code",
   "execution_count": 4,
   "metadata": {},
   "outputs": [
    {
     "data": {
      "text/html": [
       "<div>\n",
       "<style scoped>\n",
       "    .dataframe tbody tr th:only-of-type {\n",
       "        vertical-align: middle;\n",
       "    }\n",
       "\n",
       "    .dataframe tbody tr th {\n",
       "        vertical-align: top;\n",
       "    }\n",
       "\n",
       "    .dataframe thead th {\n",
       "        text-align: right;\n",
       "    }\n",
       "</style>\n",
       "<table border=\"1\" class=\"dataframe\">\n",
       "  <thead>\n",
       "    <tr style=\"text-align: right;\">\n",
       "      <th></th>\n",
       "      <th>song</th>\n",
       "      <th>year</th>\n",
       "      <th>artist</th>\n",
       "      <th>genre</th>\n",
       "      <th>lyrics</th>\n",
       "    </tr>\n",
       "  </thead>\n",
       "  <tbody>\n",
       "    <tr>\n",
       "      <th>0</th>\n",
       "      <td>the-downward-spiral</td>\n",
       "      <td>2007</td>\n",
       "      <td>discharge</td>\n",
       "      <td>Rock</td>\n",
       "      <td>Mother Dear Mother\\nIt's Cold Tonight\\nLike Ev...</td>\n",
       "    </tr>\n",
       "    <tr>\n",
       "      <th>1</th>\n",
       "      <td>lulu-s-back-in-town</td>\n",
       "      <td>2008</td>\n",
       "      <td>fats-waller</td>\n",
       "      <td>Jazz</td>\n",
       "      <td>Gotta get my old tuxedo pressed, gotta sew a b...</td>\n",
       "    </tr>\n",
       "    <tr>\n",
       "      <th>2</th>\n",
       "      <td>donde-quieras-yo-ire</td>\n",
       "      <td>2006</td>\n",
       "      <td>backstreet-boys</td>\n",
       "      <td>Pop</td>\n",
       "      <td>Al fin del mundo llegare\\nLo que quieras you h...</td>\n",
       "    </tr>\n",
       "    <tr>\n",
       "      <th>3</th>\n",
       "      <td>falling-in-love</td>\n",
       "      <td>2007</td>\n",
       "      <td>don-williams</td>\n",
       "      <td>Country</td>\n",
       "      <td>Falling In Love Again\\nLove be gentle, love be...</td>\n",
       "    </tr>\n",
       "    <tr>\n",
       "      <th>4</th>\n",
       "      <td>i-hate-u-i-love-you</td>\n",
       "      <td>2016</td>\n",
       "      <td>gnash</td>\n",
       "      <td>Rock</td>\n",
       "      <td>Feeling used\\nBut I'm\\nStill missing you\\nAnd ...</td>\n",
       "    </tr>\n",
       "  </tbody>\n",
       "</table>\n",
       "</div>"
      ],
      "text/plain": [
       "                   song  year           artist    genre  \\\n",
       "0   the-downward-spiral  2007        discharge     Rock   \n",
       "1   lulu-s-back-in-town  2008      fats-waller     Jazz   \n",
       "2  donde-quieras-yo-ire  2006  backstreet-boys      Pop   \n",
       "3       falling-in-love  2007     don-williams  Country   \n",
       "4   i-hate-u-i-love-you  2016            gnash     Rock   \n",
       "\n",
       "                                              lyrics  \n",
       "0  Mother Dear Mother\\nIt's Cold Tonight\\nLike Ev...  \n",
       "1  Gotta get my old tuxedo pressed, gotta sew a b...  \n",
       "2  Al fin del mundo llegare\\nLo que quieras you h...  \n",
       "3  Falling In Love Again\\nLove be gentle, love be...  \n",
       "4  Feeling used\\nBut I'm\\nStill missing you\\nAnd ...  "
      ]
     },
     "execution_count": 4,
     "metadata": {},
     "output_type": "execute_result"
    }
   ],
   "source": [
    "# Import Dataset\n",
    "df = pd.read_csv('/Users/neha/Downloads/lyrics_small.csv')\n",
    "df.head()"
   ]
  },
  {
   "cell_type": "code",
   "execution_count": 6,
   "metadata": {},
   "outputs": [
    {
     "name": "stdout",
     "output_type": "stream",
     "text": [
      "['Rock' 'Jazz' 'Pop' 'Country' 'Not Available' 'Metal' 'Electronic'\n",
      " 'Hip-Hop' 'Other' 'Indie' 'R&B' 'Folk']\n"
     ]
    }
   ],
   "source": [
    "print(df.genre.unique())"
   ]
  },
  {
   "cell_type": "code",
   "execution_count": 7,
   "metadata": {},
   "outputs": [
    {
     "name": "stdout",
     "output_type": "stream",
     "text": [
      "['discharge' 'fats-waller' 'backstreet-boys' ... 'doppelt-so-schlecht'\n",
      " 'adverts' 'elissa']\n"
     ]
    }
   ],
   "source": [
    "print(df.artist.unique())"
   ]
  },
  {
   "cell_type": "code",
   "execution_count": 8,
   "metadata": {},
   "outputs": [
    {
     "name": "stdout",
     "output_type": "stream",
     "text": [
      "[2007 2008 2006 2016 2004 2013 2012 1994 2011 2010 2014 2009 2015 1983\n",
      " 2005 2002 2003 1998 1991 1977 1972 2000 1995 1987 1992 2001 1970 1981\n",
      " 1997 1996 1993 1975 1990 1982 1974 1999 1988 1978 1973 1989 1986 1980\n",
      " 1971 1984 1979 1985 1976]\n"
     ]
    }
   ],
   "source": [
    "print(df.year.unique())"
   ]
  },
  {
   "cell_type": "markdown",
   "metadata": {},
   "source": [
    " Remove newline characters"
   ]
  },
  {
   "cell_type": "code",
   "execution_count": 9,
   "metadata": {},
   "outputs": [
    {
     "name": "stdout",
     "output_type": "stream",
     "text": [
      "['Mother Dear MotherIts Cold TonightLike Every OtherEvery Other NightBut I '\n",
      " 'Never FeelFeel It AnywayIm Gonna Need SomethingSomething SoonI Can Feel '\n",
      " 'ItFeel It BeginBut I Dont KnowHow Im Gonna PayIt Must Be AboutMid December '\n",
      " 'Right NowAnd I Think Im AboutSeventeenIm Not Real SureHow Old I FeelI Lost '\n",
      " 'My ThoughtsIn Some DreamOh Mother I DontKnow HowI Got Where I AmBut Ill Try '\n",
      " 'To Explain AnyhowSee GraduallyYou Get Sucked InInto ItWithout Ever '\n",
      " 'ReallyRealisingJust Whats HappeningAnd That Is WhenThe Downward Spiral '\n",
      " 'BeginsAnyway Back To How It All StartedIt Started With DopeWhy Not After All '\n",
      " 'It Was Just The Once I Told MyselfI Didnt Even Like It Very MuchBut The '\n",
      " 'People I Was With All Did ItThen I Tried SpeedWhy Not After All It Was Just '\n",
      " 'The Once I Told MyselfThe Next Thing I Knew I Was Doing A Couple Of Grams A '\n",
      " 'WeekThen A Friend Introduced Me To Smack Chasing The DragonWhy Not After All '\n",
      " 'It Was Just The Once I Told MyselfWhy Not After All It Wasnt Using A '\n",
      " 'NeedleThen I Started Doing What I Said Id Never Do']\n"
     ]
    }
   ],
   "source": [
    "# Convert to list\n",
    "data = df.lyrics.values.tolist()\n",
    "\n",
    "data = [re.sub('[^a-zA-Z ]' ,'', str(sent)) for sent in data]\n",
    "\n",
    "pprint(data[:1])"
   ]
  },
  {
   "cell_type": "code",
   "execution_count": 10,
   "metadata": {},
   "outputs": [
    {
     "name": "stdout",
     "output_type": "stream",
     "text": [
      "[['mother', 'dear', 'motherits', 'cold', 'tonightlike', 'every', 'otherevery', 'other', 'nightbut', 'never', 'feelfeel', 'it', 'anywayim', 'gonna', 'need', 'sooni', 'can', 'feel', 'itfeel', 'it', 'beginbut', 'dont', 'knowhow', 'im', 'gonna', 'payit', 'must', 'be', 'aboutmid', 'december', 'right', 'nowand', 'think', 'im', 'not', 'real', 'surehow', 'old', 'feeli', 'lost', 'my', 'thoughtsin', 'some', 'dreamoh', 'mother', 'dontknow', 'howi', 'got', 'where', 'ambut', 'ill', 'try', 'to', 'explain', 'anyhowsee', 'graduallyyou', 'get', 'sucked', 'ininto', 'itwithout', 'ever', 'whats', 'happeningand', 'that', 'is', 'whenthe', 'downward', 'spiral', 'beginsanyway', 'back', 'to', 'how', 'it', 'all', 'startedit', 'started', 'with', 'dopewhy', 'not', 'after', 'all', 'it', 'was', 'just', 'the', 'once', 'told', 'myselfi', 'didnt', 'even', 'like', 'it', 'very', 'muchbut', 'the', 'people', 'was', 'with', 'all', 'did', 'itthen', 'tried', 'speedwhy', 'not', 'after', 'all', 'it', 'was', 'just', 'the', 'once', 'told', 'myselfthe', 'next', 'thing', 'knew', 'was', 'doing', 'couple', 'of', 'grams', 'weekthen', 'friend', 'introduced', 'me', 'to', 'smack', 'chasing', 'the', 'dragonwhy', 'not', 'after', 'all', 'it', 'was', 'just', 'the', 'once', 'told', 'myselfwhy', 'not', 'after', 'all', 'it', 'wasnt', 'using', 'needlethen', 'started', 'doing', 'what', 'said', 'id', 'never', 'do']]\n"
     ]
    }
   ],
   "source": [
    "def sent_to_words(sentences):\n",
    "    for sentence in sentences:\n",
    "        yield(gensim.utils.simple_preprocess(str(sentence), deacc=True))  # deacc=True removes punctuations\n",
    "\n",
    "data_words = list(sent_to_words(data))\n",
    "\n",
    "print(data_words[:1])"
   ]
  },
  {
   "cell_type": "markdown",
   "metadata": {},
   "source": [
    "### Creating Bigram and Trigram Models\n",
    "Bigrams are two words frequently occurring together in the document. Trigrams are 3 words frequently occurring.\n",
    "\n",
    "Some examples in our example are: ‘front_bumper’, ‘oil_leak’, ‘maryland_college_park’ etc.\n",
    "\n",
    "Gensim’s Phrases model can build and implement the bigrams, trigrams, quadgrams and more. The two important arguments to Phrases are min_count and threshold. The higher the values of these param, the harder it is for words to be combined to bigrams."
   ]
  },
  {
   "cell_type": "code",
   "execution_count": 11,
   "metadata": {},
   "outputs": [
    {
     "name": "stdout",
     "output_type": "stream",
     "text": [
      "['mother', 'dear', 'motherits', 'cold', 'tonightlike', 'every', 'otherevery', 'other', 'nightbut', 'never', 'feelfeel', 'it', 'anywayim', 'gonna', 'need', 'sooni', 'can', 'feel', 'itfeel', 'it', 'beginbut', 'dont', 'knowhow', 'im', 'gonna', 'payit', 'must', 'be', 'aboutmid', 'december', 'right', 'nowand', 'think', 'im', 'not', 'real', 'surehow', 'old', 'feeli', 'lost', 'my', 'thoughtsin', 'some', 'dreamoh', 'mother', 'dontknow', 'howi', 'got', 'where', 'ambut', 'ill', 'try', 'to', 'explain', 'anyhowsee', 'graduallyyou', 'get', 'sucked', 'ininto', 'itwithout', 'ever', 'whats', 'happeningand', 'that', 'is', 'whenthe', 'downward', 'spiral', 'beginsanyway', 'back', 'to', 'how', 'it', 'all', 'startedit', 'started', 'with', 'dopewhy', 'not', 'after', 'all', 'it', 'was', 'just', 'the', 'once', 'told', 'myselfi', 'didnt', 'even', 'like', 'it', 'very', 'muchbut', 'the', 'people', 'was', 'with', 'all', 'did', 'itthen', 'tried', 'speedwhy', 'not', 'after', 'all', 'it', 'was', 'just', 'the', 'once', 'told', 'myselfthe', 'next', 'thing', 'knew', 'was', 'doing', 'couple', 'of', 'grams', 'weekthen', 'friend', 'introduced', 'me', 'to', 'smack', 'chasing', 'the', 'dragonwhy', 'not', 'after', 'all', 'it', 'was', 'just', 'the', 'once', 'told', 'myselfwhy', 'not', 'after', 'all', 'it', 'wasnt', 'using', 'needlethen', 'started', 'doing', 'what', 'said', 'id', 'never', 'do']\n"
     ]
    }
   ],
   "source": [
    "# Build the bigram and trigram models\n",
    "bigram = gensim.models.Phrases(data_words, min_count=5, threshold=100) # higher threshold fewer phrases.\n",
    "trigram = gensim.models.Phrases(bigram[data_words], threshold=100)  \n",
    "\n",
    "# Faster way to get a sentence clubbed as a trigram/bigram\n",
    "bigram_mod = gensim.models.phrases.Phraser(bigram)\n",
    "trigram_mod = gensim.models.phrases.Phraser(trigram)\n",
    "\n",
    "# See trigram example\n",
    "print(bigram_mod[data_words[0]])"
   ]
  },
  {
   "cell_type": "markdown",
   "metadata": {},
   "source": [
    "### Remove Stopwords, Make Bigrams and Lemmatize\n",
    "The bigrams model is ready. Let’s define the functions to remove the stopwords, make bigrams and lemmatization and call them sequentially."
   ]
  },
  {
   "cell_type": "code",
   "execution_count": 12,
   "metadata": {},
   "outputs": [],
   "source": [
    "# Define functions for stopwords, bigrams, trigrams and lemmatization\n",
    "def remove_stopwords(texts):\n",
    "    return [[word for word in simple_preprocess(str(doc)) if word not in stop_words] for doc in texts]\n",
    "\n",
    "def make_bigrams(texts):\n",
    "    return [bigram_mod[doc] for doc in texts]\n",
    "\n",
    "def make_trigrams(texts):\n",
    "    return [trigram_mod[bigram_mod[doc]] for doc in texts]\n",
    "\n",
    "def lemmatization(texts, allowed_postags=['NOUN', 'ADJ', 'VERB', 'ADV']):\n",
    "    \"\"\"https://spacy.io/api/annotation\"\"\"\n",
    "    texts_out = []\n",
    "    for sent in texts:\n",
    "        doc = nlp(\" \".join(sent)) \n",
    "        texts_out.append([token.lemma_ for token in doc if token.pos_ in allowed_postags])\n",
    "    return texts_out"
   ]
  },
  {
   "cell_type": "markdown",
   "metadata": {},
   "source": [
    "Let’s call the functions in order."
   ]
  },
  {
   "cell_type": "code",
   "execution_count": 13,
   "metadata": {},
   "outputs": [
    {
     "name": "stdout",
     "output_type": "stream",
     "text": [
      "[['mother', 'dear', 'motherit', 'cold', 'tonightlike', 'otherevery', 'nightbut', 'never', 'feelfeel', 'anywayim', 'go', 'need', 'sooni', 'feel', 'itfeel', 'beginbut', 'do', 'not', 'knowhow', 'be', 'go', 'payit', 'must', 'aboutmid', 'december', 'right', 'nowand', 'think', 'be', 'real', 'surehow', 'old', 'feeli', 'lose', 'thoughtsin', 'dreamoh', 'mother', 'dontknow', 'howi', 'get', 'ambut', 'ill', 'try', 'explain', 'anyhowsee', 'get', 'suck', 'itwithout', 'ever', 'what', 's', 'happeningand', 'whenthe', 'downward', 'spiral', 'beginsanyway', 'back', 'startedit', 'start', 'dopewhy', 'tell', 'myselfi', 'do', 'not', 'even', 'muchbut', 'people', 'itthen', 'try', 'speedwhy', 'tell', 'myselfthe', 'next', 'thing', 'know', 'couple', 'gram', 'friend', 'introduce', 'smack', 'chase', 'dragonwhy', 'tell', 'myselfwhy', 'be', 'not', 'use', 'needlethen', 'start', 'say', 'would', 'never']]\n"
     ]
    }
   ],
   "source": [
    "# Remove Stop Words\n",
    "data_words_nostops = remove_stopwords(data_words)\n",
    "\n",
    "# Form Bigrams\n",
    "data_words_bigrams = make_bigrams(data_words_nostops)\n",
    "\n",
    "# Initialize spacy 'en' model, keeping only tagger component (for efficiency)\n",
    "# python3 -m spacy download en\n",
    "nlp = spacy.load('en', disable=['parser', 'ner'])\n",
    "\n",
    "# Do lemmatization keeping only noun, adj, vb, adv\n",
    "data_lemmatized = lemmatization(data_words_bigrams, allowed_postags=['NOUN', 'ADJ', 'VERB', 'ADV'])\n",
    "\n",
    "print(data_lemmatized[:1])"
   ]
  },
  {
   "cell_type": "markdown",
   "metadata": {},
   "source": [
    "### Create the Dictionary and Corpus needed for Topic Modeling\n",
    "The two main inputs to the LDA topic model are the dictionary(id2word) and the corpus. Let’s create them."
   ]
  },
  {
   "cell_type": "code",
   "execution_count": 14,
   "metadata": {},
   "outputs": [
    {
     "name": "stdout",
     "output_type": "stream",
     "text": [
      "[[(0, 1), (1, 1), (2, 1), (3, 1), (4, 1), (5, 3), (6, 1), (7, 1), (8, 1), (9, 1), (10, 1), (11, 1), (12, 1), (13, 2), (14, 1), (15, 1), (16, 1), (17, 1), (18, 1), (19, 1), (20, 1), (21, 1), (22, 1), (23, 1), (24, 1), (25, 1), (26, 2), (27, 2), (28, 1), (29, 1), (30, 1), (31, 1), (32, 1), (33, 1), (34, 1), (35, 1), (36, 1), (37, 1), (38, 1), (39, 2), (40, 1), (41, 1), (42, 1), (43, 1), (44, 1), (45, 1), (46, 1), (47, 1), (48, 2), (49, 1), (50, 1), (51, 3), (52, 1), (53, 1), (54, 1), (55, 1), (56, 1), (57, 1), (58, 1), (59, 1), (60, 1), (61, 1), (62, 1), (63, 1), (64, 1), (65, 2), (66, 1), (67, 1), (68, 1), (69, 3), (70, 1), (71, 1), (72, 1), (73, 1), (74, 2), (75, 1), (76, 1), (77, 1), (78, 1)]]\n"
     ]
    }
   ],
   "source": [
    "# Create Dictionary\n",
    "id2word = corpora.Dictionary(data_lemmatized)\n",
    "\n",
    "# Create Corpus\n",
    "texts = data_lemmatized\n",
    "\n",
    "# Term Document Frequency\n",
    "corpus = [id2word.doc2bow(text) for text in texts]\n",
    "\n",
    "# View\n",
    "print(corpus[:1])"
   ]
  },
  {
   "cell_type": "markdown",
   "metadata": {},
   "source": [
    "Gensim creates a unique id for each word in the document. The produced corpus shown above is a mapping of (word_id, word_frequency).\n",
    "\n",
    "For example, (0, 1) above implies, word id 0 occurs once in the first document. Likewise, word id 1 occurs twice and so on.\n",
    "\n",
    "This is used as the input by the LDA model.\n",
    "\n",
    "If you want to see what word a given id corresponds to, pass the id as a key to the dictionary."
   ]
  },
  {
   "cell_type": "code",
   "execution_count": 18,
   "metadata": {},
   "outputs": [
    {
     "data": {
      "text/plain": [
       "'couple'"
      ]
     },
     "execution_count": 18,
     "metadata": {},
     "output_type": "execute_result"
    }
   ],
   "source": [
    "id2word[10]"
   ]
  },
  {
   "cell_type": "code",
   "execution_count": 19,
   "metadata": {},
   "outputs": [
    {
     "data": {
      "text/plain": [
       "[[('aboutmid', 1),\n",
       "  ('ambut', 1),\n",
       "  ('anyhowsee', 1),\n",
       "  ('anywayim', 1),\n",
       "  ('back', 1),\n",
       "  ('be', 3),\n",
       "  ('beginbut', 1),\n",
       "  ('beginsanyway', 1),\n",
       "  ('chase', 1),\n",
       "  ('cold', 1),\n",
       "  ('couple', 1),\n",
       "  ('dear', 1),\n",
       "  ('december', 1),\n",
       "  ('do', 2),\n",
       "  ('dontknow', 1),\n",
       "  ('dopewhy', 1),\n",
       "  ('downward', 1),\n",
       "  ('dragonwhy', 1),\n",
       "  ('dreamoh', 1),\n",
       "  ('even', 1),\n",
       "  ('ever', 1),\n",
       "  ('explain', 1),\n",
       "  ('feel', 1),\n",
       "  ('feelfeel', 1),\n",
       "  ('feeli', 1),\n",
       "  ('friend', 1),\n",
       "  ('get', 2),\n",
       "  ('go', 2),\n",
       "  ('gram', 1),\n",
       "  ('happeningand', 1),\n",
       "  ('howi', 1),\n",
       "  ('ill', 1),\n",
       "  ('introduce', 1),\n",
       "  ('itfeel', 1),\n",
       "  ('itthen', 1),\n",
       "  ('itwithout', 1),\n",
       "  ('know', 1),\n",
       "  ('knowhow', 1),\n",
       "  ('lose', 1),\n",
       "  ('mother', 2),\n",
       "  ('motherit', 1),\n",
       "  ('muchbut', 1),\n",
       "  ('must', 1),\n",
       "  ('myselfi', 1),\n",
       "  ('myselfthe', 1),\n",
       "  ('myselfwhy', 1),\n",
       "  ('need', 1),\n",
       "  ('needlethen', 1),\n",
       "  ('never', 2),\n",
       "  ('next', 1),\n",
       "  ('nightbut', 1),\n",
       "  ('not', 3),\n",
       "  ('nowand', 1),\n",
       "  ('old', 1),\n",
       "  ('otherevery', 1),\n",
       "  ('payit', 1),\n",
       "  ('people', 1),\n",
       "  ('real', 1),\n",
       "  ('right', 1),\n",
       "  ('s', 1),\n",
       "  ('say', 1),\n",
       "  ('smack', 1),\n",
       "  ('sooni', 1),\n",
       "  ('speedwhy', 1),\n",
       "  ('spiral', 1),\n",
       "  ('start', 2),\n",
       "  ('startedit', 1),\n",
       "  ('suck', 1),\n",
       "  ('surehow', 1),\n",
       "  ('tell', 3),\n",
       "  ('thing', 1),\n",
       "  ('think', 1),\n",
       "  ('thoughtsin', 1),\n",
       "  ('tonightlike', 1),\n",
       "  ('try', 2),\n",
       "  ('use', 1),\n",
       "  ('what', 1),\n",
       "  ('whenthe', 1),\n",
       "  ('would', 1)]]"
      ]
     },
     "execution_count": 19,
     "metadata": {},
     "output_type": "execute_result"
    }
   ],
   "source": [
    "# Human readable format of corpus (term-frequency)\n",
    "[[(id2word[id], freq) for id, freq in cp] for cp in corpus[:1]]"
   ]
  },
  {
   "cell_type": "markdown",
   "metadata": {},
   "source": [
    "### Building the Topic Model\n",
    "We have everything required to train the LDA model. In addition to the corpus and dictionary, you need to provide the number of topics as well.\n",
    "\n",
    "Apart from that, alpha and eta are hyperparameters that affect sparsity of the topics. According to the Gensim docs, both defaults to 1.0/num_topics prior.\n",
    "\n",
    "chunksize is the number of documents to be used in each training chunk. update_every determines how often the model parameters should be updated and passes is the total number of training passes."
   ]
  },
  {
   "cell_type": "code",
   "execution_count": 20,
   "metadata": {},
   "outputs": [],
   "source": [
    "# Build LDA model\n",
    "lda_model = gensim.models.ldamodel.LdaModel(corpus=corpus,\n",
    "                                           id2word=id2word,\n",
    "                                           num_topics=20, \n",
    "                                           random_state=100,\n",
    "                                           update_every=1,\n",
    "                                           chunksize=100,\n",
    "                                           passes=10,\n",
    "                                           alpha='auto',\n",
    "                                           per_word_topics=True)"
   ]
  },
  {
   "cell_type": "code",
   "execution_count": 21,
   "metadata": {},
   "outputs": [
    {
     "name": "stdout",
     "output_type": "stream",
     "text": [
      "[(0,\n",
      "  '0.070*\"que\" + 0.063*\"la\" + 0.049*\"shake\" + 0.028*\"sin\" + 0.026*\"por\" + '\n",
      "  '0.025*\"land\" + 0.021*\"amor\" + 0.020*\"con\" + 0.015*\"una\" + 0.012*\"ser\"'),\n",
      " (1,\n",
      "  '0.017*\"job\" + 0.013*\"master\" + 0.011*\"youwe\" + 0.005*\"georgia\" + '\n",
      "  '0.002*\"exit\" + 0.002*\"up\" + 0.001*\"daysand\" + 0.000*\"party\" + 0.000*\"rag\" + '\n",
      "  '0.000*\"dich\"'),\n",
      " (2,\n",
      "  '0.044*\"who\" + 0.019*\"meoh\" + 0.017*\"tie\" + 0.007*\"rainand\" + 0.006*\"prince\" '\n",
      "  '+ 0.005*\"seeand\" + 0.003*\"toll\" + 0.002*\"timewell\" + 0.000*\"deserts_miss\" + '\n",
      "  '0.000*\"christma\"'),\n",
      " (3,\n",
      "  '0.016*\"hereand\" + 0.009*\"embrace\" + 0.008*\"liar\" + 0.001*\"knowni\" + '\n",
      "  '0.001*\"altar\" + 0.000*\"cruel\" + 0.000*\"dead\" + 0.000*\"found_mefound\" + '\n",
      "  '0.000*\"anybody\" + 0.000*\"headi\"'),\n",
      " (4,\n",
      "  '0.055*\"not\" + 0.047*\"be\" + 0.042*\"get\" + 0.028*\"go\" + 0.027*\"do\" + '\n",
      "  '0.026*\"know\" + 0.016*\"make\" + 0.015*\"come\" + 0.015*\"see\" + 0.014*\"want\"'),\n",
      " (5,\n",
      "  '0.014*\"queen\" + 0.014*\"swing\" + 0.004*\"alla\" + 0.002*\"againyoure\" + '\n",
      "  '0.000*\"lady\" + 0.000*\"che\" + 0.000*\"non\" + 0.000*\"maybethe\" + 0.000*\"nuh\" + '\n",
      "  '0.000*\"honeycombkeep\"'),\n",
      " (6,\n",
      "  '0.057*\"head\" + 0.035*\"fight\" + 0.022*\"scream\" + 0.021*\"pay\" + 0.021*\"blood\" '\n",
      "  '+ 0.020*\"son\" + 0.019*\"save\" + 0.018*\"rest\" + 0.015*\"flow\" + 0.013*\"wall\"'),\n",
      " (7,\n",
      "  '0.030*\"mama\" + 0.025*\"taste\" + 0.024*\"holy\" + 0.023*\"mine\" + 0.019*\"sea\" + '\n",
      "  '0.017*\"mad\" + 0.011*\"bounce\" + 0.011*\"bei\" + 0.010*\"crash\" + 0.010*\"chick\"'),\n",
      " (8,\n",
      "  '0.027*\"spirit\" + 0.006*\"eagle\" + 0.004*\"mystery\" + 0.000*\"gate\" + '\n",
      "  '0.000*\"walker\" + 0.000*\"annabel\" + 0.000*\"twin\" + 0.000*\"awayat\" + '\n",
      "  '0.000*\"damnedat\" + 0.000*\"blazeat\"'),\n",
      " (9,\n",
      "  '0.017*\"ocean\" + 0.008*\"youwell\" + 0.004*\"sabe\" + 0.003*\"fever\" + '\n",
      "  '0.003*\"sueo\" + 0.002*\"foryou\" + 0.001*\"smother\" + 0.000*\"makin_lovefeel\" + '\n",
      "  '0.000*\"toco_toco\" + 0.000*\"makin\"'),\n",
      " (10,\n",
      "  '0.036*\"heart\" + 0.033*\"fall\" + 0.026*\"world\" + 0.019*\"dream\" + '\n",
      "  '0.018*\"light\" + 0.017*\"day\" + 0.017*\"night\" + 0.015*\"eye\" + 0.015*\"life\" + '\n",
      "  '0.013*\"burn\"'),\n",
      " (11,\n",
      "  '0.058*\"sky\" + 0.054*\"die\" + 0.039*\"forever\" + 0.020*\"dem\" + 0.013*\"deny\" + '\n",
      "  '0.013*\"dust\" + 0.012*\"du\" + 0.009*\"seethe\" + 0.008*\"fi\" + 0.007*\"placeand\"'),\n",
      " (12,\n",
      "  '0.040*\"como\" + 0.027*\"nos\" + 0.017*\"solo\" + 0.015*\"un\" + 0.012*\"si\" + '\n",
      "  '0.007*\"ti\" + 0.006*\"quiere\" + 0.006*\"puede\" + 0.005*\"fin\" + 0.005*\"este\"'),\n",
      " (13,\n",
      "  '0.039*\"train\" + 0.000*\"honeymoon\" + 0.000*\"mneelle_ne\" + 0.000*\"sais_pluso\" '\n",
      "  '+ 0.000*\"vraiment\" + 0.000*\"lentranemai\" + 0.000*\"vois\" + '\n",
      "  '0.000*\"retiennemai\" + 0.000*\"lentranejnous\" + 0.000*\"toujour\"'),\n",
      " (14,\n",
      "  '0.052*\"carry\" + 0.050*\"lord\" + 0.017*\"lifei\" + 0.014*\"movin\" + 0.014*\"bind\" '\n",
      "  '+ 0.007*\"oclock\" + 0.004*\"lend\" + 0.004*\"lif\" + 0.004*\"violent\" + '\n",
      "  '0.003*\"cani\"'),\n",
      " (15,\n",
      "  '0.033*\"sad\" + 0.000*\"herbsman\" + 0.000*\"jude\" + 0.000*\"johnny\" + '\n",
      "  '0.000*\"softly\" + 0.000*\"daythat\" + 0.000*\"greyof\" + 0.000*\"rob\" + '\n",
      "  '0.000*\"sam\" + 0.000*\"parthow\"'),\n",
      " (16,\n",
      "  '0.021*\"pour\" + 0.012*\"pas\" + 0.012*\"qui\" + 0.011*\"et\" + 0.011*\"ship\" + '\n",
      "  '0.010*\"toi\" + 0.010*\"d\" + 0.010*\"dan\" + 0.010*\"tout\" + 0.009*\"c\"'),\n",
      " (17,\n",
      "  '0.019*\"dat\" + 0.010*\"daywhen\" + 0.006*\"som\" + 0.004*\"wat\" + '\n",
      "  '0.000*\"sett_tjommi\" + 0.000*\"gikk_bakken\" + 0.000*\"har_du\" + '\n",
      "  '0.000*\"gikk_bakkenoioioi\" + 0.000*\"bakken_gikk\" + 0.000*\"eg\"'),\n",
      " (18,\n",
      "  '0.060*\"part\" + 0.013*\"lucky\" + 0.011*\"drag\" + 0.007*\"anger\" + '\n",
      "  '0.006*\"timeto\" + 0.006*\"avoid\" + 0.004*\"hatred\" + 0.003*\"linei\" + '\n",
      "  '0.003*\"mineyou\" + 0.003*\"sunand\"'),\n",
      " (19,\n",
      "  '0.249*\"love\" + 0.070*\"baby\" + 0.034*\"spin\" + 0.020*\"meet\" + 0.018*\"rock\" + '\n",
      "  '0.016*\"touch\" + 0.016*\"meand\" + 0.015*\"youand\" + 0.015*\"ask\" + '\n",
      "  '0.013*\"street\"')]\n"
     ]
    }
   ],
   "source": [
    "# Print the Keyword in the 10 topics\n",
    "pprint(lda_model.print_topics())\n",
    "doc_lda = lda_model[corpus]"
   ]
  },
  {
   "cell_type": "code",
   "execution_count": 22,
   "metadata": {},
   "outputs": [
    {
     "name": "stdout",
     "output_type": "stream",
     "text": [
      "\n",
      "Perplexity:  -18.719782509023876\n",
      "\n",
      "Coherence Score:  0.46586449077042946\n"
     ]
    }
   ],
   "source": [
    "# Compute Perplexity\n",
    "print('\\nPerplexity: ', lda_model.log_perplexity(corpus))  # a measure of how good the model is. lower the better.\n",
    "\n",
    "# Compute Coherence Score\n",
    "coherence_model_lda = CoherenceModel(model=lda_model, texts=data_lemmatized, dictionary=id2word, coherence='c_v')\n",
    "coherence_lda = coherence_model_lda.get_coherence()\n",
    "print('\\nCoherence Score: ', coherence_lda)"
   ]
  },
  {
   "cell_type": "code",
   "execution_count": 23,
   "metadata": {},
   "outputs": [
    {
     "name": "stderr",
     "output_type": "stream",
     "text": [
      "/Users/neha/anaconda3/lib/python3.6/site-packages/pyLDAvis/_prepare.py:257: FutureWarning: Sorting because non-concatenation axis is not aligned. A future version\n",
      "of pandas will change to not sort by default.\n",
      "\n",
      "To accept the future behavior, pass 'sort=True'.\n",
      "\n",
      "To retain the current behavior and silence the warning, pass sort=False\n",
      "\n",
      "  return pd.concat([default_term_info] + list(topic_dfs))\n"
     ]
    },
    {
     "data": {
      "text/html": [
       "\n",
       "<link rel=\"stylesheet\" type=\"text/css\" href=\"https://cdn.rawgit.com/bmabey/pyLDAvis/files/ldavis.v1.0.0.css\">\n",
       "\n",
       "\n",
       "<div id=\"ldavis_el195791146155476086246338200\"></div>\n",
       "<script type=\"text/javascript\">\n",
       "\n",
       "var ldavis_el195791146155476086246338200_data = {\"mdsDat\": {\"x\": [-0.5400332067202447, -0.35964576633792467, -0.1137194817110933, 0.010985034231678898, 0.04459602727993962, 0.054776502017971865, 0.05931264708766964, 0.060697476890884526, 0.06486647229737075, 0.0643902845063981, 0.06520368959241937, 0.06531884461831017, 0.06544193355080863, 0.06540604279851549, 0.06541271449368534, 0.06539202517011902, 0.06540380257398891, 0.06539051415414361, 0.0654105167365574, 0.06539392676880099], \"y\": [0.05161484828758754, 0.08545893917446404, -0.3894151214809612, 0.022232221032301998, 0.02400286808717385, 0.021654010597773523, 0.019263042555364172, 0.020192115897474865, 0.015109097729184756, 0.015744246723891818, 0.01378867551840438, 0.01326501694122004, 0.01140749847602267, 0.010868023188227586, 0.010952036088643334, 0.010701364968641233, 0.010822174526095883, 0.010697855466222506, 0.010906659846380836, 0.010734426375886019], \"topics\": [1, 2, 3, 4, 5, 6, 7, 8, 9, 10, 11, 12, 13, 14, 15, 16, 17, 18, 19, 20], \"cluster\": [1, 1, 1, 1, 1, 1, 1, 1, 1, 1, 1, 1, 1, 1, 1, 1, 1, 1, 1, 1], \"Freq\": [72.40416717529297, 12.617105484008789, 5.8419976234436035, 2.523860454559326, 2.1597394943237305, 0.9500824809074402, 0.8370802998542786, 0.8154631853103638, 0.5769996643066406, 0.30284491181373596, 0.2122558355331421, 0.18728096783161163, 0.10142705589532852, 0.0874597579240799, 0.08656381070613861, 0.07481297105550766, 0.06591344624757767, 0.05874764174222946, 0.049077171832323074, 0.04712589457631111]}, \"tinfo\": {\"Category\": [\"Default\", \"Default\", \"Default\", \"Default\", \"Default\", \"Default\", \"Default\", \"Default\", \"Default\", \"Default\", \"Default\", \"Default\", \"Default\", \"Default\", \"Default\", \"Default\", \"Default\", \"Default\", \"Default\", \"Default\", \"Default\", \"Default\", \"Default\", \"Default\", \"Default\", \"Default\", \"Default\", \"Default\", \"Default\", \"Default\", \"Topic1\", \"Topic1\", \"Topic1\", \"Topic1\", \"Topic1\", \"Topic1\", \"Topic1\", \"Topic1\", \"Topic1\", \"Topic1\", \"Topic1\", \"Topic1\", \"Topic1\", \"Topic1\", \"Topic1\", \"Topic1\", \"Topic1\", \"Topic1\", \"Topic1\", \"Topic1\", \"Topic1\", \"Topic1\", \"Topic1\", \"Topic1\", \"Topic1\", \"Topic1\", \"Topic1\", \"Topic1\", \"Topic1\", \"Topic1\", \"Topic1\", \"Topic1\", \"Topic1\", \"Topic1\", \"Topic2\", \"Topic2\", \"Topic2\", \"Topic2\", \"Topic2\", \"Topic2\", \"Topic2\", \"Topic2\", \"Topic2\", \"Topic2\", \"Topic2\", \"Topic2\", \"Topic2\", \"Topic2\", \"Topic2\", \"Topic2\", \"Topic2\", \"Topic2\", \"Topic2\", \"Topic2\", \"Topic2\", \"Topic2\", \"Topic2\", \"Topic2\", \"Topic2\", \"Topic2\", \"Topic2\", \"Topic2\", \"Topic2\", \"Topic2\", \"Topic2\", \"Topic2\", \"Topic2\", \"Topic2\", \"Topic2\", \"Topic2\", \"Topic2\", \"Topic2\", \"Topic2\", \"Topic2\", \"Topic2\", \"Topic2\", \"Topic2\", \"Topic2\", \"Topic2\", \"Topic3\", \"Topic3\", \"Topic3\", \"Topic3\", \"Topic3\", \"Topic3\", \"Topic3\", \"Topic3\", \"Topic3\", \"Topic3\", \"Topic3\", \"Topic3\", \"Topic3\", \"Topic3\", \"Topic3\", \"Topic3\", \"Topic3\", \"Topic3\", \"Topic3\", \"Topic3\", \"Topic3\", \"Topic3\", \"Topic3\", \"Topic3\", \"Topic3\", \"Topic3\", \"Topic3\", \"Topic3\", \"Topic3\", \"Topic3\", \"Topic4\", \"Topic4\", \"Topic4\", \"Topic4\", \"Topic4\", \"Topic4\", \"Topic4\", \"Topic4\", \"Topic4\", \"Topic4\", \"Topic4\", \"Topic4\", \"Topic4\", \"Topic4\", \"Topic4\", \"Topic4\", \"Topic4\", \"Topic4\", \"Topic4\", \"Topic4\", \"Topic4\", \"Topic4\", \"Topic4\", \"Topic4\", \"Topic4\", \"Topic4\", \"Topic4\", \"Topic4\", \"Topic4\", \"Topic4\", \"Topic4\", \"Topic5\", \"Topic5\", \"Topic5\", \"Topic5\", \"Topic5\", \"Topic5\", \"Topic5\", \"Topic5\", \"Topic5\", \"Topic5\", \"Topic5\", \"Topic5\", \"Topic5\", \"Topic5\", \"Topic5\", \"Topic5\", \"Topic5\", \"Topic5\", \"Topic5\", \"Topic5\", \"Topic5\", \"Topic5\", \"Topic5\", \"Topic5\", \"Topic5\", \"Topic5\", \"Topic5\", \"Topic5\", \"Topic5\", \"Topic5\", \"Topic5\", \"Topic5\", \"Topic6\", \"Topic6\", \"Topic6\", \"Topic6\", \"Topic6\", \"Topic6\", \"Topic6\", \"Topic6\", \"Topic6\", \"Topic6\", \"Topic6\", \"Topic6\", \"Topic6\", \"Topic6\", \"Topic6\", \"Topic6\", \"Topic6\", \"Topic6\", \"Topic6\", \"Topic6\", \"Topic6\", \"Topic6\", \"Topic6\", \"Topic6\", \"Topic6\", \"Topic6\", \"Topic6\", \"Topic6\", \"Topic6\", \"Topic6\", \"Topic7\", \"Topic7\", \"Topic7\", \"Topic7\", \"Topic7\", \"Topic7\", \"Topic7\", \"Topic7\", \"Topic7\", \"Topic7\", \"Topic7\", \"Topic7\", \"Topic7\", \"Topic7\", \"Topic7\", \"Topic7\", \"Topic7\", \"Topic7\", \"Topic7\", \"Topic7\", \"Topic7\", \"Topic7\", \"Topic7\", \"Topic7\", \"Topic7\", \"Topic7\", \"Topic7\", \"Topic7\", \"Topic7\", \"Topic7\", \"Topic8\", \"Topic8\", \"Topic8\", \"Topic8\", \"Topic8\", \"Topic8\", \"Topic8\", \"Topic8\", \"Topic8\", \"Topic8\", \"Topic8\", \"Topic8\", \"Topic8\", \"Topic8\", \"Topic8\", \"Topic8\", \"Topic8\", \"Topic8\", \"Topic8\", \"Topic8\", \"Topic8\", \"Topic8\", \"Topic8\", \"Topic8\", \"Topic8\", \"Topic8\", \"Topic8\", \"Topic8\", \"Topic8\", \"Topic8\", \"Topic8\", \"Topic8\", \"Topic8\", \"Topic8\", \"Topic9\", \"Topic9\", \"Topic9\", \"Topic9\", \"Topic9\", \"Topic9\", \"Topic9\", \"Topic9\", \"Topic9\", \"Topic9\", \"Topic9\", \"Topic9\", \"Topic9\", \"Topic9\", \"Topic9\", \"Topic9\", \"Topic9\", \"Topic9\", \"Topic9\", \"Topic9\", \"Topic9\", \"Topic9\", \"Topic9\", \"Topic9\", \"Topic9\", \"Topic9\", \"Topic9\", \"Topic9\", \"Topic9\", \"Topic9\", \"Topic9\", \"Topic9\", \"Topic9\", \"Topic10\", \"Topic10\", \"Topic10\", \"Topic10\", \"Topic10\", \"Topic10\", \"Topic10\", \"Topic10\", \"Topic10\", \"Topic10\", \"Topic10\", \"Topic10\", \"Topic10\", \"Topic10\", \"Topic10\", \"Topic10\", \"Topic10\", \"Topic10\", \"Topic10\", \"Topic10\", \"Topic10\", \"Topic10\", \"Topic10\", \"Topic10\", \"Topic10\", \"Topic10\", \"Topic10\", \"Topic10\", \"Topic10\", \"Topic10\", \"Topic10\", \"Topic10\", \"Topic10\", \"Topic10\", \"Topic10\", \"Topic10\", \"Topic10\", \"Topic10\", \"Topic10\", \"Topic10\", \"Topic10\", \"Topic11\", \"Topic11\", \"Topic11\", \"Topic11\", \"Topic11\", \"Topic11\", \"Topic11\", \"Topic11\", \"Topic11\", \"Topic11\", \"Topic11\", \"Topic11\", \"Topic11\", \"Topic11\", \"Topic11\", \"Topic11\", \"Topic11\", \"Topic11\", \"Topic11\", \"Topic11\", \"Topic11\", \"Topic11\", \"Topic11\", \"Topic11\", \"Topic11\", \"Topic11\", \"Topic11\", \"Topic11\", \"Topic11\", \"Topic11\", \"Topic11\", \"Topic11\", \"Topic11\", \"Topic11\", \"Topic11\", \"Topic11\", \"Topic11\", \"Topic11\", \"Topic11\", \"Topic11\", \"Topic11\", \"Topic11\", \"Topic12\", \"Topic12\", \"Topic12\", \"Topic12\", \"Topic12\", \"Topic12\", \"Topic12\", \"Topic12\", \"Topic12\", \"Topic12\", \"Topic12\", \"Topic12\", \"Topic12\", \"Topic12\", \"Topic12\", \"Topic12\", \"Topic12\", \"Topic12\", \"Topic12\", \"Topic12\", \"Topic12\", \"Topic12\", \"Topic12\", \"Topic12\", \"Topic12\", \"Topic12\", \"Topic12\", \"Topic12\", \"Topic12\", \"Topic12\", \"Topic12\", \"Topic12\", \"Topic12\", \"Topic12\", \"Topic12\", \"Topic12\", \"Topic12\", \"Topic12\", \"Topic12\", \"Topic12\", \"Topic12\", \"Topic12\", \"Topic13\", \"Topic13\", \"Topic13\", \"Topic13\", \"Topic13\", \"Topic13\", \"Topic13\", \"Topic13\", \"Topic13\", \"Topic13\", \"Topic13\", \"Topic13\", \"Topic13\", \"Topic13\", \"Topic13\", \"Topic13\", \"Topic13\", \"Topic13\", \"Topic13\", \"Topic13\", \"Topic13\", \"Topic13\", \"Topic13\", \"Topic13\", \"Topic13\", \"Topic13\", \"Topic13\", \"Topic13\", \"Topic13\", \"Topic13\", \"Topic13\", \"Topic13\", \"Topic13\", \"Topic13\", \"Topic13\", \"Topic13\", \"Topic13\", \"Topic13\", \"Topic13\", \"Topic13\", \"Topic13\", \"Topic13\", \"Topic13\", \"Topic13\", \"Topic13\", \"Topic13\", \"Topic13\", \"Topic13\", \"Topic13\", \"Topic13\", \"Topic13\", \"Topic14\", \"Topic14\", \"Topic14\", \"Topic14\", \"Topic14\", \"Topic14\", \"Topic14\", \"Topic14\", \"Topic14\", \"Topic14\", \"Topic14\", \"Topic14\", \"Topic14\", \"Topic14\", \"Topic14\", \"Topic14\", \"Topic14\", \"Topic14\", \"Topic14\", \"Topic14\", \"Topic14\", \"Topic14\", \"Topic14\", \"Topic14\", \"Topic14\", \"Topic14\", \"Topic14\", \"Topic14\", \"Topic14\", \"Topic14\", \"Topic14\", \"Topic14\", \"Topic14\", \"Topic14\", \"Topic14\", \"Topic14\", \"Topic14\", \"Topic14\", \"Topic14\", \"Topic14\", \"Topic14\", \"Topic14\", \"Topic14\", \"Topic14\", \"Topic14\", \"Topic14\", \"Topic14\", \"Topic14\", \"Topic14\", \"Topic14\", \"Topic14\", \"Topic14\", \"Topic14\", \"Topic14\", \"Topic14\", \"Topic14\", \"Topic15\", \"Topic15\", \"Topic15\", \"Topic15\", \"Topic15\", \"Topic15\", \"Topic15\", \"Topic15\", \"Topic15\", \"Topic15\", \"Topic15\", \"Topic15\", \"Topic15\", \"Topic15\", \"Topic15\", \"Topic15\", \"Topic15\", \"Topic15\", \"Topic15\", \"Topic15\", \"Topic15\", \"Topic15\", \"Topic15\", \"Topic15\", \"Topic15\", \"Topic15\", \"Topic15\", \"Topic15\", \"Topic15\", \"Topic15\", \"Topic15\", \"Topic16\", \"Topic16\", \"Topic16\", \"Topic16\", \"Topic16\", \"Topic16\", \"Topic16\", \"Topic16\", \"Topic16\", \"Topic16\", \"Topic16\", \"Topic16\", \"Topic16\", \"Topic16\", \"Topic16\", \"Topic16\", \"Topic16\", \"Topic16\", \"Topic16\", \"Topic16\", \"Topic16\", \"Topic16\", \"Topic16\", \"Topic16\", \"Topic16\", \"Topic16\", \"Topic16\", \"Topic16\", \"Topic16\", \"Topic16\", \"Topic16\", \"Topic16\", \"Topic16\", \"Topic16\", \"Topic16\", \"Topic16\", \"Topic16\", \"Topic16\", \"Topic16\", \"Topic16\", \"Topic16\", \"Topic16\", \"Topic16\", \"Topic16\", \"Topic16\", \"Topic16\", \"Topic16\", \"Topic16\", \"Topic16\", \"Topic17\", \"Topic17\", \"Topic17\", \"Topic17\", \"Topic17\", \"Topic17\", \"Topic17\", \"Topic17\", \"Topic17\", \"Topic17\", \"Topic17\", \"Topic17\", \"Topic17\", \"Topic17\", \"Topic17\", \"Topic17\", \"Topic17\", \"Topic17\", \"Topic17\", \"Topic17\", \"Topic17\", \"Topic17\", \"Topic17\", \"Topic17\", \"Topic17\", \"Topic17\", \"Topic17\", \"Topic17\", \"Topic17\", \"Topic17\", \"Topic17\", \"Topic17\", \"Topic17\", \"Topic17\", \"Topic17\", \"Topic17\", \"Topic17\", \"Topic17\", \"Topic17\", \"Topic17\", \"Topic17\", \"Topic17\", \"Topic17\", \"Topic17\", \"Topic17\", \"Topic17\", \"Topic17\", \"Topic17\", \"Topic17\", \"Topic17\", \"Topic17\", \"Topic17\", \"Topic17\", \"Topic17\", \"Topic17\", \"Topic17\", \"Topic17\", \"Topic17\", \"Topic17\", \"Topic17\", \"Topic17\", \"Topic17\", \"Topic17\", \"Topic17\", \"Topic17\", \"Topic17\", \"Topic17\", \"Topic17\", \"Topic17\", \"Topic17\", \"Topic17\", \"Topic17\", \"Topic17\", \"Topic17\", \"Topic17\", \"Topic17\", \"Topic17\", \"Topic17\", \"Topic17\", \"Topic17\", \"Topic17\", \"Topic17\", \"Topic17\", \"Topic17\", \"Topic18\", \"Topic18\", \"Topic18\", \"Topic18\", \"Topic18\", \"Topic18\", \"Topic18\", \"Topic18\", \"Topic18\", \"Topic18\", \"Topic18\", \"Topic18\", \"Topic18\", \"Topic18\", \"Topic18\", \"Topic18\", \"Topic18\", \"Topic18\", \"Topic18\", \"Topic18\", \"Topic18\", \"Topic18\", \"Topic18\", \"Topic18\", \"Topic18\", \"Topic18\", \"Topic18\", \"Topic18\", \"Topic18\", \"Topic18\", \"Topic18\", \"Topic18\", \"Topic18\", \"Topic18\", \"Topic18\", \"Topic18\", \"Topic18\", \"Topic18\", \"Topic18\", \"Topic18\", \"Topic18\", \"Topic18\", \"Topic18\", \"Topic18\", \"Topic18\", \"Topic18\", \"Topic18\", \"Topic18\", \"Topic18\", \"Topic18\", \"Topic18\", \"Topic18\", \"Topic18\", \"Topic18\", \"Topic18\", \"Topic18\", \"Topic18\", \"Topic18\", \"Topic19\", \"Topic19\", \"Topic19\", \"Topic19\", \"Topic19\", \"Topic19\", \"Topic19\", \"Topic19\", \"Topic19\", \"Topic19\", \"Topic19\", \"Topic19\", \"Topic19\", \"Topic19\", \"Topic19\", \"Topic19\", \"Topic19\", \"Topic19\", \"Topic19\", \"Topic19\", \"Topic19\", \"Topic19\", \"Topic19\", \"Topic19\", \"Topic19\", \"Topic19\", \"Topic19\", \"Topic19\", \"Topic19\", \"Topic19\", \"Topic19\", \"Topic19\", \"Topic19\", \"Topic19\", \"Topic19\", \"Topic19\", \"Topic19\", \"Topic19\", \"Topic19\", \"Topic19\", \"Topic19\", \"Topic19\", \"Topic19\", \"Topic19\", \"Topic19\", \"Topic19\", \"Topic19\", \"Topic19\", \"Topic19\", \"Topic19\", \"Topic19\", \"Topic19\", \"Topic19\", \"Topic19\", \"Topic19\", \"Topic19\", \"Topic19\", \"Topic19\", \"Topic19\", \"Topic19\", \"Topic19\", \"Topic19\", \"Topic19\", \"Topic19\", \"Topic19\", \"Topic19\", \"Topic19\", \"Topic19\", \"Topic19\", \"Topic19\", \"Topic19\", \"Topic19\", \"Topic19\", \"Topic19\", \"Topic19\", \"Topic19\", \"Topic19\", \"Topic19\", \"Topic19\", \"Topic19\", \"Topic19\", \"Topic19\", \"Topic19\", \"Topic19\", \"Topic19\", \"Topic19\", \"Topic20\", \"Topic20\", \"Topic20\", \"Topic20\", \"Topic20\", \"Topic20\", \"Topic20\", \"Topic20\", \"Topic20\", \"Topic20\", \"Topic20\", \"Topic20\", \"Topic20\", \"Topic20\", \"Topic20\", \"Topic20\", \"Topic20\", \"Topic20\", \"Topic20\", \"Topic20\", \"Topic20\", \"Topic20\", \"Topic20\", \"Topic20\", \"Topic20\", \"Topic20\", \"Topic20\", \"Topic20\", \"Topic20\", \"Topic20\", \"Topic20\", \"Topic20\", \"Topic20\", \"Topic20\", \"Topic20\", \"Topic20\", \"Topic20\", \"Topic20\", \"Topic20\", \"Topic20\", \"Topic20\", \"Topic20\", \"Topic20\", \"Topic20\", \"Topic20\", \"Topic20\", \"Topic20\", \"Topic20\", \"Topic20\", \"Topic20\", \"Topic20\", \"Topic20\", \"Topic20\", \"Topic20\"], \"Freq\": [40552.0, 110809.0, 11460.0, 94558.0, 84667.0, 12635.0, 11554.0, 4758.0, 12054.0, 56655.0, 54315.0, 12416.0, 52577.0, 4196.0, 5549.0, 13202.0, 3994.0, 8856.0, 3937.0, 6713.0, 7494.0, 6248.0, 2956.0, 33138.0, 4505.0, 28991.0, 3181.0, 2430.0, 27956.0, 27949.0, 110809.25, 94557.484375, 84666.796875, 56655.1171875, 54314.94140625, 52576.47265625, 33138.44140625, 28990.58984375, 27955.642578125, 27949.091796875, 27035.55078125, 26171.216796875, 25312.955078125, 22650.798828125, 22369.412109375, 19271.318359375, 19209.703125, 19012.923828125, 18945.3125, 18062.4609375, 17560.376953125, 17538.884765625, 16475.486328125, 15456.2392578125, 14521.3857421875, 14174.3076171875, 13816.9638671875, 13509.7216796875, 13181.884765625, 13210.501953125, 29900.16796875, 22719.716796875, 22800.4140625, 30267.751953125, 12634.8828125, 11553.8642578125, 6713.263671875, 6248.341796875, 4505.337890625, 3918.681640625, 3913.242431640625, 3812.048095703125, 3745.916748046875, 3703.11279296875, 3438.515380859375, 3412.365966796875, 3089.28564453125, 2675.82373046875, 2651.43408203125, 2395.1787109375, 2347.63330078125, 2317.75830078125, 2311.411376953125, 2161.904052734375, 2153.906494140625, 2016.5355224609375, 1986.0350341796875, 1965.897216796875, 1850.1668701171875, 1844.104248046875, 1833.1181640625, 1817.5135498046875, 1782.763671875, 1778.3544921875, 3715.7412109375, 9166.921875, 3133.69140625, 3143.22119140625, 5443.59716796875, 5993.24267578125, 6074.61962890625, 5239.71435546875, 2296.31396484375, 2920.671875, 2666.13525390625, 2432.499755859375, 2619.5498046875, 2554.68994140625, 2550.230224609375, 40551.63671875, 11459.833984375, 5548.8388671875, 3180.475830078125, 2971.455322265625, 2537.16357421875, 2536.804931640625, 2514.208984375, 2449.09619140625, 2081.3193359375, 1924.03076171875, 1827.8663330078125, 1703.0894775390625, 1704.2713623046875, 1625.5838623046875, 1574.388916015625, 1526.3773193359375, 1418.9969482421875, 1323.6773681640625, 1317.6322021484375, 1298.205078125, 1035.7972412109375, 1006.1788940429688, 1000.7537231445312, 957.9337158203125, 923.4376831054688, 909.0535888671875, 891.7498168945312, 852.341796875, 842.5896606445312, 3993.931640625, 2429.58837890625, 1521.2220458984375, 1475.9033203125, 1443.0938720703125, 1401.4698486328125, 1357.0582275390625, 1263.9949951171875, 1080.412353515625, 932.293701171875, 819.5814819335938, 803.0794677734375, 711.4852294921875, 706.2365112304688, 686.83642578125, 674.6436767578125, 666.3491821289062, 584.98974609375, 559.1293334960938, 556.789306640625, 547.9271240234375, 485.8366394042969, 481.8066101074219, 467.89923095703125, 439.49627685546875, 437.29278564453125, 436.3352355957031, 429.3477783203125, 410.8554382324219, 399.3948669433594, 530.4181518554688, 4195.78515625, 2955.8251953125, 1658.2703857421875, 1545.6519775390625, 1510.4190673828125, 1250.2799072265625, 1211.3514404296875, 921.020263671875, 734.169189453125, 636.3966064453125, 596.4818115234375, 573.6990966796875, 520.9843139648438, 506.9905700683594, 432.26031494140625, 429.0014953613281, 385.52410888671875, 355.6615295410156, 353.06951904296875, 334.6063232421875, 326.7140808105469, 318.2846984863281, 263.9864501953125, 213.6973114013672, 213.34136962890625, 166.1993408203125, 133.53268432617188, 124.00828552246094, 112.78173065185547, 94.9683609008789, 3787.188720703125, 579.7362670898438, 783.7230224609375, 671.8829956054688, 643.0633544921875, 613.8945922851562, 508.88189697265625, 462.3324279785156, 297.52581787109375, 282.8009338378906, 266.79241943359375, 252.7213592529297, 247.41665649414062, 242.77674865722656, 223.6216278076172, 208.29873657226562, 177.7828826904297, 176.84396362304688, 157.36871337890625, 155.57534790039062, 148.9775390625, 142.6876678466797, 136.90054321289062, 124.07110595703125, 122.31777954101562, 108.4345703125, 103.24833679199219, 102.01068878173828, 90.6686782836914, 90.49494934082031, 86.80435943603516, 84.7022476196289, 1353.3734130859375, 914.5034790039062, 468.3235778808594, 313.1798400878906, 294.6812438964844, 199.1977996826172, 180.88893127441406, 160.81393432617188, 112.63270568847656, 72.35826110839844, 64.16907501220703, 47.04806900024414, 42.73903274536133, 39.56553649902344, 37.53347396850586, 5.520328044891357, 277.5321960449219, 1264.485107421875, 0.04376738518476486, 0.043748144060373306, 0.043727319687604904, 0.04372348263859749, 0.043719690293073654, 0.04371752217411995, 0.043714456260204315, 0.04370968043804169, 0.043707266449928284, 0.04370695352554321, 0.04370485618710518, 0.04370320588350296, 274.2293395996094, 263.6051025390625, 255.7994384765625, 243.16790771484375, 237.73361206054688, 232.9716033935547, 225.67813110351562, 216.43531799316406, 199.97398376464844, 159.61892700195312, 158.33706665039062, 152.55873107910156, 150.79331970214844, 148.62557983398438, 148.21932983398438, 148.12171936035156, 126.52564239501953, 125.23413848876953, 102.73153686523438, 94.1780776977539, 93.99763488769531, 90.59307861328125, 90.30504608154297, 84.78260040283203, 83.62577819824219, 82.18864440917969, 74.7048110961914, 73.91413116455078, 65.820068359375, 65.7577896118164, 469.80023193359375, 117.57087707519531, 149.33285522460938, 93.08242797851562, 638.7625732421875, 430.0335388183594, 271.500732421875, 240.58433532714844, 118.09130859375, 98.90290832519531, 91.35211181640625, 86.70588684082031, 78.64485168457031, 62.60309982299805, 49.36100769042969, 38.84730529785156, 22.46929931640625, 4.568880558013916, 194.7053985595703, 0.03413597121834755, 0.03414110839366913, 0.03413475304841995, 0.034132219851017, 0.034132219851017, 0.034132219851017, 0.034132011234760284, 0.034133076667785645, 0.03413024917244911, 0.03413650020956993, 0.034131571650505066, 0.03413338586688042, 0.03412942588329315, 0.034132231026887894, 0.034128278493881226, 0.034128278493881226, 0.03413156419992447, 0.034129880368709564, 438.6455383300781, 424.7012634277344, 142.75132751464844, 116.89895629882812, 114.32051086425781, 61.700225830078125, 35.99634552001953, 32.671844482421875, 31.374929428100586, 25.37054443359375, 15.066186904907227, 12.379908561706543, 0.017466625198721886, 0.017465824261307716, 0.01746523752808571, 0.017465226352214813, 0.017465222626924515, 0.017465082928538322, 0.017464984208345413, 0.01746470294892788, 0.01746470294892788, 0.01746470294892788, 0.01746472343802452, 0.01746464893221855, 0.017464647069573402, 0.017464647069573402, 0.017464594915509224, 0.017464596778154373, 0.017464660108089447, 0.01746479421854019, 0.017464948818087578, 0.017464756965637207, 0.017465023323893547, 0.01746487244963646, 0.017464851960539818, 0.017464786767959595, 0.01746475324034691, 0.017465144395828247, 0.01746493950486183, 0.017464933916926384, 0.017464781180024147, 354.35272216796875, 73.9321517944336, 66.15340423583984, 40.337284088134766, 38.212242126464844, 33.61870574951172, 23.29102325439453, 19.62849998474121, 17.819570541381836, 16.25839614868164, 3.7546310424804688, 0.013066763989627361, 0.01306669320911169, 0.013066927902400494, 0.013066686689853668, 0.01306681614369154, 0.013066691346466541, 0.013066626153886318, 0.013066712766885757, 0.013066613115370274, 0.013066611252725124, 0.013066528365015984, 0.013066528365015984, 0.013066528365015984, 0.013066641055047512, 0.013066504150629044, 0.013066504150629044, 0.013066531158983707, 0.013066504150629044, 0.013066528365015984, 0.013066533952951431, 0.013066740706562996, 0.013066505081951618, 0.013066512532532215, 0.013066607527434826, 0.013066588900983334, 0.013066662475466728, 0.013066539540886879, 0.013066601939499378, 0.013066606596112251, 0.01306656189262867, 0.013066546060144901, 227.21401977539062, 97.8308334350586, 88.46744537353516, 34.30513381958008, 29.020305633544922, 27.7561092376709, 17.55862808227539, 8.422284126281738, 0.011719831265509129, 0.011719509027898312, 0.011719293892383575, 0.01171906664967537, 0.01171905267983675, 0.01171905267983675, 0.011719495989382267, 0.011719105765223503, 0.011718991212546825, 0.011718991212546825, 0.01171895768493414, 0.011718946509063244, 0.011718995869159698, 0.011718995869159698, 0.011718923225998878, 0.01171892136335373, 0.011718890629708767, 0.011718890629708767, 0.011718890629708767, 0.011718890629708767, 0.01171888317912817, 0.011718887835741043, 0.011718995869159698, 0.011718939058482647, 0.011718939058482647, 0.011718939058482647, 0.011718887835741043, 0.011718999594449997, 0.011718912050127983, 0.011719012632966042, 0.011719122529029846, 0.011718995869159698, 0.01171895768493414, 0.01171894371509552, 49.16106414794922, 37.59380340576172, 30.2192325592041, 15.446272850036621, 5.174678802490234, 5.129518985748291, 3.8445613384246826, 0.00669892318546772, 0.006698889192193747, 0.006698906421661377, 0.006698885466903448, 0.006698885466903448, 0.006698885466903448, 0.006698885466903448, 0.006698885466903448, 0.0066988905891776085, 0.006698894780129194, 0.006698865443468094, 0.006698865443468094, 0.006698885466903448, 0.006698962301015854, 0.006698878016322851, 0.006698878016322851, 0.006698878016322851, 0.006698877550661564, 0.006698865443468094, 0.0066988542675971985, 0.0066988542675971985, 0.0066988542675971985, 0.0066988542675971985, 0.0066988542675971985, 0.0066988542675971985, 0.0066988542675971985, 0.0066988542675971985, 0.0066988542675971985, 0.0066988542675971985, 0.0066988542675971985, 0.006698869168758392, 0.006698880810290575, 0.006698881275951862, 0.0066988542675971985, 0.006698861718177795, 0.006698858458548784, 0.0066989329643547535, 0.006698858458548784, 0.006698976270854473, 0.006698858458548784, 0.006698872894048691, 0.006698861718177795, 0.006698872894048691, 0.0066988724283874035, 40.486366271972656, 19.527999877929688, 9.505114555358887, 8.274398803710938, 6.377617835998535, 5.600249290466309, 2.47467041015625, 0.0058623021468520164, 0.005862071178853512, 0.005861913785338402, 0.0058618756011128426, 0.005861828103661537, 0.005861828103661537, 0.005861836485564709, 0.0058620888739824295, 0.005861837882548571, 0.005861884914338589, 0.005861781071871519, 0.0058617847971618176, 0.0058617847971618176, 0.005861768964678049, 0.005861768964678049, 0.005861768964678049, 0.005861768964678049, 0.005861768964678049, 0.005861814599484205, 0.005861768964678049, 0.005861781537532806, 0.005861781071871519, 0.005861762911081314, 0.005861763376742601, 0.005861763376742601, 0.005861817393451929, 0.005861855577677488, 0.005861793644726276, 0.005861793644726276, 0.005861793644726276, 0.005861806683242321, 0.005861812736839056, 0.005861812736839056, 0.005861812736839056, 0.005861812736839056, 0.005861861165612936, 0.005861812736839056, 0.005861818790435791, 0.00586185185238719, 0.005861860234290361, 0.005861803889274597, 0.005861852318048477, 0.005861883983016014, 0.005861953366547823, 0.005861822981387377, 0.005861830897629261, 0.005861860234290361, 0.005861877463757992, 0.005861836485564709, 46.17210388183594, 25.193201065063477, 15.011818885803223, 10.06729793548584, 0.005790595430880785, 0.005790443625301123, 0.005790208000689745, 0.005790140014141798, 0.005789988208562136, 0.005789836402982473, 0.005789684597402811, 0.005789534654468298, 0.005789532791823149, 0.00578939588740468, 0.005789380986243486, 0.005789387505501509, 0.0057893553748726845, 0.005789324175566435, 0.005789310671389103, 0.005789445247501135, 0.005789288319647312, 0.005789276212453842, 0.005789271090179682, 0.005789271090179682, 0.005789229180663824, 0.005789229180663824, 0.005789229180663824, 0.005789229180663824, 0.005789203569293022, 0.005789158400148153, 0.005789510440081358, 29.841073989868164, 29.462751388549805, 7.379334449768066, 3.164743423461914, 0.005036851391196251, 0.005036851391196251, 0.005036851391196251, 0.005036836955696344, 0.005036851391196251, 0.00503681693226099, 0.00503681693226099, 0.00503681693226099, 0.00503681693226099, 0.005036814603954554, 0.00503681693226099, 0.005036814603954554, 0.005036814138293266, 0.005036816466599703, 0.00503681693226099, 0.00503681693226099, 0.00503681693226099, 0.00503681693226099, 0.005036801565438509, 0.005036801565438509, 0.005036802962422371, 0.005036801565438509, 0.005036801565438509, 0.005036801565438509, 0.005036801565438509, 0.005036801565438509, 0.005036801565438509, 0.005036801565438509, 0.005036808084696531, 0.0050368476659059525, 0.0050370763055980206, 0.005036836955696344, 0.00503681693226099, 0.00503681693226099, 0.005036832299083471, 0.005036808550357819, 0.005036819260567427, 0.005036843940615654, 0.00503681693226099, 0.005036830902099609, 0.00503692077472806, 0.005036851391196251, 0.005036873277276754, 0.00503682903945446, 0.00503681693226099, 49.177303314208984, 10.765117645263672, 7.303805351257324, 0.004423860926181078, 0.004423412960022688, 0.004423412960022688, 0.004423412960022688, 0.004423412960022688, 0.004423412960022688, 0.004423412960022688, 0.0044234213419258595, 0.004423412960022688, 0.0044234138913452625, 0.004423393867909908, 0.004423375707119703, 0.004423435311764479, 0.004423350095748901, 0.0044233594089746475, 0.0044233473017811775, 0.004423338919878006, 0.004423338919878006, 0.004423338919878006, 0.004423338919878006, 0.004423338919878006, 0.004423338919878006, 0.004423338919878006, 0.004423338919878006, 0.00442334171384573, 0.00442334171384573, 0.00442333472892642, 0.00442333472892642, 0.004423391539603472, 0.004423355218023062, 0.004423390608280897, 0.004423373844474554, 0.004423346370458603, 0.004423346370458603, 0.004423346370458603, 0.004423346370458603, 0.004423346370458603, 0.004423346370458603, 0.004423346370458603, 0.004423346370458603, 0.004423346370458603, 0.004423346370458603, 0.004423346370458603, 0.004423346370458603, 0.004423346370458603, 0.0044233547523617744, 0.0044233547523617744, 0.004423346370458603, 0.004423346370458603, 0.004423346370458603, 0.004423346370458603, 0.004423346370458603, 0.004423346370458603, 0.004423346370458603, 0.0044233547523617744, 0.004423346370458603, 0.004423346370458603, 0.004423346370458603, 0.004423346370458603, 0.004423346370458603, 0.004423346370458603, 0.004423346370458603, 0.004423340782523155, 0.004423346370458603, 0.004423346370458603, 0.004423346370458603, 0.004423346370458603, 0.004423346370458603, 0.004423346370458603, 0.004423346370458603, 0.004423346370458603, 0.004423346370458603, 0.004423394799232483, 0.004423380363732576, 0.004423346370458603, 0.004423376638442278, 0.004423358477652073, 0.0044233547523617744, 0.004423357080668211, 0.00442335894331336, 0.0044233594089746475, 54.61772918701172, 0.0039558024145662785, 0.003955794498324394, 0.003955792170017958, 0.003955792170017958, 0.003955763764679432, 0.003955763764679432, 0.003955763764679432, 0.003955763764679432, 0.003955763764679432, 0.003955764230340719, 0.003955764230340719, 0.003955763764679432, 0.003955744672566652, 0.003955744672566652, 0.003955792635679245, 0.003955744672566652, 0.003955744672566652, 0.003955739084631205, 0.003955739084631205, 0.003955739084631205, 0.003955739084631205, 0.003955739084631205, 0.003955739084631205, 0.003955739084631205, 0.003955739084631205, 0.003955739084631205, 0.00395573815330863, 0.003955739084631205, 0.003955739084631205, 0.003955739084631205, 0.003955739084631205, 0.003955739084631205, 0.003955739084631205, 0.00395576748996973, 0.00395579356700182, 0.003955739084631205, 0.003955739084631205, 0.003955746069550514, 0.00395576935261488, 0.003955740015953779, 0.003955744672566652, 0.003955748863518238, 0.0039557404816150665, 0.003955749794840813, 0.003955764230340719, 0.0039557525888085365, 0.00395575538277626, 0.00395575538277626, 0.003955739084631205, 0.0039557344280183315, 0.003955763764679432, 0.003955745603889227, 0.003955745603889227, 0.003955742344260216, 0.003955743741244078, 0.003955744672566652, 0.003955758176743984, 52.654815673828125, 0.2986844778060913, 0.0032867961563169956, 0.0032867961563169956, 0.0032866084948182106, 0.003286514664068818, 0.003286421298980713, 0.003286421298980713, 0.003286421298980713, 0.003286421298980713, 0.003286421298980713, 0.003286421298980713, 0.003286421298980713, 0.00328636821359396, 0.003286421298980713, 0.003286332357674837, 0.003286332357674837, 0.003286332357674837, 0.0032863274682313204, 0.0032863274682313204, 0.0032863274682313204, 0.0032863274682313204, 0.0032863274682313204, 0.0032863274682313204, 0.0032863274682313204, 0.0032863274682313204, 0.0032863274682313204, 0.0032863274682313204, 0.0032863274682313204, 0.0032863274682313204, 0.0032863274682313204, 0.0032863274682313204, 0.0032863274682313204, 0.0032863274682313204, 0.0032863274682313204, 0.0032863274682313204, 0.0032863274682313204, 0.0032863274682313204, 0.003286327701061964, 0.0032863274682313204, 0.0032863274682313204, 0.0032863274682313204, 0.0032863274682313204, 0.0032863274682313204, 0.0032863274682313204, 0.0032863274682313204, 0.0032863274682313204, 0.0032863274682313204, 0.0032863274682313204, 0.0032863274682313204, 0.0032863274682313204, 0.0032863274682313204, 0.0032863274682313204, 0.0032863274682313204, 0.0032863274682313204, 0.0032863274682313204, 0.0032863274682313204, 0.0032863274682313204, 0.0032863274682313204, 0.0032863274682313204, 0.0032863274682313204, 0.0032863274682313204, 0.0032863274682313204, 0.0032863274682313204, 0.0032863274682313204, 0.0032863274682313204, 0.0032863274682313204, 0.0032863274682313204, 0.0032863274682313204, 0.0032863274682313204, 0.0032863274682313204, 0.0032863274682313204, 0.0032863274682313204, 0.0032863274682313204, 0.003286327701061964, 0.0032863274682313204, 0.0032863274682313204, 0.0032863274682313204, 0.0032863353844732046, 0.0032863274682313204, 0.0032863274682313204, 0.0032863274682313204, 0.0032863274682313204, 0.0032863274682313204, 0.0032863302621990442, 0.0032863274682313204, 20.738779067993164, 11.86308765411377, 10.304588317871094, 1.309900164604187, 0.8790592551231384, 0.003170100739225745, 0.003170049050822854, 0.003170049050822854, 0.003170049050822854, 0.003170049050822854, 0.003170049050822854, 0.003170049050822854, 0.003170049050822854, 0.0031701072584837675, 0.003170049050822854, 0.003170049050822854, 0.003170049050822854, 0.0031700509134680033, 0.003170032985508442, 0.0031700325198471546, 0.0031700325198471546, 0.0031700325198471546, 0.0031700502149760723, 0.003170028096064925, 0.0031700206454843283, 0.0031700206454843283, 0.0031700206454843283, 0.0031700236722826958, 0.0031700206454843283, 0.0031700206454843283, 0.003170049050822854, 0.0031700206454843283, 0.0031700206454843283, 0.0031700206454843283, 0.0031700206454843283, 0.0031700236722826958, 0.0031700236722826958, 0.0031700236722826958, 0.0031700206454843283, 0.0031700192485004663, 0.0031700206454843283, 0.0031700492836534977, 0.0031700206454843283, 0.0031700206454843283, 0.0031700271647423506, 0.00317005580291152, 0.0031700192485004663, 0.003170028794556856, 0.003170062555000186, 0.00317010679282248, 0.003170049050822854, 0.003170051146298647, 0.0031700392719358206, 0.003170032985508442], \"Term\": [\"love\", \"not\", \"baby\", \"be\", \"get\", \"heart\", \"fall\", \"die\", \"world\", \"go\", \"do\", \"day\", \"know\", \"que\", \"spin\", \"life\", \"head\", \"night\", \"la\", \"dream\", \"eye\", \"light\", \"shake\", \"make\", \"burn\", \"want\", \"meet\", \"fight\", \"s\", \"never\", \"not\", \"be\", \"get\", \"go\", \"do\", \"know\", \"make\", \"want\", \"s\", \"never\", \"say\", \"can\", \"take\", \"let\", \"have\", \"would\", \"think\", \"will\", \"tell\", \"could\", \"good\", \"way\", \"give\", \"need\", \"look\", \"back\", \"wanna\", \"thing\", \"ill\", \"keep\", \"see\", \"feel\", \"time\", \"come\", \"heart\", \"fall\", \"dream\", \"light\", \"burn\", \"sun\", \"one\", \"sing\", \"soul\", \"tear\", \"cry\", \"sweet\", \"fire\", \"star\", \"blue\", \"dark\", \"great\", \"fill\", \"reason\", \"kid\", \"morning\", \"shine\", \"wind\", \"laugh\", \"moment\", \"door\", \"rain\", \"music\", \"fade\", \"death\", \"song\", \"world\", \"far\", \"deep\", \"eye\", \"night\", \"day\", \"life\", \"kiss\", \"end\", \"last\", \"black\", \"away\", \"long\", \"find\", \"love\", \"baby\", \"spin\", \"meet\", \"rock\", \"touch\", \"meand\", \"youand\", \"ask\", \"street\", \"chance\", \"anything\", \"lonely\", \"arm\", \"lover\", \"kind\", \"youi\", \"beautiful\", \"room\", \"brother\", \"build\", \"nice\", \"warm\", \"shut\", \"stick\", \"record\", \"lovei\", \"memory\", \"darkness\", \"awayi\", \"head\", \"fight\", \"scream\", \"pay\", \"blood\", \"son\", \"save\", \"rest\", \"flow\", \"wall\", \"blind\", \"bleed\", \"strength\", \"jump\", \"smell\", \"pack\", \"pure\", \"silence\", \"heavy\", \"golden\", \"case\", \"dare\", \"bass\", \"drown\", \"slowly\", \"storm\", \"dawn\", \"best\", \"passion\", \"stare\", \"bear\", \"que\", \"shake\", \"sin\", \"por\", \"land\", \"amor\", \"con\", \"una\", \"ser\", \"para\", \"siempre\", \"esta\", \"lo_que\", \"ms\", \"hay\", \"living\", \"mundo\", \"quiero\", \"estoy\", \"tan\", \"tide\", \"tus\", \"era\", \"nunca\", \"puedo\", \"algo\", \"sol\", \"seguir\", \"seul\", \"donde\", \"la\", \"tu\", \"mama\", \"taste\", \"holy\", \"mine\", \"sea\", \"mad\", \"bounce\", \"bei\", \"crash\", \"chick\", \"welcome\", \"wine\", \"bless\", \"wayand\", \"echo\", \"nature\", \"cast\", \"bethe\", \"sayand\", \"drivin\", \"wonderful\", \"youcant\", \"throughand\", \"where\", \"fortune\", \"erase\", \"platinum\", \"spiral\", \"enoughto\", \"tale\", \"sky\", \"forever\", \"dem\", \"deny\", \"dust\", \"seethe\", \"fi\", \"placeand\", \"bwoy\", \"serpent\", \"har\", \"tick\", \"bible\", \"suicide\", \"quietly\", \"penetrate\", \"du\", \"die\", \"ich\", \"und\", \"das\", \"der\", \"nicht\", \"ist\", \"mir\", \"euch\", \"mich\", \"bin\", \"den\", \"drauf\", \"pas\", \"qui\", \"et\", \"ship\", \"toi\", \"d\", \"dan\", \"tout\", \"c\", \"par\", \"nous\", \"mai\", \"rien\", \"san\", \"est\", \"warn\", \"jai\", \"me\", \"sur\", \"elle\", \"mon\", \"sen\", \"ton\", \"vie\", \"comme\", \"wither\", \"treasure\", \"e\", \"lamp\", \"mindbut\", \"pour\", \"si\", \"la\", \"ne\", \"como\", \"nos\", \"solo\", \"un\", \"ti\", \"quiere\", \"puede\", \"fin\", \"este\", \"hasta\", \"mejor\", \"vamo\", \"casa\", \"encuentro\", \"si\", \"ella\", \"lo\", \"terre\", \"haypiensan\", \"nicemuchas\", \"placerque\", \"mal\", \"che\", \"caigas\", \"soy\", \"sus\", \"los\", \"quase\", \"red\", \"yeahesa\", \"boba_nia\", \"todo\", \"cuando\", \"carry\", \"lord\", \"lifei\", \"movin\", \"bind\", \"oclock\", \"lend\", \"lif\", \"violent\", \"cani\", \"herbut\", \"bewhen\", \"meeveryth\", \"rebel\", \"highestglory\", \"awayim\", \"youlet\", \"musici\", \"bittersweet\", \"downhey\", \"townoh\", \"towni\", \"numberwhen\", \"onelet\", \"gonelet\", \"oneoh\", \"john_henry\", \"mebreak\", \"awayto\", \"problemmy\", \"heal\", \"march\", \"glory\", \"saint\", \"rollin\", \"worship\", \"presence\", \"ready\", \"water\", \"red\", \"rise\", \"part\", \"lucky\", \"drag\", \"anger\", \"timeto\", \"avoid\", \"hatred\", \"linei\", \"mineyou\", \"sunand\", \"dissolve\", \"gary_gilmore\", \"realizedont\", \"shape\", \"darknow\", \"crush\", \"donei\", \"jingle_bell\", \"eyesbut\", \"someoneplay\", \"herbsman\", \"shooksingin\", \"abracadabra\", \"shamrock\", \"defy\", \"rhthym\", \"wondow\", \"four_leaf\", \"starepeerin\", \"clover\", \"rabbit\", \"goodbye\", \"pane\", \"airi\", \"memy\", \"steady\", \"heregive\", \"company\", \"cat\", \"rise\", \"ready\", \"eat\", \"who\", \"meoh\", \"tie\", \"rainand\", \"prince\", \"seeand\", \"toll\", \"timewell\", \"deserts_miss\", \"christma\", \"rage\", \"jackolantern\", \"ridenow\", \"gonna_ridewhos\", \"tomorrow\", \"spill\", \"itsy_bitsy\", \"spider_climb\", \"ofassassin\", \"rainlike\", \"parempi\", \"nyt\", \"dayhere\", \"bitsy_spideritsy\", \"timedirty\", \"stopshut\", \"seedpsilocybin\", \"seventeenstir\", \"gonetell\", \"ahsave\", \"mun\", \"nainen\", \"tajuan\", \"senunohdin\", \"crycry\", \"difference\", \"pity\", \"shake_itshake\", \"water\", \"mit\", \"toy\", \"ass\", \"job\", \"master\", \"youwe\", \"georgia\", \"exit\", \"up\", \"daysand\", \"iare\", \"ragand\", \"businesstakin\", \"abatei\", \"greatmy\", \"excitement\", \"relatelike\", \"hesitatelisten\", \"lonevowvowsome_whistle\", \"aarewe\", \"ragit\", \"ragbetter\", \"skater\", \"rag\", \"daytak\", \"betaking\", \"minetak\", \"dead_airwe\", \"atlanta\", \"createtime\", \"platesyou\", \"humbly\", \"shifting\", \"datefeel\", \"elevateslook\", \"tectonic\", \"stateyou\", \"ecstatic\", \"fategather\", \"gatehistory\", \"nightin\", \"wayive\", \"nightit\", \"schoolyard\", \"brotherwhos\", \"viewwere\", \"dich\", \"convincedthere\", \"party\", \"wonderfulwe\", \"possibly\", \"furtherone\", \"lock\", \"loud\", \"ocean\", \"youwell\", \"sabe\", \"fever\", \"sueo\", \"foryou\", \"smother\", \"makin_lovefeel\", \"makin\", \"sun_sunyouve\", \"makinfeel\", \"yesterdaysi\", \"wayfeel\", \"longsun\", \"toco_toco\", \"dyin\", \"dnde\", \"satisfynfeel\", \"windeach\", \"childbleed\", \"com_frio\", \"bolado_ela\", \"essa_mina\", \"minha_roupalouca\", \"quer_beijo\", \"waiting\", \"ela_tira\", \"fabric\", \"themi\", \"mina_loucaquando\", \"fatherthis\", \"bridethis\", \"person\", \"alma\", \"latidostiempo\", \"maque\", \"perderdnde\", \"weakness\", \"tocohoy\", \"tocono\", \"gatas_gata\", \"temporada\", \"salen\", \"prendo\", \"culo\", \"tire\", \"otra\", \"hacen\", \"wash\", \"estar\", \"red\", \"coast_killa\", \"vez\", \"los\", \"lo\", \"cuando\", \"dat\", \"daywhen\", \"som\", \"wat\", \"sett_tjommi\", \"gikk_bakken\", \"har_du\", \"gikk_bakkenoioioi\", \"bakken_gikk\", \"eg\", \"bakken_eg\", \"noen\", \"bakkeneg_gikk\", \"londen\", \"bakkenoi\", \"rite_way\", \"een\", \"med\", \"min\", \"van\", \"tijd\", \"veel\", \"grijs\", \"tijden\", \"heg\", \"gikk_bakkeneg\", \"gikk\", \"meg\", \"av\", \"kon\", \"den\", \"queen\", \"swing\", \"alla\", \"againyoure\", \"honeycombkeep\", \"but\", \"maybethe\", \"pagato\", \"ifs\", \"helluva\", \"hidinga\", \"ladykeep\", \"sweeter\", \"specchio\", \"offend\", \"errore\", \"parole\", \"vecchio\", \"youmight\", \"womanand\", \"gwaan\", \"provide\", \"scrivere\", \"pagina\", \"noiche\", \"stradache\", \"pretendee\", \"noiper\", \"casaa\", \"noiunaltra\", \"ancorcome\", \"stradasolitaria\", \"amare\", \"sia\", \"lady\", \"piu\", \"lovedont\", \"list\", \"fosse\", \"meare\", \"ad\", \"tutto_questo\", \"hardly\", \"steady\", \"che\", \"nuh\", \"non\", \"teach\", \"special\", \"spirit\", \"eagle\", \"mystery\", \"gate\", \"damnedat\", \"urizenfallen\", \"blazeat\", \"urizeneternal\", \"urizenseparate\", \"awayat\", \"annabel\", \"ladder\", \"twin\", \"helele_mama\", \"beginat\", \"walker\", \"comecome\", \"ham\", \"uyawuzwumoya\", \"belowall\", \"beginin\", \"ghostsspectre\", \"risesat\", \"secretsclose\", \"urizenat\", \"bloodfrom\", \"victimcarried\", \"skythat\", \"diewhen\", \"highlove\", \"belowup\", \"cosmic\", \"belowwhere\", \"ticket\", \"presence\", \"transporterstar\", \"eyestarlight\", \"fliesacross\", \"foreversky\", \"glowlet\", \"guideracross\", \"ecstasyreality\", \"designerkeep\", \"designerexpand\", \"awakenslook\", \"drudgery\", \"sandtwo\", \"mindneon\", \"forecourt\", \"xdeath\", \"walkeraborted\", \"godlike\", \"youchemical\", \"futureyour\", \"walkerstep\", \"youescape\", \"youstarlight\", \"hellwhere\", \"ridera\", \"tonguea\", \"oblivion\", \"reshape\", \"telescopic\", \"returnoh\", \"keya\", \"fortress\", \"riderbefore\", \"skieson\", \"medication\", \"poweron\", \"hourglass\", \"walkera\", \"designer\", \"forevertime\", \"odysseyinto\", \"search\", \"mountain\", \"desireyou\", \"everybody\", \"eternal\", \"humanity\", \"glory\", \"endless\", \"rise\", \"sad\", \"herbsman\", \"jude\", \"greyof\", \"daythat\", \"flossa\", \"horseslet\", \"horsessnow\", \"sighon\", \"bornwhen\", \"parthow\", \"remembrance\", \"gonewell\", \"transplanted\", \"yeahafrican\", \"softly\", \"partin\", \"concentrate\", \"makeslife\", \"manifestothat\", \"illdark\", \"fakein\", \"proclaimwith\", \"beautychang\", \"avengelife\", \"revengeit\", \"seeallthough\", \"partso\", \"montecristo\", \"enddamning\", \"encourage\", \"imcount\", \"dutyto\", \"escapeto\", \"sam\", \"johnny\", \"friendsto\", \"shapei\", \"perform\", \"rob\", \"lifejust\", \"african\", \"onjust\", \"mesay\", \"samo\", \"race\", \"stab\", \"curtain\", \"creep\", \"fulfill\", \"wonderlandfar\", \"candy\", \"grind\", \"takin\", \"freei\", \"iron\", \"linger\", \"red\", \"train\", \"honeymoon\", \"mneelle_ne\", \"sais_pluso\", \"vraiment\", \"lentranemai\", \"imaginea\", \"lentranejnous\", \"retiennemai\", \"mneje\", \"pluso\", \"quatre\", \"vois\", \"train_arrive\", \"toujour\", \"downhey\", \"townoh\", \"towni\", \"pagequand\", \"montagnesjnous\", \"moisjnous\", \"jimaginecool\", \"rglele\", \"lheureje\", \"sacjnous\", \"srjnous\", \"timaginechoisir\", \"lentrane\", \"timaginedepuis\", \"larrachejnous\", \"jimaginedeux\", \"pasje_ne\", \"imaginezen\", \"jimaginejexagre\", \"retardje\", \"murset\", \"imagineloin\", \"imaginejeune\", \"vacance\", \"imagineje\", \"imagineet\", \"imaginedjeun\", \"imaginedepuis\", \"imaginecouple\", \"imagineserein\", \"timaginerler\", \"sige\", \"vieillis\", \"imagineadroit\", \"paset\", \"happyjnous\", \"imaginecest\", \"imaginebeaux\", \"comtejnous\", \"fentrejnous\", \"fentreje\", \"contrleurje\", \"connait\", \"bobosjnous\", \"campagnejnous\", \"canadajnous\", \"claqueet\", \"souris\", \"galre\", \"bord\", \"bateau\", \"timaginerire\", \"wagonbarjnous\", \"baliseen\", \"classe\", \"festival\", \"numro\", \"hyper\", \"hippie\", \"trois\", \"genre\", \"bio\", \"peuttre\", \"tire\", \"suis\", \"nen\", \"premire\", \"je_suis\", \"un_peu\", \"super\", \"quand\", \"hereand\", \"embrace\", \"liar\", \"knowni\", \"altar\", \"found_mefound\", \"depthcall\", \"dreamhe\", \"deathalthough\", \"behindpicture\", \"againtheir\", \"fallcan\", \"badsoul\", \"cruel\", \"highive\", \"killedby\", \"melook\", \"childi\", \"emmaybe\", \"groundhad\", \"downbreakin\", \"gonea\", \"neutron\", \"strange_girlyoure\", \"handsmemorie\", \"restlessnessis\", \"preyliv\", \"airsearch\", \"mazetheyve\", \"lifewhich\", \"tease\", \"handsrestless\", \"callhaunt\", \"helprestless\", \"standthrough\", \"ourselveswould\", \"prayersor\", \"answering\", \"diethrough\", \"holiness\", \"callmemorie\", \"haunt\", \"wayaware\", \"crowdwhen\", \"fearso\", \"headi\", \"herewell\", \"newborn_futurewe\", \"anybody\", \"dead\", \"crowd\", \"final\", \"trick\", \"rule\"], \"Total\": [40552.0, 110809.0, 11460.0, 94558.0, 84667.0, 12635.0, 11554.0, 4758.0, 12054.0, 56655.0, 54315.0, 12416.0, 52577.0, 4196.0, 5549.0, 13202.0, 3994.0, 8856.0, 3937.0, 6713.0, 7494.0, 6248.0, 2956.0, 33138.0, 4505.0, 28991.0, 3181.0, 2430.0, 27956.0, 27949.0, 110809.8046875, 94558.0390625, 84667.3515625, 56655.671875, 54315.49609375, 52577.02734375, 33138.99609375, 28991.14453125, 27956.197265625, 27949.646484375, 27036.10546875, 26171.771484375, 25313.509765625, 22651.353515625, 22369.966796875, 19271.873046875, 19210.2578125, 19013.478515625, 18945.8671875, 18063.015625, 17560.931640625, 17539.439453125, 16476.041015625, 15456.7939453125, 14521.9404296875, 14174.8623046875, 13817.5185546875, 13510.2763671875, 13182.439453125, 13211.056640625, 30222.431640625, 22862.142578125, 23200.548828125, 31229.591796875, 12635.4423828125, 11554.423828125, 6713.82275390625, 6248.90087890625, 4505.89697265625, 3919.2412109375, 3913.802001953125, 3812.607666015625, 3746.476318359375, 3703.67236328125, 3439.074951171875, 3412.925537109375, 3089.84521484375, 2676.38330078125, 2651.99365234375, 2395.73828125, 2348.19287109375, 2318.31787109375, 2311.970947265625, 2162.463623046875, 2154.466064453125, 2017.0947265625, 1986.59423828125, 1966.4564208984375, 1850.72607421875, 1844.6634521484375, 1833.6773681640625, 1818.07275390625, 1783.3228759765625, 1778.9136962890625, 4017.4560546875, 12054.7509765625, 3499.866943359375, 3646.786865234375, 7494.62646484375, 8856.5791015625, 12416.8701171875, 13202.5830078125, 2820.997314453125, 5430.0107421875, 5195.32470703125, 3668.556396484375, 7483.82568359375, 8193.2783203125, 11743.4443359375, 40552.2109375, 11460.40625, 5549.41064453125, 3181.0478515625, 2972.02734375, 2537.735595703125, 2537.376953125, 2514.781005859375, 2449.668212890625, 2081.891357421875, 1924.6025390625, 1828.4381103515625, 1703.6612548828125, 1704.8431396484375, 1626.1556396484375, 1574.960693359375, 1526.9490966796875, 1419.5687255859375, 1324.2491455078125, 1318.2039794921875, 1298.77685546875, 1036.3690185546875, 1006.7508544921875, 1001.32568359375, 958.5056762695312, 924.0096435546875, 909.6255493164062, 892.32177734375, 852.9137573242188, 843.16162109375, 3994.50927734375, 2430.166015625, 1521.79931640625, 1476.4805908203125, 1443.671142578125, 1402.047119140625, 1357.635498046875, 1264.572265625, 1080.9896240234375, 932.8712158203125, 820.1589965820312, 803.656982421875, 712.062744140625, 706.8140258789062, 687.4139404296875, 675.22119140625, 666.9266967773438, 585.5672607421875, 559.7068481445312, 557.3668212890625, 548.504638671875, 486.4140625, 482.384033203125, 468.4766540527344, 440.0736999511719, 437.8702087402344, 436.91265869140625, 429.9252014160156, 411.432861328125, 399.9722900390625, 1931.37109375, 4196.3505859375, 2956.390869140625, 1658.835693359375, 1546.21728515625, 1510.984375, 1250.84521484375, 1211.916748046875, 921.5858764648438, 734.7348022460938, 636.9622192382812, 597.0474243164062, 574.2647094726562, 521.5499267578125, 507.55609130859375, 432.8258361816406, 429.5670166015625, 386.0896301269531, 356.22705078125, 353.6350402832031, 335.1718444824219, 327.27960205078125, 318.8502197265625, 264.5519714355469, 214.26280212402344, 213.9068603515625, 166.76483154296875, 134.09817504882812, 124.57377624511719, 113.34722137451172, 95.53385162353516, 3937.044921875, 619.2737426757812, 784.3279418945312, 672.4879150390625, 643.6682739257812, 614.49951171875, 509.48675537109375, 462.9372863769531, 298.13067626953125, 283.4057922363281, 267.39727783203125, 253.32620239257812, 248.02149963378906, 243.381591796875, 224.22647094726562, 208.90357971191406, 178.38772583007812, 177.4488067626953, 157.9735565185547, 156.18019104003906, 149.58238220214844, 143.29251098632812, 137.50538635253906, 124.67595672607422, 122.9226303100586, 109.03942108154297, 103.85318756103516, 102.61553955078125, 91.27352905273438, 91.09980010986328, 87.40921020507812, 85.30709838867188, 1353.976318359375, 915.1065063476562, 468.92657470703125, 313.7828369140625, 295.28424072265625, 199.80076599121094, 181.4918975830078, 161.41690063476562, 113.23567962646484, 72.96123504638672, 64.77204895019531, 47.65104675292969, 43.342010498046875, 40.168514251708984, 38.136451721191406, 6.123309135437012, 349.5269775390625, 4758.3203125, 0.6468323469161987, 0.6467791795730591, 0.646759033203125, 0.6467404961585999, 0.6467310786247253, 0.646729052066803, 0.6467188000679016, 0.6467216610908508, 0.6467087268829346, 0.6467100977897644, 0.646715521812439, 0.6467106938362122, 274.8338928222656, 264.20965576171875, 256.40399169921875, 243.77239990234375, 238.33810424804688, 233.5760955810547, 226.28262329101562, 217.03981018066406, 200.57847595214844, 160.22341918945312, 158.94155883789062, 153.16322326660156, 151.39781188964844, 149.23007202148438, 148.82382202148438, 148.72621154785156, 127.1301498413086, 125.8386459350586, 103.33604431152344, 94.78258514404297, 94.60214233398438, 91.19758605957031, 90.90955352783203, 85.3871078491211, 84.23028564453125, 82.79315185546875, 75.30931854248047, 74.51863861083984, 66.42457580566406, 66.36229705810547, 983.8724365234375, 312.8467102050781, 3937.044921875, 851.5494384765625, 639.3751220703125, 430.6461181640625, 272.1133117675781, 241.19686889648438, 118.70384216308594, 99.51544189453125, 91.96464538574219, 87.31842041015625, 79.25738525390625, 63.21563720703125, 49.97354507446289, 39.459842681884766, 23.081838607788086, 5.181419372558594, 312.8467102050781, 0.6466997861862183, 0.6468105316162109, 0.6467176079750061, 0.6466792225837708, 0.6466792225837708, 0.6466792225837708, 0.6467068195343018, 0.6467286944389343, 0.6466756463050842, 0.6467940807342529, 0.6467059850692749, 0.6467532515525818, 0.6466801166534424, 0.6467439532279968, 0.6466720700263977, 0.6466720700263977, 0.6467487812042236, 0.6467279195785522, 439.2747802734375, 425.33050537109375, 143.38050842285156, 117.52815246582031, 114.94970703125, 62.32941818237305, 36.62553787231445, 33.3010368347168, 32.004127502441406, 25.99974250793457, 15.695383071899414, 13.00910472869873, 0.646668553352356, 0.6466711163520813, 0.646666944026947, 0.6466677188873291, 0.646669328212738, 0.6466655135154724, 0.6466681957244873, 0.6466624736785889, 0.6466628909111023, 0.6466636061668396, 0.6466642022132874, 0.6466624140739441, 0.6466630697250366, 0.6466639637947083, 0.646662712097168, 0.6466628313064575, 0.646665096282959, 0.6466703414916992, 0.6466770768165588, 0.6466697454452515, 0.6466811895370483, 0.6466759443283081, 0.6466758251190186, 0.6466724872589111, 0.6466706991195679, 0.6467174291610718, 0.6467143893241882, 0.6467439532279968, 0.6467409133911133, 354.9863586425781, 74.56574249267578, 66.78699493408203, 40.97087860107422, 38.8458366394043, 34.25230026245117, 23.924617767333984, 20.262094497680664, 18.45316505432129, 16.891990661621094, 4.38822603225708, 0.6466655731201172, 0.6466634273529053, 0.6466752886772156, 0.6466635465621948, 0.6466708183288574, 0.6466656923294067, 0.6466629505157471, 0.6466675996780396, 0.6466629505157471, 0.6466643214225769, 0.6466629505157471, 0.6466629505157471, 0.6466629505157471, 0.6466690301895142, 0.6466622948646545, 0.6466622948646545, 0.6466635465621948, 0.6466622948646545, 0.6466636657714844, 0.6466642022132874, 0.646681547164917, 0.6466628909111023, 0.6466639041900635, 0.6466753482818604, 0.6466754078865051, 0.646686851978302, 0.6466684937477112, 0.6466808915138245, 0.6467409133911133, 0.6467174291610718, 0.6467020511627197, 227.8489532470703, 98.46576690673828, 89.10237884521484, 34.9400749206543, 29.655248641967773, 28.39105224609375, 18.193571090698242, 9.057225227355957, 0.6466665863990784, 0.6466848850250244, 0.646674633026123, 0.6466642618179321, 0.6466637253761292, 0.6466637253761292, 0.6466898322105408, 0.6466698050498962, 0.6466646790504456, 0.6466646790504456, 0.6466643214225769, 0.6466637253761292, 0.6466671824455261, 0.6466671824455261, 0.646663248538971, 0.6466637849807739, 0.646662712097168, 0.646662712097168, 0.646662712097168, 0.646662712097168, 0.6466624736785889, 0.6466628313064575, 0.6466692090034485, 0.6466659307479858, 0.6466659307479858, 0.6466659307479858, 0.6466629505157471, 0.6466747522354126, 0.6466662883758545, 0.6466889977455139, 0.6467143893241882, 0.6466835737228394, 0.6466823816299438, 0.6467174887657166, 49.801025390625, 38.2337646484375, 30.859195709228516, 16.08623504638672, 5.81464147567749, 5.769481658935547, 4.484523773193359, 0.6466643810272217, 0.6466615200042725, 0.6466639637947083, 0.646662175655365, 0.646662175655365, 0.6466622352600098, 0.646662175655365, 0.646662175655365, 0.6466630101203918, 0.6466640830039978, 0.6466614007949829, 0.6466614007949829, 0.6466633677482605, 0.6466713547706604, 0.6466633081436157, 0.6466633081436157, 0.6466633081436157, 0.6466636061668396, 0.646662712097168, 0.6466618180274963, 0.6466618180274963, 0.6466618180274963, 0.6466618180274963, 0.6466618180274963, 0.6466618180274963, 0.6466618776321411, 0.6466618180274963, 0.6466618180274963, 0.6466618180274963, 0.6466618180274963, 0.6466642618179321, 0.6466659307479858, 0.6466666460037231, 0.646662175655365, 0.6466637253761292, 0.6466627717018127, 0.646682858467102, 0.6466627717018127, 0.6466981172561646, 0.6466628909111023, 0.6466704607009888, 0.6466637253761292, 0.646685779094696, 0.6466802954673767, 41.12716293334961, 20.168800354003906, 10.145913124084473, 8.91519832611084, 7.0184173583984375, 6.241048812866211, 3.1154696941375732, 0.6466717720031738, 0.6466776728630066, 0.6466665863990784, 0.6466637849807739, 0.6466628909111023, 0.6466631293296814, 0.6466641426086426, 0.6466938257217407, 0.6466663479804993, 0.6466720700263977, 0.6466619968414307, 0.6466626524925232, 0.6466626524925232, 0.6466615796089172, 0.6466615796089172, 0.6466615796089172, 0.6466615796089172, 0.6466615796089172, 0.6466666460037231, 0.6466615796089172, 0.6466634273529053, 0.64666348695755, 0.6466615796089172, 0.646661639213562, 0.646661639213562, 0.6466681361198425, 0.6466728448867798, 0.6466653943061829, 0.6466653943061829, 0.6466653943061829, 0.6466675996780396, 0.6466683745384216, 0.6466683745384216, 0.6466683745384216, 0.6466683745384216, 0.6466783285140991, 0.6466696858406067, 0.6466724276542664, 0.6466813087463379, 0.6466853618621826, 0.6466705799102783, 0.6466917395591736, 0.6467030048370361, 0.6467439532279968, 0.6466785669326782, 0.6466956734657288, 0.6467532515525818, 0.6468105316162109, 0.6467279195785522, 46.8129768371582, 25.834074020385742, 15.652690887451172, 10.708169937133789, 0.6466673612594604, 0.6466668844223022, 0.6466665863990784, 0.6466657519340515, 0.6466652750968933, 0.6466647982597351, 0.6466642618179321, 0.6466638445854187, 0.6466637253761292, 0.6466630697250366, 0.646663248538971, 0.6466683745384216, 0.6466682553291321, 0.6466649174690247, 0.6466644406318665, 0.6466800570487976, 0.6466629505157471, 0.6466628909111023, 0.6466626524925232, 0.6466626524925232, 0.6466626524925232, 0.6466626524925232, 0.6466626524925232, 0.6466628909111023, 0.6466642022132874, 0.6466625332832336, 0.646715521812439, 30.482698440551758, 30.1043758392334, 8.02095890045166, 3.8063676357269287, 0.6466630101203918, 0.6466633081436157, 0.6466633081436157, 0.6466630697250366, 0.6466652154922485, 0.6466623544692993, 0.6466623544692993, 0.6466623544692993, 0.6466628313064575, 0.6466625928878784, 0.6466628909111023, 0.6466627717018127, 0.6466626524925232, 0.6466631889343262, 0.6466633081436157, 0.6466633677482605, 0.6466636061668396, 0.6466639041900635, 0.6466622948646545, 0.6466622948646545, 0.6466624736785889, 0.6466622948646545, 0.6466622948646545, 0.6466622948646545, 0.6466622948646545, 0.6466622948646545, 0.6466622948646545, 0.6466622948646545, 0.6466633081436157, 0.6466691493988037, 0.6467078328132629, 0.6466686725616455, 0.646665632724762, 0.6466659307479858, 0.6466699838638306, 0.6466641426086426, 0.6466684937477112, 0.6466801166534424, 0.6466681361198425, 0.6466754078865051, 0.6467286944389343, 0.646687924861908, 0.6467211842536926, 0.6466901898384094, 0.6466760635375977, 49.81953811645508, 11.407355308532715, 7.946043491363525, 0.6466777920722961, 0.6466621160507202, 0.6466621160507202, 0.6466621160507202, 0.6466621160507202, 0.6466621160507202, 0.6466622352600098, 0.6466639637947083, 0.6466639637947083, 0.6466643810272217, 0.6466626524925232, 0.6466617584228516, 0.64667147397995, 0.646661639213562, 0.6466631293296814, 0.6466618776321411, 0.6466614603996277, 0.6466614603996277, 0.6466614603996277, 0.6466614603996277, 0.6466614603996277, 0.6466614603996277, 0.6466614603996277, 0.6466614603996277, 0.646662175655365, 0.6466625332832336, 0.6466617584228516, 0.6466617584228516, 0.6466702818870544, 0.646665632724762, 0.6466729640960693, 0.6466706991195679, 0.6466642618179321, 0.6466642618179321, 0.6466642618179321, 0.6466642618179321, 0.6466642618179321, 0.6466642618179321, 0.6466642618179321, 0.6466642618179321, 0.6466642618179321, 0.6466642618179321, 0.6466642618179321, 0.6466642618179321, 0.6466642618179321, 0.6466665863990784, 0.6466665863990784, 0.6466642618179321, 0.646664559841156, 0.6466642618179321, 0.6466642618179321, 0.6466642618179321, 0.6466642618179321, 0.6466642618179321, 0.6466676592826843, 0.6466642618179321, 0.6466642618179321, 0.6466646790504456, 0.6466642618179321, 0.6466643810272217, 0.6466642618179321, 0.6466642618179321, 0.646663248538971, 0.6466642618179321, 0.6466648578643799, 0.6466651558876038, 0.6466642618179321, 0.646665096282959, 0.6466642618179321, 0.646665096282959, 0.6466646790504456, 0.6466642618179321, 0.646697998046875, 0.6466884613037109, 0.6466645002365112, 0.6466942429542542, 0.6466785073280334, 0.646672248840332, 0.6466811895370483, 0.6466816663742065, 0.6467409133911133, 55.260433197021484, 0.6466643214225769, 0.6466634273529053, 0.646663248538971, 0.6466642022132874, 0.6466625928878784, 0.6466625928878784, 0.6466625928878784, 0.6466625928878784, 0.6466630101203918, 0.6466630697250366, 0.6466642022132874, 0.6466646790504456, 0.6466624140739441, 0.6466624140739441, 0.6466704607009888, 0.6466627717018127, 0.646662712097168, 0.6466619372367859, 0.6466619372367859, 0.6466619372367859, 0.6466619372367859, 0.6466619372367859, 0.6466619372367859, 0.6466619372367859, 0.6466619372367859, 0.6466619372367859, 0.6466618180274963, 0.6466619372367859, 0.6466619372367859, 0.646662175655365, 0.6466619372367859, 0.6466619372367859, 0.6466621160507202, 0.6466672420501709, 0.6466724872589111, 0.6466623544692993, 0.6466623544692993, 0.6466642618179321, 0.6466704607009888, 0.6466627717018127, 0.6466635465621948, 0.6466654539108276, 0.6466628909111023, 0.6466661095619202, 0.6466718316078186, 0.6466678977012634, 0.6466699242591858, 0.6466719508171082, 0.6466634273529053, 0.6466618180274963, 0.646675705909729, 0.6466696262359619, 0.6466742157936096, 0.6466691493988037, 0.6466702222824097, 0.6466684341430664, 0.6467439532279968, 53.29819107055664, 0.9420593976974487, 0.6466768980026245, 0.6466768980026245, 0.6466728448867798, 0.6466689705848694, 0.646666407585144, 0.6466663479804993, 0.6466663479804993, 0.6466663479804993, 0.6466663479804993, 0.6466663479804993, 0.6466678977012634, 0.6466620564460754, 0.6466788053512573, 0.6466624736785889, 0.6466628909111023, 0.6466636061668396, 0.6466637849807739, 0.6466637849807739, 0.6466637849807739, 0.6466637849807739, 0.6466637849807739, 0.6466637849807739, 0.6466637849807739, 0.6466637849807739, 0.6466637849807739, 0.6466637849807739, 0.6466637849807739, 0.6466637849807739, 0.6466637849807739, 0.6466637849807739, 0.6466637849807739, 0.6466637849807739, 0.6466637849807739, 0.6466637849807739, 0.6466637849807739, 0.6466637849807739, 0.6466637849807739, 0.6466637849807739, 0.6466637849807739, 0.6466637849807739, 0.6466637849807739, 0.6466637849807739, 0.6466637849807739, 0.6466637849807739, 0.6466637849807739, 0.6466637849807739, 0.6466637849807739, 0.6466637849807739, 0.6466637849807739, 0.6466637849807739, 0.6466637849807739, 0.6466637849807739, 0.6466637849807739, 0.6466637849807739, 0.6466637849807739, 0.6466637849807739, 0.6466637849807739, 0.6466637849807739, 0.6466637849807739, 0.6466637849807739, 0.6466637849807739, 0.6466637849807739, 0.6466637849807739, 0.6466637849807739, 0.6466637849807739, 0.6466637849807739, 0.6466637849807739, 0.6466637849807739, 0.6466638445854187, 0.6466639041900635, 0.6466642022132874, 0.6466647386550903, 0.6466652750968933, 0.6466656923294067, 0.646665632724762, 0.6466653347015381, 0.6466813087463379, 0.6466689109802246, 0.6466707587242126, 0.6466715335845947, 0.6466683745384216, 0.6466682553291321, 0.6466826796531677, 0.6466725468635559, 21.38227081298828, 12.50657844543457, 10.948079109191895, 1.9533913135528564, 1.522550344467163, 0.6466642618179321, 0.64666348695755, 0.64666348695755, 0.64666348695755, 0.64666348695755, 0.64666348695755, 0.64666348695755, 0.64666348695755, 0.6466753482818604, 0.6466636657714844, 0.646664023399353, 0.6466654539108276, 0.6466659903526306, 0.6466622948646545, 0.6466633677482605, 0.6466634273529053, 0.6466636061668396, 0.64666748046875, 0.6466630697250366, 0.6466622948646545, 0.6466622948646545, 0.6466622948646545, 0.6466627717018127, 0.6466622948646545, 0.6466622948646545, 0.6466680765151978, 0.6466622948646545, 0.6466622948646545, 0.6466622948646545, 0.6466622948646545, 0.6466627717018127, 0.6466627717018127, 0.6466628313064575, 0.6466622948646545, 0.6466618776321411, 0.6466622948646545, 0.646668553352356, 0.6466622948646545, 0.6466622948646545, 0.6466643810272217, 0.646672785282135, 0.6466623544692993, 0.6466647386550903, 0.6466822624206543, 0.6467095613479614, 0.6466774344444275, 0.6466855406761169, 0.646674633026123, 0.6466853618621826], \"loglift\": [30.0, 29.0, 28.0, 27.0, 26.0, 25.0, 24.0, 23.0, 22.0, 21.0, 20.0, 19.0, 18.0, 17.0, 16.0, 15.0, 14.0, 13.0, 12.0, 11.0, 10.0, 9.0, 8.0, 7.0, 6.0, 5.0, 4.0, 3.0, 2.0, 1.0, 0.3228999972343445, 0.3228999972343445, 0.3228999972343445, 0.3228999972343445, 0.3228999972343445, 0.3228999972343445, 0.3228999972343445, 0.3228999972343445, 0.3228999972343445, 0.3228999972343445, 0.3228999972343445, 0.3228999972343445, 0.3228999972343445, 0.3228999972343445, 0.3228999972343445, 0.3228999972343445, 0.3228999972343445, 0.3228999972343445, 0.3228999972343445, 0.3228999972343445, 0.3228999972343445, 0.3228999972343445, 0.3228999972343445, 0.3228999972343445, 0.3228999972343445, 0.3228999972343445, 0.3228999972343445, 0.3228999972343445, 0.3228999972343445, 0.3228999972343445, 0.31220000982284546, 0.3167000114917755, 0.30550000071525574, 0.29159998893737793, 2.0701000690460205, 2.0701000690460205, 2.069999933242798, 2.069999933242798, 2.069999933242798, 2.069999933242798, 2.069999933242798, 2.069999933242798, 2.069999933242798, 2.069999933242798, 2.069999933242798, 2.069999933242798, 2.0699000358581543, 2.0699000358581543, 2.0699000358581543, 2.0699000358581543, 2.0699000358581543, 2.0699000358581543, 2.0699000358581543, 2.0699000358581543, 2.0699000358581543, 2.0697999000549316, 2.0697999000549316, 2.0697999000549316, 2.0697999000549316, 2.0697999000549316, 2.0697999000549316, 2.0697999000549316, 2.0697999000549316, 2.0697999000549316, 1.9919999837875366, 1.7963000535964966, 1.9595999717712402, 1.9214999675750732, 1.7503999471664429, 1.6796000003814697, 1.3552000522613525, 1.1460000276565552, 1.864300012588501, 1.4500000476837158, 1.402999997138977, 1.6591999530792236, 1.020400047302246, 0.904699981212616, 0.5429999828338623, 2.840100049972534, 2.8399999141693115, 2.8399999141693115, 2.839900016784668, 2.839900016784668, 2.839900016784668, 2.839900016784668, 2.839900016784668, 2.839900016784668, 2.8397998809814453, 2.8397998809814453, 2.8397998809814453, 2.8397998809814453, 2.8397998809814453, 2.8396999835968018, 2.8396999835968018, 2.8396999835968018, 2.8396999835968018, 2.8396999835968018, 2.8396999835968018, 2.8396999835968018, 2.8394999504089355, 2.8394999504089355, 2.8394999504089355, 2.8394999504089355, 2.8394999504089355, 2.8394999504089355, 2.8394999504089355, 2.839400053024292, 2.839400053024292, 3.6791999340057373, 3.6791000366210938, 3.678999900817871, 3.678999900817871, 3.678999900817871, 3.678999900817871, 3.678999900817871, 3.6789000034332275, 3.678800106048584, 3.678800106048584, 3.6786999702453613, 3.6786999702453613, 3.6786000728607178, 3.6786000728607178, 3.678499937057495, 3.678499937057495, 3.678499937057495, 3.6784000396728516, 3.678299903869629, 3.678299903869629, 3.678299903869629, 3.6782000064849854, 3.6782000064849854, 3.678100109100342, 3.678100109100342, 3.678100109100342, 3.678100109100342, 3.677999973297119, 3.677999973297119, 3.6779000759124756, 2.3870999813079834, 3.8350000381469727, 3.8350000381469727, 3.8348000049591064, 3.8348000049591064, 3.8348000049591064, 3.834700107574463, 3.834700107574463, 3.8345999717712402, 3.834399938583374, 3.8343000411987305, 3.834199905395508, 3.834199905395508, 3.8341000080108643, 3.8341000080108643, 3.833899974822998, 3.833899974822998, 3.833699941635132, 3.8336000442504883, 3.8336000442504883, 3.8334999084472656, 3.8334999084472656, 3.833400011062622, 3.8329999446868896, 3.8324999809265137, 3.8324999809265137, 3.8317999839782715, 3.8310000896453857, 3.8306000232696533, 3.830199956893921, 3.829200029373169, 3.7964000701904297, 3.769200086593628, 4.655600070953369, 4.6554999351501465, 4.655399799346924, 4.655399799346924, 4.655200004577637, 4.655099868774414, 4.654300212860107, 4.654200077056885, 4.654099941253662, 4.6539998054504395, 4.653900146484375, 4.653900146484375, 4.65369987487793, 4.653500080108643, 4.6529998779296875, 4.6529998779296875, 4.652500152587891, 4.652500152587891, 4.652299880981445, 4.652100086212158, 4.6519999504089355, 4.651500225067139, 4.651400089263916, 4.6508002281188965, 4.6504998207092285, 4.6504998207092285, 4.649700164794922, 4.649700164794922, 4.649400234222412, 4.6493000984191895, 4.782599925994873, 4.782299995422363, 4.781700134277344, 4.781099796295166, 4.781000137329102, 4.78000020980835, 4.779699802398682, 4.779300212860107, 4.777699947357178, 4.774700164794922, 4.77370023727417, 4.770299911499023, 4.769000053405762, 4.767899990081787, 4.767099857330322, 4.679299831390381, 4.5524001121521, 3.4577999114990234, 2.0897998809814453, 2.0894999504089355, 2.0889999866485596, 2.088900089263916, 2.088900089263916, 2.0887999534606934, 2.0887999534606934, 2.08870005607605, 2.088599920272827, 2.088599920272827, 2.088599920272827, 2.0885000228881836, 4.807000160217285, 4.8069000244140625, 4.80679988861084, 4.806700229644775, 4.806600093841553, 4.806600093841553, 4.80649995803833, 4.806399822235107, 4.80620002746582, 4.8053998947143555, 4.8053998947143555, 4.805200099945068, 4.805200099945068, 4.805099964141846, 4.805099964141846, 4.805099964141846, 4.8043999671936035, 4.8043999671936035, 4.803299903869629, 4.802800178527832, 4.802800178527832, 4.802499771118164, 4.802499771118164, 4.80210018157959, 4.802000045776367, 4.801799774169922, 4.80109977722168, 4.801000118255615, 4.800000190734863, 4.800000190734863, 4.070000171661377, 3.8304998874664307, 1.5371999740600586, 2.595599889755249, 5.154099941253662, 5.15369987487793, 5.1528000831604, 5.152500152587891, 5.149899959564209, 5.148900032043457, 5.148399829864502, 5.1479997634887695, 5.147299766540527, 5.145299911499023, 5.1427998542785645, 5.139400005340576, 5.128200054168701, 5.029300212860107, 4.6809000968933105, 2.213599920272827, 2.2135000228881836, 2.2135000228881836, 2.2135000228881836, 2.2135000228881836, 2.2135000228881836, 2.213399887084961, 2.213399887084961, 2.213399887084961, 2.213399887084961, 2.213399887084961, 2.213399887084961, 2.213399887084961, 2.213399887084961, 2.213399887084961, 2.213399887084961, 2.2132999897003174, 2.2132999897003174, 5.798299789428711, 5.7982001304626465, 5.795300006866455, 5.794300079345703, 5.7941999435424805, 5.789599895477295, 5.782400131225586, 5.780600070953369, 5.779799938201904, 5.775199890136719, 5.758800029754639, 5.750100135803223, 2.188199996948242, 2.1881000995635986, 2.1881000995635986, 2.1881000995635986, 2.1881000995635986, 2.1881000995635986, 2.1881000995635986, 2.1881000995635986, 2.1881000995635986, 2.1881000995635986, 2.1881000995635986, 2.1881000995635986, 2.1881000995635986, 2.1881000995635986, 2.1881000995635986, 2.1881000995635986, 2.1881000995635986, 2.1881000995635986, 2.1881000995635986, 2.1881000995635986, 2.1881000995635986, 2.1881000995635986, 2.1881000995635986, 2.1881000995635986, 2.1881000995635986, 2.187999963760376, 2.187999963760376, 2.1879000663757324, 2.1879000663757324, 6.153299808502197, 6.146599769592285, 6.145599842071533, 6.139500141143799, 6.138700008392334, 6.136499881744385, 6.128300189971924, 6.1234002113342285, 6.120200157165527, 6.1168999671936035, 5.999199867248535, 2.2534000873565674, 2.2534000873565674, 2.2534000873565674, 2.2534000873565674, 2.2534000873565674, 2.2534000873565674, 2.2534000873565674, 2.2534000873565674, 2.2534000873565674, 2.2534000873565674, 2.2534000873565674, 2.2534000873565674, 2.2534000873565674, 2.2534000873565674, 2.2534000873565674, 2.2534000873565674, 2.2534000873565674, 2.2534000873565674, 2.2534000873565674, 2.2534000873565674, 2.2532999515533447, 2.2534000873565674, 2.2534000873565674, 2.2532999515533447, 2.2532999515533447, 2.2532999515533447, 2.2534000873565674, 2.2532999515533447, 2.253200054168701, 2.2532999515533447, 2.2532999515533447, 6.277500152587891, 6.273799896240234, 6.273200035095215, 6.26200008392334, 6.258699893951416, 6.257699966430664, 6.244800090789795, 6.207600116729736, 2.2697999477386475, 2.269700050354004, 2.269700050354004, 2.269700050354004, 2.269700050354004, 2.269700050354004, 2.269700050354004, 2.269700050354004, 2.269700050354004, 2.269700050354004, 2.269700050354004, 2.269700050354004, 2.269700050354004, 2.269700050354004, 2.269700050354004, 2.269700050354004, 2.269700050354004, 2.269700050354004, 2.269700050354004, 2.269700050354004, 2.269700050354004, 2.269700050354004, 2.269700050354004, 2.269700050354004, 2.269700050354004, 2.269700050354004, 2.269700050354004, 2.269700050354004, 2.269700050354004, 2.269700050354004, 2.2695999145507812, 2.269700050354004, 2.269700050354004, 2.2695999145507812, 6.88070011138916, 6.876699924468994, 6.872600078582764, 6.853000164031982, 6.7769999504089355, 6.776000022888184, 6.73960018157959, 2.323699951171875, 2.323699951171875, 2.323699951171875, 2.323699951171875, 2.323699951171875, 2.323699951171875, 2.323699951171875, 2.323699951171875, 2.323699951171875, 2.323699951171875, 2.323699951171875, 2.323699951171875, 2.323699951171875, 2.323699951171875, 2.323699951171875, 2.323699951171875, 2.323699951171875, 2.323699951171875, 2.323699951171875, 2.323699951171875, 2.323699951171875, 2.323699951171875, 2.323699951171875, 2.323699951171875, 2.323699951171875, 2.323699951171875, 2.323699951171875, 2.323699951171875, 2.323699951171875, 2.323699951171875, 2.323699951171875, 2.323699951171875, 2.323699951171875, 2.323699951171875, 2.323699951171875, 2.323699951171875, 2.323699951171875, 2.323699951171875, 2.323699951171875, 2.323699951171875, 2.323699951171875, 2.323699951171875, 2.323699951171875, 2.323699951171875, 7.026000022888184, 7.009500026702881, 6.976500034332275, 6.967199802398682, 6.946000099182129, 6.9334001541137695, 6.811500072479248, 2.3385000228881836, 2.338399887084961, 2.338399887084961, 2.338399887084961, 2.338399887084961, 2.338399887084961, 2.338399887084961, 2.338399887084961, 2.338399887084961, 2.338399887084961, 2.338399887084961, 2.338399887084961, 2.338399887084961, 2.338399887084961, 2.338399887084961, 2.338399887084961, 2.338399887084961, 2.338399887084961, 2.338399887084961, 2.338399887084961, 2.338399887084961, 2.338399887084961, 2.338399887084961, 2.338399887084961, 2.338399887084961, 2.338399887084961, 2.338399887084961, 2.338399887084961, 2.338399887084961, 2.338399887084961, 2.338399887084961, 2.338399887084961, 2.338399887084961, 2.338399887084961, 2.338399887084961, 2.338399887084961, 2.338399887084961, 2.338399887084961, 2.338399887084961, 2.338399887084961, 2.338399887084961, 2.3382999897003174, 2.3382999897003174, 2.3382999897003174, 2.338399887084961, 2.3382999897003174, 2.338200092315674, 2.338200092315674, 2.3382999897003174, 7.038300037384033, 7.026899814605713, 7.010200023651123, 6.990300178527832, 2.336400032043457, 2.336400032043457, 2.336400032043457, 2.336400032043457, 2.3362998962402344, 2.3362998962402344, 2.3362998962402344, 2.3362998962402344, 2.3362998962402344, 2.336199998855591, 2.336199998855591, 2.336199998855591, 2.336199998855591, 2.336199998855591, 2.336199998855591, 2.336199998855591, 2.336199998855591, 2.336199998855591, 2.336199998855591, 2.336199998855591, 2.336199998855591, 2.336199998855591, 2.336199998855591, 2.336199998855591, 2.336199998855591, 2.336199998855591, 2.336199998855591, 7.176700115203857, 7.176400184631348, 7.11460018157959, 7.013299942016602, 2.342900037765503, 2.342900037765503, 2.342900037765503, 2.342900037765503, 2.342900037765503, 2.342900037765503, 2.342900037765503, 2.342900037765503, 2.342900037765503, 2.342900037765503, 2.342900037765503, 2.342900037765503, 2.342900037765503, 2.342900037765503, 2.342900037765503, 2.342900037765503, 2.342900037765503, 2.342900037765503, 2.342900037765503, 2.342900037765503, 2.342900037765503, 2.342900037765503, 2.342900037765503, 2.342900037765503, 2.342900037765503, 2.342900037765503, 2.342900037765503, 2.342900037765503, 2.342900037765503, 2.342900037765503, 2.342900037765503, 2.342900037765503, 2.342900037765503, 2.342900037765503, 2.342900037765503, 2.342900037765503, 2.342900037765503, 2.342900037765503, 2.342900037765503, 2.342900037765503, 2.3427999019622803, 2.342900037765503, 2.3427999019622803, 2.3427999019622803, 2.342900037765503, 7.311600208282471, 7.266600131988525, 7.240300178527832, 2.3396999835968018, 2.3396999835968018, 2.3396999835968018, 2.3396999835968018, 2.3396999835968018, 2.3396999835968018, 2.3396999835968018, 2.3396999835968018, 2.3396999835968018, 2.3396999835968018, 2.3396999835968018, 2.3396999835968018, 2.3396999835968018, 2.3396999835968018, 2.3396999835968018, 2.3396999835968018, 2.3396999835968018, 2.3396999835968018, 2.3396999835968018, 2.3396999835968018, 2.3396999835968018, 2.3396999835968018, 2.3396999835968018, 2.3396999835968018, 2.3396999835968018, 2.3396999835968018, 2.3396999835968018, 2.3396999835968018, 2.3396999835968018, 2.3396999835968018, 2.339600086212158, 2.339600086212158, 2.3396999835968018, 2.3396999835968018, 2.3396999835968018, 2.3396999835968018, 2.3396999835968018, 2.3396999835968018, 2.3396999835968018, 2.3396999835968018, 2.3396999835968018, 2.3396999835968018, 2.3396999835968018, 2.3396999835968018, 2.3396999835968018, 2.3396999835968018, 2.3396999835968018, 2.3396999835968018, 2.3396999835968018, 2.3396999835968018, 2.3396999835968018, 2.3396999835968018, 2.3396999835968018, 2.3396999835968018, 2.339600086212158, 2.3396999835968018, 2.3396999835968018, 2.3396999835968018, 2.3396999835968018, 2.3396999835968018, 2.3396999835968018, 2.3396999835968018, 2.3396999835968018, 2.3396999835968018, 2.3396999835968018, 2.3396999835968018, 2.3396999835968018, 2.3396999835968018, 2.3396999835968018, 2.3396999835968018, 2.3396999835968018, 2.3396999835968018, 2.339600086212158, 2.339600086212158, 2.3396999835968018, 2.339600086212158, 2.339600086212158, 2.339600086212158, 2.339600086212158, 2.339600086212158, 2.3394999504089355, 7.427999973297119, 2.3429999351501465, 2.3429999351501465, 2.3429999351501465, 2.3429999351501465, 2.3429999351501465, 2.3429999351501465, 2.3429999351501465, 2.3429999351501465, 2.3429999351501465, 2.3429999351501465, 2.3429999351501465, 2.3429999351501465, 2.3429999351501465, 2.3429999351501465, 2.3429999351501465, 2.3429999351501465, 2.3429999351501465, 2.3429999351501465, 2.3429999351501465, 2.3429999351501465, 2.3429999351501465, 2.3429999351501465, 2.3429999351501465, 2.3429999351501465, 2.3429999351501465, 2.3429999351501465, 2.3429999351501465, 2.3429999351501465, 2.3429999351501465, 2.3429999351501465, 2.3429999351501465, 2.3429999351501465, 2.3429999351501465, 2.3429999351501465, 2.3429999351501465, 2.3429999351501465, 2.3429999351501465, 2.3429999351501465, 2.3429999351501465, 2.3429999351501465, 2.3429999351501465, 2.3429999351501465, 2.3429999351501465, 2.3429999351501465, 2.3429999351501465, 2.3429999351501465, 2.3429999351501465, 2.3429999351501465, 2.3429999351501465, 2.3429999351501465, 2.3429999351501465, 2.3429999351501465, 2.3429999351501465, 2.3429999351501465, 2.3429999351501465, 2.3429999351501465, 2.342900037765503, 7.607399940490723, 6.470900058746338, 2.337599992752075, 2.337599992752075, 2.3375000953674316, 2.3375000953674316, 2.3375000953674316, 2.3375000953674316, 2.3375000953674316, 2.3375000953674316, 2.3375000953674316, 2.3375000953674316, 2.3375000953674316, 2.3375000953674316, 2.3375000953674316, 2.3375000953674316, 2.3375000953674316, 2.3375000953674316, 2.3375000953674316, 2.3375000953674316, 2.3375000953674316, 2.3375000953674316, 2.3375000953674316, 2.3375000953674316, 2.3375000953674316, 2.3375000953674316, 2.3375000953674316, 2.3375000953674316, 2.3375000953674316, 2.3375000953674316, 2.3375000953674316, 2.3375000953674316, 2.3375000953674316, 2.3375000953674316, 2.3375000953674316, 2.3375000953674316, 2.3375000953674316, 2.3375000953674316, 2.3375000953674316, 2.3375000953674316, 2.3375000953674316, 2.3375000953674316, 2.3375000953674316, 2.3375000953674316, 2.3375000953674316, 2.3375000953674316, 2.3375000953674316, 2.3375000953674316, 2.3375000953674316, 2.3375000953674316, 2.3375000953674316, 2.3375000953674316, 2.3375000953674316, 2.3375000953674316, 2.3375000953674316, 2.3375000953674316, 2.3375000953674316, 2.3375000953674316, 2.3375000953674316, 2.3375000953674316, 2.3375000953674316, 2.3375000953674316, 2.3375000953674316, 2.3375000953674316, 2.3375000953674316, 2.3375000953674316, 2.3375000953674316, 2.3375000953674316, 2.3375000953674316, 2.3375000953674316, 2.3375000953674316, 2.3375000953674316, 2.3375000953674316, 2.3375000953674316, 2.3375000953674316, 2.3375000953674316, 2.3375000953674316, 2.3375000953674316, 2.3375000953674316, 2.3375000953674316, 2.3375000953674316, 2.3375000953674316, 2.3375000953674316, 2.3375000953674316, 2.337399959564209, 2.3375000953674316, 7.629499912261963, 7.6072998046875, 7.5995001792907715, 7.260499954223633, 7.110799789428711, 2.3420000076293945, 2.3420000076293945, 2.3420000076293945, 2.3420000076293945, 2.3420000076293945, 2.3420000076293945, 2.3420000076293945, 2.3420000076293945, 2.3420000076293945, 2.3420000076293945, 2.3420000076293945, 2.3420000076293945, 2.3420000076293945, 2.3420000076293945, 2.3420000076293945, 2.3420000076293945, 2.3420000076293945, 2.3420000076293945, 2.3420000076293945, 2.3420000076293945, 2.3420000076293945, 2.3420000076293945, 2.3420000076293945, 2.3420000076293945, 2.3420000076293945, 2.3420000076293945, 2.3420000076293945, 2.3420000076293945, 2.3420000076293945, 2.3420000076293945, 2.3420000076293945, 2.3420000076293945, 2.3420000076293945, 2.3420000076293945, 2.3420000076293945, 2.3420000076293945, 2.3420000076293945, 2.3420000076293945, 2.3420000076293945, 2.3420000076293945, 2.3420000076293945, 2.3420000076293945, 2.3420000076293945, 2.3420000076293945, 2.3420000076293945, 2.3420000076293945, 2.3420000076293945, 2.3420000076293945, 2.3420000076293945], \"logprob\": [30.0, 29.0, 28.0, 27.0, 26.0, 25.0, 24.0, 23.0, 22.0, 21.0, 20.0, 19.0, 18.0, 17.0, 16.0, 15.0, 14.0, 13.0, 12.0, 11.0, 10.0, 9.0, 8.0, 7.0, 6.0, 5.0, 4.0, 3.0, 2.0, 1.0, -2.9010000228881836, -3.0596001148223877, -3.170099973678589, -3.5717999935150146, -3.614000082015991, -3.6465001106262207, -4.108099937438965, -4.241799831390381, -4.278200149536133, -4.27839994430542, -4.311699867248535, -4.344200134277344, -4.377500057220459, -4.48859977722168, -4.501100063323975, -4.650199890136719, -4.65339994430542, -4.663700103759766, -4.667300224304199, -4.715000152587891, -4.743199825286865, -4.7444000244140625, -4.8069000244140625, -4.870800018310547, -4.933199882507324, -4.957399845123291, -4.982900142669678, -5.00540018081665, -5.03000020980835, -5.0278000831604, -4.210999965667725, -4.485599994659424, -4.48199987411499, -4.198699951171875, -3.3250999450683594, -3.414599895477295, -3.9574999809265137, -4.029300212860107, -4.356299877166748, -4.495800018310547, -4.497200012207031, -4.523399829864502, -4.540900230407715, -4.5524001121521, -4.6265997886657715, -4.634200096130371, -4.733699798583984, -4.877299785614014, -4.886499881744385, -4.988100051879883, -5.008200168609619, -5.020999908447266, -5.02370023727417, -5.09060001373291, -5.094299793243408, -5.160200119018555, -5.17549991607666, -5.185699939727783, -5.246300220489502, -5.249599933624268, -5.2555999755859375, -5.264100074768066, -5.283400058746338, -5.285900115966797, -4.548999786376953, -3.6459999084472656, -4.719399929046631, -4.716400146484375, -4.167200088500977, -4.071000099182129, -4.057499885559082, -4.2052998542785645, -5.030300140380859, -4.78980016708374, -4.88100004196167, -4.972700119018555, -4.898600101470947, -4.923699855804443, -4.9253997802734375, -1.3890000581741333, -2.6528000831604004, -3.378000020980835, -3.9346001148223877, -4.002600193023682, -4.160600185394287, -4.160699844360352, -4.1697001457214355, -4.195899963378906, -4.35860013961792, -4.43720006942749, -4.488500118255615, -4.559199810028076, -4.558499813079834, -4.605800151824951, -4.637800216674805, -4.668700218200684, -4.741700172424316, -4.811200141906738, -4.815800189971924, -4.830599784851074, -5.05649995803833, -5.0854997634887695, -5.09089994430542, -5.1346001625061035, -5.171299934387207, -5.186999797821045, -5.206200122833252, -5.251399993896484, -5.262899875640869, -2.8675999641418457, -3.3645999431610107, -3.8327999114990234, -3.863100051879883, -3.8856000900268555, -3.914799928665161, -3.947000026702881, -4.018099784851074, -4.175000190734863, -4.322400093078613, -4.451300144195557, -4.47160005569458, -4.592700004577637, -4.600100040435791, -4.627999782562256, -4.645899772644043, -4.658299922943115, -4.78849983215332, -4.833700180053711, -4.837900161743164, -4.854000091552734, -4.9741997718811035, -4.982600212097168, -5.0117998123168945, -5.07450008392334, -5.079500198364258, -5.081699848175049, -5.097799777984619, -5.141900062561035, -5.170100212097168, -4.88640022277832, -2.6624999046325684, -3.0127999782562256, -3.5908000469207764, -3.661099910736084, -3.6842000484466553, -3.873199939727783, -3.9047999382019043, -4.178800106048584, -4.405600070953369, -4.548500061035156, -4.6132001876831055, -4.652200222015381, -4.748600006103516, -4.7758002281188965, -4.935299873352051, -4.942800045013428, -5.049699783325195, -5.130300045013428, -5.137599945068359, -5.191299915313721, -5.215199947357178, -5.241300106048584, -5.428400039672852, -5.639699935913086, -5.64139986038208, -5.89109992980957, -6.109899997711182, -6.183899879455566, -6.278800010681152, -6.450799942016602, -2.764899969100952, -4.64169979095459, -3.5190000534057617, -3.6730000972747803, -3.716900110244751, -3.7632999420166016, -3.950900077819824, -4.046800136566162, -4.487599849700928, -4.538400173187256, -4.59660005569458, -4.6508002281188965, -4.671999931335449, -4.690999984741211, -4.773099899291992, -4.844099998474121, -5.002500057220459, -5.007800102233887, -5.124499797821045, -5.136000156402588, -5.179299831390381, -5.222400188446045, -5.263800144195557, -5.362199783325195, -5.376500129699707, -5.497000217437744, -5.546000003814697, -5.558000087738037, -5.675899982452393, -5.677800178527832, -5.719399929046631, -5.74399995803833, -2.846100091934204, -3.238100051879883, -3.9072999954223633, -4.309700012207031, -4.37060022354126, -4.762199878692627, -4.85860013961792, -4.976200103759766, -5.332300186157227, -5.774799823760986, -5.894999980926514, -6.2052998542785645, -6.301400184631348, -6.378499984741211, -6.43120002746582, -8.347999572753906, -4.430500030517578, -2.914099931716919, -13.18529987335205, -13.185799598693848, -13.186300277709961, -13.186300277709961, -13.186400413513184, -13.18649959564209, -13.18649959564209, -13.186699867248535, -13.186699867248535, -13.186699867248535, -13.186800003051758, -13.186800003051758, -4.416299819946289, -4.455900192260742, -4.485899925231934, -4.536600112915039, -4.559199810028076, -4.579400062561035, -4.611199855804443, -4.6529998779296875, -4.732100009918213, -4.957499980926514, -4.96560001373291, -5.002799987792969, -5.014400005340576, -5.028900146484375, -5.031599998474121, -5.032299995422363, -5.189899921417236, -5.200099945068359, -5.398200035095215, -5.485099792480469, -5.486999988555908, -5.523900032043457, -5.527100086212158, -5.590199947357178, -5.604000091552734, -5.621300220489502, -5.716800212860107, -5.727399826049805, -5.843400001525879, -5.844299793243408, -3.878000020980835, -5.263299942016602, -5.024099826812744, -5.496799945831299, -3.224900007247925, -3.620500087738037, -4.080399990081787, -4.201300144195557, -4.912899971008301, -5.0903000831604, -5.1697001457214355, -5.22189998626709, -5.319499969482422, -5.547599792480469, -5.785200119018555, -6.024799823760986, -6.572199821472168, -8.16510009765625, -4.412899971008301, -13.061800003051758, -13.061599731445312, -13.061800003051758, -13.06190013885498, -13.06190013885498, -13.06190013885498, -13.06190013885498, -13.06190013885498, -13.062000274658203, -13.061800003051758, -13.06190013885498, -13.06190013885498, -13.062000274658203, -13.06190013885498, -13.062000274658203, -13.062000274658203, -13.06190013885498, -13.062000274658203, -2.9560999870300293, -2.9883999824523926, -4.078700065612793, -4.278500080108643, -4.30079984664917, -4.917500019073486, -5.456399917602539, -5.553299903869629, -5.593800067901611, -5.80620002746582, -6.327300071716309, -6.52370023727417, -13.087200164794922, -13.087300300598145, -13.087300300598145, -13.087300300598145, -13.087300300598145, -13.087300300598145, -13.087300300598145, -13.087300300598145, -13.087300300598145, -13.087300300598145, -13.087300300598145, -13.087300300598145, -13.087300300598145, -13.087300300598145, -13.087400436401367, -13.087400436401367, -13.087300300598145, -13.087300300598145, -13.087300300598145, -13.087300300598145, -13.087300300598145, -13.087300300598145, -13.087300300598145, -13.087300300598145, -13.087300300598145, -13.087300300598145, -13.087300300598145, -13.087300300598145, -13.087300300598145, -2.8141000270843506, -4.381199836730957, -4.492400169372559, -4.987100124359131, -5.041200160980225, -5.169300079345703, -5.536300182342529, -5.707399845123291, -5.803999900817871, -5.895699977874756, -7.361400127410889, -13.022000312805176, -13.022000312805176, -13.022000312805176, -13.022000312805176, -13.022000312805176, -13.022000312805176, -13.022000312805176, -13.022000312805176, -13.022000312805176, -13.022000312805176, -13.022000312805176, -13.022000312805176, -13.022000312805176, -13.022000312805176, -13.022000312805176, -13.022000312805176, -13.022000312805176, -13.022000312805176, -13.022000312805176, -13.022000312805176, -13.022000312805176, -13.022000312805176, -13.022000312805176, -13.022000312805176, -13.022000312805176, -13.022000312805176, -13.022000312805176, -13.022000312805176, -13.022000312805176, -13.022000312805176, -13.022000312805176, -3.1333000659942627, -3.9758999347686768, -4.076499938964844, -5.023900032043457, -5.191199779510498, -5.2357001304626465, -5.693600177764893, -6.428299903869629, -13.005599975585938, -13.00570011138916, -13.00570011138916, -13.00570011138916, -13.00570011138916, -13.00570011138916, -13.00570011138916, -13.00570011138916, -13.00570011138916, -13.00570011138916, -13.00570011138916, -13.00570011138916, -13.00570011138916, -13.00570011138916, -13.00570011138916, -13.00570011138916, -13.00570011138916, -13.00570011138916, -13.00570011138916, -13.00570011138916, -13.00570011138916, -13.00570011138916, -13.00570011138916, -13.00570011138916, -13.00570011138916, -13.00570011138916, -13.00570011138916, -13.00570011138916, -13.00570011138916, -13.00570011138916, -13.00570011138916, -13.00570011138916, -13.00570011138916, -13.00570011138916, -4.05079984664917, -4.3190999031066895, -4.537399768829346, -5.208499908447266, -6.30210018157959, -6.3109002113342285, -6.5991997718811035, -12.951700210571289, -12.951700210571289, -12.951700210571289, -12.951700210571289, -12.951700210571289, -12.951700210571289, -12.951700210571289, -12.951700210571289, -12.951700210571289, -12.951700210571289, -12.951700210571289, -12.951700210571289, -12.951700210571289, -12.951700210571289, -12.951700210571289, -12.951700210571289, -12.951700210571289, -12.951700210571289, -12.951700210571289, -12.951700210571289, -12.951700210571289, -12.951700210571289, -12.951700210571289, -12.951700210571289, -12.951700210571289, -12.951700210571289, -12.951700210571289, -12.951700210571289, -12.951700210571289, -12.951700210571289, -12.951700210571289, -12.951700210571289, -12.951700210571289, -12.951700210571289, -12.951700210571289, -12.951700210571289, -12.951700210571289, -12.951700210571289, -12.951700210571289, -12.951700210571289, -12.951700210571289, -12.951700210571289, -12.951700210571289, -12.951700210571289, -4.096799850463867, -4.825900077819824, -5.545899868011475, -5.684599876403809, -5.944900035858154, -6.074900150299072, -6.891600131988525, -12.93690013885498, -12.937000274658203, -12.937000274658203, -12.937000274658203, -12.937000274658203, -12.937000274658203, -12.937000274658203, -12.937000274658203, -12.937000274658203, -12.937000274658203, -12.937000274658203, -12.937000274658203, -12.937000274658203, -12.937000274658203, -12.937000274658203, -12.937000274658203, -12.937000274658203, -12.937000274658203, -12.937000274658203, -12.937000274658203, -12.937000274658203, -12.937000274658203, -12.937000274658203, -12.937000274658203, -12.937000274658203, -12.937000274658203, -12.937000274658203, -12.937000274658203, -12.937000274658203, -12.937000274658203, -12.937000274658203, -12.937000274658203, -12.937000274658203, -12.937000274658203, -12.937000274658203, -12.937000274658203, -12.937000274658203, -12.937000274658203, -12.937000274658203, -12.937000274658203, -12.937000274658203, -12.937000274658203, -12.937000274658203, -12.937000274658203, -12.937000274658203, -12.937000274658203, -12.937000274658203, -12.937000274658203, -12.937000274658203, -3.9551000595092773, -4.5609002113342285, -5.07859992980957, -5.478099822998047, -12.939000129699707, -12.939000129699707, -12.939000129699707, -12.939000129699707, -12.93910026550293, -12.93910026550293, -12.93910026550293, -12.93910026550293, -12.93910026550293, -12.939200401306152, -12.939200401306152, -12.939200401306152, -12.939200401306152, -12.939200401306152, -12.939200401306152, -12.939200401306152, -12.939200401306152, -12.939200401306152, -12.939200401306152, -12.939200401306152, -12.939200401306152, -12.939200401306152, -12.939200401306152, -12.939200401306152, -12.939200401306152, -12.939200401306152, -12.93910026550293, -4.245699882507324, -4.258399963378906, -5.642899990081787, -6.489500045776367, -12.932499885559082, -12.932499885559082, -12.932499885559082, -12.932499885559082, -12.932499885559082, -12.932499885559082, -12.932499885559082, -12.932499885559082, -12.932499885559082, -12.932499885559082, -12.932499885559082, -12.932499885559082, -12.932499885559082, -12.932499885559082, -12.932499885559082, -12.932499885559082, -12.932499885559082, -12.932499885559082, -12.932499885559082, -12.932499885559082, -12.932499885559082, -12.932499885559082, -12.932499885559082, -12.932499885559082, -12.932499885559082, -12.932499885559082, -12.932499885559082, -12.932499885559082, -12.932499885559082, -12.932499885559082, -12.932499885559082, -12.932499885559082, -12.932499885559082, -12.932499885559082, -12.932499885559082, -12.932499885559082, -12.932499885559082, -12.932499885559082, -12.932499885559082, -12.932499885559082, -12.932499885559082, -12.932499885559082, -12.932499885559082, -12.932499885559082, -12.932499885559082, -3.619499921798706, -5.138599872589111, -5.526500225067139, -12.935600280761719, -12.935700416564941, -12.935700416564941, -12.935700416564941, -12.935700416564941, -12.935700416564941, -12.935700416564941, -12.935700416564941, -12.935700416564941, -12.935700416564941, -12.935700416564941, -12.935700416564941, -12.935700416564941, -12.935799598693848, -12.935799598693848, -12.935799598693848, -12.935799598693848, -12.935799598693848, -12.935799598693848, -12.935799598693848, -12.935799598693848, -12.935799598693848, -12.935799598693848, -12.935799598693848, -12.935799598693848, -12.935799598693848, -12.935799598693848, -12.935799598693848, -12.935700416564941, -12.935799598693848, -12.935700416564941, -12.935700416564941, -12.935799598693848, -12.935799598693848, -12.935799598693848, -12.935799598693848, -12.935799598693848, -12.935799598693848, -12.935799598693848, -12.935799598693848, -12.935799598693848, -12.935799598693848, -12.935799598693848, -12.935799598693848, -12.935799598693848, -12.935799598693848, -12.935799598693848, -12.935799598693848, -12.935799598693848, -12.935799598693848, -12.935799598693848, -12.935799598693848, -12.935799598693848, -12.935799598693848, -12.935799598693848, -12.935799598693848, -12.935799598693848, -12.935799598693848, -12.935799598693848, -12.935799598693848, -12.935799598693848, -12.935799598693848, -12.935799598693848, -12.935799598693848, -12.935799598693848, -12.935799598693848, -12.935799598693848, -12.935799598693848, -12.935799598693848, -12.935799598693848, -12.935799598693848, -12.935799598693848, -12.935700416564941, -12.935700416564941, -12.935799598693848, -12.935700416564941, -12.935799598693848, -12.935799598693848, -12.935799598693848, -12.935799598693848, -12.935799598693848, -3.399399995803833, -12.93239974975586, -12.93239974975586, -12.93239974975586, -12.93239974975586, -12.93239974975586, -12.93239974975586, -12.93239974975586, -12.93239974975586, -12.93239974975586, -12.93239974975586, -12.93239974975586, -12.93239974975586, -12.93239974975586, -12.93239974975586, -12.93239974975586, -12.93239974975586, -12.93239974975586, -12.93239974975586, -12.93239974975586, -12.93239974975586, -12.93239974975586, -12.93239974975586, -12.93239974975586, -12.93239974975586, -12.93239974975586, -12.93239974975586, -12.93239974975586, -12.93239974975586, -12.93239974975586, -12.93239974975586, -12.93239974975586, -12.93239974975586, -12.93239974975586, -12.93239974975586, -12.93239974975586, -12.93239974975586, -12.93239974975586, -12.93239974975586, -12.93239974975586, -12.93239974975586, -12.93239974975586, -12.93239974975586, -12.93239974975586, -12.93239974975586, -12.93239974975586, -12.93239974975586, -12.93239974975586, -12.93239974975586, -12.93239974975586, -12.93239974975586, -12.93239974975586, -12.93239974975586, -12.93239974975586, -12.93239974975586, -12.93239974975586, -12.93239974975586, -12.93239974975586, -3.256200075149536, -8.428299903869629, -12.937800407409668, -12.937800407409668, -12.937800407409668, -12.937899589538574, -12.937899589538574, -12.937899589538574, -12.937899589538574, -12.937899589538574, -12.937899589538574, -12.937899589538574, -12.937899589538574, -12.937899589538574, -12.937899589538574, -12.937899589538574, -12.937899589538574, -12.937899589538574, -12.937899589538574, -12.937899589538574, -12.937899589538574, -12.937899589538574, -12.937899589538574, -12.937899589538574, -12.937899589538574, -12.937899589538574, -12.937899589538574, -12.937899589538574, -12.937899589538574, -12.937899589538574, -12.937899589538574, -12.937899589538574, -12.937899589538574, -12.937899589538574, -12.937899589538574, -12.937899589538574, -12.937899589538574, -12.937899589538574, -12.937899589538574, -12.937899589538574, -12.937899589538574, -12.937899589538574, -12.937899589538574, -12.937899589538574, -12.937899589538574, -12.937899589538574, -12.937899589538574, -12.937899589538574, -12.937899589538574, -12.937899589538574, -12.937899589538574, -12.937899589538574, -12.937899589538574, -12.937899589538574, -12.937899589538574, -12.937899589538574, -12.937899589538574, -12.937899589538574, -12.937899589538574, -12.937899589538574, -12.937899589538574, -12.937899589538574, -12.937899589538574, -12.937899589538574, -12.937899589538574, -12.937899589538574, -12.937899589538574, -12.937899589538574, -12.937899589538574, -12.937899589538574, -12.937899589538574, -12.937899589538574, -12.937899589538574, -12.937899589538574, -12.937899589538574, -12.937899589538574, -12.937899589538574, -12.937899589538574, -12.937899589538574, -12.937899589538574, -12.937899589538574, -12.937899589538574, -12.937899589538574, -12.937899589538574, -12.937899589538574, -12.937899589538574, -4.14739990234375, -4.705900192260742, -4.846799850463867, -6.90939998626709, -7.308300018310547, -12.93340015411377, -12.93340015411377, -12.93340015411377, -12.93340015411377, -12.93340015411377, -12.93340015411377, -12.93340015411377, -12.93340015411377, -12.93340015411377, -12.93340015411377, -12.93340015411377, -12.93340015411377, -12.93340015411377, -12.93340015411377, -12.93340015411377, -12.93340015411377, -12.93340015411377, -12.93340015411377, -12.93340015411377, -12.93340015411377, -12.93340015411377, -12.93340015411377, -12.93340015411377, -12.93340015411377, -12.93340015411377, -12.93340015411377, -12.93340015411377, -12.93340015411377, -12.93340015411377, -12.93340015411377, -12.93340015411377, -12.93340015411377, -12.93340015411377, -12.93340015411377, -12.93340015411377, -12.93340015411377, -12.93340015411377, -12.93340015411377, -12.93340015411377, -12.93340015411377, -12.93340015411377, -12.93340015411377, -12.93340015411377, -12.93340015411377, -12.93340015411377, -12.93340015411377, -12.93340015411377, -12.93340015411377, -12.93340015411377]}, \"token.table\": {\"Topic\": [16, 5, 16, 20, 5, 11, 3, 3, 3, 11, 1, 2, 3, 3, 1, 4, 1, 1, 4, 3, 6, 4, 6, 10, 7, 10, 1, 2, 4, 6, 4, 4, 2, 6, 3, 3, 2, 7, 8, 1, 10, 10, 9, 4, 6, 3, 6, 1, 2, 8, 9, 5, 1, 6, 2, 8, 8, 4, 2, 3, 15, 4, 1, 2, 13, 15, 2, 1, 2, 7, 7, 1, 7, 11, 1, 5, 2, 11, 2, 6, 4, 7, 8, 7, 8, 17, 6, 8, 20, 9, 1, 2, 6, 5, 6, 8, 5, 9, 5, 8, 13, 1, 2, 2, 2, 1, 2, 1, 2, 14, 7, 4, 2, 9, 1, 2, 2, 4, 7, 6, 14, 13, 1, 1, 1, 4, 1, 2, 7, 9, 11, 1, 5, 4, 2, 4, 10, 20, 6, 1, 8, 13, 4, 1, 2, 3, 2, 3, 1, 20, 5, 8, 8, 5, 1, 2, 2, 10, 1, 20, 10, 1, 2, 10, 2, 11, 5, 5, 3, 1, 2, 1, 10, 3, 3, 3, 11, 6, 8, 1, 6, 13, 8, 3, 3, 9, 3, 12, 8, 6, 11, 2, 8, 2, 10, 5, 5, 2, 17, 6, 1, 8, 1, 1, 3, 1, 2, 9, 1, 8, 5, 14, 10, 2, 4, 8, 5, 11, 8, 4, 4, 7, 7, 6, 5, 2, 8, 12, 9, 5, 4, 5, 16, 8, 9, 5, 7, 2, 12, 2, 3, 4, 8, 3, 3, 1, 14, 18, 8, 4, 1, 6, 4, 6, 1, 2, 12, 7, 5, 8, 5, 7, 5, 5, 2, 8, 3, 8, 9, 5, 4, 5, 2, 7, 4, 4, 14, 5, 9, 15, 4, 1, 2, 2, 3, 6, 17, 2, 4, 3, 4, 3, 4, 14, 7, 2, 11, 8, 2, 16, 1, 6, 5, 6, 2, 1, 1, 1, 6, 9, 7, 5, 12, 1, 2, 11, 12, 8, 12, 8, 3, 8, 19, 8, 5, 8, 5, 9, 5, 13, 9, 8, 10, 4, 1, 1, 3, 8, 15, 1, 6, 6, 6, 12, 1, 2, 6, 8, 6, 1, 2, 1, 3, 6, 3, 13, 14], \"Freq\": [0.7881529927253723, 0.9954137206077576, 0.8727136254310608, 0.6567927598953247, 0.9993242621421814, 0.976303219795227, 0.9997603893280029, 0.9995054602622986, 0.9997272491455078, 0.9926340579986572, 0.6499349474906921, 0.35008832812309265, 0.9998083114624023, 0.9999645352363586, 0.9999391436576843, 0.9992038607597351, 0.9999890327453613, 0.7248736619949341, 0.274416446685791, 0.9995993375778198, 0.9985681772232056, 0.9978479743003845, 0.9988462328910828, 0.9224308729171753, 0.9921090006828308, 0.9917380809783936, 0.33691728115081787, 0.6629310846328735, 0.9991825222969055, 0.998989999294281, 0.9998061656951904, 0.9995351433753967, 0.9996253252029419, 0.9995616674423218, 0.9998452663421631, 0.999401867389679, 0.9998009204864502, 0.9979186654090881, 0.997115969657898, 0.9999704957008362, 0.9615479707717896, 0.9993744492530823, 0.953130304813385, 0.9990800023078918, 0.9938372373580933, 0.9996869564056396, 0.9987123012542725, 0.9692089557647705, 0.030772095546126366, 0.9972659945487976, 0.9994133114814758, 0.9992435574531555, 0.9999437928199768, 0.9985142946243286, 0.9999781847000122, 0.9975335597991943, 0.9987510442733765, 0.9991487264633179, 0.9996918439865112, 0.9989286661148071, 0.9826335310935974, 0.9979110956192017, 0.5107567310333252, 0.4892537295818329, 0.8919564485549927, 0.9677141904830933, 0.9994863867759705, 0.13792963325977325, 0.861854612827301, 0.998024046421051, 0.9975051879882812, 0.7340825796127319, 0.2656399607658386, 0.911530077457428, 0.9999908804893494, 0.9944118857383728, 0.9996403455734253, 0.9882163405418396, 0.9998774528503418, 0.9979586601257324, 0.9989825487136841, 0.7953606247901917, 0.20313167572021484, 0.9990373849868774, 0.993040144443512, 0.9642901420593262, 0.9978265166282654, 0.9917433857917786, 0.9594950675964355, 0.9649865627288818, 0.46206170320510864, 0.5379363298416138, 0.9953184723854065, 0.9979135394096375, 0.9940015077590942, 0.9944644570350647, 0.9995390176773071, 0.9967525601387024, 0.998204231262207, 0.9984244108200073, 0.8598982691764832, 0.2736627459526062, 0.726387083530426, 0.9998189210891724, 0.9999633431434631, 0.10457540303468704, 0.8954626321792603, 0.993782639503479, 0.006211141590029001, 0.8973440527915955, 0.9972897171974182, 0.9999316930770874, 0.9998629093170166, 0.9963533282279968, 0.7828197479248047, 0.21714243292808533, 0.9997264742851257, 0.9990845322608948, 0.9998835921287537, 0.9917846918106079, 0.9613768458366394, 0.9324742555618286, 0.9999958276748657, 0.9999368190765381, 0.9999881386756897, 0.9993418455123901, 0.9999469518661499, 0.9999178647994995, 0.9880805015563965, 0.9965888857841492, 0.9613528847694397, 0.9999567866325378, 0.998091995716095, 0.9998725056648254, 0.9999650120735168, 0.998737096786499, 0.9556950330734253, 0.9821220636367798, 0.9989617466926575, 0.9999666810035706, 0.9989762306213379, 0.9839155077934265, 0.9988483190536499, 0.9999957084655762, 0.9997856020927429, 0.9993900060653687, 0.8138965368270874, 0.18574991822242737, 0.9999804496765137, 0.5119301676750183, 0.9618889689445496, 0.03784564509987831, 0.9936081767082214, 0.999348521232605, 0.48678383231163025, 0.5131536722183228, 0.9997678995132446, 0.9829207062721252, 0.9999843835830688, 0.913402259349823, 0.9909601211547852, 0.6030638217926025, 0.3968920409679413, 0.9973461627960205, 0.9998558163642883, 0.987064778804779, 0.998680055141449, 0.9989455938339233, 0.9996118545532227, 0.6881250143051147, 0.3118409812450409, 0.9999352693557739, 0.9992229342460632, 0.9999948143959045, 0.9993122816085815, 0.9999042749404907, 0.9924128651618958, 0.9979753494262695, 0.9989343285560608, 0.9999699592590332, 0.9995818734169006, 0.9938859343528748, 0.9933355450630188, 0.9998514652252197, 0.9996706247329712, 0.9805188179016113, 0.9996393918991089, 0.995269775390625, 0.9945406317710876, 0.9991871118545532, 0.9754424095153809, 0.9996076822280884, 0.9936349987983704, 0.9997836947441101, 0.9955061674118042, 0.9989043474197388, 0.9997678399085999, 0.9999600052833557, 0.8809415698051453, 0.9974707961082458, 0.8901420831680298, 0.10921268165111542, 0.9999486207962036, 0.9999768733978271, 0.9996439218521118, 0.3232625126838684, 0.676672101020813, 0.9984996318817139, 0.9999927282333374, 0.9940760731697083, 0.998773455619812, 0.9725932478904724, 0.9947148561477661, 0.9997950792312622, 0.9996724128723145, 0.9986055493354797, 0.9984893798828125, 0.9972214102745056, 0.9969658255577087, 0.9989479184150696, 0.9996744990348816, 0.9798623323440552, 0.9974172711372375, 0.9970031976699829, 0.9998594522476196, 0.5224254727363586, 0.4777041971683502, 0.9779044389724731, 0.989510715007782, 0.9957605004310608, 0.9986104965209961, 0.9999164342880249, 0.984164834022522, 0.9992064833641052, 0.9948204755783081, 0.9993626475334167, 0.9964219927787781, 0.9996305704116821, 0.973094642162323, 0.9995800256729126, 0.9989073276519775, 0.9995474815368652, 0.9973723888397217, 0.9996543526649475, 0.9998118877410889, 0.9999929666519165, 0.985618531703949, 0.9952871799468994, 0.9984582662582397, 0.9995319247245789, 0.9999961256980896, 0.9961066246032715, 0.9994747638702393, 0.9990445971488953, 0.9893313646316528, 0.010654337704181671, 0.9862262010574341, 0.9959921836853027, 0.9953941106796265, 0.9978334307670593, 0.9989998936653137, 0.9868254065513611, 0.9969366788864136, 0.9998677968978882, 0.999953031539917, 0.996831476688385, 0.9996747374534607, 0.3771815299987793, 0.6233084797859192, 0.9982456564903259, 0.9990312457084656, 0.9994962215423584, 0.9998406171798706, 0.9992789030075073, 0.9975602030754089, 0.9993978142738342, 0.6419577598571777, 0.9992678761482239, 0.9995836019515991, 0.9583016633987427, 0.9992531538009644, 0.07492303848266602, 0.9249634742736816, 0.9998728632926941, 0.9999260306358337, 0.9879274964332581, 0.9835498929023743, 0.9998567700386047, 0.9975690841674805, 0.999472439289093, 0.9980126619338989, 0.9995718598365784, 0.9985074996948242, 0.8548935651779175, 0.9958048462867737, 0.999938428401947, 0.9471944570541382, 0.9967480301856995, 0.999728798866272, 0.9633151292800903, 0.9999798536300659, 0.9964000582695007, 0.9994872808456421, 0.999274492263794, 0.9998184442520142, 0.9999542236328125, 0.999979555606842, 0.9999865889549255, 0.9924942255020142, 0.9940705895423889, 0.9863371849060059, 0.9991456866264343, 0.9876279234886169, 0.9827353954315186, 0.017240971326828003, 0.978225827217102, 0.8832727074623108, 0.9985814094543457, 0.9893604516983032, 0.9899949431419373, 0.9997101426124573, 0.9952090978622437, 0.994405210018158, 0.9958927035331726, 0.9365809559822083, 0.06297699362039566, 0.9973334670066833, 0.9991837739944458, 0.9993642568588257, 0.8666290044784546, 0.9883465766906738, 0.995466411113739, 0.9686250686645508, 0.9990661144256592, 0.9999624490737915, 0.9999949932098389, 0.9992541670799255, 0.9951171278953552, 0.9338663816452026, 0.9999749660491943, 0.9956746697425842, 0.9958813786506653, 0.9904674887657166, 0.9962740540504456, 0.9999748468399048, 0.9997009038925171, 0.9984320998191833, 0.9904201030731201, 0.9963245987892151, 0.23949064314365387, 0.760447084903717, 0.9999547004699707, 0.9996894598007202, 0.9945783019065857, 0.9993784427642822, 0.9721575379371643, 0.9916306138038635], \"Term\": [\"againyoure\", \"algo\", \"alla\", \"altar\", \"amor\", \"anger\", \"anything\", \"arm\", \"ask\", \"avoid\", \"away\", \"away\", \"awayi\", \"baby\", \"back\", \"bass\", \"be\", \"bear\", \"bear\", \"beautiful\", \"bei\", \"best\", \"bethe\", \"bewhen\", \"bible\", \"bind\", \"black\", \"black\", \"bleed\", \"bless\", \"blind\", \"blood\", \"blue\", \"bounce\", \"brother\", \"build\", \"burn\", \"bwoy\", \"c\", \"can\", \"cani\", \"carry\", \"casa\", \"case\", \"cast\", \"chance\", \"chick\", \"come\", \"come\", \"comme\", \"como\", \"con\", \"could\", \"crash\", \"cry\", \"d\", \"dan\", \"dare\", \"dark\", \"darkness\", \"dat\", \"dawn\", \"day\", \"day\", \"daysand\", \"daywhen\", \"death\", \"deep\", \"deep\", \"dem\", \"deny\", \"die\", \"die\", \"dissolve\", \"do\", \"donde\", \"door\", \"drag\", \"dream\", \"drivin\", \"drown\", \"du\", \"du\", \"dust\", \"e\", \"eagle\", \"echo\", \"elle\", \"embrace\", \"encuentro\", \"end\", \"end\", \"enoughto\", \"era\", \"erase\", \"est\", \"esta\", \"este\", \"estoy\", \"et\", \"exit\", \"eye\", \"eye\", \"fade\", \"fall\", \"far\", \"far\", \"feel\", \"feel\", \"fever\", \"fi\", \"fight\", \"fill\", \"fin\", \"find\", \"find\", \"fire\", \"flow\", \"forever\", \"fortune\", \"foryou\", \"georgia\", \"get\", \"give\", \"go\", \"golden\", \"good\", \"great\", \"har\", \"hasta\", \"hatred\", \"have\", \"hay\", \"head\", \"heart\", \"heavy\", \"herbut\", \"hereand\", \"holy\", \"ill\", \"jai\", \"job\", \"jump\", \"keep\", \"kid\", \"kind\", \"kiss\", \"kiss\", \"know\", \"knowni\", \"la\", \"la\", \"lamp\", \"land\", \"last\", \"last\", \"laugh\", \"lend\", \"let\", \"liar\", \"lif\", \"life\", \"life\", \"lifei\", \"light\", \"linei\", \"living\", \"lo_que\", \"lonely\", \"long\", \"long\", \"look\", \"lord\", \"love\", \"lovei\", \"lover\", \"lucky\", \"mad\", \"mai\", \"make\", \"mama\", \"master\", \"me\", \"meand\", \"meet\", \"mejor\", \"memory\", \"meoh\", \"mindbut\", \"mine\", \"mineyou\", \"moment\", \"mon\", \"morning\", \"movin\", \"ms\", \"mundo\", \"music\", \"mystery\", \"nature\", \"ne\", \"ne\", \"need\", \"never\", \"nice\", \"night\", \"night\", \"nos\", \"not\", \"nous\", \"nunca\", \"ocean\", \"oclock\", \"one\", \"pack\", \"par\", \"para\", \"part\", \"pas\", \"passion\", \"pay\", \"penetrate\", \"placeand\", \"platinum\", \"por\", \"pour\", \"pour\", \"prince\", \"puede\", \"puedo\", \"pure\", \"que\", \"queen\", \"qui\", \"quiere\", \"quiero\", \"quietly\", \"rain\", \"rainand\", \"reason\", \"record\", \"rest\", \"rien\", \"rock\", \"room\", \"s\", \"sabe\", \"sad\", \"san\", \"save\", \"say\", \"sayand\", \"scream\", \"sea\", \"see\", \"see\", \"seeand\", \"seethe\", \"seguir\", \"sen\", \"ser\", \"serpent\", \"seul\", \"shake\", \"shine\", \"ship\", \"shut\", \"si\", \"si\", \"siempre\", \"silence\", \"sin\", \"sing\", \"sky\", \"slowly\", \"smell\", \"smother\", \"sol\", \"solo\", \"som\", \"son\", \"song\", \"song\", \"soul\", \"spin\", \"spiral\", \"spirit\", \"star\", \"stare\", \"stick\", \"storm\", \"street\", \"strength\", \"sueo\", \"suicide\", \"sun\", \"sunand\", \"sur\", \"sweet\", \"swing\", \"take\", \"tale\", \"tan\", \"taste\", \"tear\", \"tell\", \"thing\", \"think\", \"throughand\", \"ti\", \"tick\", \"tide\", \"tie\", \"time\", \"time\", \"timeto\", \"timewell\", \"toi\", \"toll\", \"ton\", \"touch\", \"tout\", \"train\", \"treasure\", \"tu\", \"tu\", \"tus\", \"un\", \"una\", \"up\", \"vamo\", \"vie\", \"violent\", \"wall\", \"wanna\", \"want\", \"warm\", \"warn\", \"wat\", \"way\", \"wayand\", \"welcome\", \"where\", \"who\", \"will\", \"wind\", \"wine\", \"wither\", \"wonderful\", \"world\", \"world\", \"would\", \"youand\", \"youcant\", \"youi\", \"youwe\", \"youwell\"]}, \"R\": 30, \"lambda.step\": 0.01, \"plot.opts\": {\"xlab\": \"PC1\", \"ylab\": \"PC2\"}, \"topic.order\": [5, 11, 20, 7, 1, 8, 12, 17, 13, 15, 19, 3, 2, 10, 18, 6, 9, 16, 14, 4]};\n",
       "\n",
       "function LDAvis_load_lib(url, callback){\n",
       "  var s = document.createElement('script');\n",
       "  s.src = url;\n",
       "  s.async = true;\n",
       "  s.onreadystatechange = s.onload = callback;\n",
       "  s.onerror = function(){console.warn(\"failed to load library \" + url);};\n",
       "  document.getElementsByTagName(\"head\")[0].appendChild(s);\n",
       "}\n",
       "\n",
       "if(typeof(LDAvis) !== \"undefined\"){\n",
       "   // already loaded: just create the visualization\n",
       "   !function(LDAvis){\n",
       "       new LDAvis(\"#\" + \"ldavis_el195791146155476086246338200\", ldavis_el195791146155476086246338200_data);\n",
       "   }(LDAvis);\n",
       "}else if(typeof define === \"function\" && define.amd){\n",
       "   // require.js is available: use it to load d3/LDAvis\n",
       "   require.config({paths: {d3: \"https://cdnjs.cloudflare.com/ajax/libs/d3/3.5.5/d3.min\"}});\n",
       "   require([\"d3\"], function(d3){\n",
       "      window.d3 = d3;\n",
       "      LDAvis_load_lib(\"https://cdn.rawgit.com/bmabey/pyLDAvis/files/ldavis.v1.0.0.js\", function(){\n",
       "        new LDAvis(\"#\" + \"ldavis_el195791146155476086246338200\", ldavis_el195791146155476086246338200_data);\n",
       "      });\n",
       "    });\n",
       "}else{\n",
       "    // require.js not available: dynamically load d3 & LDAvis\n",
       "    LDAvis_load_lib(\"https://cdnjs.cloudflare.com/ajax/libs/d3/3.5.5/d3.min.js\", function(){\n",
       "         LDAvis_load_lib(\"https://cdn.rawgit.com/bmabey/pyLDAvis/files/ldavis.v1.0.0.js\", function(){\n",
       "                 new LDAvis(\"#\" + \"ldavis_el195791146155476086246338200\", ldavis_el195791146155476086246338200_data);\n",
       "            })\n",
       "         });\n",
       "}\n",
       "</script>"
      ],
      "text/plain": [
       "PreparedData(topic_coordinates=              x         y  topics  cluster       Freq\n",
       "topic                                                \n",
       "4     -0.540033  0.051615       1        1  72.404167\n",
       "10    -0.359646  0.085459       2        1  12.617105\n",
       "19    -0.113719 -0.389415       3        1   5.841998\n",
       "6      0.010985  0.022232       4        1   2.523860\n",
       "0      0.044596  0.024003       5        1   2.159739\n",
       "7      0.054777  0.021654       6        1   0.950082\n",
       "11     0.059313  0.019263       7        1   0.837080\n",
       "16     0.060697  0.020192       8        1   0.815463\n",
       "12     0.064866  0.015109       9        1   0.577000\n",
       "14     0.064390  0.015744      10        1   0.302845\n",
       "18     0.065204  0.013789      11        1   0.212256\n",
       "2      0.065319  0.013265      12        1   0.187281\n",
       "1      0.065442  0.011407      13        1   0.101427\n",
       "9      0.065406  0.010868      14        1   0.087460\n",
       "17     0.065413  0.010952      15        1   0.086564\n",
       "5      0.065392  0.010701      16        1   0.074813\n",
       "8      0.065404  0.010822      17        1   0.065913\n",
       "15     0.065391  0.010698      18        1   0.058748\n",
       "13     0.065411  0.010907      19        1   0.049077\n",
       "3      0.065394  0.010734      20        1   0.047126, topic_info=       Category          Freq              Term          Total  loglift  \\\n",
       "term                                                                      \n",
       "191     Default   40552.00000              love   40552.000000   30.000   \n",
       "51      Default  110809.00000               not  110809.000000   29.000   \n",
       "716     Default   11460.00000              baby   11460.000000   28.000   \n",
       "5       Default   94558.00000                be   94558.000000   27.000   \n",
       "26      Default   84667.00000               get   84667.000000   26.000   \n",
       "186     Default   12635.00000             heart   12635.000000   25.000   \n",
       "181     Default   11554.00000              fall   11554.000000   24.000   \n",
       "1234    Default    4758.00000               die    4758.000000   23.000   \n",
       "1574    Default   12054.00000             world   12054.000000   22.000   \n",
       "27      Default   56655.00000                go   56655.000000   21.000   \n",
       "13      Default   54315.00000                do   54315.000000   20.000   \n",
       "385     Default   12416.00000               day   12416.000000   19.000   \n",
       "36      Default   52577.00000              know   52577.000000   18.000   \n",
       "158     Default    4196.00000               que    4196.000000   17.000   \n",
       "2085    Default    5549.00000              spin    5549.000000   16.000   \n",
       "478     Default   13202.00000              life   13202.000000   15.000   \n",
       "474     Default    3994.00000              head    3994.000000   14.000   \n",
       "261     Default    8856.00000             night    8856.000000   13.000   \n",
       "1001    Default    3937.00000                la    3937.000000   12.000   \n",
       "1425    Default    6713.00000             dream    6713.000000   11.000   \n",
       "390     Default    7494.00000               eye    7494.000000   10.000   \n",
       "439     Default    6248.00000             light    6248.000000    9.000   \n",
       "3093    Default    2956.00000             shake    2956.000000    8.000   \n",
       "342     Default   33138.00000              make   33138.000000    7.000   \n",
       "208     Default    4505.00000              burn    4505.000000    6.000   \n",
       "296     Default   28991.00000              want   28991.000000    5.000   \n",
       "3515    Default    3181.00000              meet    3181.000000    4.000   \n",
       "1375    Default    2430.00000             fight    2430.000000    3.000   \n",
       "59      Default   27956.00000                 s   27956.000000    2.000   \n",
       "48      Default   27949.00000             never   27949.000000    1.000   \n",
       "...         ...           ...               ...            ...      ...   \n",
       "399510  Topic20       0.00317      handsmemorie       0.646662    2.342   \n",
       "399516  Topic20       0.00317    restlessnessis       0.646662    2.342   \n",
       "399515  Topic20       0.00317           preyliv       0.646662    2.342   \n",
       "398131  Topic20       0.00317         airsearch       0.646663    2.342   \n",
       "399514  Topic20       0.00317        mazetheyve       0.646662    2.342   \n",
       "399513  Topic20       0.00317         lifewhich       0.646662    2.342   \n",
       "5297    Topic20       0.00317             tease       0.646668    2.342   \n",
       "399511  Topic20       0.00317     handsrestless       0.646662    2.342   \n",
       "399506  Topic20       0.00317         callhaunt       0.646662    2.342   \n",
       "399512  Topic20       0.00317      helprestless       0.646662    2.342   \n",
       "399517  Topic20       0.00317      standthrough       0.646662    2.342   \n",
       "398138  Topic20       0.00317    ourselveswould       0.646663    2.342   \n",
       "398139  Topic20       0.00317         prayersor       0.646663    2.342   \n",
       "38340   Topic20       0.00317         answering       0.646663    2.342   \n",
       "277142  Topic20       0.00317        diethrough       0.646662    2.342   \n",
       "103228  Topic20       0.00317          holiness       0.646662    2.342   \n",
       "399507  Topic20       0.00317       callmemorie       0.646662    2.342   \n",
       "5893    Topic20       0.00317             haunt       0.646669    2.342   \n",
       "399518  Topic20       0.00317          wayaware       0.646662    2.342   \n",
       "129740  Topic20       0.00317         crowdwhen       0.646662    2.342   \n",
       "108575  Topic20       0.00317            fearso       0.646664    2.342   \n",
       "6636    Topic20       0.00317             headi       0.646673    2.342   \n",
       "67183   Topic20       0.00317          herewell       0.646662    2.342   \n",
       "396232  Topic20       0.00317  newborn_futurewe       0.646665    2.342   \n",
       "5145    Topic20       0.00317           anybody       0.646682    2.342   \n",
       "4062    Topic20       0.00317              dead       0.646710    2.342   \n",
       "3841    Topic20       0.00317             crowd       0.646677    2.342   \n",
       "4979    Topic20       0.00317             final       0.646686    2.342   \n",
       "9390    Topic20       0.00317             trick       0.646675    2.342   \n",
       "4729    Topic20       0.00317              rule       0.646685    2.342   \n",
       "\n",
       "        logprob  \n",
       "term             \n",
       "191     30.0000  \n",
       "51      29.0000  \n",
       "716     28.0000  \n",
       "5       27.0000  \n",
       "26      26.0000  \n",
       "186     25.0000  \n",
       "181     24.0000  \n",
       "1234    23.0000  \n",
       "1574    22.0000  \n",
       "27      21.0000  \n",
       "13      20.0000  \n",
       "385     19.0000  \n",
       "36      18.0000  \n",
       "158     17.0000  \n",
       "2085    16.0000  \n",
       "478     15.0000  \n",
       "474     14.0000  \n",
       "261     13.0000  \n",
       "1001    12.0000  \n",
       "1425    11.0000  \n",
       "390     10.0000  \n",
       "439      9.0000  \n",
       "3093     8.0000  \n",
       "342      7.0000  \n",
       "208      6.0000  \n",
       "296      5.0000  \n",
       "3515     4.0000  \n",
       "1375     3.0000  \n",
       "59       2.0000  \n",
       "48       1.0000  \n",
       "...         ...  \n",
       "399510 -12.9334  \n",
       "399516 -12.9334  \n",
       "399515 -12.9334  \n",
       "398131 -12.9334  \n",
       "399514 -12.9334  \n",
       "399513 -12.9334  \n",
       "5297   -12.9334  \n",
       "399511 -12.9334  \n",
       "399506 -12.9334  \n",
       "399512 -12.9334  \n",
       "399517 -12.9334  \n",
       "398138 -12.9334  \n",
       "398139 -12.9334  \n",
       "38340  -12.9334  \n",
       "277142 -12.9334  \n",
       "103228 -12.9334  \n",
       "399507 -12.9334  \n",
       "5893   -12.9334  \n",
       "399518 -12.9334  \n",
       "129740 -12.9334  \n",
       "108575 -12.9334  \n",
       "6636   -12.9334  \n",
       "67183  -12.9334  \n",
       "396232 -12.9334  \n",
       "5145   -12.9334  \n",
       "4062   -12.9334  \n",
       "3841   -12.9334  \n",
       "4979   -12.9334  \n",
       "9390   -12.9334  \n",
       "4729   -12.9334  \n",
       "\n",
       "[923 rows x 6 columns], token_table=      Topic      Freq        Term\n",
       "term                             \n",
       "2749     16  0.788153  againyoure\n",
       "111       5  0.995414        algo\n",
       "112      16  0.872714        alla\n",
       "1672     20  0.656793       altar\n",
       "113       5  0.999324        amor\n",
       "2885     11  0.976303       anger\n",
       "3104      3  0.999760    anything\n",
       "1418      3  0.999505         arm\n",
       "2138      3  0.999727         ask\n",
       "2936     11  0.992634       avoid\n",
       "371       1  0.649935        away\n",
       "371       2  0.350088        away\n",
       "373       3  0.999808       awayi\n",
       "716       3  0.999965        baby\n",
       "4         1  0.999939        back\n",
       "2498      4  0.999204        bass\n",
       "5         1  0.999989          be\n",
       "518       1  0.724874        bear\n",
       "518       4  0.274416        bear\n",
       "2663      3  0.999599   beautiful\n",
       "2910      6  0.998568         bei\n",
       "2089      4  0.997848        best\n",
       "2911      6  0.998846       bethe\n",
       "3712     10  0.922431      bewhen\n",
       "3536      7  0.992109       bible\n",
       "3164     10  0.991738        bind\n",
       "320       1  0.336917       black\n",
       "320       2  0.662931       black\n",
       "1350      4  0.999183       bleed\n",
       "520       6  0.998990       bless\n",
       "...     ...       ...         ...\n",
       "1185      9  0.999184          un\n",
       "2017      5  0.999364         una\n",
       "3204     13  0.866629          up\n",
       "1189      9  0.988347        vamo\n",
       "1091      8  0.995466         vie\n",
       "2048     10  0.968625     violent\n",
       "362       4  0.999066        wall\n",
       "295       1  0.999962       wanna\n",
       "296       1  0.999995        want\n",
       "1275      3  0.999254        warm\n",
       "1639      8  0.995117        warn\n",
       "1276     15  0.933866         wat\n",
       "429       1  0.999975         way\n",
       "2932      6  0.995675      wayand\n",
       "1531      6  0.995881     welcome\n",
       "3532      6  0.990467       where\n",
       "448      12  0.996274         who\n",
       "108       1  0.999975        will\n",
       "675       2  0.999701        wind\n",
       "3567      6  0.998432        wine\n",
       "3099      8  0.990420      wither\n",
       "364       6  0.996325   wonderful\n",
       "1574      1  0.239491       world\n",
       "1574      2  0.760447       world\n",
       "78        1  0.999955       would\n",
       "301       3  0.999689      youand\n",
       "2933      6  0.994578     youcant\n",
       "305       3  0.999378        youi\n",
       "2660     13  0.972158       youwe\n",
       "1449     14  0.991631     youwell\n",
       "\n",
       "[357 rows x 3 columns], R=30, lambda_step=0.01, plot_opts={'xlab': 'PC1', 'ylab': 'PC2'}, topic_order=[5, 11, 20, 7, 1, 8, 12, 17, 13, 15, 19, 3, 2, 10, 18, 6, 9, 16, 14, 4])"
      ]
     },
     "execution_count": 23,
     "metadata": {},
     "output_type": "execute_result"
    }
   ],
   "source": [
    "# Visualize the topics\n",
    "pyLDAvis.enable_notebook()\n",
    "vis = pyLDAvis.gensim.prepare(lda_model, corpus, id2word)\n",
    "vis"
   ]
  },
  {
   "cell_type": "code",
   "execution_count": 24,
   "metadata": {},
   "outputs": [],
   "source": [
    "mallet_path = '/Users/neha/Downloads/mallet-2.0.8/bin/mallet' # update this path\n",
    "ldamallet = gensim.models.wrappers.LdaMallet(mallet_path, corpus=corpus, num_topics=20, id2word=id2word)"
   ]
  },
  {
   "cell_type": "code",
   "execution_count": 25,
   "metadata": {},
   "outputs": [
    {
     "name": "stdout",
     "output_type": "stream",
     "text": [
      "[(2,\n",
      "  [('light', 0.032365740948449906),\n",
      "   ('dream', 0.030660864103369375),\n",
      "   ('eye', 0.023823410650993762),\n",
      "   ('sun', 0.018735699223832385),\n",
      "   ('fly', 0.01502983534478891),\n",
      "   ('star', 0.012526358293328549),\n",
      "   ('sky', 0.0122212750684194),\n",
      "   ('wind', 0.012095652564045045),\n",
      "   ('rain', 0.01144959397011979),\n",
      "   ('high', 0.010399748754991252)]),\n",
      " (16,\n",
      "  [('watch', 0.02895738203957382),\n",
      "   ('hope', 0.026407914764079148),\n",
      "   ('hate', 0.0156519533231862),\n",
      "   ('beautiful', 0.01297564687975647),\n",
      "   ('write', 0.012480974124809741),\n",
      "   ('side', 0.012417554540842212),\n",
      "   ('perfect', 0.009411466260781329),\n",
      "   ('room', 0.007382039573820396),\n",
      "   ('win', 0.0069634703196347035),\n",
      "   ('mother', 0.006291222729578894)]),\n",
      " (7,\n",
      "  [('love', 0.22786009065692442),\n",
      "   ('baby', 0.05639841688654353),\n",
      "   ('give', 0.04740037886475881),\n",
      "   ('kiss', 0.015459035247953454),\n",
      "   ('sweet', 0.01144205398822813),\n",
      "   ('youand', 0.01062174413097896),\n",
      "   ('heart', 0.010528719301806372),\n",
      "   ('hold', 0.008702049928962858),\n",
      "   ('true', 0.00768723361071646),\n",
      "   ('youi', 0.005750625803396252)]),\n",
      " (8,\n",
      "  [('life', 0.06982099290002468),\n",
      "   ('world', 0.058353207781646065),\n",
      "   ('live', 0.053592477863976536),\n",
      "   ('people', 0.01604576148834489),\n",
      "   ('god', 0.014026334786224037),\n",
      "   ('child', 0.01325876988587041),\n",
      "   ('save', 0.012765335307071649),\n",
      "   ('lord', 0.01146778511837861),\n",
      "   ('bear', 0.009567148222264866),\n",
      "   ('great', 0.009265604868554512)]),\n",
      " (12,\n",
      "  [('find', 0.08140259445986518),\n",
      "   ('heart', 0.0698124964595253),\n",
      "   ('place', 0.023191525519741688),\n",
      "   ('burn', 0.020449781906758058),\n",
      "   ('fire', 0.018376479918427464),\n",
      "   ('open', 0.015963292358239393),\n",
      "   ('follow', 0.013980626522404125),\n",
      "   ('set', 0.013844672293661134),\n",
      "   ('hide', 0.009800033988557185),\n",
      "   ('free', 0.008938990539851583)]),\n",
      " (17,\n",
      "  [('kill', 0.016246503857488784),\n",
      "   ('black', 0.013693615902990258),\n",
      "   ('ready', 0.012351472603382577),\n",
      "   ('man', 0.010887316276537834),\n",
      "   ('line', 0.010446192254988456),\n",
      "   ('shake', 0.00989244082368179),\n",
      "   ('hell', 0.00965780038668744),\n",
      "   ('full', 0.009132205807820096),\n",
      "   ('brother', 0.007489722748859648),\n",
      "   ('head', 0.007424023426501229)]),\n",
      " (11,\n",
      "  [('die', 0.026140539318220364),\n",
      "   ('und', 0.011543897337328283),\n",
      "   ('ich', 0.011498671490756968),\n",
      "   ('der', 0.008943411159477641),\n",
      "   ('nicht', 0.007179603143196336),\n",
      "   ('das', 0.006625586522697722),\n",
      "   ('den', 0.006591667137769235),\n",
      "   ('ist', 0.006342924981627),\n",
      "   ('che', 0.006252473288484369),\n",
      "   ('mich', 0.004477358810560235)]),\n",
      " (15,\n",
      "  [('stop', 0.031041385321188785),\n",
      "   ('move', 0.025591663553908187),\n",
      "   ('start', 0.022775814345506615),\n",
      "   ('play', 0.022067063184208258),\n",
      "   ('song', 0.020563361396048235),\n",
      "   ('sing', 0.020256874407378674),\n",
      "   ('dance', 0.019691789022019176),\n",
      "   ('head', 0.018839372084781963),\n",
      "   ('rock', 0.016215077244298864),\n",
      "   ('beat', 0.015247727686310567)]),\n",
      " (4,\n",
      "  [('good', 0.08919868084402634),\n",
      "   ('girl', 0.05458542896889866),\n",
      "   ('man', 0.044759857188719075),\n",
      "   ('bad', 0.022598815094413045),\n",
      "   ('boy', 0.02166489936085142),\n",
      "   ('real', 0.016197601003959415),\n",
      "   ('put', 0.015176130670376388),\n",
      "   ('woman', 0.01478699911472571),\n",
      "   ('kind', 0.012627318980864456),\n",
      "   ('pretty', 0.010924868424892745)]),\n",
      " (19,\n",
      "  [('day', 0.06821983393263154),\n",
      "   ('hear', 0.05472811226073979),\n",
      "   ('call', 0.046785324372239305),\n",
      "   ('walk', 0.04382055108725047),\n",
      "   ('talk', 0.02509039553681427),\n",
      "   ('cry', 0.020953735514177826),\n",
      "   ('friend', 0.01958152625727421),\n",
      "   ('remember', 0.0182994621340358),\n",
      "   ('meet', 0.014723705165316158),\n",
      "   ('happen', 0.012530173579462935)])]\n",
      "\n",
      "Coherence Score:  0.47734191631977196\n"
     ]
    }
   ],
   "source": [
    "# Show Topics\n",
    "pprint(ldamallet.show_topics(formatted=False))\n",
    "\n",
    "# Compute Coherence Score\n",
    "coherence_model_ldamallet = CoherenceModel(model=ldamallet, texts=data_lemmatized, dictionary=id2word, coherence='c_v')\n",
    "coherence_ldamallet = coherence_model_ldamallet.get_coherence()\n",
    "print('\\nCoherence Score: ', coherence_ldamallet)"
   ]
  },
  {
   "cell_type": "code",
   "execution_count": 26,
   "metadata": {},
   "outputs": [],
   "source": [
    "def compute_coherence_values(dictionary, corpus, texts, limit, start=2, step=3):\n",
    "    \"\"\"\n",
    "    Compute c_v coherence for various number of topics\n",
    "\n",
    "    Parameters:\n",
    "    ----------\n",
    "    dictionary : Gensim dictionary\n",
    "    corpus : Gensim corpus\n",
    "    texts : List of input texts\n",
    "    limit : Max num of topics\n",
    "\n",
    "    Returns:\n",
    "    -------\n",
    "    model_list : List of LDA topic models\n",
    "    coherence_values : Coherence values corresponding to the LDA model with respective number of topics\n",
    "    \"\"\"\n",
    "    coherence_values = []\n",
    "    model_list = []\n",
    "    for num_topics in range(start, limit, step):\n",
    "        model = gensim.models.wrappers.LdaMallet(mallet_path, corpus=corpus, num_topics=num_topics, id2word=id2word)\n",
    "        model_list.append(model)\n",
    "        coherencemodel = CoherenceModel(model=model, texts=texts, dictionary=dictionary, coherence='c_v')\n",
    "        coherence_values.append(coherencemodel.get_coherence())\n",
    "\n",
    "    return model_list, coherence_values"
   ]
  },
  {
   "cell_type": "code",
   "execution_count": null,
   "metadata": {},
   "outputs": [],
   "source": [
    "# Can take a long time to run.\n",
    "model_list, coherence_values = compute_coherence_values(dictionary=id2word, corpus=corpus, texts=data_lemmatized, start=2, limit=40, step=6)"
   ]
  }
 ],
 "metadata": {
  "kernelspec": {
   "display_name": "Python 3",
   "language": "python",
   "name": "python3"
  },
  "language_info": {
   "codemirror_mode": {
    "name": "ipython",
    "version": 3
   },
   "file_extension": ".py",
   "mimetype": "text/x-python",
   "name": "python",
   "nbconvert_exporter": "python",
   "pygments_lexer": "ipython3",
   "version": "3.6.9"
  }
 },
 "nbformat": 4,
 "nbformat_minor": 4
}
