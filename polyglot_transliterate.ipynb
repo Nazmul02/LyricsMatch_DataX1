{
 "cells": [
  {
   "cell_type": "code",
   "execution_count": 1,
   "metadata": {},
   "outputs": [],
   "source": [
    "import pandas as pd\n",
    "import numpy as np"
   ]
  },
  {
   "cell_type": "code",
   "execution_count": 5,
   "metadata": {},
   "outputs": [],
   "source": [
    "lyriscia_romanized_lyrics = pd.read_csv(\"data/lyricsia_phase2.csv\")"
   ]
  },
  {
   "cell_type": "code",
   "execution_count": 6,
   "metadata": {},
   "outputs": [
    {
     "data": {
      "text/html": [
       "<div>\n",
       "<style scoped>\n",
       "    .dataframe tbody tr th:only-of-type {\n",
       "        vertical-align: middle;\n",
       "    }\n",
       "\n",
       "    .dataframe tbody tr th {\n",
       "        vertical-align: top;\n",
       "    }\n",
       "\n",
       "    .dataframe thead th {\n",
       "        text-align: right;\n",
       "    }\n",
       "</style>\n",
       "<table border=\"1\" class=\"dataframe\">\n",
       "  <thead>\n",
       "    <tr style=\"text-align: right;\">\n",
       "      <th></th>\n",
       "      <th>Song</th>\n",
       "      <th>Lyrics</th>\n",
       "      <th>Movie</th>\n",
       "      <th>Year</th>\n",
       "      <th>Singer</th>\n",
       "      <th>Writer</th>\n",
       "      <th>Composer</th>\n",
       "    </tr>\n",
       "  </thead>\n",
       "  <tbody>\n",
       "    <tr>\n",
       "      <th>0</th>\n",
       "      <td>Yahaan Badala Wafa Ka</td>\n",
       "      <td>Yahan badala wafa ka\\r\\nBewafai ke siva kya ha...</td>\n",
       "      <td>Jugnu</td>\n",
       "      <td>1947</td>\n",
       "      <td>Mohammed Rafi, Noor Jehan</td>\n",
       "      <td>Tanvir Naqvi</td>\n",
       "      <td>Feroz Nizami</td>\n",
       "    </tr>\n",
       "    <tr>\n",
       "      <th>1</th>\n",
       "      <td>Chand Si Soorat</td>\n",
       "      <td>Aaine mein ek chand si surat nazar aayi\\r\\nAai...</td>\n",
       "      <td>Elan</td>\n",
       "      <td>1947</td>\n",
       "      <td>Amirbai Karnataki, Surendra Nath</td>\n",
       "      <td>Zia Sarhadi</td>\n",
       "      <td>Naushad</td>\n",
       "    </tr>\n",
       "    <tr>\n",
       "      <th>2</th>\n",
       "      <td>Wo Apani Yaad Dilaane Ko</td>\n",
       "      <td>vo apani yaad dilaane ko \\r\\nek ishq ki duniya...</td>\n",
       "      <td>Jugnu</td>\n",
       "      <td>1947</td>\n",
       "      <td>Mohammed Rafi</td>\n",
       "      <td>Asgar, Abid Shah</td>\n",
       "      <td>Firoz Nizami</td>\n",
       "    </tr>\n",
       "    <tr>\n",
       "      <th>3</th>\n",
       "      <td>Yahan Badla Wafaa Ka</td>\n",
       "      <td>yaha badla wafa ka bewfaayi ke siva kya hai\\r\\...</td>\n",
       "      <td>Jugnu</td>\n",
       "      <td>1947</td>\n",
       "      <td>Mohammed Rafi, Noor Jehan</td>\n",
       "      <td>Tanvir Naqvi</td>\n",
       "      <td>Firoz Nizami</td>\n",
       "    </tr>\n",
       "    <tr>\n",
       "      <th>4</th>\n",
       "      <td>Khayegi Thokare Ye Jawani</td>\n",
       "      <td>khaayegi thokare ye jawaani kahaan-kahaan \\r\\n...</td>\n",
       "      <td>Mirza Sahiban</td>\n",
       "      <td>1947</td>\n",
       "      <td>G. M. Durrani</td>\n",
       "      <td>Qamar Jalalabadi</td>\n",
       "      <td>Pandit Amarnath, Husnlal Bhagatram</td>\n",
       "    </tr>\n",
       "  </tbody>\n",
       "</table>\n",
       "</div>"
      ],
      "text/plain": [
       "                         Song  \\\n",
       "0      Yahaan Badala Wafa Ka    \n",
       "1            Chand Si Soorat    \n",
       "2   Wo Apani Yaad Dilaane Ko    \n",
       "3       Yahan Badla Wafaa Ka    \n",
       "4  Khayegi Thokare Ye Jawani    \n",
       "\n",
       "                                              Lyrics          Movie  Year  \\\n",
       "0  Yahan badala wafa ka\\r\\nBewafai ke siva kya ha...          Jugnu  1947   \n",
       "1  Aaine mein ek chand si surat nazar aayi\\r\\nAai...           Elan  1947   \n",
       "2  vo apani yaad dilaane ko \\r\\nek ishq ki duniya...          Jugnu  1947   \n",
       "3  yaha badla wafa ka bewfaayi ke siva kya hai\\r\\...          Jugnu  1947   \n",
       "4  khaayegi thokare ye jawaani kahaan-kahaan \\r\\n...  Mirza Sahiban  1947   \n",
       "\n",
       "                             Singer            Writer  \\\n",
       "0         Mohammed Rafi, Noor Jehan      Tanvir Naqvi   \n",
       "1  Amirbai Karnataki, Surendra Nath       Zia Sarhadi   \n",
       "2                     Mohammed Rafi  Asgar, Abid Shah   \n",
       "3         Mohammed Rafi, Noor Jehan      Tanvir Naqvi   \n",
       "4                     G. M. Durrani  Qamar Jalalabadi   \n",
       "\n",
       "                             Composer  \n",
       "0                        Feroz Nizami  \n",
       "1                             Naushad  \n",
       "2                        Firoz Nizami  \n",
       "3                        Firoz Nizami  \n",
       "4  Pandit Amarnath, Husnlal Bhagatram  "
      ]
     },
     "execution_count": 6,
     "metadata": {},
     "output_type": "execute_result"
    }
   ],
   "source": [
    "lyriscia_romanized_lyrics.head()"
   ]
  },
  {
   "cell_type": "code",
   "execution_count": 7,
   "metadata": {},
   "outputs": [],
   "source": [
    "from polyglot.text import Text"
   ]
  },
  {
   "cell_type": "code",
   "execution_count": 10,
   "metadata": {},
   "outputs": [],
   "source": [
    "blobs = blob.split('\\r\\n')"
   ]
  },
  {
   "cell_type": "code",
   "execution_count": 11,
   "metadata": {},
   "outputs": [
    {
     "data": {
      "text/plain": [
       "'Aaine mein ek chand si surat nazar aayi'"
      ]
     },
     "execution_count": 11,
     "metadata": {},
     "output_type": "execute_result"
    }
   ],
   "source": [
    "blobs[0]"
   ]
  },
  {
   "cell_type": "code",
   "execution_count": 12,
   "metadata": {},
   "outputs": [],
   "source": [
    "text = Text(blobs[0])"
   ]
  },
  {
   "cell_type": "code",
   "execution_count": 13,
   "metadata": {},
   "outputs": [
    {
     "name": "stderr",
     "output_type": "stream",
     "text": [
      "Detector is not able to detect the language reliably.\n"
     ]
    },
    {
     "data": {
      "text/plain": [
       "WordList(['ाािने', 'मेिन', 'ेक', 'चन्द', 'सि', 'सुरत', 'नाज़ार', 'ाेि'])"
      ]
     },
     "execution_count": 13,
     "metadata": {},
     "output_type": "execute_result"
    }
   ],
   "source": [
    "text.transliterate(\"hi\")"
   ]
  }
 ],
 "metadata": {
  "kernelspec": {
   "display_name": "Python 3",
   "language": "python",
   "name": "python3"
  },
  "language_info": {
   "codemirror_mode": {
    "name": "ipython",
    "version": 3
   },
   "file_extension": ".py",
   "mimetype": "text/x-python",
   "name": "python",
   "nbconvert_exporter": "python",
   "pygments_lexer": "ipython3",
   "version": "3.6.8"
  }
 },
 "nbformat": 4,
 "nbformat_minor": 4
}
