{
 "cells": [
  {
   "cell_type": "code",
   "execution_count": 168,
   "metadata": {},
   "outputs": [
    {
     "data": {
      "text/html": [
       "\n",
       "    <div class=\"bk-root\">\n",
       "        <a href=\"https://bokeh.pydata.org\" target=\"_blank\" class=\"bk-logo bk-logo-small bk-logo-notebook\"></a>\n",
       "        <span id=\"1223\">Loading BokehJS ...</span>\n",
       "    </div>"
      ]
     },
     "metadata": {},
     "output_type": "display_data"
    },
    {
     "data": {
      "application/javascript": [
       "\n",
       "(function(root) {\n",
       "  function now() {\n",
       "    return new Date();\n",
       "  }\n",
       "\n",
       "  var force = true;\n",
       "\n",
       "  if (typeof root._bokeh_onload_callbacks === \"undefined\" || force === true) {\n",
       "    root._bokeh_onload_callbacks = [];\n",
       "    root._bokeh_is_loading = undefined;\n",
       "  }\n",
       "\n",
       "  var JS_MIME_TYPE = 'application/javascript';\n",
       "  var HTML_MIME_TYPE = 'text/html';\n",
       "  var EXEC_MIME_TYPE = 'application/vnd.bokehjs_exec.v0+json';\n",
       "  var CLASS_NAME = 'output_bokeh rendered_html';\n",
       "\n",
       "  /**\n",
       "   * Render data to the DOM node\n",
       "   */\n",
       "  function render(props, node) {\n",
       "    var script = document.createElement(\"script\");\n",
       "    node.appendChild(script);\n",
       "  }\n",
       "\n",
       "  /**\n",
       "   * Handle when an output is cleared or removed\n",
       "   */\n",
       "  function handleClearOutput(event, handle) {\n",
       "    var cell = handle.cell;\n",
       "\n",
       "    var id = cell.output_area._bokeh_element_id;\n",
       "    var server_id = cell.output_area._bokeh_server_id;\n",
       "    // Clean up Bokeh references\n",
       "    if (id != null && id in Bokeh.index) {\n",
       "      Bokeh.index[id].model.document.clear();\n",
       "      delete Bokeh.index[id];\n",
       "    }\n",
       "\n",
       "    if (server_id !== undefined) {\n",
       "      // Clean up Bokeh references\n",
       "      var cmd = \"from bokeh.io.state import curstate; print(curstate().uuid_to_server['\" + server_id + \"'].get_sessions()[0].document.roots[0]._id)\";\n",
       "      cell.notebook.kernel.execute(cmd, {\n",
       "        iopub: {\n",
       "          output: function(msg) {\n",
       "            var id = msg.content.text.trim();\n",
       "            if (id in Bokeh.index) {\n",
       "              Bokeh.index[id].model.document.clear();\n",
       "              delete Bokeh.index[id];\n",
       "            }\n",
       "          }\n",
       "        }\n",
       "      });\n",
       "      // Destroy server and session\n",
       "      var cmd = \"import bokeh.io.notebook as ion; ion.destroy_server('\" + server_id + \"')\";\n",
       "      cell.notebook.kernel.execute(cmd);\n",
       "    }\n",
       "  }\n",
       "\n",
       "  /**\n",
       "   * Handle when a new output is added\n",
       "   */\n",
       "  function handleAddOutput(event, handle) {\n",
       "    var output_area = handle.output_area;\n",
       "    var output = handle.output;\n",
       "\n",
       "    // limit handleAddOutput to display_data with EXEC_MIME_TYPE content only\n",
       "    if ((output.output_type != \"display_data\") || (!output.data.hasOwnProperty(EXEC_MIME_TYPE))) {\n",
       "      return\n",
       "    }\n",
       "\n",
       "    var toinsert = output_area.element.find(\".\" + CLASS_NAME.split(' ')[0]);\n",
       "\n",
       "    if (output.metadata[EXEC_MIME_TYPE][\"id\"] !== undefined) {\n",
       "      toinsert[toinsert.length - 1].firstChild.textContent = output.data[JS_MIME_TYPE];\n",
       "      // store reference to embed id on output_area\n",
       "      output_area._bokeh_element_id = output.metadata[EXEC_MIME_TYPE][\"id\"];\n",
       "    }\n",
       "    if (output.metadata[EXEC_MIME_TYPE][\"server_id\"] !== undefined) {\n",
       "      var bk_div = document.createElement(\"div\");\n",
       "      bk_div.innerHTML = output.data[HTML_MIME_TYPE];\n",
       "      var script_attrs = bk_div.children[0].attributes;\n",
       "      for (var i = 0; i < script_attrs.length; i++) {\n",
       "        toinsert[toinsert.length - 1].firstChild.setAttribute(script_attrs[i].name, script_attrs[i].value);\n",
       "      }\n",
       "      // store reference to server id on output_area\n",
       "      output_area._bokeh_server_id = output.metadata[EXEC_MIME_TYPE][\"server_id\"];\n",
       "    }\n",
       "  }\n",
       "\n",
       "  function register_renderer(events, OutputArea) {\n",
       "\n",
       "    function append_mime(data, metadata, element) {\n",
       "      // create a DOM node to render to\n",
       "      var toinsert = this.create_output_subarea(\n",
       "        metadata,\n",
       "        CLASS_NAME,\n",
       "        EXEC_MIME_TYPE\n",
       "      );\n",
       "      this.keyboard_manager.register_events(toinsert);\n",
       "      // Render to node\n",
       "      var props = {data: data, metadata: metadata[EXEC_MIME_TYPE]};\n",
       "      render(props, toinsert[toinsert.length - 1]);\n",
       "      element.append(toinsert);\n",
       "      return toinsert\n",
       "    }\n",
       "\n",
       "    /* Handle when an output is cleared or removed */\n",
       "    events.on('clear_output.CodeCell', handleClearOutput);\n",
       "    events.on('delete.Cell', handleClearOutput);\n",
       "\n",
       "    /* Handle when a new output is added */\n",
       "    events.on('output_added.OutputArea', handleAddOutput);\n",
       "\n",
       "    /**\n",
       "     * Register the mime type and append_mime function with output_area\n",
       "     */\n",
       "    OutputArea.prototype.register_mime_type(EXEC_MIME_TYPE, append_mime, {\n",
       "      /* Is output safe? */\n",
       "      safe: true,\n",
       "      /* Index of renderer in `output_area.display_order` */\n",
       "      index: 0\n",
       "    });\n",
       "  }\n",
       "\n",
       "  // register the mime type if in Jupyter Notebook environment and previously unregistered\n",
       "  if (root.Jupyter !== undefined) {\n",
       "    var events = require('base/js/events');\n",
       "    var OutputArea = require('notebook/js/outputarea').OutputArea;\n",
       "\n",
       "    if (OutputArea.prototype.mime_types().indexOf(EXEC_MIME_TYPE) == -1) {\n",
       "      register_renderer(events, OutputArea);\n",
       "    }\n",
       "  }\n",
       "\n",
       "  \n",
       "  if (typeof (root._bokeh_timeout) === \"undefined\" || force === true) {\n",
       "    root._bokeh_timeout = Date.now() + 5000;\n",
       "    root._bokeh_failed_load = false;\n",
       "  }\n",
       "\n",
       "  var NB_LOAD_WARNING = {'data': {'text/html':\n",
       "     \"<div style='background-color: #fdd'>\\n\"+\n",
       "     \"<p>\\n\"+\n",
       "     \"BokehJS does not appear to have successfully loaded. If loading BokehJS from CDN, this \\n\"+\n",
       "     \"may be due to a slow or bad network connection. Possible fixes:\\n\"+\n",
       "     \"</p>\\n\"+\n",
       "     \"<ul>\\n\"+\n",
       "     \"<li>re-rerun `output_notebook()` to attempt to load from CDN again, or</li>\\n\"+\n",
       "     \"<li>use INLINE resources instead, as so:</li>\\n\"+\n",
       "     \"</ul>\\n\"+\n",
       "     \"<code>\\n\"+\n",
       "     \"from bokeh.resources import INLINE\\n\"+\n",
       "     \"output_notebook(resources=INLINE)\\n\"+\n",
       "     \"</code>\\n\"+\n",
       "     \"</div>\"}};\n",
       "\n",
       "  function display_loaded() {\n",
       "    var el = document.getElementById(\"1223\");\n",
       "    if (el != null) {\n",
       "      el.textContent = \"BokehJS is loading...\";\n",
       "    }\n",
       "    if (root.Bokeh !== undefined) {\n",
       "      if (el != null) {\n",
       "        el.textContent = \"BokehJS \" + root.Bokeh.version + \" successfully loaded.\";\n",
       "      }\n",
       "    } else if (Date.now() < root._bokeh_timeout) {\n",
       "      setTimeout(display_loaded, 100)\n",
       "    }\n",
       "  }\n",
       "\n",
       "\n",
       "  function run_callbacks() {\n",
       "    try {\n",
       "      root._bokeh_onload_callbacks.forEach(function(callback) {\n",
       "        if (callback != null)\n",
       "          callback();\n",
       "      });\n",
       "    } finally {\n",
       "      delete root._bokeh_onload_callbacks\n",
       "    }\n",
       "    console.debug(\"Bokeh: all callbacks have finished\");\n",
       "  }\n",
       "\n",
       "  function load_libs(css_urls, js_urls, callback) {\n",
       "    if (css_urls == null) css_urls = [];\n",
       "    if (js_urls == null) js_urls = [];\n",
       "\n",
       "    root._bokeh_onload_callbacks.push(callback);\n",
       "    if (root._bokeh_is_loading > 0) {\n",
       "      console.debug(\"Bokeh: BokehJS is being loaded, scheduling callback at\", now());\n",
       "      return null;\n",
       "    }\n",
       "    if (js_urls == null || js_urls.length === 0) {\n",
       "      run_callbacks();\n",
       "      return null;\n",
       "    }\n",
       "    console.debug(\"Bokeh: BokehJS not loaded, scheduling load and callback at\", now());\n",
       "    root._bokeh_is_loading = css_urls.length + js_urls.length;\n",
       "\n",
       "    function on_load() {\n",
       "      root._bokeh_is_loading--;\n",
       "      if (root._bokeh_is_loading === 0) {\n",
       "        console.debug(\"Bokeh: all BokehJS libraries/stylesheets loaded\");\n",
       "        run_callbacks()\n",
       "      }\n",
       "    }\n",
       "\n",
       "    function on_error() {\n",
       "      console.error(\"failed to load \" + url);\n",
       "    }\n",
       "\n",
       "    for (var i = 0; i < css_urls.length; i++) {\n",
       "      var url = css_urls[i];\n",
       "      const element = document.createElement(\"link\");\n",
       "      element.onload = on_load;\n",
       "      element.onerror = on_error;\n",
       "      element.rel = \"stylesheet\";\n",
       "      element.type = \"text/css\";\n",
       "      element.href = url;\n",
       "      console.debug(\"Bokeh: injecting link tag for BokehJS stylesheet: \", url);\n",
       "      document.body.appendChild(element);\n",
       "    }\n",
       "\n",
       "    for (var i = 0; i < js_urls.length; i++) {\n",
       "      var url = js_urls[i];\n",
       "      var element = document.createElement('script');\n",
       "      element.onload = on_load;\n",
       "      element.onerror = on_error;\n",
       "      element.async = false;\n",
       "      element.src = url;\n",
       "      console.debug(\"Bokeh: injecting script tag for BokehJS library: \", url);\n",
       "      document.head.appendChild(element);\n",
       "    }\n",
       "  };var element = document.getElementById(\"1223\");\n",
       "  if (element == null) {\n",
       "    console.error(\"Bokeh: ERROR: autoload.js configured with elementid '1223' but no matching script tag was found. \")\n",
       "    return false;\n",
       "  }\n",
       "\n",
       "  function inject_raw_css(css) {\n",
       "    const element = document.createElement(\"style\");\n",
       "    element.appendChild(document.createTextNode(css));\n",
       "    document.body.appendChild(element);\n",
       "  }\n",
       "\n",
       "  var js_urls = [\"https://cdn.pydata.org/bokeh/release/bokeh-1.3.4.min.js\", \"https://cdn.pydata.org/bokeh/release/bokeh-widgets-1.3.4.min.js\", \"https://cdn.pydata.org/bokeh/release/bokeh-tables-1.3.4.min.js\", \"https://cdn.pydata.org/bokeh/release/bokeh-gl-1.3.4.min.js\"];\n",
       "  var css_urls = [];\n",
       "\n",
       "  var inline_js = [\n",
       "    function(Bokeh) {\n",
       "      Bokeh.set_log_level(\"info\");\n",
       "    },\n",
       "    \n",
       "    function(Bokeh) {\n",
       "      \n",
       "    },\n",
       "    function(Bokeh) {} // ensure no trailing comma for IE\n",
       "  ];\n",
       "\n",
       "  function run_inline_js() {\n",
       "    \n",
       "    if ((root.Bokeh !== undefined) || (force === true)) {\n",
       "      for (var i = 0; i < inline_js.length; i++) {\n",
       "        inline_js[i].call(root, root.Bokeh);\n",
       "      }if (force === true) {\n",
       "        display_loaded();\n",
       "      }} else if (Date.now() < root._bokeh_timeout) {\n",
       "      setTimeout(run_inline_js, 100);\n",
       "    } else if (!root._bokeh_failed_load) {\n",
       "      console.log(\"Bokeh: BokehJS failed to load within specified timeout.\");\n",
       "      root._bokeh_failed_load = true;\n",
       "    } else if (force !== true) {\n",
       "      var cell = $(document.getElementById(\"1223\")).parents('.cell').data().cell;\n",
       "      cell.output_area.append_execute_result(NB_LOAD_WARNING)\n",
       "    }\n",
       "\n",
       "  }\n",
       "\n",
       "  if (root._bokeh_is_loading === 0) {\n",
       "    console.debug(\"Bokeh: BokehJS loaded, going straight to plotting\");\n",
       "    run_inline_js();\n",
       "  } else {\n",
       "    load_libs(css_urls, js_urls, function() {\n",
       "      console.debug(\"Bokeh: BokehJS plotting callback run at\", now());\n",
       "      run_inline_js();\n",
       "    });\n",
       "  }\n",
       "}(window));"
      ],
      "application/vnd.bokehjs_load.v0+json": "\n(function(root) {\n  function now() {\n    return new Date();\n  }\n\n  var force = true;\n\n  if (typeof root._bokeh_onload_callbacks === \"undefined\" || force === true) {\n    root._bokeh_onload_callbacks = [];\n    root._bokeh_is_loading = undefined;\n  }\n\n  \n\n  \n  if (typeof (root._bokeh_timeout) === \"undefined\" || force === true) {\n    root._bokeh_timeout = Date.now() + 5000;\n    root._bokeh_failed_load = false;\n  }\n\n  var NB_LOAD_WARNING = {'data': {'text/html':\n     \"<div style='background-color: #fdd'>\\n\"+\n     \"<p>\\n\"+\n     \"BokehJS does not appear to have successfully loaded. If loading BokehJS from CDN, this \\n\"+\n     \"may be due to a slow or bad network connection. Possible fixes:\\n\"+\n     \"</p>\\n\"+\n     \"<ul>\\n\"+\n     \"<li>re-rerun `output_notebook()` to attempt to load from CDN again, or</li>\\n\"+\n     \"<li>use INLINE resources instead, as so:</li>\\n\"+\n     \"</ul>\\n\"+\n     \"<code>\\n\"+\n     \"from bokeh.resources import INLINE\\n\"+\n     \"output_notebook(resources=INLINE)\\n\"+\n     \"</code>\\n\"+\n     \"</div>\"}};\n\n  function display_loaded() {\n    var el = document.getElementById(\"1223\");\n    if (el != null) {\n      el.textContent = \"BokehJS is loading...\";\n    }\n    if (root.Bokeh !== undefined) {\n      if (el != null) {\n        el.textContent = \"BokehJS \" + root.Bokeh.version + \" successfully loaded.\";\n      }\n    } else if (Date.now() < root._bokeh_timeout) {\n      setTimeout(display_loaded, 100)\n    }\n  }\n\n\n  function run_callbacks() {\n    try {\n      root._bokeh_onload_callbacks.forEach(function(callback) {\n        if (callback != null)\n          callback();\n      });\n    } finally {\n      delete root._bokeh_onload_callbacks\n    }\n    console.debug(\"Bokeh: all callbacks have finished\");\n  }\n\n  function load_libs(css_urls, js_urls, callback) {\n    if (css_urls == null) css_urls = [];\n    if (js_urls == null) js_urls = [];\n\n    root._bokeh_onload_callbacks.push(callback);\n    if (root._bokeh_is_loading > 0) {\n      console.debug(\"Bokeh: BokehJS is being loaded, scheduling callback at\", now());\n      return null;\n    }\n    if (js_urls == null || js_urls.length === 0) {\n      run_callbacks();\n      return null;\n    }\n    console.debug(\"Bokeh: BokehJS not loaded, scheduling load and callback at\", now());\n    root._bokeh_is_loading = css_urls.length + js_urls.length;\n\n    function on_load() {\n      root._bokeh_is_loading--;\n      if (root._bokeh_is_loading === 0) {\n        console.debug(\"Bokeh: all BokehJS libraries/stylesheets loaded\");\n        run_callbacks()\n      }\n    }\n\n    function on_error() {\n      console.error(\"failed to load \" + url);\n    }\n\n    for (var i = 0; i < css_urls.length; i++) {\n      var url = css_urls[i];\n      const element = document.createElement(\"link\");\n      element.onload = on_load;\n      element.onerror = on_error;\n      element.rel = \"stylesheet\";\n      element.type = \"text/css\";\n      element.href = url;\n      console.debug(\"Bokeh: injecting link tag for BokehJS stylesheet: \", url);\n      document.body.appendChild(element);\n    }\n\n    for (var i = 0; i < js_urls.length; i++) {\n      var url = js_urls[i];\n      var element = document.createElement('script');\n      element.onload = on_load;\n      element.onerror = on_error;\n      element.async = false;\n      element.src = url;\n      console.debug(\"Bokeh: injecting script tag for BokehJS library: \", url);\n      document.head.appendChild(element);\n    }\n  };var element = document.getElementById(\"1223\");\n  if (element == null) {\n    console.error(\"Bokeh: ERROR: autoload.js configured with elementid '1223' but no matching script tag was found. \")\n    return false;\n  }\n\n  function inject_raw_css(css) {\n    const element = document.createElement(\"style\");\n    element.appendChild(document.createTextNode(css));\n    document.body.appendChild(element);\n  }\n\n  var js_urls = [\"https://cdn.pydata.org/bokeh/release/bokeh-1.3.4.min.js\", \"https://cdn.pydata.org/bokeh/release/bokeh-widgets-1.3.4.min.js\", \"https://cdn.pydata.org/bokeh/release/bokeh-tables-1.3.4.min.js\", \"https://cdn.pydata.org/bokeh/release/bokeh-gl-1.3.4.min.js\"];\n  var css_urls = [];\n\n  var inline_js = [\n    function(Bokeh) {\n      Bokeh.set_log_level(\"info\");\n    },\n    \n    function(Bokeh) {\n      \n    },\n    function(Bokeh) {} // ensure no trailing comma for IE\n  ];\n\n  function run_inline_js() {\n    \n    if ((root.Bokeh !== undefined) || (force === true)) {\n      for (var i = 0; i < inline_js.length; i++) {\n        inline_js[i].call(root, root.Bokeh);\n      }if (force === true) {\n        display_loaded();\n      }} else if (Date.now() < root._bokeh_timeout) {\n      setTimeout(run_inline_js, 100);\n    } else if (!root._bokeh_failed_load) {\n      console.log(\"Bokeh: BokehJS failed to load within specified timeout.\");\n      root._bokeh_failed_load = true;\n    } else if (force !== true) {\n      var cell = $(document.getElementById(\"1223\")).parents('.cell').data().cell;\n      cell.output_area.append_execute_result(NB_LOAD_WARNING)\n    }\n\n  }\n\n  if (root._bokeh_is_loading === 0) {\n    console.debug(\"Bokeh: BokehJS loaded, going straight to plotting\");\n    run_inline_js();\n  } else {\n    load_libs(css_urls, js_urls, function() {\n      console.debug(\"Bokeh: BokehJS plotting callback run at\", now());\n      run_inline_js();\n    });\n  }\n}(window));"
     },
     "metadata": {},
     "output_type": "display_data"
    }
   ],
   "source": [
    "import numpy as np\n",
    "import pandas as pd\n",
    "from IPython.display import display\n",
    "from tqdm import tqdm\n",
    "from collections import Counter\n",
    "import ast\n",
    "\n",
    "import matplotlib.pyplot as plt\n",
    "import matplotlib.mlab as mlab\n",
    "import seaborn as sb\n",
    "\n",
    "from sklearn.feature_extraction.text import CountVectorizer\n",
    "from textblob import TextBlob\n",
    "import scipy.stats as stats\n",
    "\n",
    "from sklearn.decomposition import TruncatedSVD\n",
    "from sklearn.decomposition import LatentDirichletAllocation\n",
    "from sklearn.manifold import TSNE\n",
    "\n",
    "from bokeh.plotting import figure, output_file, show\n",
    "from bokeh.models import Label\n",
    "from bokeh.io import output_notebook\n",
    "output_notebook()\n",
    "\n",
    "%matplotlib inline"
   ]
  },
  {
   "cell_type": "code",
   "execution_count": 169,
   "metadata": {},
   "outputs": [
    {
     "data": {
      "text/html": [
       "<div>\n",
       "<style scoped>\n",
       "    .dataframe tbody tr th:only-of-type {\n",
       "        vertical-align: middle;\n",
       "    }\n",
       "\n",
       "    .dataframe tbody tr th {\n",
       "        vertical-align: top;\n",
       "    }\n",
       "\n",
       "    .dataframe thead th {\n",
       "        text-align: right;\n",
       "    }\n",
       "</style>\n",
       "<table border=\"1\" class=\"dataframe\">\n",
       "  <thead>\n",
       "    <tr style=\"text-align: right;\">\n",
       "      <th></th>\n",
       "      <th>year</th>\n",
       "      <th>artist</th>\n",
       "      <th>genre</th>\n",
       "      <th>lyrics</th>\n",
       "    </tr>\n",
       "    <tr>\n",
       "      <th>song</th>\n",
       "      <th></th>\n",
       "      <th></th>\n",
       "      <th></th>\n",
       "      <th></th>\n",
       "    </tr>\n",
       "  </thead>\n",
       "  <tbody>\n",
       "    <tr>\n",
       "      <td>el-hijo-pra3digo</td>\n",
       "      <td>2007</td>\n",
       "      <td>avalanch</td>\n",
       "      <td>Metal</td>\n",
       "      <td>He visto un ro muerto He visto un ave caer He ...</td>\n",
       "    </tr>\n",
       "    <tr>\n",
       "      <td>till-we-earned-a-holiday</td>\n",
       "      <td>2007</td>\n",
       "      <td>the-anniversary</td>\n",
       "      <td>Rock</td>\n",
       "      <td>You're standing off the white church and you'r...</td>\n",
       "    </tr>\n",
       "    <tr>\n",
       "      <td>teenage-lament</td>\n",
       "      <td>2006</td>\n",
       "      <td>big-country</td>\n",
       "      <td>Rock</td>\n",
       "      <td>What a drag it is these gold lame' jeans Is th...</td>\n",
       "    </tr>\n",
       "    <tr>\n",
       "      <td>everyday</td>\n",
       "      <td>2006</td>\n",
       "      <td>en-vogue</td>\n",
       "      <td>Pop</td>\n",
       "      <td>Sit down, let me tell you what's been on my mi...</td>\n",
       "    </tr>\n",
       "    <tr>\n",
       "      <td>carolina-in-my-mind</td>\n",
       "      <td>2010</td>\n",
       "      <td>carole-king</td>\n",
       "      <td>Rock</td>\n",
       "      <td>In my mind I'm gone to Carolina Can't you see ...</td>\n",
       "    </tr>\n",
       "    <tr>\n",
       "      <td>...</td>\n",
       "      <td>...</td>\n",
       "      <td>...</td>\n",
       "      <td>...</td>\n",
       "      <td>...</td>\n",
       "    </tr>\n",
       "    <tr>\n",
       "      <td>living-water-bread-of-life</td>\n",
       "      <td>2006</td>\n",
       "      <td>4-him</td>\n",
       "      <td>Pop</td>\n",
       "      <td>Like a deer, panting for the water I was thirs...</td>\n",
       "    </tr>\n",
       "    <tr>\n",
       "      <td>human-thing</td>\n",
       "      <td>2008</td>\n",
       "      <td>be-good-tanyas</td>\n",
       "      <td>Country</td>\n",
       "      <td>Yer a human thing Who yah think that you're fo...</td>\n",
       "    </tr>\n",
       "    <tr>\n",
       "      <td>work-it</td>\n",
       "      <td>2002</td>\n",
       "      <td>50-cent</td>\n",
       "      <td>Hip-Hop</td>\n",
       "      <td>[Busta Rhymes] There's only one God sonny, and...</td>\n",
       "    </tr>\n",
       "    <tr>\n",
       "      <td>triste-cancion-de-amor</td>\n",
       "      <td>2007</td>\n",
       "      <td>el-tri</td>\n",
       "      <td>Rock</td>\n",
       "      <td>ella existio solo en un sueo. el es un poema q...</td>\n",
       "    </tr>\n",
       "    <tr>\n",
       "      <td>geronimo</td>\n",
       "      <td>2011</td>\n",
       "      <td>aura-dione</td>\n",
       "      <td>Pop</td>\n",
       "      <td>Ahhhh ahhhhh Ge-ge-e jo jo uh lala hmm let's g...</td>\n",
       "    </tr>\n",
       "  </tbody>\n",
       "</table>\n",
       "<p>26655 rows × 4 columns</p>\n",
       "</div>"
      ],
      "text/plain": [
       "                            year           artist    genre  \\\n",
       "song                                                         \n",
       "el-hijo-pra3digo            2007         avalanch    Metal   \n",
       "till-we-earned-a-holiday    2007  the-anniversary     Rock   \n",
       "teenage-lament              2006      big-country     Rock   \n",
       "everyday                    2006         en-vogue      Pop   \n",
       "carolina-in-my-mind         2010      carole-king     Rock   \n",
       "...                          ...              ...      ...   \n",
       "living-water-bread-of-life  2006            4-him      Pop   \n",
       "human-thing                 2008   be-good-tanyas  Country   \n",
       "work-it                     2002          50-cent  Hip-Hop   \n",
       "triste-cancion-de-amor      2007           el-tri     Rock   \n",
       "geronimo                    2011       aura-dione      Pop   \n",
       "\n",
       "                                                                       lyrics  \n",
       "song                                                                           \n",
       "el-hijo-pra3digo            He visto un ro muerto He visto un ave caer He ...  \n",
       "till-we-earned-a-holiday    You're standing off the white church and you'r...  \n",
       "teenage-lament              What a drag it is these gold lame' jeans Is th...  \n",
       "everyday                    Sit down, let me tell you what's been on my mi...  \n",
       "carolina-in-my-mind         In my mind I'm gone to Carolina Can't you see ...  \n",
       "...                                                                       ...  \n",
       "living-water-bread-of-life  Like a deer, panting for the water I was thirs...  \n",
       "human-thing                 Yer a human thing Who yah think that you're fo...  \n",
       "work-it                     [Busta Rhymes] There's only one God sonny, and...  \n",
       "triste-cancion-de-amor      ella existio solo en un sueo. el es un poema q...  \n",
       "geronimo                    Ahhhh ahhhhh Ge-ge-e jo jo uh lala hmm let's g...  \n",
       "\n",
       "[26655 rows x 4 columns]"
      ]
     },
     "execution_count": 169,
     "metadata": {},
     "output_type": "execute_result"
    }
   ],
   "source": [
    "\n",
    "songList = pd.read_csv( \"/Users/stutiverma/Desktop/Plaksha/GITHUB/LyricsMatch_DataX1/lyrics_small.csv\", index_col=0 )\n",
    "\n",
    "songList = songList.replace({'\\n': ' '}, regex=True)\n",
    "\n",
    "songList"
   ]
  },
  {
   "cell_type": "code",
   "execution_count": 170,
   "metadata": {},
   "outputs": [
    {
     "name": "stderr",
     "output_type": "stream",
     "text": [
      "[nltk_data] Downloading package stopwords to\n",
      "[nltk_data]     /Users/stutiverma/nltk_data...\n",
      "[nltk_data]   Package stopwords is already up-to-date!\n"
     ]
    },
    {
     "data": {
      "text/plain": [
       "True"
      ]
     },
     "execution_count": 170,
     "metadata": {},
     "output_type": "execute_result"
    }
   ],
   "source": [
    "import nltk\n",
    "nltk.download('stopwords')"
   ]
  },
  {
   "cell_type": "code",
   "execution_count": 175,
   "metadata": {},
   "outputs": [
    {
     "name": "stderr",
     "output_type": "stream",
     "text": [
      "[nltk_data] Downloading package words to\n",
      "[nltk_data]     /Users/stutiverma/nltk_data...\n",
      "[nltk_data]   Unzipping corpora/words.zip.\n"
     ]
    },
    {
     "data": {
      "text/plain": [
       "True"
      ]
     },
     "execution_count": 175,
     "metadata": {},
     "output_type": "execute_result"
    }
   ],
   "source": [
    "import nltk\n",
    "nltk.download('words')"
   ]
  },
  {
   "cell_type": "code",
   "execution_count": 171,
   "metadata": {},
   "outputs": [],
   "source": [
    "import re\n",
    "from nltk.corpus import stopwords\n",
    "\n",
    "def lyrics_cleaner(lyrics):\n",
    "    \n",
    "    # Extract only characters\n",
    "    lyrics = re.sub(\"[^a-zA-Z]\", \" \", lyrics)\n",
    "    \n",
    "    # Tokenize into words (all lower case)\n",
    "    lyrics = lyrics.lower().split()\n",
    "    \n",
    "    # Remove stopwords\n",
    "    eng_stopwords = set(stopwords.words(\"english\"))\n",
    "    lyrics = [word for word in lyrics if not word in eng_stopwords]\n",
    "    \n",
    "    # Join the review to one sentence\n",
    "    lyrics = ' '.join(lyrics)\n",
    "    \n",
    "    return lyrics"
   ]
  },
  {
   "cell_type": "code",
   "execution_count": 172,
   "metadata": {},
   "outputs": [
    {
     "name": "stdout",
     "output_type": "stream",
     "text": [
      "CPU times: user 9.41 s, sys: 1.62 s, total: 11 s\n",
      "Wall time: 12.7 s\n"
     ]
    },
    {
     "data": {
      "text/html": [
       "<div>\n",
       "<style scoped>\n",
       "    .dataframe tbody tr th:only-of-type {\n",
       "        vertical-align: middle;\n",
       "    }\n",
       "\n",
       "    .dataframe tbody tr th {\n",
       "        vertical-align: top;\n",
       "    }\n",
       "\n",
       "    .dataframe thead th {\n",
       "        text-align: right;\n",
       "    }\n",
       "</style>\n",
       "<table border=\"1\" class=\"dataframe\">\n",
       "  <thead>\n",
       "    <tr style=\"text-align: right;\">\n",
       "      <th></th>\n",
       "      <th>year</th>\n",
       "      <th>artist</th>\n",
       "      <th>genre</th>\n",
       "      <th>lyrics</th>\n",
       "    </tr>\n",
       "    <tr>\n",
       "      <th>song</th>\n",
       "      <th></th>\n",
       "      <th></th>\n",
       "      <th></th>\n",
       "      <th></th>\n",
       "    </tr>\n",
       "  </thead>\n",
       "  <tbody>\n",
       "    <tr>\n",
       "      <td>el-hijo-pra3digo</td>\n",
       "      <td>2007</td>\n",
       "      <td>avalanch</td>\n",
       "      <td>Metal</td>\n",
       "      <td>visto un ro muerto visto un ave caer visto un ...</td>\n",
       "    </tr>\n",
       "    <tr>\n",
       "      <td>till-we-earned-a-holiday</td>\n",
       "      <td>2007</td>\n",
       "      <td>the-anniversary</td>\n",
       "      <td>Rock</td>\n",
       "      <td>standing white church pitching three words yel...</td>\n",
       "    </tr>\n",
       "    <tr>\n",
       "      <td>teenage-lament</td>\n",
       "      <td>2006</td>\n",
       "      <td>big-country</td>\n",
       "      <td>Rock</td>\n",
       "      <td>drag gold lame jeans coolest way get though te...</td>\n",
       "    </tr>\n",
       "    <tr>\n",
       "      <td>everyday</td>\n",
       "      <td>2006</td>\n",
       "      <td>en-vogue</td>\n",
       "      <td>Pop</td>\n",
       "      <td>sit let tell mind day see thinking love share ...</td>\n",
       "    </tr>\n",
       "    <tr>\n",
       "      <td>carolina-in-my-mind</td>\n",
       "      <td>2010</td>\n",
       "      <td>carole-king</td>\n",
       "      <td>Rock</td>\n",
       "      <td>mind gone carolina see sunshine feel moonshine...</td>\n",
       "    </tr>\n",
       "    <tr>\n",
       "      <td>...</td>\n",
       "      <td>...</td>\n",
       "      <td>...</td>\n",
       "      <td>...</td>\n",
       "      <td>...</td>\n",
       "    </tr>\n",
       "    <tr>\n",
       "      <td>living-water-bread-of-life</td>\n",
       "      <td>2006</td>\n",
       "      <td>4-him</td>\n",
       "      <td>Pop</td>\n",
       "      <td>like deer panting water thirsting long dry set...</td>\n",
       "    </tr>\n",
       "    <tr>\n",
       "      <td>human-thing</td>\n",
       "      <td>2008</td>\n",
       "      <td>be-good-tanyas</td>\n",
       "      <td>Country</td>\n",
       "      <td>yer human thing yah think foolin yer foolin fo...</td>\n",
       "    </tr>\n",
       "    <tr>\n",
       "      <td>work-it</td>\n",
       "      <td>2002</td>\n",
       "      <td>50-cent</td>\n",
       "      <td>Hip-Hop</td>\n",
       "      <td>busta rhymes one god sonny replacement anybody...</td>\n",
       "    </tr>\n",
       "    <tr>\n",
       "      <td>triste-cancion-de-amor</td>\n",
       "      <td>2007</td>\n",
       "      <td>el-tri</td>\n",
       "      <td>Rock</td>\n",
       "      <td>ella existio solo en un sueo el es un poema qu...</td>\n",
       "    </tr>\n",
       "    <tr>\n",
       "      <td>geronimo</td>\n",
       "      <td>2011</td>\n",
       "      <td>aura-dione</td>\n",
       "      <td>Pop</td>\n",
       "      <td>ahhhh ahhhhh ge ge e jo jo uh lala hmm let go ...</td>\n",
       "    </tr>\n",
       "  </tbody>\n",
       "</table>\n",
       "<p>26655 rows × 4 columns</p>\n",
       "</div>"
      ],
      "text/plain": [
       "                            year           artist    genre  \\\n",
       "song                                                         \n",
       "el-hijo-pra3digo            2007         avalanch    Metal   \n",
       "till-we-earned-a-holiday    2007  the-anniversary     Rock   \n",
       "teenage-lament              2006      big-country     Rock   \n",
       "everyday                    2006         en-vogue      Pop   \n",
       "carolina-in-my-mind         2010      carole-king     Rock   \n",
       "...                          ...              ...      ...   \n",
       "living-water-bread-of-life  2006            4-him      Pop   \n",
       "human-thing                 2008   be-good-tanyas  Country   \n",
       "work-it                     2002          50-cent  Hip-Hop   \n",
       "triste-cancion-de-amor      2007           el-tri     Rock   \n",
       "geronimo                    2011       aura-dione      Pop   \n",
       "\n",
       "                                                                       lyrics  \n",
       "song                                                                           \n",
       "el-hijo-pra3digo            visto un ro muerto visto un ave caer visto un ...  \n",
       "till-we-earned-a-holiday    standing white church pitching three words yel...  \n",
       "teenage-lament              drag gold lame jeans coolest way get though te...  \n",
       "everyday                    sit let tell mind day see thinking love share ...  \n",
       "carolina-in-my-mind         mind gone carolina see sunshine feel moonshine...  \n",
       "...                                                                       ...  \n",
       "living-water-bread-of-life  like deer panting water thirsting long dry set...  \n",
       "human-thing                 yer human thing yah think foolin yer foolin fo...  \n",
       "work-it                     busta rhymes one god sonny replacement anybody...  \n",
       "triste-cancion-de-amor      ella existio solo en un sueo el es un poema qu...  \n",
       "geronimo                    ahhhh ahhhhh ge ge e jo jo uh lala hmm let go ...  \n",
       "\n",
       "[26655 rows x 4 columns]"
      ]
     },
     "execution_count": 172,
     "metadata": {},
     "output_type": "execute_result"
    }
   ],
   "source": [
    "%%time\n",
    "\n",
    "songList['lyrics'] = songList['lyrics'].apply(lyrics_cleaner)\n",
    "\n",
    "songList"
   ]
  },
  {
   "cell_type": "code",
   "execution_count": 173,
   "metadata": {},
   "outputs": [
    {
     "ename": "ModuleNotFoundError",
     "evalue": "No module named 'enchant'",
     "output_type": "error",
     "traceback": [
      "\u001b[0;31m---------------------------------------------------------------------------\u001b[0m",
      "\u001b[0;31mModuleNotFoundError\u001b[0m                       Traceback (most recent call last)",
      "\u001b[0;32m<ipython-input-173-f8d7c05a0889>\u001b[0m in \u001b[0;36m<module>\u001b[0;34m\u001b[0m\n\u001b[0;32m----> 1\u001b[0;31m \u001b[0;32mimport\u001b[0m \u001b[0menchant\u001b[0m\u001b[0;34m\u001b[0m\u001b[0;34m\u001b[0m\u001b[0m\n\u001b[0m\u001b[1;32m      2\u001b[0m \u001b[0md\u001b[0m \u001b[0;34m=\u001b[0m \u001b[0menchant\u001b[0m\u001b[0;34m.\u001b[0m\u001b[0mDict\u001b[0m\u001b[0;34m(\u001b[0m\u001b[0;34m\"en_US\"\u001b[0m\u001b[0;34m)\u001b[0m\u001b[0;34m\u001b[0m\u001b[0;34m\u001b[0m\u001b[0m\n\u001b[1;32m      3\u001b[0m \u001b[0mword\u001b[0m \u001b[0;34m=\u001b[0m \u001b[0;34m\"Bonjour\"\u001b[0m\u001b[0;34m\u001b[0m\u001b[0;34m\u001b[0m\u001b[0m\n\u001b[1;32m      4\u001b[0m \u001b[0md\u001b[0m\u001b[0;34m.\u001b[0m\u001b[0mcheck\u001b[0m\u001b[0;34m(\u001b[0m\u001b[0mword\u001b[0m\u001b[0;34m)\u001b[0m\u001b[0;34m\u001b[0m\u001b[0;34m\u001b[0m\u001b[0m\n",
      "\u001b[0;31mModuleNotFoundError\u001b[0m: No module named 'enchant'"
     ]
    }
   ],
   "source": [
    "import enchant\n",
    "d = enchant.Dict(\"en_US\")\n",
    "word = \"Bonjour\"\n",
    "d.check(word)"
   ]
  },
  {
   "cell_type": "code",
   "execution_count": 177,
   "metadata": {},
   "outputs": [
    {
     "data": {
      "text/plain": [
       "'visto un visto un ave visto un mar tan negro visto visto un visto un padre hoy de mi el junto ti visto un visto un hoy visto tu hoy el es tan mi tan tu mi de'"
      ]
     },
     "execution_count": 177,
     "metadata": {},
     "output_type": "execute_result"
    }
   ],
   "source": [
    "import nltk\n",
    "words = set(nltk.corpus.words.words())\n",
    "\n",
    "\" \".join(w for w in nltk.wordpunct_tokenize(songList['lyrics'][0]) \\\n",
    "         if w.lower() in words or not w.isalpha())\n",
    "# 'Io to the beach with my'"
   ]
  },
  {
   "cell_type": "code",
   "execution_count": 146,
   "metadata": {},
   "outputs": [],
   "source": [
    "songList_small = songList.sample(frac=0.1)"
   ]
  },
  {
   "cell_type": "code",
   "execution_count": 147,
   "metadata": {},
   "outputs": [
    {
     "name": "stdout",
     "output_type": "stream",
     "text": [
      "<class 'pandas.core.frame.DataFrame'>\n",
      "Index: 2666 entries, lover-be-strong to can-t-wait-another-minute\n",
      "Data columns (total 4 columns):\n",
      "year      2666 non-null int64\n",
      "artist    2666 non-null object\n",
      "genre     2666 non-null object\n",
      "lyrics    2666 non-null object\n",
      "dtypes: int64(1), object(3)\n",
      "memory usage: 104.1+ KB\n"
     ]
    }
   ],
   "source": [
    "songList_small.info()\n",
    "reindexed_data = songList_small['lyrics']"
   ]
  },
  {
   "cell_type": "code",
   "execution_count": 148,
   "metadata": {},
   "outputs": [],
   "source": [
    "# Define helper functions\n",
    "def get_top_n_words(n_top_words, count_vectorizer, text_data):\n",
    "    '''\n",
    "    returns a tuple of the top n words in a sample and their \n",
    "    accompanying counts, given a CountVectorizer object and text sample\n",
    "    '''\n",
    "    vectorized_headlines = count_vectorizer.fit_transform(text_data.values)\n",
    "    vectorized_total = np.sum(vectorized_headlines, axis=0)\n",
    "    word_indices = np.flip(np.argsort(vectorized_total)[0,:], 1)\n",
    "    word_values = np.flip(np.sort(vectorized_total)[0,:],1)\n",
    "    \n",
    "    word_vectors = np.zeros((n_top_words, vectorized_headlines.shape[1]))\n",
    "    for i in range(n_top_words):\n",
    "        word_vectors[i,word_indices[0,i]] = 1\n",
    "\n",
    "    words = [word[0].encode('ascii').decode('utf-8') for \n",
    "             word in count_vectorizer.inverse_transform(word_vectors)]\n",
    "\n",
    "    return (words, word_values[0,:n_top_words].tolist()[0])"
   ]
  },
  {
   "cell_type": "code",
   "execution_count": 149,
   "metadata": {},
   "outputs": [
    {
     "data": {
      "image/png": "[encoded data removed]",
      "text/plain": [
       "<Figure size 1152x576 with 1 Axes>"
      ]
     },
     "metadata": {
      "needs_background": "light"
     },
     "output_type": "display_data"
    }
   ],
   "source": [
    "count_vectorizer = CountVectorizer(stop_words='english')\n",
    "words, word_values = get_top_n_words(text_data=reindexed_data, count_vectorizer=count_vectorizer, n_top_words=15)\n",
    "\n",
    "fig, ax = plt.subplots(figsize=(16,8))\n",
    "ax.bar(range(len(words)), word_values);\n",
    "ax.set_xticks(range(len(words)));\n",
    "ax.set_xticklabels(words, rotation='vertical');\n",
    "ax.set_title('Top words in lyrics (excluding stop words)');\n",
    "ax.set_xlabel('Word');\n",
    "ax.set_ylabel('Number of occurences');\n",
    "plt.show()"
   ]
  },
  {
   "cell_type": "code",
   "execution_count": 150,
   "metadata": {},
   "outputs": [
    {
     "name": "stderr",
     "output_type": "stream",
     "text": [
      "[nltk_data] Downloading package punkt to\n",
      "[nltk_data]     /Users/stutiverma/nltk_data...\n",
      "[nltk_data]   Package punkt is already up-to-date!\n"
     ]
    },
    {
     "data": {
      "text/plain": [
       "True"
      ]
     },
     "execution_count": 150,
     "metadata": {},
     "output_type": "execute_result"
    }
   ],
   "source": [
    "import nltk\n",
    "nltk.download('punkt')"
   ]
  },
  {
   "cell_type": "code",
   "execution_count": 151,
   "metadata": {},
   "outputs": [
    {
     "name": "stderr",
     "output_type": "stream",
     "text": [
      "[nltk_data] Downloading package averaged_perceptron_tagger to\n",
      "[nltk_data]     /Users/stutiverma/nltk_data...\n",
      "[nltk_data]   Package averaged_perceptron_tagger is already up-to-\n",
      "[nltk_data]       date!\n"
     ]
    },
    {
     "data": {
      "text/plain": [
       "True"
      ]
     },
     "execution_count": 151,
     "metadata": {},
     "output_type": "execute_result"
    }
   ],
   "source": [
    "import nltk\n",
    "nltk.download('averaged_perceptron_tagger')"
   ]
  },
  {
   "cell_type": "code",
   "execution_count": 152,
   "metadata": {},
   "outputs": [],
   "source": [
    "tagged_headlines = [TextBlob(reindexed_data[i]).pos_tags for i in range(reindexed_data.shape[0])]"
   ]
  },
  {
   "cell_type": "code",
   "execution_count": 153,
   "metadata": {},
   "outputs": [
    {
     "name": "stdout",
     "output_type": "stream",
     "text": [
      "Total number of words:  321408\n",
      "Mean number of words per song:  120.55813953488372\n"
     ]
    }
   ],
   "source": [
    "tagged_headlines_df = pd.DataFrame({'tags':tagged_headlines})\n",
    "\n",
    "word_counts = [] \n",
    "pos_counts = {}\n",
    "\n",
    "for headline in tagged_headlines_df[u'tags']:\n",
    "    word_counts.append(len(headline))\n",
    "    for tag in headline:\n",
    "        if tag[1] in pos_counts:\n",
    "            pos_counts[tag[1]] += 1\n",
    "        else:\n",
    "            pos_counts[tag[1]] = 1\n",
    "            \n",
    "print('Total number of words: ', np.sum(word_counts))\n",
    "print('Mean number of words per song: ', np.mean(word_counts))\n"
   ]
  },
  {
   "cell_type": "code",
   "execution_count": 154,
   "metadata": {},
   "outputs": [
    {
     "data": {
      "image/png": "[encoded data removed]",
      "text/plain": [
       "<Figure size 1296x576 with 1 Axes>"
      ]
     },
     "metadata": {
      "needs_background": "light"
     },
     "output_type": "display_data"
    }
   ],
   "source": [
    "y = stats.norm.pdf(np.linspace(0,14,50), np.mean(word_counts), np.std(word_counts))\n",
    "\n",
    "fig, ax = plt.subplots(figsize=(18,8))\n",
    "ax.hist(word_counts, bins=range(1,14), density=True);\n",
    "ax.plot(np.linspace(0,14,50), y, 'r--', linewidth=1);\n",
    "ax.set_title('Headline word lengths');\n",
    "ax.set_xticks(range(1,14));\n",
    "ax.set_xlabel('Number of words');\n",
    "plt.show()"
   ]
  },
  {
   "cell_type": "code",
   "execution_count": 155,
   "metadata": {},
   "outputs": [
    {
     "data": {
      "image/png": "[encoded data removed]",
      "text/plain": [
       "<Figure size 1296x576 with 1 Axes>"
      ]
     },
     "metadata": {
      "needs_background": "light"
     },
     "output_type": "display_data"
    }
   ],
   "source": [
    "pos_sorted_types = sorted(pos_counts, key=pos_counts.__getitem__, reverse=True)\n",
    "pos_sorted_counts = sorted(pos_counts.values(), reverse=True)\n",
    "\n",
    "fig, ax = plt.subplots(figsize=(18,8))\n",
    "ax.bar(range(len(pos_counts)), pos_sorted_counts);\n",
    "ax.set_xticks(range(len(pos_counts)));\n",
    "ax.set_xticklabels(pos_sorted_types);\n",
    "ax.set_title('Part-of-Speech Tagging for Lyrics Corpus');\n",
    "ax.set_xlabel('Type of Word');"
   ]
  },
  {
   "cell_type": "code",
   "execution_count": 156,
   "metadata": {},
   "outputs": [
    {
     "name": "stdout",
     "output_type": "stream",
     "text": [
      "Lyrics before vectorization: \n",
      "eleven days dozen nights thousand tears shoulder summer haze morning light sun rising like told fall never let spirit break call always soothe cries make slowly kiss dreams awake alone heavens sake mercury rising winter skies cold embrace shadows meet drag moonlight mine chase star rising beyond wonder fall never let spirit break call always soothe cries make slowly kiss dreams awake alone heavens sake mercury rising alone heaven sake tears run freely fears run deeply pressure breaking quicksilver awaking feel rise see rise droplets dreams touched disappear change weather wind hair mercury rising mercury rising rising rising mercury rising eleven days dozen nights thousand tears shoulder summer haze morning light sun rising like told\n",
      "\n",
      "Lyrics after vectorization: \n",
      "  (0, 3174)\t2\n",
      "  (0, 12271)\t2\n",
      "  (0, 2452)\t1\n",
      "  (0, 15023)\t1\n",
      "  (0, 7981)\t2\n",
      "  (0, 13395)\t3\n",
      "  (0, 13727)\t2\n",
      "  (0, 7609)\t2\n",
      "  (0, 7519)\t2\n",
      "  (0, 11338)\t2\n",
      "  (0, 1546)\t2\n",
      "  (0, 4654)\t2\n",
      "  (0, 4766)\t1\n",
      "  (0, 7595)\t2\n",
      "  (0, 12723)\t1\n",
      "  (0, 7171)\t2\n",
      "  (0, 11159)\t2\n",
      "  (0, 13565)\t2\n",
      "  (0, 13064)\t2\n",
      "  (0, 3869)\t3\n",
      "  (0, 8997)\t2\n",
      "  (0, 8205)\t1\n",
      "  (0, 8603)\t2\n",
      "  (0, 10235)\t1\n",
      "  (0, 2115)\t1\n",
      "  :\t:\n",
      "  (0, 12186)\t1\n",
      "  (0, 1551)\t1\n",
      "  (0, 6050)\t1\n",
      "  (0, 5877)\t1\n",
      "  (0, 11998)\t2\n",
      "  (0, 3622)\t1\n",
      "  (0, 14874)\t1\n",
      "  (0, 13070)\t2\n",
      "  (0, 12596)\t2\n",
      "  (0, 2909)\t2\n",
      "  (0, 819)\t2\n",
      "  (0, 3838)\t1\n",
      "  (0, 11161)\t10\n",
      "  (0, 12459)\t2\n",
      "  (0, 6052)\t2\n",
      "  (0, 11428)\t3\n",
      "  (0, 8273)\t5\n",
      "  (0, 4167)\t1\n",
      "  (0, 5151)\t1\n",
      "  (0, 4750)\t1\n",
      "  (0, 3260)\t1\n",
      "  (0, 10551)\t1\n",
      "  (0, 822)\t1\n",
      "  (0, 3912)\t1\n",
      "  (0, 13797)\t1\n"
     ]
    }
   ],
   "source": [
    "small_count_vectorizer = CountVectorizer(stop_words='english', max_features=40000)\n",
    "small_text_sample = reindexed_data.sample(n=1000, random_state=0).values\n",
    "\n",
    "print('Lyrics before vectorization: \\n{}'.format(small_text_sample[123]))\n",
    "\n",
    "small_document_term_matrix = small_count_vectorizer.fit_transform(small_text_sample)\n",
    "\n",
    "print('\\nLyrics after vectorization: \\n{}'.format(small_document_term_matrix[123]))"
   ]
  },
  {
   "cell_type": "code",
   "execution_count": 157,
   "metadata": {},
   "outputs": [],
   "source": [
    "n_topics = 8"
   ]
  },
  {
   "cell_type": "code",
   "execution_count": 158,
   "metadata": {},
   "outputs": [],
   "source": [
    "lsa_model = TruncatedSVD(n_components=n_topics)\n",
    "lsa_topic_matrix = lsa_model.fit_transform(small_document_term_matrix)"
   ]
  },
  {
   "cell_type": "code",
   "execution_count": 159,
   "metadata": {},
   "outputs": [],
   "source": [
    "# Define helper functions\n",
    "def get_keys(topic_matrix):\n",
    "    '''\n",
    "    returns an integer list of predicted topic \n",
    "    categories for a given topic matrix\n",
    "    '''\n",
    "    keys = topic_matrix.argmax(axis=1).tolist()\n",
    "    return keys\n",
    "\n",
    "def keys_to_counts(keys):\n",
    "    '''\n",
    "    returns a tuple of topic categories and their \n",
    "    accompanying magnitudes for a given list of keys\n",
    "    '''\n",
    "    count_pairs = Counter(keys).items()\n",
    "    categories = [pair[0] for pair in count_pairs]\n",
    "    counts = [pair[1] for pair in count_pairs]\n",
    "    return (categories, counts)"
   ]
  },
  {
   "cell_type": "code",
   "execution_count": 160,
   "metadata": {},
   "outputs": [],
   "source": [
    "lsa_keys = get_keys(lsa_topic_matrix)\n",
    "lsa_categories, lsa_counts = keys_to_counts(lsa_keys)"
   ]
  },
  {
   "cell_type": "code",
   "execution_count": 161,
   "metadata": {},
   "outputs": [],
   "source": [
    "# Define helper functions\n",
    "def get_top_n_words(n, keys, document_term_matrix, count_vectorizer):\n",
    "    '''\n",
    "    returns a list of n_topic strings, where each string contains the n most common \n",
    "    words in a predicted category, in order\n",
    "    '''\n",
    "    top_word_indices = []\n",
    "    for topic in range(n_topics):\n",
    "        temp_vector_sum = 0\n",
    "        for i in range(len(keys)):\n",
    "            if keys[i] == topic:\n",
    "                temp_vector_sum += document_term_matrix[i]\n",
    "        temp_vector_sum = temp_vector_sum.toarray()\n",
    "        top_n_word_indices = np.flip(np.argsort(temp_vector_sum)[0][-n:],0)\n",
    "        top_word_indices.append(top_n_word_indices)   \n",
    "    top_words = []\n",
    "    for topic in top_word_indices:\n",
    "        topic_words = []\n",
    "        for index in topic:\n",
    "            temp_word_vector = np.zeros((1,document_term_matrix.shape[1]))\n",
    "            temp_word_vector[:,index] = 1\n",
    "            the_word = count_vectorizer.inverse_transform(temp_word_vector)[0][0]\n",
    "            topic_words.append(the_word.encode('ascii').decode('utf-8')) \n",
    "        top_words.append(\" \".join(topic_words))         \n",
    "    return top_words"
   ]
  },
  {
   "cell_type": "code",
   "execution_count": 162,
   "metadata": {},
   "outputs": [
    {
     "name": "stdout",
     "output_type": "stream",
     "text": [
      "Topic 1:  love\n",
      "Topic 2:  que\n",
      "Topic 3:  woo\n",
      "Topic 4:  like\n",
      "Topic 5:  du\n",
      "Topic 6:  oh\n",
      "Topic 7:  let\n",
      "Topic 8:  gimme\n"
     ]
    }
   ],
   "source": [
    "top_n_words_lsa = get_top_n_words(1, lsa_keys, small_document_term_matrix, small_count_vectorizer)\n",
    "\n",
    "for i in range(len(top_n_words_lsa)):\n",
    "    print(\"Topic {}: \".format(i+1), top_n_words_lsa[i])"
   ]
  },
  {
   "cell_type": "code",
   "execution_count": 163,
   "metadata": {},
   "outputs": [
    {
     "data": {
      "image/png": "[encoded data removed]",
      "text/plain": [
       "<Figure size 1152x576 with 1 Axes>"
      ]
     },
     "metadata": {
      "needs_background": "light"
     },
     "output_type": "display_data"
    }
   ],
   "source": [
    "top_3_words = get_top_n_words(3, lsa_keys, small_document_term_matrix, small_count_vectorizer)\n",
    "labels = ['Topic {}: \\n'.format(i) + top_3_words[i] for i in lsa_categories]\n",
    "\n",
    "fig, ax = plt.subplots(figsize=(16,8))\n",
    "ax.bar(lsa_categories, lsa_counts);\n",
    "ax.set_xticks(lsa_categories);\n",
    "ax.set_xticklabels(labels);\n",
    "ax.set_ylabel('Number of headlines');\n",
    "ax.set_title('LSA topic counts');\n",
    "plt.show()"
   ]
  },
  {
   "cell_type": "code",
   "execution_count": 164,
   "metadata": {},
   "outputs": [
    {
     "name": "stdout",
     "output_type": "stream",
     "text": [
      "[t-SNE] Computing 151 nearest neighbors...\n",
      "[t-SNE] Indexed 1000 samples in 0.018s...\n",
      "[t-SNE] Computed neighbors for 1000 samples in 0.134s...\n",
      "[t-SNE] Computed conditional probabilities for sample 1000 / 1000\n",
      "[t-SNE] Mean sigma: 0.564956\n",
      "[t-SNE] KL divergence after 250 iterations with early exaggeration: 59.999630\n",
      "[t-SNE] KL divergence after 2000 iterations: 0.619259\n"
     ]
    }
   ],
   "source": [
    "tsne_lsa_model = TSNE(n_components=2, perplexity=50, learning_rate=100, \n",
    "                        n_iter=2000, verbose=1, random_state=0, angle=0.75)\n",
    "tsne_lsa_vectors = tsne_lsa_model.fit_transform(lsa_topic_matrix)"
   ]
  },
  {
   "cell_type": "code",
   "execution_count": 165,
   "metadata": {},
   "outputs": [],
   "source": [
    "# Define helper functions\n",
    "def get_mean_topic_vectors(keys, two_dim_vectors):\n",
    "    '''\n",
    "    returns a list of centroid vectors from each predicted topic category\n",
    "    '''\n",
    "    mean_topic_vectors = []\n",
    "    for t in range(n_topics):\n",
    "        articles_in_that_topic = []\n",
    "        for i in range(len(keys)):\n",
    "            if keys[i] == t:\n",
    "                articles_in_that_topic.append(two_dim_vectors[i])    \n",
    "        \n",
    "        articles_in_that_topic = np.vstack(articles_in_that_topic)\n",
    "        mean_article_in_that_topic = np.mean(articles_in_that_topic, axis=0)\n",
    "        mean_topic_vectors.append(mean_article_in_that_topic)\n",
    "    return mean_topic_vectors"
   ]
  },
  {
   "cell_type": "code",
   "execution_count": 166,
   "metadata": {},
   "outputs": [],
   "source": [
    "colormap = np.array([\n",
    "    \"#1f77b4\", \"#aec7e8\", \"#ff7f0e\", \"#ffbb78\", \"#2ca02c\",\n",
    "    \"#98df8a\", \"#d62728\", \"#ff9896\", \"#9467bd\", \"#c5b0d5\",\n",
    "    \"#8c564b\", \"#c49c94\", \"#e377c2\", \"#f7b6d2\", \"#7f7f7f\",\n",
    "    \"#c7c7c7\", \"#bcbd22\", \"#dbdb8d\", \"#17becf\", \"#9edae5\" ])\n",
    "colormap = colormap[:n_topics]"
   ]
  },
  {
   "cell_type": "code",
   "execution_count": 167,
   "metadata": {},
   "outputs": [
    {
     "data": {
      "text/html": [
       "\n",
       "\n",
       "\n",
       "\n",
       "\n",
       "\n",
       "  <div class=\"bk-root\" id=\"38fea9f1-3017-44f7-88d8-b2dad3e3655d\" data-root-id=\"1112\"></div>\n"
      ]
     },
     "metadata": {},
     "output_type": "display_data"
    },
    {
     "data": {
      "application/javascript": [
       "(function(root) {\n",
       "  function embed_document(root) {\n",
       "    \n",
       "  var docs_json = {\"abe55c03-870c-4f0a-af04-b9705b09ecd7\":{\"roots\":{\"references\":[{\"attributes\":{\"below\":[{\"id\":\"1123\",\"type\":\"LinearAxis\"}],\"center\":[{\"id\":\"1127\",\"type\":\"Grid\"},{\"id\":\"1132\",\"type\":\"Grid\"},{\"id\":\"1151\",\"type\":\"Label\"},{\"id\":\"1152\",\"type\":\"Label\"},{\"id\":\"1153\",\"type\":\"Label\"},{\"id\":\"1154\",\"type\":\"Label\"},{\"id\":\"1155\",\"type\":\"Label\"},{\"id\":\"1156\",\"type\":\"Label\"},{\"id\":\"1157\",\"type\":\"Label\"},{\"id\":\"1158\",\"type\":\"Label\"}],\"left\":[{\"id\":\"1128\",\"type\":\"LinearAxis\"}],\"plot_height\":700,\"plot_width\":700,\"renderers\":[{\"id\":\"1149\",\"type\":\"GlyphRenderer\"}],\"title\":{\"id\":\"1113\",\"type\":\"Title\"},\"toolbar\":{\"id\":\"1139\",\"type\":\"Toolbar\"},\"x_range\":{\"id\":\"1115\",\"type\":\"DataRange1d\"},\"x_scale\":{\"id\":\"1119\",\"type\":\"LinearScale\"},\"y_range\":{\"id\":\"1117\",\"type\":\"DataRange1d\"},\"y_scale\":{\"id\":\"1121\",\"type\":\"LinearScale\"}},\"id\":\"1112\",\"subtype\":\"Figure\",\"type\":\"Plot\"},{\"attributes\":{\"text\":\"love know like\",\"text_color\":{\"value\":\"#1f77b4\"},\"x\":-3.8416757583618164,\"y\":-1.3528810739517212},\"id\":\"1151\",\"type\":\"Label\"},{\"attributes\":{\"bottom_units\":\"screen\",\"fill_alpha\":{\"value\":0.5},\"fill_color\":{\"value\":\"lightgrey\"},\"left_units\":\"screen\",\"level\":\"overlay\",\"line_alpha\":{\"value\":1.0},\"line_color\":{\"value\":\"black\"},\"line_dash\":[4,4],\"line_width\":{\"value\":2},\"render_mode\":\"css\",\"right_units\":\"screen\",\"top_units\":\"screen\"},\"id\":\"1174\",\"type\":\"BoxAnnotation\"},{\"attributes\":{\"text\":\"gimme red want\",\"text_color\":{\"value\":\"#ff9896\"},\"x\":-4.326122760772705,\"y\":-1.5637083053588867},\"id\":\"1158\",\"type\":\"Label\"},{\"attributes\":{\"active_drag\":\"auto\",\"active_inspect\":\"auto\",\"active_multi\":null,\"active_scroll\":\"auto\",\"active_tap\":\"auto\",\"tools\":[{\"id\":\"1133\",\"type\":\"PanTool\"},{\"id\":\"1134\",\"type\":\"WheelZoomTool\"},{\"id\":\"1135\",\"type\":\"BoxZoomTool\"},{\"id\":\"1136\",\"type\":\"SaveTool\"},{\"id\":\"1137\",\"type\":\"ResetTool\"},{\"id\":\"1138\",\"type\":\"HelpTool\"}]},\"id\":\"1139\",\"type\":\"Toolbar\"},{\"attributes\":{},\"id\":\"1137\",\"type\":\"ResetTool\"},{\"attributes\":{\"formatter\":{\"id\":\"1170\",\"type\":\"BasicTickFormatter\"},\"ticker\":{\"id\":\"1124\",\"type\":\"BasicTicker\"}},\"id\":\"1123\",\"type\":\"LinearAxis\"},{\"attributes\":{\"ticker\":{\"id\":\"1124\",\"type\":\"BasicTicker\"}},\"id\":\"1127\",\"type\":\"Grid\"},{\"attributes\":{\"callback\":null,\"data\":{\"fill_color\":[\"#1f77b4\",\"#1f77b4\",\"#1f77b4\",\"#1f77b4\",\"#1f77b4\",\"#1f77b4\",\"#1f77b4\",\"#1f77b4\",\"#1f77b4\",\"#1f77b4\",\"#aec7e8\",\"#1f77b4\",\"#1f77b4\",\"#1f77b4\",\"#1f77b4\",\"#1f77b4\",\"#1f77b4\",\"#1f77b4\",\"#1f77b4\",\"#1f77b4\",\"#1f77b4\",\"#aec7e8\",\"#1f77b4\",\"#1f77b4\",\"#1f77b4\",\"#1f77b4\",\"#1f77b4\",\"#1f77b4\",\"#1f77b4\",\"#ff7f0e\",\"#1f77b4\",\"#1f77b4\",\"#1f77b4\",\"#1f77b4\",\"#1f77b4\",\"#ff7f0e\",\"#1f77b4\",\"#1f77b4\",\"#aec7e8\",\"#aec7e8\",\"#1f77b4\",\"#1f77b4\",\"#98df8a\",\"#1f77b4\",\"#1f77b4\",\"#1f77b4\",\"#2ca02c\",\"#1f77b4\",\"#aec7e8\",\"#1f77b4\",\"#1f77b4\",\"#1f77b4\",\"#1f77b4\",\"#1f77b4\",\"#1f77b4\",\"#1f77b4\",\"#1f77b4\",\"#98df8a\",\"#d62728\",\"#98df8a\",\"#1f77b4\",\"#1f77b4\",\"#d62728\",\"#1f77b4\",\"#1f77b4\",\"#1f77b4\",\"#1f77b4\",\"#1f77b4\",\"#1f77b4\",\"#aec7e8\",\"#1f77b4\",\"#1f77b4\",\"#1f77b4\",\"#1f77b4\",\"#1f77b4\",\"#1f77b4\",\"#1f77b4\",\"#1f77b4\",\"#1f77b4\",\"#98df8a\",\"#1f77b4\",\"#1f77b4\",\"#1f77b4\",\"#1f77b4\",\"#1f77b4\",\"#1f77b4\",\"#aec7e8\",\"#1f77b4\",\"#1f77b4\",\"#1f77b4\",\"#1f77b4\",\"#1f77b4\",\"#d62728\",\"#1f77b4\",\"#1f77b4\",\"#1f77b4\",\"#1f77b4\",\"#1f77b4\",\"#1f77b4\",\"#1f77b4\",\"#1f77b4\",\"#1f77b4\",\"#aec7e8\",\"#1f77b4\",\"#1f77b4\",\"#1f77b4\",\"#1f77b4\",\"#ffbb78\",\"#1f77b4\",\"#1f77b4\",\"#1f77b4\",\"#aec7e8\",\"#1f77b4\",\"#1f77b4\",\"#1f77b4\",\"#1f77b4\",\"#1f77b4\",\"#d62728\",\"#1f77b4\",\"#1f77b4\",\"#aec7e8\",\"#1f77b4\",\"#1f77b4\",\"#1f77b4\",\"#1f77b4\",\"#aec7e8\",\"#1f77b4\",\"#aec7e8\",\"#98df8a\",\"#1f77b4\",\"#1f77b4\",\"#1f77b4\",\"#1f77b4\",\"#1f77b4\",\"#1f77b4\",\"#1f77b4\",\"#1f77b4\",\"#1f77b4\",\"#1f77b4\",\"#1f77b4\",\"#1f77b4\",\"#1f77b4\",\"#1f77b4\",\"#1f77b4\",\"#1f77b4\",\"#1f77b4\",\"#1f77b4\",\"#1f77b4\",\"#1f77b4\",\"#1f77b4\",\"#1f77b4\",\"#1f77b4\",\"#1f77b4\",\"#1f77b4\",\"#ffbb78\",\"#1f77b4\",\"#1f77b4\",\"#1f77b4\",\"#1f77b4\",\"#1f77b4\",\"#1f77b4\",\"#98df8a\",\"#1f77b4\",\"#1f77b4\",\"#1f77b4\",\"#1f77b4\",\"#aec7e8\",\"#aec7e8\",\"#1f77b4\",\"#1f77b4\",\"#aec7e8\",\"#1f77b4\",\"#1f77b4\",\"#1f77b4\",\"#1f77b4\",\"#aec7e8\",\"#1f77b4\",\"#1f77b4\",\"#1f77b4\",\"#1f77b4\",\"#98df8a\",\"#1f77b4\",\"#1f77b4\",\"#1f77b4\",\"#1f77b4\",\"#1f77b4\",\"#1f77b4\",\"#1f77b4\",\"#ffbb78\",\"#1f77b4\",\"#ffbb78\",\"#1f77b4\",\"#1f77b4\",\"#1f77b4\",\"#1f77b4\",\"#1f77b4\",\"#1f77b4\",\"#aec7e8\",\"#98df8a\",\"#1f77b4\",\"#1f77b4\",\"#aec7e8\",\"#1f77b4\",\"#ff9896\",\"#ffbb78\",\"#d62728\",\"#1f77b4\",\"#aec7e8\",\"#1f77b4\",\"#1f77b4\",\"#1f77b4\",\"#1f77b4\",\"#1f77b4\",\"#1f77b4\",\"#aec7e8\",\"#1f77b4\",\"#aec7e8\",\"#1f77b4\",\"#1f77b4\",\"#1f77b4\",\"#aec7e8\",\"#1f77b4\",\"#1f77b4\",\"#1f77b4\",\"#aec7e8\",\"#1f77b4\",\"#1f77b4\",\"#d62728\",\"#1f77b4\",\"#d62728\",\"#1f77b4\",\"#d62728\",\"#1f77b4\",\"#1f77b4\",\"#ffbb78\",\"#1f77b4\",\"#1f77b4\",\"#1f77b4\",\"#1f77b4\",\"#1f77b4\",\"#1f77b4\",\"#1f77b4\",\"#1f77b4\",\"#1f77b4\",\"#1f77b4\",\"#1f77b4\",\"#1f77b4\",\"#1f77b4\",\"#1f77b4\",\"#1f77b4\",\"#1f77b4\",\"#1f77b4\",\"#1f77b4\",\"#98df8a\",\"#1f77b4\",\"#1f77b4\",\"#1f77b4\",\"#1f77b4\",\"#1f77b4\",\"#2ca02c\",\"#1f77b4\",\"#1f77b4\",\"#1f77b4\",\"#1f77b4\",\"#1f77b4\",\"#1f77b4\",\"#1f77b4\",\"#1f77b4\",\"#1f77b4\",\"#1f77b4\",\"#1f77b4\",\"#1f77b4\",\"#1f77b4\",\"#1f77b4\",\"#1f77b4\",\"#aec7e8\",\"#1f77b4\",\"#ffbb78\",\"#1f77b4\",\"#2ca02c\",\"#1f77b4\",\"#ffbb78\",\"#1f77b4\",\"#1f77b4\",\"#1f77b4\",\"#1f77b4\",\"#1f77b4\",\"#1f77b4\",\"#1f77b4\",\"#1f77b4\",\"#d62728\",\"#1f77b4\",\"#1f77b4\",\"#1f77b4\",\"#1f77b4\",\"#d62728\",\"#1f77b4\",\"#98df8a\",\"#1f77b4\",\"#1f77b4\",\"#1f77b4\",\"#aec7e8\",\"#d62728\",\"#ffbb78\",\"#1f77b4\",\"#1f77b4\",\"#d62728\",\"#1f77b4\",\"#1f77b4\",\"#1f77b4\",\"#1f77b4\",\"#1f77b4\",\"#d62728\",\"#1f77b4\",\"#1f77b4\",\"#1f77b4\",\"#1f77b4\",\"#1f77b4\",\"#1f77b4\",\"#1f77b4\",\"#1f77b4\",\"#1f77b4\",\"#1f77b4\",\"#1f77b4\",\"#2ca02c\",\"#1f77b4\",\"#1f77b4\",\"#1f77b4\",\"#aec7e8\",\"#1f77b4\",\"#1f77b4\",\"#1f77b4\",\"#1f77b4\",\"#1f77b4\",\"#1f77b4\",\"#1f77b4\",\"#1f77b4\",\"#1f77b4\",\"#1f77b4\",\"#1f77b4\",\"#1f77b4\",\"#1f77b4\",\"#1f77b4\",\"#d62728\",\"#1f77b4\",\"#1f77b4\",\"#1f77b4\",\"#1f77b4\",\"#ffbb78\",\"#1f77b4\",\"#1f77b4\",\"#aec7e8\",\"#1f77b4\",\"#1f77b4\",\"#ffbb78\",\"#1f77b4\",\"#1f77b4\",\"#1f77b4\",\"#1f77b4\",\"#98df8a\",\"#1f77b4\",\"#1f77b4\",\"#1f77b4\",\"#aec7e8\",\"#1f77b4\",\"#1f77b4\",\"#2ca02c\",\"#1f77b4\",\"#1f77b4\",\"#d62728\",\"#1f77b4\",\"#1f77b4\",\"#aec7e8\",\"#1f77b4\",\"#1f77b4\",\"#d62728\",\"#aec7e8\",\"#1f77b4\",\"#1f77b4\",\"#1f77b4\",\"#1f77b4\",\"#1f77b4\",\"#98df8a\",\"#1f77b4\",\"#1f77b4\",\"#1f77b4\",\"#1f77b4\",\"#aec7e8\",\"#1f77b4\",\"#1f77b4\",\"#1f77b4\",\"#1f77b4\",\"#1f77b4\",\"#1f77b4\",\"#1f77b4\",\"#1f77b4\",\"#1f77b4\",\"#ffbb78\",\"#1f77b4\",\"#1f77b4\",\"#1f77b4\",\"#1f77b4\",\"#1f77b4\",\"#1f77b4\",\"#1f77b4\",\"#98df8a\",\"#ff9896\",\"#1f77b4\",\"#1f77b4\",\"#1f77b4\",\"#1f77b4\",\"#1f77b4\",\"#1f77b4\",\"#1f77b4\",\"#1f77b4\",\"#1f77b4\",\"#aec7e8\",\"#1f77b4\",\"#1f77b4\",\"#1f77b4\",\"#1f77b4\",\"#1f77b4\",\"#1f77b4\",\"#1f77b4\",\"#1f77b4\",\"#1f77b4\",\"#1f77b4\",\"#1f77b4\",\"#1f77b4\",\"#1f77b4\",\"#1f77b4\",\"#1f77b4\",\"#1f77b4\",\"#1f77b4\",\"#1f77b4\",\"#1f77b4\",\"#1f77b4\",\"#1f77b4\",\"#aec7e8\",\"#1f77b4\",\"#1f77b4\",\"#1f77b4\",\"#1f77b4\",\"#1f77b4\",\"#1f77b4\",\"#1f77b4\",\"#1f77b4\",\"#d62728\",\"#1f77b4\",\"#1f77b4\",\"#1f77b4\",\"#1f77b4\",\"#1f77b4\",\"#1f77b4\",\"#1f77b4\",\"#1f77b4\",\"#1f77b4\",\"#1f77b4\",\"#1f77b4\",\"#1f77b4\",\"#1f77b4\",\"#1f77b4\",\"#2ca02c\",\"#1f77b4\",\"#1f77b4\",\"#1f77b4\",\"#1f77b4\",\"#1f77b4\",\"#1f77b4\",\"#98df8a\",\"#d62728\",\"#aec7e8\",\"#1f77b4\",\"#1f77b4\",\"#1f77b4\",\"#1f77b4\",\"#1f77b4\",\"#1f77b4\",\"#aec7e8\",\"#1f77b4\",\"#1f77b4\",\"#1f77b4\",\"#1f77b4\",\"#1f77b4\",\"#1f77b4\",\"#aec7e8\",\"#1f77b4\",\"#d62728\",\"#1f77b4\",\"#1f77b4\",\"#1f77b4\",\"#d62728\",\"#98df8a\",\"#1f77b4\",\"#1f77b4\",\"#1f77b4\",\"#ffbb78\",\"#d62728\",\"#1f77b4\",\"#98df8a\",\"#aec7e8\",\"#1f77b4\",\"#1f77b4\",\"#1f77b4\",\"#1f77b4\",\"#1f77b4\",\"#1f77b4\",\"#1f77b4\",\"#1f77b4\",\"#1f77b4\",\"#aec7e8\",\"#d62728\",\"#1f77b4\",\"#1f77b4\",\"#2ca02c\",\"#1f77b4\",\"#1f77b4\",\"#1f77b4\",\"#1f77b4\",\"#98df8a\",\"#1f77b4\",\"#1f77b4\",\"#d62728\",\"#1f77b4\",\"#1f77b4\",\"#1f77b4\",\"#1f77b4\",\"#1f77b4\",\"#1f77b4\",\"#1f77b4\",\"#1f77b4\",\"#aec7e8\",\"#1f77b4\",\"#1f77b4\",\"#1f77b4\",\"#1f77b4\",\"#1f77b4\",\"#1f77b4\",\"#aec7e8\",\"#1f77b4\",\"#1f77b4\",\"#1f77b4\",\"#1f77b4\",\"#d62728\",\"#aec7e8\",\"#1f77b4\",\"#1f77b4\",\"#1f77b4\",\"#1f77b4\",\"#1f77b4\",\"#1f77b4\",\"#ffbb78\",\"#1f77b4\",\"#1f77b4\",\"#1f77b4\",\"#98df8a\",\"#d62728\",\"#1f77b4\",\"#1f77b4\",\"#1f77b4\",\"#1f77b4\",\"#1f77b4\",\"#aec7e8\",\"#d62728\",\"#1f77b4\",\"#1f77b4\",\"#1f77b4\",\"#1f77b4\",\"#1f77b4\",\"#1f77b4\",\"#1f77b4\",\"#1f77b4\",\"#1f77b4\",\"#1f77b4\",\"#1f77b4\",\"#1f77b4\",\"#1f77b4\",\"#1f77b4\",\"#1f77b4\",\"#1f77b4\",\"#1f77b4\",\"#1f77b4\",\"#1f77b4\",\"#d62728\",\"#ffbb78\",\"#1f77b4\",\"#1f77b4\",\"#1f77b4\",\"#1f77b4\",\"#1f77b4\",\"#1f77b4\",\"#1f77b4\",\"#1f77b4\",\"#1f77b4\",\"#1f77b4\",\"#1f77b4\",\"#aec7e8\",\"#1f77b4\",\"#1f77b4\",\"#1f77b4\",\"#1f77b4\",\"#aec7e8\",\"#1f77b4\",\"#aec7e8\",\"#1f77b4\",\"#1f77b4\",\"#1f77b4\",\"#2ca02c\",\"#1f77b4\",\"#1f77b4\",\"#1f77b4\",\"#aec7e8\",\"#1f77b4\",\"#98df8a\",\"#1f77b4\",\"#1f77b4\",\"#1f77b4\",\"#1f77b4\",\"#aec7e8\",\"#1f77b4\",\"#1f77b4\",\"#1f77b4\",\"#d62728\",\"#1f77b4\",\"#d62728\",\"#1f77b4\",\"#1f77b4\",\"#1f77b4\",\"#1f77b4\",\"#1f77b4\",\"#1f77b4\",\"#1f77b4\",\"#1f77b4\",\"#1f77b4\",\"#1f77b4\",\"#1f77b4\",\"#1f77b4\",\"#1f77b4\",\"#1f77b4\",\"#98df8a\",\"#1f77b4\",\"#1f77b4\",\"#2ca02c\",\"#1f77b4\",\"#1f77b4\",\"#1f77b4\",\"#1f77b4\",\"#1f77b4\",\"#d62728\",\"#1f77b4\",\"#1f77b4\",\"#2ca02c\",\"#1f77b4\",\"#1f77b4\",\"#1f77b4\",\"#1f77b4\",\"#1f77b4\",\"#1f77b4\",\"#1f77b4\",\"#aec7e8\",\"#1f77b4\",\"#d62728\",\"#aec7e8\",\"#1f77b4\",\"#1f77b4\",\"#1f77b4\",\"#1f77b4\",\"#1f77b4\",\"#1f77b4\",\"#d62728\",\"#aec7e8\",\"#1f77b4\",\"#1f77b4\",\"#1f77b4\",\"#2ca02c\",\"#1f77b4\",\"#1f77b4\",\"#2ca02c\",\"#1f77b4\",\"#d62728\",\"#1f77b4\",\"#1f77b4\",\"#1f77b4\",\"#98df8a\",\"#1f77b4\",\"#1f77b4\",\"#1f77b4\",\"#1f77b4\",\"#1f77b4\",\"#1f77b4\",\"#1f77b4\",\"#1f77b4\",\"#1f77b4\",\"#1f77b4\",\"#1f77b4\",\"#1f77b4\",\"#1f77b4\",\"#1f77b4\",\"#1f77b4\",\"#1f77b4\",\"#1f77b4\",\"#1f77b4\",\"#1f77b4\",\"#1f77b4\",\"#1f77b4\",\"#1f77b4\",\"#1f77b4\",\"#1f77b4\",\"#1f77b4\",\"#1f77b4\",\"#d62728\",\"#1f77b4\",\"#1f77b4\",\"#1f77b4\",\"#d62728\",\"#1f77b4\",\"#1f77b4\",\"#d62728\",\"#1f77b4\",\"#1f77b4\",\"#1f77b4\",\"#aec7e8\",\"#1f77b4\",\"#1f77b4\",\"#1f77b4\",\"#aec7e8\",\"#1f77b4\",\"#1f77b4\",\"#ffbb78\",\"#2ca02c\",\"#1f77b4\",\"#1f77b4\",\"#1f77b4\",\"#aec7e8\",\"#1f77b4\",\"#1f77b4\",\"#ff9896\",\"#1f77b4\",\"#1f77b4\",\"#1f77b4\",\"#1f77b4\",\"#98df8a\",\"#1f77b4\",\"#1f77b4\",\"#1f77b4\",\"#aec7e8\",\"#d62728\",\"#1f77b4\",\"#1f77b4\",\"#1f77b4\",\"#1f77b4\",\"#1f77b4\",\"#d62728\",\"#1f77b4\",\"#1f77b4\",\"#ff9896\",\"#aec7e8\",\"#aec7e8\",\"#1f77b4\",\"#1f77b4\",\"#1f77b4\",\"#1f77b4\",\"#1f77b4\",\"#1f77b4\",\"#d62728\",\"#1f77b4\",\"#1f77b4\",\"#1f77b4\",\"#1f77b4\",\"#1f77b4\",\"#aec7e8\",\"#1f77b4\",\"#1f77b4\",\"#1f77b4\",\"#1f77b4\",\"#1f77b4\",\"#1f77b4\",\"#1f77b4\",\"#aec7e8\",\"#1f77b4\",\"#2ca02c\",\"#1f77b4\",\"#aec7e8\",\"#1f77b4\",\"#1f77b4\",\"#1f77b4\",\"#1f77b4\",\"#d62728\",\"#98df8a\",\"#1f77b4\",\"#1f77b4\",\"#2ca02c\",\"#1f77b4\",\"#1f77b4\",\"#1f77b4\",\"#1f77b4\",\"#1f77b4\",\"#1f77b4\",\"#1f77b4\",\"#1f77b4\",\"#1f77b4\",\"#1f77b4\",\"#1f77b4\",\"#d62728\",\"#1f77b4\",\"#1f77b4\",\"#1f77b4\",\"#1f77b4\",\"#1f77b4\",\"#1f77b4\",\"#ffbb78\",\"#1f77b4\",\"#1f77b4\",\"#aec7e8\",\"#1f77b4\",\"#ffbb78\",\"#1f77b4\",\"#1f77b4\",\"#1f77b4\",\"#1f77b4\",\"#1f77b4\",\"#1f77b4\",\"#1f77b4\",\"#1f77b4\",\"#1f77b4\",\"#1f77b4\",\"#1f77b4\",\"#1f77b4\",\"#1f77b4\",\"#1f77b4\",\"#d62728\",\"#1f77b4\",\"#1f77b4\",\"#1f77b4\",\"#1f77b4\",\"#1f77b4\",\"#1f77b4\",\"#aec7e8\",\"#1f77b4\",\"#1f77b4\",\"#1f77b4\",\"#1f77b4\",\"#aec7e8\",\"#1f77b4\",\"#1f77b4\",\"#aec7e8\",\"#1f77b4\",\"#1f77b4\",\"#1f77b4\",\"#1f77b4\",\"#1f77b4\",\"#1f77b4\",\"#ffbb78\",\"#1f77b4\",\"#1f77b4\",\"#1f77b4\",\"#1f77b4\",\"#1f77b4\",\"#1f77b4\",\"#aec7e8\",\"#1f77b4\",\"#1f77b4\",\"#1f77b4\",\"#1f77b4\",\"#1f77b4\",\"#1f77b4\",\"#1f77b4\",\"#1f77b4\",\"#1f77b4\",\"#ff9896\",\"#1f77b4\",\"#1f77b4\",\"#1f77b4\",\"#1f77b4\",\"#1f77b4\",\"#1f77b4\",\"#1f77b4\",\"#1f77b4\",\"#1f77b4\",\"#1f77b4\",\"#1f77b4\",\"#1f77b4\",\"#1f77b4\",\"#d62728\",\"#1f77b4\",\"#aec7e8\",\"#1f77b4\",\"#1f77b4\",\"#1f77b4\",\"#1f77b4\",\"#1f77b4\",\"#1f77b4\",\"#1f77b4\",\"#1f77b4\",\"#ffbb78\",\"#1f77b4\",\"#1f77b4\",\"#1f77b4\",\"#1f77b4\",\"#1f77b4\",\"#1f77b4\",\"#1f77b4\",\"#1f77b4\",\"#1f77b4\",\"#1f77b4\",\"#2ca02c\",\"#1f77b4\",\"#1f77b4\",\"#1f77b4\",\"#1f77b4\",\"#1f77b4\",\"#1f77b4\",\"#2ca02c\",\"#1f77b4\",\"#1f77b4\",\"#1f77b4\",\"#1f77b4\",\"#1f77b4\",\"#1f77b4\",\"#1f77b4\",\"#1f77b4\",\"#1f77b4\",\"#d62728\",\"#1f77b4\",\"#1f77b4\",\"#d62728\",\"#1f77b4\",\"#aec7e8\",\"#1f77b4\",\"#1f77b4\",\"#1f77b4\",\"#1f77b4\",\"#1f77b4\",\"#1f77b4\",\"#1f77b4\",\"#1f77b4\",\"#1f77b4\",\"#1f77b4\",\"#1f77b4\",\"#1f77b4\",\"#1f77b4\",\"#1f77b4\",\"#1f77b4\",\"#ff9896\",\"#1f77b4\",\"#1f77b4\",\"#1f77b4\",\"#ffbb78\",\"#1f77b4\",\"#aec7e8\",\"#1f77b4\",\"#1f77b4\",\"#1f77b4\",\"#aec7e8\",\"#98df8a\",\"#1f77b4\",\"#d62728\",\"#d62728\",\"#1f77b4\",\"#1f77b4\",\"#1f77b4\",\"#1f77b4\",\"#1f77b4\",\"#1f77b4\",\"#d62728\",\"#d62728\",\"#d62728\",\"#1f77b4\",\"#1f77b4\",\"#aec7e8\",\"#1f77b4\",\"#1f77b4\",\"#1f77b4\",\"#d62728\",\"#1f77b4\",\"#1f77b4\",\"#1f77b4\",\"#1f77b4\",\"#1f77b4\",\"#1f77b4\",\"#1f77b4\",\"#1f77b4\",\"#ffbb78\",\"#1f77b4\",\"#1f77b4\",\"#1f77b4\",\"#1f77b4\",\"#1f77b4\",\"#d62728\",\"#1f77b4\",\"#1f77b4\",\"#1f77b4\",\"#1f77b4\",\"#1f77b4\",\"#1f77b4\",\"#1f77b4\",\"#2ca02c\",\"#ffbb78\",\"#1f77b4\",\"#1f77b4\"],\"line_color\":[\"#1f77b4\",\"#1f77b4\",\"#1f77b4\",\"#1f77b4\",\"#1f77b4\",\"#1f77b4\",\"#1f77b4\",\"#1f77b4\",\"#1f77b4\",\"#1f77b4\",\"#aec7e8\",\"#1f77b4\",\"#1f77b4\",\"#1f77b4\",\"#1f77b4\",\"#1f77b4\",\"#1f77b4\",\"#1f77b4\",\"#1f77b4\",\"#1f77b4\",\"#1f77b4\",\"#aec7e8\",\"#1f77b4\",\"#1f77b4\",\"#1f77b4\",\"#1f77b4\",\"#1f77b4\",\"#1f77b4\",\"#1f77b4\",\"#ff7f0e\",\"#1f77b4\",\"#1f77b4\",\"#1f77b4\",\"#1f77b4\",\"#1f77b4\",\"#ff7f0e\",\"#1f77b4\",\"#1f77b4\",\"#aec7e8\",\"#aec7e8\",\"#1f77b4\",\"#1f77b4\",\"#98df8a\",\"#1f77b4\",\"#1f77b4\",\"#1f77b4\",\"#2ca02c\",\"#1f77b4\",\"#aec7e8\",\"#1f77b4\",\"#1f77b4\",\"#1f77b4\",\"#1f77b4\",\"#1f77b4\",\"#1f77b4\",\"#1f77b4\",\"#1f77b4\",\"#98df8a\",\"#d62728\",\"#98df8a\",\"#1f77b4\",\"#1f77b4\",\"#d62728\",\"#1f77b4\",\"#1f77b4\",\"#1f77b4\",\"#1f77b4\",\"#1f77b4\",\"#1f77b4\",\"#aec7e8\",\"#1f77b4\",\"#1f77b4\",\"#1f77b4\",\"#1f77b4\",\"#1f77b4\",\"#1f77b4\",\"#1f77b4\",\"#1f77b4\",\"#1f77b4\",\"#98df8a\",\"#1f77b4\",\"#1f77b4\",\"#1f77b4\",\"#1f77b4\",\"#1f77b4\",\"#1f77b4\",\"#aec7e8\",\"#1f77b4\",\"#1f77b4\",\"#1f77b4\",\"#1f77b4\",\"#1f77b4\",\"#d62728\",\"#1f77b4\",\"#1f77b4\",\"#1f77b4\",\"#1f77b4\",\"#1f77b4\",\"#1f77b4\",\"#1f77b4\",\"#1f77b4\",\"#1f77b4\",\"#aec7e8\",\"#1f77b4\",\"#1f77b4\",\"#1f77b4\",\"#1f77b4\",\"#ffbb78\",\"#1f77b4\",\"#1f77b4\",\"#1f77b4\",\"#aec7e8\",\"#1f77b4\",\"#1f77b4\",\"#1f77b4\",\"#1f77b4\",\"#1f77b4\",\"#d62728\",\"#1f77b4\",\"#1f77b4\",\"#aec7e8\",\"#1f77b4\",\"#1f77b4\",\"#1f77b4\",\"#1f77b4\",\"#aec7e8\",\"#1f77b4\",\"#aec7e8\",\"#98df8a\",\"#1f77b4\",\"#1f77b4\",\"#1f77b4\",\"#1f77b4\",\"#1f77b4\",\"#1f77b4\",\"#1f77b4\",\"#1f77b4\",\"#1f77b4\",\"#1f77b4\",\"#1f77b4\",\"#1f77b4\",\"#1f77b4\",\"#1f77b4\",\"#1f77b4\",\"#1f77b4\",\"#1f77b4\",\"#1f77b4\",\"#1f77b4\",\"#1f77b4\",\"#1f77b4\",\"#1f77b4\",\"#1f77b4\",\"#1f77b4\",\"#1f77b4\",\"#ffbb78\",\"#1f77b4\",\"#1f77b4\",\"#1f77b4\",\"#1f77b4\",\"#1f77b4\",\"#1f77b4\",\"#98df8a\",\"#1f77b4\",\"#1f77b4\",\"#1f77b4\",\"#1f77b4\",\"#aec7e8\",\"#aec7e8\",\"#1f77b4\",\"#1f77b4\",\"#aec7e8\",\"#1f77b4\",\"#1f77b4\",\"#1f77b4\",\"#1f77b4\",\"#aec7e8\",\"#1f77b4\",\"#1f77b4\",\"#1f77b4\",\"#1f77b4\",\"#98df8a\",\"#1f77b4\",\"#1f77b4\",\"#1f77b4\",\"#1f77b4\",\"#1f77b4\",\"#1f77b4\",\"#1f77b4\",\"#ffbb78\",\"#1f77b4\",\"#ffbb78\",\"#1f77b4\",\"#1f77b4\",\"#1f77b4\",\"#1f77b4\",\"#1f77b4\",\"#1f77b4\",\"#aec7e8\",\"#98df8a\",\"#1f77b4\",\"#1f77b4\",\"#aec7e8\",\"#1f77b4\",\"#ff9896\",\"#ffbb78\",\"#d62728\",\"#1f77b4\",\"#aec7e8\",\"#1f77b4\",\"#1f77b4\",\"#1f77b4\",\"#1f77b4\",\"#1f77b4\",\"#1f77b4\",\"#aec7e8\",\"#1f77b4\",\"#aec7e8\",\"#1f77b4\",\"#1f77b4\",\"#1f77b4\",\"#aec7e8\",\"#1f77b4\",\"#1f77b4\",\"#1f77b4\",\"#aec7e8\",\"#1f77b4\",\"#1f77b4\",\"#d62728\",\"#1f77b4\",\"#d62728\",\"#1f77b4\",\"#d62728\",\"#1f77b4\",\"#1f77b4\",\"#ffbb78\",\"#1f77b4\",\"#1f77b4\",\"#1f77b4\",\"#1f77b4\",\"#1f77b4\",\"#1f77b4\",\"#1f77b4\",\"#1f77b4\",\"#1f77b4\",\"#1f77b4\",\"#1f77b4\",\"#1f77b4\",\"#1f77b4\",\"#1f77b4\",\"#1f77b4\",\"#1f77b4\",\"#1f77b4\",\"#1f77b4\",\"#98df8a\",\"#1f77b4\",\"#1f77b4\",\"#1f77b4\",\"#1f77b4\",\"#1f77b4\",\"#2ca02c\",\"#1f77b4\",\"#1f77b4\",\"#1f77b4\",\"#1f77b4\",\"#1f77b4\",\"#1f77b4\",\"#1f77b4\",\"#1f77b4\",\"#1f77b4\",\"#1f77b4\",\"#1f77b4\",\"#1f77b4\",\"#1f77b4\",\"#1f77b4\",\"#1f77b4\",\"#aec7e8\",\"#1f77b4\",\"#ffbb78\",\"#1f77b4\",\"#2ca02c\",\"#1f77b4\",\"#ffbb78\",\"#1f77b4\",\"#1f77b4\",\"#1f77b4\",\"#1f77b4\",\"#1f77b4\",\"#1f77b4\",\"#1f77b4\",\"#1f77b4\",\"#d62728\",\"#1f77b4\",\"#1f77b4\",\"#1f77b4\",\"#1f77b4\",\"#d62728\",\"#1f77b4\",\"#98df8a\",\"#1f77b4\",\"#1f77b4\",\"#1f77b4\",\"#aec7e8\",\"#d62728\",\"#ffbb78\",\"#1f77b4\",\"#1f77b4\",\"#d62728\",\"#1f77b4\",\"#1f77b4\",\"#1f77b4\",\"#1f77b4\",\"#1f77b4\",\"#d62728\",\"#1f77b4\",\"#1f77b4\",\"#1f77b4\",\"#1f77b4\",\"#1f77b4\",\"#1f77b4\",\"#1f77b4\",\"#1f77b4\",\"#1f77b4\",\"#1f77b4\",\"#1f77b4\",\"#2ca02c\",\"#1f77b4\",\"#1f77b4\",\"#1f77b4\",\"#aec7e8\",\"#1f77b4\",\"#1f77b4\",\"#1f77b4\",\"#1f77b4\",\"#1f77b4\",\"#1f77b4\",\"#1f77b4\",\"#1f77b4\",\"#1f77b4\",\"#1f77b4\",\"#1f77b4\",\"#1f77b4\",\"#1f77b4\",\"#1f77b4\",\"#d62728\",\"#1f77b4\",\"#1f77b4\",\"#1f77b4\",\"#1f77b4\",\"#ffbb78\",\"#1f77b4\",\"#1f77b4\",\"#aec7e8\",\"#1f77b4\",\"#1f77b4\",\"#ffbb78\",\"#1f77b4\",\"#1f77b4\",\"#1f77b4\",\"#1f77b4\",\"#98df8a\",\"#1f77b4\",\"#1f77b4\",\"#1f77b4\",\"#aec7e8\",\"#1f77b4\",\"#1f77b4\",\"#2ca02c\",\"#1f77b4\",\"#1f77b4\",\"#d62728\",\"#1f77b4\",\"#1f77b4\",\"#aec7e8\",\"#1f77b4\",\"#1f77b4\",\"#d62728\",\"#aec7e8\",\"#1f77b4\",\"#1f77b4\",\"#1f77b4\",\"#1f77b4\",\"#1f77b4\",\"#98df8a\",\"#1f77b4\",\"#1f77b4\",\"#1f77b4\",\"#1f77b4\",\"#aec7e8\",\"#1f77b4\",\"#1f77b4\",\"#1f77b4\",\"#1f77b4\",\"#1f77b4\",\"#1f77b4\",\"#1f77b4\",\"#1f77b4\",\"#1f77b4\",\"#ffbb78\",\"#1f77b4\",\"#1f77b4\",\"#1f77b4\",\"#1f77b4\",\"#1f77b4\",\"#1f77b4\",\"#1f77b4\",\"#98df8a\",\"#ff9896\",\"#1f77b4\",\"#1f77b4\",\"#1f77b4\",\"#1f77b4\",\"#1f77b4\",\"#1f77b4\",\"#1f77b4\",\"#1f77b4\",\"#1f77b4\",\"#aec7e8\",\"#1f77b4\",\"#1f77b4\",\"#1f77b4\",\"#1f77b4\",\"#1f77b4\",\"#1f77b4\",\"#1f77b4\",\"#1f77b4\",\"#1f77b4\",\"#1f77b4\",\"#1f77b4\",\"#1f77b4\",\"#1f77b4\",\"#1f77b4\",\"#1f77b4\",\"#1f77b4\",\"#1f77b4\",\"#1f77b4\",\"#1f77b4\",\"#1f77b4\",\"#1f77b4\",\"#aec7e8\",\"#1f77b4\",\"#1f77b4\",\"#1f77b4\",\"#1f77b4\",\"#1f77b4\",\"#1f77b4\",\"#1f77b4\",\"#1f77b4\",\"#d62728\",\"#1f77b4\",\"#1f77b4\",\"#1f77b4\",\"#1f77b4\",\"#1f77b4\",\"#1f77b4\",\"#1f77b4\",\"#1f77b4\",\"#1f77b4\",\"#1f77b4\",\"#1f77b4\",\"#1f77b4\",\"#1f77b4\",\"#1f77b4\",\"#2ca02c\",\"#1f77b4\",\"#1f77b4\",\"#1f77b4\",\"#1f77b4\",\"#1f77b4\",\"#1f77b4\",\"#98df8a\",\"#d62728\",\"#aec7e8\",\"#1f77b4\",\"#1f77b4\",\"#1f77b4\",\"#1f77b4\",\"#1f77b4\",\"#1f77b4\",\"#aec7e8\",\"#1f77b4\",\"#1f77b4\",\"#1f77b4\",\"#1f77b4\",\"#1f77b4\",\"#1f77b4\",\"#aec7e8\",\"#1f77b4\",\"#d62728\",\"#1f77b4\",\"#1f77b4\",\"#1f77b4\",\"#d62728\",\"#98df8a\",\"#1f77b4\",\"#1f77b4\",\"#1f77b4\",\"#ffbb78\",\"#d62728\",\"#1f77b4\",\"#98df8a\",\"#aec7e8\",\"#1f77b4\",\"#1f77b4\",\"#1f77b4\",\"#1f77b4\",\"#1f77b4\",\"#1f77b4\",\"#1f77b4\",\"#1f77b4\",\"#1f77b4\",\"#aec7e8\",\"#d62728\",\"#1f77b4\",\"#1f77b4\",\"#2ca02c\",\"#1f77b4\",\"#1f77b4\",\"#1f77b4\",\"#1f77b4\",\"#98df8a\",\"#1f77b4\",\"#1f77b4\",\"#d62728\",\"#1f77b4\",\"#1f77b4\",\"#1f77b4\",\"#1f77b4\",\"#1f77b4\",\"#1f77b4\",\"#1f77b4\",\"#1f77b4\",\"#aec7e8\",\"#1f77b4\",\"#1f77b4\",\"#1f77b4\",\"#1f77b4\",\"#1f77b4\",\"#1f77b4\",\"#aec7e8\",\"#1f77b4\",\"#1f77b4\",\"#1f77b4\",\"#1f77b4\",\"#d62728\",\"#aec7e8\",\"#1f77b4\",\"#1f77b4\",\"#1f77b4\",\"#1f77b4\",\"#1f77b4\",\"#1f77b4\",\"#ffbb78\",\"#1f77b4\",\"#1f77b4\",\"#1f77b4\",\"#98df8a\",\"#d62728\",\"#1f77b4\",\"#1f77b4\",\"#1f77b4\",\"#1f77b4\",\"#1f77b4\",\"#aec7e8\",\"#d62728\",\"#1f77b4\",\"#1f77b4\",\"#1f77b4\",\"#1f77b4\",\"#1f77b4\",\"#1f77b4\",\"#1f77b4\",\"#1f77b4\",\"#1f77b4\",\"#1f77b4\",\"#1f77b4\",\"#1f77b4\",\"#1f77b4\",\"#1f77b4\",\"#1f77b4\",\"#1f77b4\",\"#1f77b4\",\"#1f77b4\",\"#1f77b4\",\"#d62728\",\"#ffbb78\",\"#1f77b4\",\"#1f77b4\",\"#1f77b4\",\"#1f77b4\",\"#1f77b4\",\"#1f77b4\",\"#1f77b4\",\"#1f77b4\",\"#1f77b4\",\"#1f77b4\",\"#1f77b4\",\"#aec7e8\",\"#1f77b4\",\"#1f77b4\",\"#1f77b4\",\"#1f77b4\",\"#aec7e8\",\"#1f77b4\",\"#aec7e8\",\"#1f77b4\",\"#1f77b4\",\"#1f77b4\",\"#2ca02c\",\"#1f77b4\",\"#1f77b4\",\"#1f77b4\",\"#aec7e8\",\"#1f77b4\",\"#98df8a\",\"#1f77b4\",\"#1f77b4\",\"#1f77b4\",\"#1f77b4\",\"#aec7e8\",\"#1f77b4\",\"#1f77b4\",\"#1f77b4\",\"#d62728\",\"#1f77b4\",\"#d62728\",\"#1f77b4\",\"#1f77b4\",\"#1f77b4\",\"#1f77b4\",\"#1f77b4\",\"#1f77b4\",\"#1f77b4\",\"#1f77b4\",\"#1f77b4\",\"#1f77b4\",\"#1f77b4\",\"#1f77b4\",\"#1f77b4\",\"#1f77b4\",\"#98df8a\",\"#1f77b4\",\"#1f77b4\",\"#2ca02c\",\"#1f77b4\",\"#1f77b4\",\"#1f77b4\",\"#1f77b4\",\"#1f77b4\",\"#d62728\",\"#1f77b4\",\"#1f77b4\",\"#2ca02c\",\"#1f77b4\",\"#1f77b4\",\"#1f77b4\",\"#1f77b4\",\"#1f77b4\",\"#1f77b4\",\"#1f77b4\",\"#aec7e8\",\"#1f77b4\",\"#d62728\",\"#aec7e8\",\"#1f77b4\",\"#1f77b4\",\"#1f77b4\",\"#1f77b4\",\"#1f77b4\",\"#1f77b4\",\"#d62728\",\"#aec7e8\",\"#1f77b4\",\"#1f77b4\",\"#1f77b4\",\"#2ca02c\",\"#1f77b4\",\"#1f77b4\",\"#2ca02c\",\"#1f77b4\",\"#d62728\",\"#1f77b4\",\"#1f77b4\",\"#1f77b4\",\"#98df8a\",\"#1f77b4\",\"#1f77b4\",\"#1f77b4\",\"#1f77b4\",\"#1f77b4\",\"#1f77b4\",\"#1f77b4\",\"#1f77b4\",\"#1f77b4\",\"#1f77b4\",\"#1f77b4\",\"#1f77b4\",\"#1f77b4\",\"#1f77b4\",\"#1f77b4\",\"#1f77b4\",\"#1f77b4\",\"#1f77b4\",\"#1f77b4\",\"#1f77b4\",\"#1f77b4\",\"#1f77b4\",\"#1f77b4\",\"#1f77b4\",\"#1f77b4\",\"#1f77b4\",\"#d62728\",\"#1f77b4\",\"#1f77b4\",\"#1f77b4\",\"#d62728\",\"#1f77b4\",\"#1f77b4\",\"#d62728\",\"#1f77b4\",\"#1f77b4\",\"#1f77b4\",\"#aec7e8\",\"#1f77b4\",\"#1f77b4\",\"#1f77b4\",\"#aec7e8\",\"#1f77b4\",\"#1f77b4\",\"#ffbb78\",\"#2ca02c\",\"#1f77b4\",\"#1f77b4\",\"#1f77b4\",\"#aec7e8\",\"#1f77b4\",\"#1f77b4\",\"#ff9896\",\"#1f77b4\",\"#1f77b4\",\"#1f77b4\",\"#1f77b4\",\"#98df8a\",\"#1f77b4\",\"#1f77b4\",\"#1f77b4\",\"#aec7e8\",\"#d62728\",\"#1f77b4\",\"#1f77b4\",\"#1f77b4\",\"#1f77b4\",\"#1f77b4\",\"#d62728\",\"#1f77b4\",\"#1f77b4\",\"#ff9896\",\"#aec7e8\",\"#aec7e8\",\"#1f77b4\",\"#1f77b4\",\"#1f77b4\",\"#1f77b4\",\"#1f77b4\",\"#1f77b4\",\"#d62728\",\"#1f77b4\",\"#1f77b4\",\"#1f77b4\",\"#1f77b4\",\"#1f77b4\",\"#aec7e8\",\"#1f77b4\",\"#1f77b4\",\"#1f77b4\",\"#1f77b4\",\"#1f77b4\",\"#1f77b4\",\"#1f77b4\",\"#aec7e8\",\"#1f77b4\",\"#2ca02c\",\"#1f77b4\",\"#aec7e8\",\"#1f77b4\",\"#1f77b4\",\"#1f77b4\",\"#1f77b4\",\"#d62728\",\"#98df8a\",\"#1f77b4\",\"#1f77b4\",\"#2ca02c\",\"#1f77b4\",\"#1f77b4\",\"#1f77b4\",\"#1f77b4\",\"#1f77b4\",\"#1f77b4\",\"#1f77b4\",\"#1f77b4\",\"#1f77b4\",\"#1f77b4\",\"#1f77b4\",\"#d62728\",\"#1f77b4\",\"#1f77b4\",\"#1f77b4\",\"#1f77b4\",\"#1f77b4\",\"#1f77b4\",\"#ffbb78\",\"#1f77b4\",\"#1f77b4\",\"#aec7e8\",\"#1f77b4\",\"#ffbb78\",\"#1f77b4\",\"#1f77b4\",\"#1f77b4\",\"#1f77b4\",\"#1f77b4\",\"#1f77b4\",\"#1f77b4\",\"#1f77b4\",\"#1f77b4\",\"#1f77b4\",\"#1f77b4\",\"#1f77b4\",\"#1f77b4\",\"#1f77b4\",\"#d62728\",\"#1f77b4\",\"#1f77b4\",\"#1f77b4\",\"#1f77b4\",\"#1f77b4\",\"#1f77b4\",\"#aec7e8\",\"#1f77b4\",\"#1f77b4\",\"#1f77b4\",\"#1f77b4\",\"#aec7e8\",\"#1f77b4\",\"#1f77b4\",\"#aec7e8\",\"#1f77b4\",\"#1f77b4\",\"#1f77b4\",\"#1f77b4\",\"#1f77b4\",\"#1f77b4\",\"#ffbb78\",\"#1f77b4\",\"#1f77b4\",\"#1f77b4\",\"#1f77b4\",\"#1f77b4\",\"#1f77b4\",\"#aec7e8\",\"#1f77b4\",\"#1f77b4\",\"#1f77b4\",\"#1f77b4\",\"#1f77b4\",\"#1f77b4\",\"#1f77b4\",\"#1f77b4\",\"#1f77b4\",\"#ff9896\",\"#1f77b4\",\"#1f77b4\",\"#1f77b4\",\"#1f77b4\",\"#1f77b4\",\"#1f77b4\",\"#1f77b4\",\"#1f77b4\",\"#1f77b4\",\"#1f77b4\",\"#1f77b4\",\"#1f77b4\",\"#1f77b4\",\"#d62728\",\"#1f77b4\",\"#aec7e8\",\"#1f77b4\",\"#1f77b4\",\"#1f77b4\",\"#1f77b4\",\"#1f77b4\",\"#1f77b4\",\"#1f77b4\",\"#1f77b4\",\"#ffbb78\",\"#1f77b4\",\"#1f77b4\",\"#1f77b4\",\"#1f77b4\",\"#1f77b4\",\"#1f77b4\",\"#1f77b4\",\"#1f77b4\",\"#1f77b4\",\"#1f77b4\",\"#2ca02c\",\"#1f77b4\",\"#1f77b4\",\"#1f77b4\",\"#1f77b4\",\"#1f77b4\",\"#1f77b4\",\"#2ca02c\",\"#1f77b4\",\"#1f77b4\",\"#1f77b4\",\"#1f77b4\",\"#1f77b4\",\"#1f77b4\",\"#1f77b4\",\"#1f77b4\",\"#1f77b4\",\"#d62728\",\"#1f77b4\",\"#1f77b4\",\"#d62728\",\"#1f77b4\",\"#aec7e8\",\"#1f77b4\",\"#1f77b4\",\"#1f77b4\",\"#1f77b4\",\"#1f77b4\",\"#1f77b4\",\"#1f77b4\",\"#1f77b4\",\"#1f77b4\",\"#1f77b4\",\"#1f77b4\",\"#1f77b4\",\"#1f77b4\",\"#1f77b4\",\"#1f77b4\",\"#ff9896\",\"#1f77b4\",\"#1f77b4\",\"#1f77b4\",\"#ffbb78\",\"#1f77b4\",\"#aec7e8\",\"#1f77b4\",\"#1f77b4\",\"#1f77b4\",\"#aec7e8\",\"#98df8a\",\"#1f77b4\",\"#d62728\",\"#d62728\",\"#1f77b4\",\"#1f77b4\",\"#1f77b4\",\"#1f77b4\",\"#1f77b4\",\"#1f77b4\",\"#d62728\",\"#d62728\",\"#d62728\",\"#1f77b4\",\"#1f77b4\",\"#aec7e8\",\"#1f77b4\",\"#1f77b4\",\"#1f77b4\",\"#d62728\",\"#1f77b4\",\"#1f77b4\",\"#1f77b4\",\"#1f77b4\",\"#1f77b4\",\"#1f77b4\",\"#1f77b4\",\"#1f77b4\",\"#ffbb78\",\"#1f77b4\",\"#1f77b4\",\"#1f77b4\",\"#1f77b4\",\"#1f77b4\",\"#d62728\",\"#1f77b4\",\"#1f77b4\",\"#1f77b4\",\"#1f77b4\",\"#1f77b4\",\"#1f77b4\",\"#1f77b4\",\"#2ca02c\",\"#ffbb78\",\"#1f77b4\",\"#1f77b4\"],\"x\":{\"__ndarray__\":\"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\",\"dtype\":\"float32\",\"shape\":[1000]},\"y\":{\"__ndarray__\":\"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\",\"dtype\":\"float32\",\"shape\":[1000]}},\"selected\":{\"id\":\"1173\",\"type\":\"Selection\"},\"selection_policy\":{\"id\":\"1172\",\"type\":\"UnionRenderers\"}},\"id\":\"1146\",\"type\":\"ColumnDataSource\"},{\"attributes\":{},\"id\":\"1124\",\"type\":\"BasicTicker\"},{\"attributes\":{},\"id\":\"1133\",\"type\":\"PanTool\"},{\"attributes\":{},\"id\":\"1129\",\"type\":\"BasicTicker\"},{\"attributes\":{},\"id\":\"1173\",\"type\":\"Selection\"},{\"attributes\":{\"dimension\":1,\"ticker\":{\"id\":\"1129\",\"type\":\"BasicTicker\"}},\"id\":\"1132\",\"type\":\"Grid\"},{\"attributes\":{},\"id\":\"1172\",\"type\":\"UnionRenderers\"},{\"attributes\":{\"text\":\"que la el\",\"text_color\":{\"value\":\"#aec7e8\"},\"x\":29.85881996154785,\"y\":21.419452667236328},\"id\":\"1152\",\"type\":\"Label\"},{\"attributes\":{\"text\":\"like niggas new\",\"text_color\":{\"value\":\"#ffbb78\"},\"x\":-3.595668315887451,\"y\":-13.012784004211426},\"id\":\"1154\",\"type\":\"Label\"},{\"attributes\":{\"text\":\"let rain hold\",\"text_color\":{\"value\":\"#d62728\"},\"x\":9.050978660583496,\"y\":8.709647178649902},\"id\":\"1157\",\"type\":\"Label\"},{\"attributes\":{},\"id\":\"1170\",\"type\":\"BasicTickFormatter\"},{\"attributes\":{\"source\":{\"id\":\"1146\",\"type\":\"ColumnDataSource\"}},\"id\":\"1150\",\"type\":\"CDSView\"},{\"attributes\":{\"fill_color\":{\"field\":\"fill_color\"},\"line_color\":{\"field\":\"line_color\"},\"x\":{\"field\":\"x\"},\"y\":{\"field\":\"y\"}},\"id\":\"1147\",\"type\":\"Scatter\"},{\"attributes\":{\"text\":\"woo hidee hodee\",\"text_color\":{\"value\":\"#ff7f0e\"},\"x\":13.667980194091797,\"y\":16.965940475463867},\"id\":\"1153\",\"type\":\"Label\"},{\"attributes\":{\"formatter\":{\"id\":\"1168\",\"type\":\"BasicTickFormatter\"},\"ticker\":{\"id\":\"1129\",\"type\":\"BasicTicker\"}},\"id\":\"1128\",\"type\":\"LinearAxis\"},{\"attributes\":{\"data_source\":{\"id\":\"1146\",\"type\":\"ColumnDataSource\"},\"glyph\":{\"id\":\"1147\",\"type\":\"Scatter\"},\"hover_glyph\":null,\"muted_glyph\":null,\"nonselection_glyph\":{\"id\":\"1148\",\"type\":\"Scatter\"},\"selection_glyph\":null,\"view\":{\"id\":\"1150\",\"type\":\"CDSView\"}},\"id\":\"1149\",\"type\":\"GlyphRenderer\"},{\"attributes\":{\"callback\":null},\"id\":\"1115\",\"type\":\"DataRange1d\"},{\"attributes\":{\"fill_alpha\":{\"value\":0.1},\"fill_color\":{\"value\":\"#1f77b4\"},\"line_alpha\":{\"value\":0.1},\"line_color\":{\"value\":\"#1f77b4\"},\"x\":{\"field\":\"x\"},\"y\":{\"field\":\"y\"}},\"id\":\"1148\",\"type\":\"Scatter\"},{\"attributes\":{},\"id\":\"1168\",\"type\":\"BasicTickFormatter\"},{\"attributes\":{\"overlay\":{\"id\":\"1174\",\"type\":\"BoxAnnotation\"}},\"id\":\"1135\",\"type\":\"BoxZoomTool\"},{\"attributes\":{},\"id\":\"1121\",\"type\":\"LinearScale\"},{\"attributes\":{\"text\":\"du und der\",\"text_color\":{\"value\":\"#2ca02c\"},\"x\":21.374862670898438,\"y\":13.091389656066895},\"id\":\"1155\",\"type\":\"Label\"},{\"attributes\":{},\"id\":\"1119\",\"type\":\"LinearScale\"},{\"attributes\":{\"callback\":null},\"id\":\"1117\",\"type\":\"DataRange1d\"},{\"attributes\":{},\"id\":\"1136\",\"type\":\"SaveTool\"},{\"attributes\":{},\"id\":\"1138\",\"type\":\"HelpTool\"},{\"attributes\":{\"text\":\"oh chain yeah\",\"text_color\":{\"value\":\"#98df8a\"},\"x\":-2.160715341567993,\"y\":-15.85244083404541},\"id\":\"1156\",\"type\":\"Label\"},{\"attributes\":{},\"id\":\"1134\",\"type\":\"WheelZoomTool\"},{\"attributes\":{\"text\":\"t-SNE Clustering of 8 LSA Topics\"},\"id\":\"1113\",\"type\":\"Title\"}],\"root_ids\":[\"1112\"]},\"title\":\"Bokeh Application\",\"version\":\"1.3.4\"}};\n",
       "  var render_items = [{\"docid\":\"abe55c03-870c-4f0a-af04-b9705b09ecd7\",\"roots\":{\"1112\":\"38fea9f1-3017-44f7-88d8-b2dad3e3655d\"}}];\n",
       "  root.Bokeh.embed.embed_items_notebook(docs_json, render_items);\n",
       "\n",
       "  }\n",
       "  if (root.Bokeh !== undefined) {\n",
       "    embed_document(root);\n",
       "  } else {\n",
       "    var attempts = 0;\n",
       "    var timer = setInterval(function(root) {\n",
       "      if (root.Bokeh !== undefined) {\n",
       "        embed_document(root);\n",
       "        clearInterval(timer);\n",
       "      }\n",
       "      attempts++;\n",
       "      if (attempts > 100) {\n",
       "        console.log(\"Bokeh: ERROR: Unable to run BokehJS code because BokehJS library is missing\");\n",
       "        clearInterval(timer);\n",
       "      }\n",
       "    }, 10, root)\n",
       "  }\n",
       "})(window);"
      ],
      "application/vnd.bokehjs_exec.v0+json": ""
     },
     "metadata": {
      "application/vnd.bokehjs_exec.v0+json": {
       "id": "1112"
      }
     },
     "output_type": "display_data"
    }
   ],
   "source": [
    "top_3_words_lsa = get_top_n_words(3, lsa_keys, small_document_term_matrix, small_count_vectorizer)\n",
    "lsa_mean_topic_vectors = get_mean_topic_vectors(lsa_keys, tsne_lsa_vectors)\n",
    "\n",
    "plot = figure(title=\"t-SNE Clustering of {} LSA Topics\".format(n_topics), plot_width=700, plot_height=700)\n",
    "plot.scatter(x=tsne_lsa_vectors[:,0], y=tsne_lsa_vectors[:,1], color=colormap[lsa_keys])\n",
    "\n",
    "for t in range(n_topics):\n",
    "    label = Label(x=lsa_mean_topic_vectors[t][0], y=lsa_mean_topic_vectors[t][1], \n",
    "                  text=top_3_words_lsa[t], text_color=colormap[t])\n",
    "    plot.add_layout(label)\n",
    "    \n",
    "show(plot)"
   ]
  },
  {
   "cell_type": "code",
   "execution_count": null,
   "metadata": {},
   "outputs": [],
   "source": []
  },
  {
   "cell_type": "code",
   "execution_count": null,
   "metadata": {},
   "outputs": [],
   "source": []
  },
  {
   "cell_type": "code",
   "execution_count": null,
   "metadata": {},
   "outputs": [],
   "source": []
  }
 ],
 "metadata": {
  "kernelspec": {
   "display_name": "Python 3",
   "language": "python",
   "name": "python3"
  },
  "language_info": {
   "codemirror_mode": {
    "name": "ipython",
    "version": 3
   },
   "file_extension": ".py",
   "mimetype": "text/x-python",
   "name": "python",
   "nbconvert_exporter": "python",
   "pygments_lexer": "ipython3",
   "version": "3.7.4"
  }
 },
 "nbformat": 4,
 "nbformat_minor": 2
}
